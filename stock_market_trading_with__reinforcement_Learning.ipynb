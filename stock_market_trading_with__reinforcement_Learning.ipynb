{
  "nbformat": 4,
  "nbformat_minor": 0,
  "metadata": {
    "colab": {
      "name": "stock_market_trading_with _reinforcement_Learning.ipynb",
      "provenance": []
    },
    "kernelspec": {
      "name": "python3",
      "display_name": "Python 3"
    }
  },
  "cells": [
    {
      "cell_type": "markdown",
      "metadata": {
        "id": "pfVrBTMLm7Y1",
        "colab_type": "text"
      },
      "source": [
        "### Stock Market Trading with reinforcement Learning:-\n",
        "\n",
        "++ Neural Netwroks, Deep-Q-Learning, Tensorflow 2.0 ,Google collab "
      ]
    },
    {
      "cell_type": "markdown",
      "metadata": {
        "id": "kQw6RcyaoUQX",
        "colab_type": "text"
      },
      "source": [
        "### Dependencies and environment setup:-"
      ]
    },
    {
      "cell_type": "code",
      "metadata": {
        "id": "J38De5OofOOc",
        "colab_type": "code",
        "colab": {
          "base_uri": "https://localhost:8080/",
          "height": 561
        },
        "outputId": "03e27e4b-4fb8-45b9-bdaf-028fb1ef8506"
      },
      "source": [
        "!pip install tensorflow-gpu==2.0.0.alpha0\n",
        "!pip install pandas-datareader"
      ],
      "execution_count": 3,
      "outputs": [
        {
          "output_type": "stream",
          "text": [
            "Requirement already satisfied: tensorflow-gpu==2.0.0.alpha0 in /usr/local/lib/python3.6/dist-packages (2.0.0a0)\n",
            "Requirement already satisfied: tf-estimator-nightly<1.14.0.dev2019030116,>=1.14.0.dev2019030115 in /usr/local/lib/python3.6/dist-packages (from tensorflow-gpu==2.0.0.alpha0) (1.14.0.dev2019030115)\n",
            "Requirement already satisfied: absl-py>=0.7.0 in /usr/local/lib/python3.6/dist-packages (from tensorflow-gpu==2.0.0.alpha0) (0.8.0)\n",
            "Requirement already satisfied: keras-preprocessing>=1.0.5 in /usr/local/lib/python3.6/dist-packages (from tensorflow-gpu==2.0.0.alpha0) (1.1.0)\n",
            "Requirement already satisfied: grpcio>=1.8.6 in /usr/local/lib/python3.6/dist-packages (from tensorflow-gpu==2.0.0.alpha0) (1.15.0)\n",
            "Requirement already satisfied: astor>=0.6.0 in /usr/local/lib/python3.6/dist-packages (from tensorflow-gpu==2.0.0.alpha0) (0.8.0)\n",
            "Requirement already satisfied: keras-applications>=1.0.6 in /usr/local/lib/python3.6/dist-packages (from tensorflow-gpu==2.0.0.alpha0) (1.0.8)\n",
            "Requirement already satisfied: protobuf>=3.6.1 in /usr/local/lib/python3.6/dist-packages (from tensorflow-gpu==2.0.0.alpha0) (3.7.1)\n",
            "Requirement already satisfied: tb-nightly<1.14.0a20190302,>=1.14.0a20190301 in /usr/local/lib/python3.6/dist-packages (from tensorflow-gpu==2.0.0.alpha0) (1.14.0a20190301)\n",
            "Requirement already satisfied: six>=1.10.0 in /usr/local/lib/python3.6/dist-packages (from tensorflow-gpu==2.0.0.alpha0) (1.12.0)\n",
            "Requirement already satisfied: gast>=0.2.0 in /usr/local/lib/python3.6/dist-packages (from tensorflow-gpu==2.0.0.alpha0) (0.2.2)\n",
            "Requirement already satisfied: termcolor>=1.1.0 in /usr/local/lib/python3.6/dist-packages (from tensorflow-gpu==2.0.0.alpha0) (1.1.0)\n",
            "Requirement already satisfied: google-pasta>=0.1.2 in /usr/local/lib/python3.6/dist-packages (from tensorflow-gpu==2.0.0.alpha0) (0.1.7)\n",
            "Requirement already satisfied: numpy<2.0,>=1.14.5 in /usr/local/lib/python3.6/dist-packages (from tensorflow-gpu==2.0.0.alpha0) (1.16.5)\n",
            "Requirement already satisfied: wheel>=0.26 in /usr/local/lib/python3.6/dist-packages (from tensorflow-gpu==2.0.0.alpha0) (0.33.6)\n",
            "Requirement already satisfied: h5py in /usr/local/lib/python3.6/dist-packages (from keras-applications>=1.0.6->tensorflow-gpu==2.0.0.alpha0) (2.8.0)\n",
            "Requirement already satisfied: setuptools in /usr/local/lib/python3.6/dist-packages (from protobuf>=3.6.1->tensorflow-gpu==2.0.0.alpha0) (41.2.0)\n",
            "Requirement already satisfied: markdown>=2.6.8 in /usr/local/lib/python3.6/dist-packages (from tb-nightly<1.14.0a20190302,>=1.14.0a20190301->tensorflow-gpu==2.0.0.alpha0) (3.1.1)\n",
            "Requirement already satisfied: werkzeug>=0.11.15 in /usr/local/lib/python3.6/dist-packages (from tb-nightly<1.14.0a20190302,>=1.14.0a20190301->tensorflow-gpu==2.0.0.alpha0) (0.16.0)\n",
            "Requirement already satisfied: pandas-datareader in /usr/local/lib/python3.6/dist-packages (0.7.4)\n",
            "Requirement already satisfied: wrapt in /usr/local/lib/python3.6/dist-packages (from pandas-datareader) (1.11.2)\n",
            "Requirement already satisfied: lxml in /usr/local/lib/python3.6/dist-packages (from pandas-datareader) (4.2.6)\n",
            "Requirement already satisfied: pandas>=0.19.2 in /usr/local/lib/python3.6/dist-packages (from pandas-datareader) (0.24.2)\n",
            "Requirement already satisfied: requests>=2.3.0 in /usr/local/lib/python3.6/dist-packages (from pandas-datareader) (2.21.0)\n",
            "Requirement already satisfied: python-dateutil>=2.5.0 in /usr/local/lib/python3.6/dist-packages (from pandas>=0.19.2->pandas-datareader) (2.5.3)\n",
            "Requirement already satisfied: numpy>=1.12.0 in /usr/local/lib/python3.6/dist-packages (from pandas>=0.19.2->pandas-datareader) (1.16.5)\n",
            "Requirement already satisfied: pytz>=2011k in /usr/local/lib/python3.6/dist-packages (from pandas>=0.19.2->pandas-datareader) (2018.9)\n",
            "Requirement already satisfied: certifi>=2017.4.17 in /usr/local/lib/python3.6/dist-packages (from requests>=2.3.0->pandas-datareader) (2019.9.11)\n",
            "Requirement already satisfied: urllib3<1.25,>=1.21.1 in /usr/local/lib/python3.6/dist-packages (from requests>=2.3.0->pandas-datareader) (1.24.3)\n",
            "Requirement already satisfied: idna<2.9,>=2.5 in /usr/local/lib/python3.6/dist-packages (from requests>=2.3.0->pandas-datareader) (2.8)\n",
            "Requirement already satisfied: chardet<3.1.0,>=3.0.2 in /usr/local/lib/python3.6/dist-packages (from requests>=2.3.0->pandas-datareader) (3.0.4)\n",
            "Requirement already satisfied: six>=1.5 in /usr/local/lib/python3.6/dist-packages (from python-dateutil>=2.5.0->pandas>=0.19.2->pandas-datareader) (1.12.0)\n"
          ],
          "name": "stdout"
        }
      ]
    },
    {
      "cell_type": "code",
      "metadata": {
        "id": "oFHR8wjdn8QE",
        "colab_type": "code",
        "colab": {}
      },
      "source": [
        "# Importing project dependencies.\n",
        "\n",
        "import math\n",
        "import random\n",
        "import numpy as np\n",
        "import pandas as pd\n",
        "import tensorflow as tf\n",
        "import matplotlib.pyplot as plt\n",
        "import pandas_datareader as data_reader\n",
        "\n",
        "from tqdm import tqdm_notebook, tqdm\n",
        "from collections import deque"
      ],
      "execution_count": 0,
      "outputs": []
    },
    {
      "cell_type": "code",
      "metadata": {
        "id": "KJ1HECUDoF2t",
        "colab_type": "code",
        "colab": {
          "base_uri": "https://localhost:8080/",
          "height": 34
        },
        "outputId": "63a032da-2141-4d39-ff18-6df353807473"
      },
      "source": [
        "tf.__version__"
      ],
      "execution_count": 5,
      "outputs": [
        {
          "output_type": "execute_result",
          "data": {
            "text/plain": [
              "'2.0.0-alpha0'"
            ]
          },
          "metadata": {
            "tags": []
          },
          "execution_count": 5
        }
      ]
    },
    {
      "cell_type": "markdown",
      "metadata": {
        "id": "xUfO-26dor9i",
        "colab_type": "text"
      },
      "source": [
        "### Building the RL trade network\n"
      ]
    },
    {
      "cell_type": "code",
      "metadata": {
        "id": "IL0t3y2iorA9",
        "colab_type": "code",
        "colab": {}
      },
      "source": [
        "class TraderNet():\n",
        "  def __init__(self,state_size, action_space=3, model_name=\"TraderNet\"):\n",
        "    \n",
        "    self.state_size = state_size\n",
        "    self.action_space = action_space\n",
        "    self.memory = deque(maxlen=2000)\n",
        "    self.inventory = []\n",
        "    self.model_name = model_name\n",
        "\n",
        "    self.gamma = 0.95\n",
        "    self.epsilon = 1.0\n",
        "    self.epsilon_final = 0.01\n",
        "    self.epsilon_decay = 0.995\n",
        "\n",
        "    self.model = self.model_builder()\n",
        "  \n",
        "  def model_builder(self):\n",
        "\n",
        "    model = tf.keras.models.Sequential()\n",
        "\n",
        "    model.add(tf.keras.layers.Dense(units=32, activation='relu', input_dim=self.state_size))\n",
        "\n",
        "    model.add(tf.keras.layers.Dense(units=64, activation='relu'))\n",
        "\n",
        "    model.add(tf.keras.layers.Dense(units=128, activation='relu'))\n",
        "    \n",
        "    model.add(tf.keras.layers.Dense(units=self.action_space, activation='linear'))\n",
        "\n",
        "    model.compile(loss='mse', optimizer=tf.keras.optimizers.Adam(lr=0.001)) # mse, as regression model.\n",
        "    \n",
        "    return model\n",
        "\n",
        "  def trade(self, state):\n",
        "    \n",
        "    if random.random() <= self.epsilon:\n",
        "      return random.randrange(self.action_space)\n",
        "  \n",
        "    actions = self.model.predict(state)\n",
        "    return np.argmax(actions[0])\n",
        "  \n",
        "  def batch_train(self, batch_size):\n",
        "    batch = []\n",
        "    \n",
        "    for i in range(len(self.memory) - batch_size + 1, len(self.memory)):\n",
        "      batch.append(self.memory[i])\n",
        "      \n",
        "    for state, action, reward, next_state, done in batch:\n",
        "      \n",
        "      reward = reward\n",
        "      if not done:\n",
        "        reward = reward + self.gamma * np.amax(self.model.predict(next_state)[0])\n",
        "      \n",
        "      target = self.model.predict(state)\n",
        "      target[0][action] = reward\n",
        "      \n",
        "      self.model.fit(state, target, epochs=1, verbose=0)\n",
        "      \n",
        "    if self.epsilon > self.epsilon_final:\n",
        "      self.epsilon *= self.epsilon_decay\n"
      ],
      "execution_count": 0,
      "outputs": []
    },
    {
      "cell_type": "markdown",
      "metadata": {
        "id": "661C3w0vx_OS",
        "colab_type": "text"
      },
      "source": [
        "### Model Preprocessing"
      ]
    },
    {
      "cell_type": "code",
      "metadata": {
        "id": "U4YiwCCxyD4P",
        "colab_type": "code",
        "colab": {}
      },
      "source": [
        "#Helper functions\n",
        "def sigmoid(x):\n",
        "  return 1 / (1 + math.exp(-x))"
      ],
      "execution_count": 0,
      "outputs": []
    },
    {
      "cell_type": "code",
      "metadata": {
        "id": "nH3-AFsOyn-b",
        "colab_type": "code",
        "colab": {}
      },
      "source": [
        "#Price format function\n",
        "\n",
        "def stocks_price_format(n):\n",
        "  if n < 0:\n",
        "    return \"- $ {0:2f}\".format(abs(n))\n",
        "  else:\n",
        "    return \"$ {0:2f}\".format(abs(n))"
      ],
      "execution_count": 0,
      "outputs": []
    },
    {
      "cell_type": "code",
      "metadata": {
        "id": "4dfslCMwytX9",
        "colab_type": "code",
        "colab": {}
      },
      "source": [
        "#Dataset loader\n",
        "\n",
        "def dataset_loader(stock_name):\n",
        "  \n",
        "  #Complete the dataset loader function\n",
        "  dataset = data_reader.DataReader(stock_name, data_source=\"yahoo\")\n",
        "  \n",
        "  start_date = str(dataset.index[0]).split()[0]\n",
        "  end_date = str(dataset.index[-1]).split()[0]\n",
        "  \n",
        "  close = dataset['Close']\n",
        "\n",
        "  return close"
      ],
      "execution_count": 0,
      "outputs": []
    },
    {
      "cell_type": "code",
      "metadata": {
        "id": "E-48icJKzIiZ",
        "colab_type": "code",
        "colab": {}
      },
      "source": [
        "#State creator\n",
        "\n",
        "def state_creator(data, timestep, window_size):\n",
        "  \n",
        "  starting_id = timestep - window_size + 1\n",
        "  \n",
        "  if starting_id >= 0:\n",
        "    windowed_data = data[starting_id:timestep+1]\n",
        "  else:\n",
        "    windowed_data = - starting_id * [data[0]] + list(data[0:timestep+1])\n",
        "    \n",
        "  state = []\n",
        "  for i in range(window_size - 1):\n",
        "    state.append(sigmoid(windowed_data[i+1] - windowed_data[i]))\n",
        "    \n",
        "  return np.array([state])"
      ],
      "execution_count": 0,
      "outputs": []
    },
    {
      "cell_type": "code",
      "metadata": {
        "id": "s-lEwkeAzaKM",
        "colab_type": "code",
        "colab": {}
      },
      "source": [
        "#Loading Dataset\n",
        "stock_name = \"AAPL\"\n",
        "data = dataset_loader(stock_name)"
      ],
      "execution_count": 0,
      "outputs": []
    },
    {
      "cell_type": "markdown",
      "metadata": {
        "id": "9YoBma_dzjz5",
        "colab_type": "text"
      },
      "source": [
        "### Training TraderNet"
      ]
    },
    {
      "cell_type": "code",
      "metadata": {
        "id": "Q2bfPiTHziuF",
        "colab_type": "code",
        "colab": {}
      },
      "source": [
        "#Setting hyper parameters\n",
        "\n",
        "window_size = 10\n",
        "episodes = 1000\n",
        "\n",
        "batch_size = 32\n",
        "data_samples = len(data) - 1"
      ],
      "execution_count": 0,
      "outputs": []
    },
    {
      "cell_type": "code",
      "metadata": {
        "id": "IXYr3jcCzwfw",
        "colab_type": "code",
        "colab": {
          "base_uri": "https://localhost:8080/",
          "height": 289
        },
        "outputId": "ea6cd6cd-c2c3-4e2f-f649-905f06caf20a"
      },
      "source": [
        "#Defining the Trader model\n",
        "\n",
        "trader = TraderNet(window_size)\n",
        "trader.model.summary()"
      ],
      "execution_count": 15,
      "outputs": [
        {
          "output_type": "stream",
          "text": [
            "Model: \"sequential\"\n",
            "_________________________________________________________________\n",
            "Layer (type)                 Output Shape              Param #   \n",
            "=================================================================\n",
            "dense (Dense)                (None, 32)                352       \n",
            "_________________________________________________________________\n",
            "dense_1 (Dense)              (None, 64)                2112      \n",
            "_________________________________________________________________\n",
            "dense_2 (Dense)              (None, 128)               8320      \n",
            "_________________________________________________________________\n",
            "dense_3 (Dense)              (None, 3)                 387       \n",
            "=================================================================\n",
            "Total params: 11,171\n",
            "Trainable params: 11,171\n",
            "Non-trainable params: 0\n",
            "_________________________________________________________________\n"
          ],
          "name": "stdout"
        }
      ]
    },
    {
      "cell_type": "markdown",
      "metadata": {
        "id": "5Lf2s_8iz-GP",
        "colab_type": "text"
      },
      "source": [
        "### Training TraderNet"
      ]
    },
    {
      "cell_type": "code",
      "metadata": {
        "id": "ntTTGNRV0CeG",
        "colab_type": "code",
        "colab": {
          "base_uri": "https://localhost:8080/",
          "height": 1000
        },
        "outputId": "0536daa2-236d-4488-85f1-ccedb86ecded"
      },
      "source": [
        "for episode in range(1, episodes + 1):\n",
        "  \n",
        "  print(\"Episode: {}/{}\".format(episode, episodes))\n",
        "  \n",
        "  state = state_creator(data, 0, window_size + 1)\n",
        "  \n",
        "  total_profit = 0\n",
        "  trader.inventory = []\n",
        "  \n",
        "  for t in tqdm(range(data_samples)):\n",
        "    \n",
        "    action = trader.trade(state)\n",
        "    \n",
        "    next_state = state_creator(data, t+1, window_size + 1)\n",
        "    reward = 0\n",
        "    \n",
        "    if action == 1: #Buying\n",
        "      trader.inventory.append(data[t])\n",
        "      print(\"TraderNet bought: \", stocks_price_format(data[t]))\n",
        "      \n",
        "    elif action == 2 and len(trader.inventory) > 0: #Selling\n",
        "      buy_price = trader.inventory.pop(0)\n",
        "      \n",
        "      reward = max(data[t] - buy_price, 0)\n",
        "      total_profit += data[t] - buy_price\n",
        "      print(\"TraderNet sold: \", stocks_price_format(data[t]), \" Profit: \" + stocks_price_format(data[t] - buy_price) )\n",
        "      \n",
        "    if t == data_samples - 1:\n",
        "      done = True\n",
        "    else:\n",
        "      done = False\n",
        "      \n",
        "    trader.memory.append((state, action, reward, next_state, done))\n",
        "    \n",
        "    state = next_state\n",
        "    \n",
        "    if done:\n",
        "      print(\"########################\")\n",
        "      print(\"TOTAL PROFIT: {}\".format(total_profit))\n",
        "      print(\"########################\")\n",
        "    \n",
        "    if len(trader.memory) > batch_size:\n",
        "      trader.batch_train(batch_size)\n",
        "      \n",
        "  if episode % 10 == 0:\n",
        "    trader.model.save(\"ai_trader_{}.h5\".format(episode))"
      ],
      "execution_count": 0,
      "outputs": [
        {
          "output_type": "stream",
          "text": [
            "\r  0%|          | 0/2461 [00:00<?, ?it/s]"
          ],
          "name": "stderr"
        },
        {
          "output_type": "stream",
          "text": [
            "Episode: 1/1000\n",
            "TraderNet bought:  $ 30.572857\n",
            "TraderNet sold:  $ 30.625713  Profit: $ 0.052856\n",
            "TraderNet bought:  $ 30.282858\n",
            "TraderNet sold:  $ 30.719999  Profit: $ 0.437141\n",
            "TraderNet bought:  $ 29.420000\n",
            "TraderNet bought:  $ 29.697144\n",
            "TraderNet bought:  $ 27.818571\n",
            "TraderNet bought:  $ 28.461428\n",
            "TraderNet sold:  $ 27.435715  Profit: - $ 1.984285\n",
            "TraderNet sold:  $ 27.922857  Profit: - $ 1.774286\n",
            "TraderNet sold:  $ 28.625713  Profit: $ 0.807142\n",
            "TraderNet bought:  $ 29.057142\n",
            "TraderNet sold:  $ 28.935715  Profit: $ 0.474287\n",
            "TraderNet bought:  $ 28.990000\n"
          ],
          "name": "stdout"
        },
        {
          "output_type": "stream",
          "text": [
            "\r  1%|▏         | 33/2461 [00:00<01:03, 38.29it/s]"
          ],
          "name": "stderr"
        },
        {
          "output_type": "stream",
          "text": [
            "TraderNet sold:  $ 28.631428  Profit: - $ 0.425714\n",
            "TraderNet bought:  $ 28.151428\n"
          ],
          "name": "stdout"
        },
        {
          "output_type": "stream",
          "text": [
            "\r  1%|▏         | 35/2461 [00:01<02:21, 17.09it/s]"
          ],
          "name": "stderr"
        },
        {
          "output_type": "stream",
          "text": [
            "TraderNet bought:  $ 28.665714\n",
            "TraderNet sold:  $ 28.857143  Profit: - $ 0.132856\n"
          ],
          "name": "stdout"
        },
        {
          "output_type": "stream",
          "text": [
            "  2%|▏         | 38/2461 [00:01<04:05,  9.86it/s]"
          ],
          "name": "stderr"
        },
        {
          "output_type": "stream",
          "text": [
            "TraderNet bought:  $ 29.231428\n",
            "TraderNet bought:  $ 29.855715\n"
          ],
          "name": "stdout"
        },
        {
          "output_type": "stream",
          "text": [
            "  2%|▏         | 41/2461 [00:01<05:03,  7.97it/s]"
          ],
          "name": "stderr"
        },
        {
          "output_type": "stream",
          "text": [
            "TraderNet sold:  $ 29.904285  Profit: $ 1.752857\n",
            "TraderNet sold:  $ 30.101429  Profit: $ 1.435715\n"
          ],
          "name": "stdout"
        },
        {
          "output_type": "stream",
          "text": [
            "  2%|▏         | 45/2461 [00:02<05:34,  7.22it/s]"
          ],
          "name": "stderr"
        },
        {
          "output_type": "stream",
          "text": [
            "TraderNet sold:  $ 31.860001  Profit: $ 2.628572\n",
            "TraderNet bought:  $ 32.119999\n"
          ],
          "name": "stdout"
        },
        {
          "output_type": "stream",
          "text": [
            "  2%|▏         | 49/2461 [00:03<05:38,  7.12it/s]"
          ],
          "name": "stderr"
        },
        {
          "output_type": "stream",
          "text": [
            "TraderNet bought:  $ 31.977142\n"
          ],
          "name": "stdout"
        },
        {
          "output_type": "stream",
          "text": [
            "  2%|▏         | 51/2461 [00:03<05:38,  7.11it/s]"
          ],
          "name": "stderr"
        },
        {
          "output_type": "stream",
          "text": [
            "TraderNet sold:  $ 32.017143  Profit: $ 2.161428\n",
            "TraderNet bought:  $ 32.092857\n"
          ],
          "name": "stdout"
        },
        {
          "output_type": "stream",
          "text": [
            "  2%|▏         | 53/2461 [00:03<05:42,  7.02it/s]"
          ],
          "name": "stderr"
        },
        {
          "output_type": "stream",
          "text": [
            "TraderNet sold:  $ 31.750000  Profit: - $ 0.369999\n",
            "TraderNet bought:  $ 32.107143\n"
          ],
          "name": "stdout"
        },
        {
          "output_type": "stream",
          "text": [
            "  2%|▏         | 55/2461 [00:03<05:39,  7.08it/s]"
          ],
          "name": "stderr"
        },
        {
          "output_type": "stream",
          "text": [
            "TraderNet bought:  $ 32.622856\n",
            "TraderNet sold:  $ 32.767143  Profit: $ 0.790001\n"
          ],
          "name": "stdout"
        },
        {
          "output_type": "stream",
          "text": [
            "  2%|▏         | 57/2461 [00:04<05:41,  7.03it/s]"
          ],
          "name": "stderr"
        },
        {
          "output_type": "stream",
          "text": [
            "TraderNet bought:  $ 32.378571\n",
            "TraderNet sold:  $ 32.985714  Profit: $ 0.892857\n"
          ],
          "name": "stdout"
        },
        {
          "output_type": "stream",
          "text": [
            "  2%|▏         | 59/2461 [00:04<05:36,  7.14it/s]"
          ],
          "name": "stderr"
        },
        {
          "output_type": "stream",
          "text": [
            "TraderNet sold:  $ 33.198570  Profit: $ 1.091427\n",
            "TraderNet bought:  $ 33.692856\n"
          ],
          "name": "stdout"
        },
        {
          "output_type": "stream",
          "text": [
            "  2%|▏         | 61/2461 [00:04<05:22,  7.44it/s]"
          ],
          "name": "stderr"
        },
        {
          "output_type": "stream",
          "text": [
            "TraderNet bought:  $ 33.571430\n",
            "TraderNet bought:  $ 33.709999\n"
          ],
          "name": "stdout"
        },
        {
          "output_type": "stream",
          "text": [
            "  3%|▎         | 65/2461 [00:05<05:27,  7.31it/s]"
          ],
          "name": "stderr"
        },
        {
          "output_type": "stream",
          "text": [
            "TraderNet sold:  $ 34.371429  Profit: $ 1.748573\n",
            "TraderNet sold:  $ 34.278572  Profit: $ 1.900002\n"
          ],
          "name": "stdout"
        },
        {
          "output_type": "stream",
          "text": [
            "  3%|▎         | 67/2461 [00:05<05:27,  7.31it/s]"
          ],
          "name": "stderr"
        },
        {
          "output_type": "stream",
          "text": [
            "TraderNet sold:  $ 34.541428  Profit: $ 0.848572\n",
            "TraderNet bought:  $ 34.612858\n"
          ],
          "name": "stdout"
        },
        {
          "output_type": "stream",
          "text": [
            "  3%|▎         | 69/2461 [00:05<05:30,  7.23it/s]"
          ],
          "name": "stderr"
        },
        {
          "output_type": "stream",
          "text": [
            "TraderNet bought:  $ 34.632858\n",
            "TraderNet sold:  $ 35.098572  Profit: $ 1.527142\n"
          ],
          "name": "stdout"
        },
        {
          "output_type": "stream",
          "text": [
            "  3%|▎         | 73/2461 [00:06<05:40,  7.00it/s]"
          ],
          "name": "stderr"
        },
        {
          "output_type": "stream",
          "text": [
            "TraderNet sold:  $ 35.295715  Profit: $ 1.585716\n"
          ],
          "name": "stdout"
        },
        {
          "output_type": "stream",
          "text": [
            "  3%|▎         | 76/2461 [00:06<05:28,  7.26it/s]"
          ],
          "name": "stderr"
        },
        {
          "output_type": "stream",
          "text": [
            "TraderNet sold:  $ 38.067142  Profit: $ 3.454285\n",
            "TraderNet sold:  $ 38.689999  Profit: $ 4.057140\n"
          ],
          "name": "stdout"
        },
        {
          "output_type": "stream",
          "text": [
            "  3%|▎         | 78/2461 [00:07<05:28,  7.25it/s]"
          ],
          "name": "stderr"
        },
        {
          "output_type": "stream",
          "text": [
            "TraderNet bought:  $ 38.500000\n"
          ],
          "name": "stdout"
        },
        {
          "output_type": "stream",
          "text": [
            "  3%|▎         | 85/2461 [00:08<05:16,  7.50it/s]"
          ],
          "name": "stderr"
        },
        {
          "output_type": "stream",
          "text": [
            "TraderNet sold:  $ 36.570000  Profit: - $ 1.930000\n"
          ],
          "name": "stdout"
        },
        {
          "output_type": "stream",
          "text": [
            "  4%|▎         | 88/2461 [00:08<05:21,  7.38it/s]"
          ],
          "name": "stderr"
        },
        {
          "output_type": "stream",
          "text": [
            "TraderNet bought:  $ 36.284286\n",
            "TraderNet sold:  $ 36.645714  Profit: $ 0.361427\n"
          ],
          "name": "stdout"
        },
        {
          "output_type": "stream",
          "text": [
            "  4%|▎         | 90/2461 [00:08<05:30,  7.17it/s]"
          ],
          "name": "stderr"
        },
        {
          "output_type": "stream",
          "text": [
            "TraderNet bought:  $ 37.441429\n",
            "TraderNet bought:  $ 36.908573\n"
          ],
          "name": "stdout"
        },
        {
          "output_type": "stream",
          "text": [
            "  4%|▎         | 92/2461 [00:09<05:28,  7.21it/s]"
          ],
          "name": "stderr"
        },
        {
          "output_type": "stream",
          "text": [
            "TraderNet bought:  $ 36.259998\n",
            "TraderNet bought:  $ 36.317142\n"
          ],
          "name": "stdout"
        },
        {
          "output_type": "stream",
          "text": [
            "  4%|▍         | 94/2461 [00:09<05:27,  7.23it/s]"
          ],
          "name": "stderr"
        },
        {
          "output_type": "stream",
          "text": [
            "TraderNet bought:  $ 36.051430\n"
          ],
          "name": "stdout"
        },
        {
          "output_type": "stream",
          "text": [
            "  4%|▍         | 97/2461 [00:09<05:17,  7.45it/s]"
          ],
          "name": "stderr"
        },
        {
          "output_type": "stream",
          "text": [
            "TraderNet sold:  $ 34.617142  Profit: - $ 2.824287\n",
            "TraderNet bought:  $ 35.251427\n"
          ],
          "name": "stdout"
        },
        {
          "output_type": "stream",
          "text": [
            "  4%|▍         | 99/2461 [00:10<05:18,  7.42it/s]"
          ],
          "name": "stderr"
        },
        {
          "output_type": "stream",
          "text": [
            "TraderNet bought:  $ 35.031429\n"
          ],
          "name": "stdout"
        },
        {
          "output_type": "stream",
          "text": [
            "  4%|▍         | 101/2461 [00:10<05:31,  7.13it/s]"
          ],
          "name": "stderr"
        },
        {
          "output_type": "stream",
          "text": [
            "TraderNet sold:  $ 36.192856  Profit: - $ 0.715717\n"
          ],
          "name": "stdout"
        },
        {
          "output_type": "stream",
          "text": [
            "  4%|▍         | 103/2461 [00:10<05:26,  7.22it/s]"
          ],
          "name": "stderr"
        },
        {
          "output_type": "stream",
          "text": [
            "TraderNet bought:  $ 37.261429\n",
            "TraderNet sold:  $ 37.707142  Profit: $ 1.447144\n"
          ],
          "name": "stdout"
        },
        {
          "output_type": "stream",
          "text": [
            "  4%|▍         | 105/2461 [00:10<05:30,  7.12it/s]"
          ],
          "name": "stderr"
        },
        {
          "output_type": "stream",
          "text": [
            "TraderNet sold:  $ 37.588570  Profit: $ 1.271427\n",
            "TraderNet sold:  $ 36.565716  Profit: $ 0.514286\n"
          ],
          "name": "stdout"
        },
        {
          "output_type": "stream",
          "text": [
            "  4%|▍         | 109/2461 [00:11<05:27,  7.17it/s]"
          ],
          "name": "stderr"
        },
        {
          "output_type": "stream",
          "text": [
            "TraderNet sold:  $ 34.742859  Profit: - $ 0.508568\n"
          ],
          "name": "stdout"
        },
        {
          "output_type": "stream",
          "text": [
            "  5%|▍         | 111/2461 [00:11<05:30,  7.11it/s]"
          ],
          "name": "stderr"
        },
        {
          "output_type": "stream",
          "text": [
            "TraderNet bought:  $ 36.215714\n"
          ],
          "name": "stdout"
        },
        {
          "output_type": "stream",
          "text": [
            "  5%|▍         | 113/2461 [00:12<05:32,  7.06it/s]"
          ],
          "name": "stderr"
        },
        {
          "output_type": "stream",
          "text": [
            "TraderNet bought:  $ 37.098572\n",
            "TraderNet sold:  $ 38.178570  Profit: $ 3.147141\n"
          ],
          "name": "stdout"
        },
        {
          "output_type": "stream",
          "text": [
            "  5%|▍         | 115/2461 [00:12<05:25,  7.21it/s]"
          ],
          "name": "stderr"
        },
        {
          "output_type": "stream",
          "text": [
            "TraderNet bought:  $ 38.838570\n",
            "TraderNet sold:  $ 39.152859  Profit: $ 1.891430\n"
          ],
          "name": "stdout"
        },
        {
          "output_type": "stream",
          "text": [
            "  5%|▍         | 117/2461 [00:12<05:24,  7.23it/s]"
          ],
          "name": "stderr"
        },
        {
          "output_type": "stream",
          "text": [
            "TraderNet sold:  $ 38.595715  Profit: $ 2.380001\n",
            "TraderNet sold:  $ 39.121429  Profit: $ 2.022858\n"
          ],
          "name": "stdout"
        },
        {
          "output_type": "stream",
          "text": [
            "  5%|▍         | 119/2461 [00:12<05:26,  7.17it/s]"
          ],
          "name": "stderr"
        },
        {
          "output_type": "stream",
          "text": [
            "TraderNet bought:  $ 38.709999\n",
            "TraderNet sold:  $ 38.428570  Profit: - $ 0.410000\n"
          ],
          "name": "stdout"
        },
        {
          "output_type": "stream",
          "text": [
            "  5%|▍         | 123/2461 [00:13<05:19,  7.32it/s]"
          ],
          "name": "stderr"
        },
        {
          "output_type": "stream",
          "text": [
            "TraderNet sold:  $ 36.595715  Profit: - $ 2.114285\n"
          ],
          "name": "stdout"
        },
        {
          "output_type": "stream",
          "text": [
            "  5%|▌         | 128/2461 [00:14<05:15,  7.40it/s]"
          ],
          "name": "stderr"
        },
        {
          "output_type": "stream",
          "text": [
            "TraderNet bought:  $ 36.952858\n",
            "TraderNet sold:  $ 36.869999  Profit: - $ 0.082859\n"
          ],
          "name": "stdout"
        },
        {
          "output_type": "stream",
          "text": [
            "  6%|▌         | 141/2461 [00:15<05:11,  7.44it/s]"
          ],
          "name": "stderr"
        },
        {
          "output_type": "stream",
          "text": [
            "TraderNet bought:  $ 37.040001\n",
            "TraderNet bought:  $ 37.725716\n"
          ],
          "name": "stdout"
        },
        {
          "output_type": "stream",
          "text": [
            "  6%|▌         | 143/2461 [00:16<05:23,  7.17it/s]"
          ],
          "name": "stderr"
        },
        {
          "output_type": "stream",
          "text": [
            "TraderNet sold:  $ 37.279999  Profit: $ 0.239998\n",
            "TraderNet bought:  $ 36.872856\n"
          ],
          "name": "stdout"
        },
        {
          "output_type": "stream",
          "text": [
            "  6%|▌         | 145/2461 [00:16<05:23,  7.16it/s]"
          ],
          "name": "stderr"
        },
        {
          "output_type": "stream",
          "text": [
            "TraderNet sold:  $ 36.750000  Profit: - $ 0.975716\n"
          ],
          "name": "stdout"
        },
        {
          "output_type": "stream",
          "text": [
            "  6%|▌         | 150/2461 [00:17<05:21,  7.19it/s]"
          ],
          "name": "stderr"
        },
        {
          "output_type": "stream",
          "text": [
            "TraderNet sold:  $ 37.155716  Profit: $ 0.282860\n"
          ],
          "name": "stdout"
        },
        {
          "output_type": "stream",
          "text": [
            "  6%|▋         | 154/2461 [00:17<05:11,  7.42it/s]"
          ],
          "name": "stderr"
        },
        {
          "output_type": "stream",
          "text": [
            "TraderNet bought:  $ 35.970001\n",
            "TraderNet sold:  $ 35.585712  Profit: - $ 0.384289\n"
          ],
          "name": "stdout"
        },
        {
          "output_type": "stream",
          "text": [
            "  7%|▋         | 174/2461 [00:20<05:16,  7.23it/s]"
          ],
          "name": "stderr"
        },
        {
          "output_type": "stream",
          "text": [
            "TraderNet bought:  $ 37.630001\n",
            "TraderNet bought:  $ 38.148571\n"
          ],
          "name": "stdout"
        },
        {
          "output_type": "stream",
          "text": [
            "  7%|▋         | 176/2461 [00:20<05:23,  7.06it/s]"
          ],
          "name": "stderr"
        },
        {
          "output_type": "stream",
          "text": [
            "TraderNet sold:  $ 38.294285  Profit: $ 0.664284\n"
          ],
          "name": "stdout"
        },
        {
          "output_type": "stream",
          "text": [
            "  7%|▋         | 178/2461 [00:20<05:23,  7.06it/s]"
          ],
          "name": "stderr"
        },
        {
          "output_type": "stream",
          "text": [
            "TraderNet bought:  $ 39.509998\n"
          ],
          "name": "stdout"
        },
        {
          "output_type": "stream",
          "text": [
            "  7%|▋         | 180/2461 [00:21<05:18,  7.16it/s]"
          ],
          "name": "stderr"
        },
        {
          "output_type": "stream",
          "text": [
            "TraderNet sold:  $ 40.461430  Profit: $ 2.312859\n"
          ],
          "name": "stdout"
        },
        {
          "output_type": "stream",
          "text": [
            "  7%|▋         | 182/2461 [00:21<05:14,  7.24it/s]"
          ],
          "name": "stderr"
        },
        {
          "output_type": "stream",
          "text": [
            "TraderNet sold:  $ 41.107143  Profit: $ 1.597145\n",
            "TraderNet bought:  $ 41.274284\n"
          ],
          "name": "stdout"
        },
        {
          "output_type": "stream",
          "text": [
            "  7%|▋         | 184/2461 [00:21<05:11,  7.31it/s]"
          ],
          "name": "stderr"
        },
        {
          "output_type": "stream",
          "text": [
            "TraderNet sold:  $ 41.759998  Profit: $ 0.485714\n"
          ],
          "name": "stdout"
        },
        {
          "output_type": "stream",
          "text": [
            "  8%|▊         | 198/2461 [00:23<05:30,  6.85it/s]"
          ],
          "name": "stderr"
        },
        {
          "output_type": "stream",
          "text": [
            "TraderNet bought:  $ 43.187141\n",
            "TraderNet sold:  $ 44.962856  Profit: $ 1.775715\n"
          ],
          "name": "stdout"
        },
        {
          "output_type": "stream",
          "text": [
            "  8%|▊         | 203/2461 [00:24<05:19,  7.06it/s]"
          ],
          "name": "stderr"
        },
        {
          "output_type": "stream",
          "text": [
            "TraderNet bought:  $ 44.217144\n",
            "TraderNet sold:  $ 43.924286  Profit: - $ 0.292858\n"
          ],
          "name": "stdout"
        },
        {
          "output_type": "stream",
          "text": [
            "  8%|▊         | 208/2461 [00:25<05:13,  7.18it/s]"
          ],
          "name": "stderr"
        },
        {
          "output_type": "stream",
          "text": [
            "TraderNet bought:  $ 43.605713\n",
            "TraderNet bought:  $ 42.997143\n"
          ],
          "name": "stdout"
        },
        {
          "output_type": "stream",
          "text": [
            "  9%|▊         | 210/2461 [00:25<05:07,  7.31it/s]"
          ],
          "name": "stderr"
        },
        {
          "output_type": "stream",
          "text": [
            "TraderNet sold:  $ 43.454285  Profit: - $ 0.151428\n",
            "TraderNet sold:  $ 44.194286  Profit: $ 1.197144\n"
          ],
          "name": "stdout"
        },
        {
          "output_type": "stream",
          "text": [
            "  9%|▉         | 216/2461 [00:26<05:13,  7.17it/s]"
          ],
          "name": "stderr"
        },
        {
          "output_type": "stream",
          "text": [
            "TraderNet bought:  $ 45.154285\n",
            "TraderNet sold:  $ 45.432858  Profit: $ 0.278572\n"
          ],
          "name": "stdout"
        },
        {
          "output_type": "stream",
          "text": [
            "  9%|▉         | 221/2461 [00:26<05:09,  7.23it/s]"
          ],
          "name": "stderr"
        },
        {
          "output_type": "stream",
          "text": [
            "TraderNet bought:  $ 43.084286\n",
            "TraderNet bought:  $ 42.928570\n"
          ],
          "name": "stdout"
        },
        {
          "output_type": "stream",
          "text": [
            "  9%|▉         | 223/2461 [00:27<05:14,  7.13it/s]"
          ],
          "name": "stderr"
        },
        {
          "output_type": "stream",
          "text": [
            "TraderNet bought:  $ 44.061428\n",
            "TraderNet bought:  $ 43.818573\n"
          ],
          "name": "stdout"
        },
        {
          "output_type": "stream",
          "text": [
            "  9%|▉         | 225/2461 [00:27<05:16,  7.06it/s]"
          ],
          "name": "stderr"
        },
        {
          "output_type": "stream",
          "text": [
            "TraderNet bought:  $ 44.765713\n",
            "TraderNet bought:  $ 44.104286\n"
          ],
          "name": "stdout"
        },
        {
          "output_type": "stream",
          "text": [
            "  9%|▉         | 227/2461 [00:27<05:13,  7.13it/s]"
          ],
          "name": "stderr"
        },
        {
          "output_type": "stream",
          "text": [
            "TraderNet bought:  $ 44.971428\n",
            "TraderNet bought:  $ 45.000000\n"
          ],
          "name": "stdout"
        },
        {
          "output_type": "stream",
          "text": [
            "  9%|▉         | 229/2461 [00:28<05:14,  7.09it/s]"
          ],
          "name": "stderr"
        },
        {
          "output_type": "stream",
          "text": [
            "TraderNet bought:  $ 45.267143\n",
            "TraderNet sold:  $ 44.450001  Profit: $ 1.365715\n"
          ],
          "name": "stdout"
        },
        {
          "output_type": "stream",
          "text": [
            "  9%|▉         | 231/2461 [00:28<05:14,  7.08it/s]"
          ],
          "name": "stderr"
        },
        {
          "output_type": "stream",
          "text": [
            "TraderNet sold:  $ 45.200001  Profit: $ 2.271431\n",
            "TraderNet bought:  $ 45.450001\n"
          ],
          "name": "stdout"
        },
        {
          "output_type": "stream",
          "text": [
            "  9%|▉         | 233/2461 [00:28<05:20,  6.95it/s]"
          ],
          "name": "stderr"
        },
        {
          "output_type": "stream",
          "text": [
            "TraderNet sold:  $ 45.348572  Profit: $ 1.287144\n",
            "TraderNet bought:  $ 45.735714\n"
          ],
          "name": "stdout"
        },
        {
          "output_type": "stream",
          "text": [
            " 10%|▉         | 235/2461 [00:28<05:15,  7.05it/s]"
          ],
          "name": "stderr"
        },
        {
          "output_type": "stream",
          "text": [
            "TraderNet bought:  $ 45.458572\n",
            "TraderNet sold:  $ 45.858570  Profit: $ 2.039997\n"
          ],
          "name": "stdout"
        },
        {
          "output_type": "stream",
          "text": [
            " 10%|▉         | 237/2461 [00:29<05:17,  7.01it/s]"
          ],
          "name": "stderr"
        },
        {
          "output_type": "stream",
          "text": [
            "TraderNet bought:  $ 45.680000\n"
          ],
          "name": "stdout"
        },
        {
          "output_type": "stream",
          "text": [
            " 10%|▉         | 239/2461 [00:29<05:13,  7.08it/s]"
          ],
          "name": "stderr"
        },
        {
          "output_type": "stream",
          "text": [
            "TraderNet sold:  $ 45.952858  Profit: $ 1.187145\n",
            "TraderNet sold:  $ 45.755714  Profit: $ 1.651428\n"
          ],
          "name": "stdout"
        },
        {
          "output_type": "stream",
          "text": [
            " 10%|▉         | 241/2461 [00:29<05:11,  7.12it/s]"
          ],
          "name": "stderr"
        },
        {
          "output_type": "stream",
          "text": [
            "TraderNet sold:  $ 45.765713  Profit: $ 0.794285\n",
            "TraderNet sold:  $ 45.892857  Profit: $ 0.892857\n"
          ],
          "name": "stdout"
        },
        {
          "output_type": "stream",
          "text": [
            " 10%|▉         | 243/2461 [00:30<05:24,  6.83it/s]"
          ],
          "name": "stderr"
        },
        {
          "output_type": "stream",
          "text": [
            "TraderNet sold:  $ 45.801430  Profit: $ 0.534286\n",
            "TraderNet sold:  $ 46.029999  Profit: $ 0.579998\n"
          ],
          "name": "stdout"
        },
        {
          "output_type": "stream",
          "text": [
            " 10%|▉         | 246/2461 [00:30<05:22,  6.87it/s]"
          ],
          "name": "stderr"
        },
        {
          "output_type": "stream",
          "text": [
            "TraderNet sold:  $ 46.451427  Profit: $ 0.715714\n",
            "TraderNet bought:  $ 46.228573\n"
          ],
          "name": "stdout"
        },
        {
          "output_type": "stream",
          "text": [
            " 10%|█         | 248/2461 [00:30<05:24,  6.82it/s]"
          ],
          "name": "stderr"
        },
        {
          "output_type": "stream",
          "text": [
            "TraderNet sold:  $ 46.382858  Profit: $ 0.924286\n",
            "TraderNet sold:  $ 46.495716  Profit: $ 0.815716\n"
          ],
          "name": "stdout"
        },
        {
          "output_type": "stream",
          "text": [
            " 10%|█         | 250/2461 [00:31<05:30,  6.70it/s]"
          ],
          "name": "stderr"
        },
        {
          "output_type": "stream",
          "text": [
            "TraderNet sold:  $ 46.470001  Profit: $ 0.241428\n"
          ],
          "name": "stdout"
        },
        {
          "output_type": "stream",
          "text": [
            " 11%|█         | 264/2461 [00:33<05:02,  7.26it/s]"
          ],
          "name": "stderr"
        },
        {
          "output_type": "stream",
          "text": [
            "TraderNet bought:  $ 48.405716\n",
            "TraderNet sold:  $ 47.525715  Profit: - $ 0.880001\n"
          ],
          "name": "stdout"
        },
        {
          "output_type": "stream",
          "text": [
            " 11%|█         | 269/2461 [00:33<05:11,  7.04it/s]"
          ],
          "name": "stderr"
        },
        {
          "output_type": "stream",
          "text": [
            "TraderNet bought:  $ 49.121429\n",
            "TraderNet sold:  $ 49.029999  Profit: - $ 0.091431\n"
          ],
          "name": "stdout"
        },
        {
          "output_type": "stream",
          "text": [
            " 11%|█         | 275/2461 [00:34<05:09,  7.07it/s]"
          ],
          "name": "stderr"
        },
        {
          "output_type": "stream",
          "text": [
            "TraderNet bought:  $ 49.062859\n",
            "TraderNet sold:  $ 49.500000  Profit: $ 0.437141\n"
          ],
          "name": "stdout"
        },
        {
          "output_type": "stream",
          "text": [
            " 12%|█▏        | 286/2461 [00:36<04:59,  7.25it/s]"
          ],
          "name": "stderr"
        },
        {
          "output_type": "stream",
          "text": [
            "TraderNet bought:  $ 50.080002\n",
            "TraderNet sold:  $ 48.372856  Profit: - $ 1.707146\n"
          ],
          "name": "stdout"
        },
        {
          "output_type": "stream",
          "text": [
            " 12%|█▏        | 290/2461 [00:36<05:05,  7.12it/s]"
          ],
          "name": "stderr"
        },
        {
          "output_type": "stream",
          "text": [
            "TraderNet bought:  $ 49.737144\n",
            "TraderNet sold:  $ 50.458572  Profit: $ 0.721428\n"
          ],
          "name": "stdout"
        },
        {
          "output_type": "stream",
          "text": [
            " 12%|█▏        | 293/2461 [00:37<05:07,  7.04it/s]"
          ],
          "name": "stderr"
        },
        {
          "output_type": "stream",
          "text": [
            "TraderNet bought:  $ 50.302856\n",
            "TraderNet sold:  $ 51.365715  Profit: $ 1.062859\n"
          ],
          "name": "stdout"
        },
        {
          "output_type": "stream",
          "text": [
            " 12%|█▏        | 298/2461 [00:37<05:00,  7.19it/s]"
          ],
          "name": "stderr"
        },
        {
          "output_type": "stream",
          "text": [
            "TraderNet bought:  $ 50.352856\n",
            "TraderNet bought:  $ 49.524284\n"
          ],
          "name": "stdout"
        },
        {
          "output_type": "stream",
          "text": [
            " 12%|█▏        | 300/2461 [00:38<05:05,  7.08it/s]"
          ],
          "name": "stderr"
        },
        {
          "output_type": "stream",
          "text": [
            "TraderNet sold:  $ 50.284286  Profit: - $ 0.068569\n",
            "TraderNet bought:  $ 50.508572\n"
          ],
          "name": "stdout"
        },
        {
          "output_type": "stream",
          "text": [
            " 12%|█▏        | 302/2461 [00:38<05:10,  6.96it/s]"
          ],
          "name": "stderr"
        },
        {
          "output_type": "stream",
          "text": [
            "TraderNet bought:  $ 49.347141\n",
            "TraderNet bought:  $ 47.144287\n"
          ],
          "name": "stdout"
        },
        {
          "output_type": "stream",
          "text": [
            " 12%|█▏        | 304/2461 [00:38<05:04,  7.09it/s]"
          ],
          "name": "stderr"
        },
        {
          "output_type": "stream",
          "text": [
            "TraderNet sold:  $ 47.805714  Profit: - $ 1.718571\n",
            "TraderNet sold:  $ 47.238571  Profit: - $ 3.270000\n"
          ],
          "name": "stdout"
        },
        {
          "output_type": "stream",
          "text": [
            " 12%|█▏        | 306/2461 [00:38<04:59,  7.19it/s]"
          ],
          "name": "stderr"
        },
        {
          "output_type": "stream",
          "text": [
            "TraderNet sold:  $ 48.471428  Profit: - $ 0.875713\n",
            "TraderNet sold:  $ 48.742859  Profit: $ 1.598572\n"
          ],
          "name": "stdout"
        },
        {
          "output_type": "stream",
          "text": [
            " 13%|█▎        | 321/2461 [00:41<04:54,  7.27it/s]"
          ],
          "name": "stderr"
        },
        {
          "output_type": "stream",
          "text": [
            "TraderNet bought:  $ 47.257141\n",
            "TraderNet sold:  $ 47.485714  Profit: $ 0.228573\n"
          ],
          "name": "stdout"
        },
        {
          "output_type": "stream",
          "text": [
            " 13%|█▎        | 331/2461 [00:42<04:55,  7.21it/s]"
          ],
          "name": "stderr"
        },
        {
          "output_type": "stream",
          "text": [
            "TraderNet bought:  $ 50.060001\n",
            "TraderNet bought:  $ 50.021427\n"
          ],
          "name": "stdout"
        },
        {
          "output_type": "stream",
          "text": [
            " 14%|█▎        | 333/2461 [00:42<04:52,  7.28it/s]"
          ],
          "name": "stderr"
        },
        {
          "output_type": "stream",
          "text": [
            "TraderNet sold:  $ 49.535713  Profit: - $ 0.524288\n",
            "TraderNet sold:  $ 50.018570  Profit: - $ 0.002857\n"
          ],
          "name": "stdout"
        },
        {
          "output_type": "stream",
          "text": [
            " 14%|█▎        | 338/2461 [00:43<04:56,  7.17it/s]"
          ],
          "name": "stderr"
        },
        {
          "output_type": "stream",
          "text": [
            "TraderNet bought:  $ 49.535713\n",
            "TraderNet bought:  $ 49.522858\n"
          ],
          "name": "stdout"
        },
        {
          "output_type": "stream",
          "text": [
            " 14%|█▍        | 340/2461 [00:43<04:57,  7.12it/s]"
          ],
          "name": "stderr"
        },
        {
          "output_type": "stream",
          "text": [
            "TraderNet sold:  $ 49.657143  Profit: $ 0.121429\n",
            "TraderNet sold:  $ 49.921429  Profit: $ 0.398571\n"
          ],
          "name": "stdout"
        },
        {
          "output_type": "stream",
          "text": [
            " 14%|█▍        | 342/2461 [00:43<04:54,  7.20it/s]"
          ],
          "name": "stderr"
        },
        {
          "output_type": "stream",
          "text": [
            "TraderNet bought:  $ 49.604286\n",
            "TraderNet sold:  $ 49.509998  Profit: - $ 0.094288\n"
          ],
          "name": "stdout"
        },
        {
          "output_type": "stream",
          "text": [
            " 14%|█▍        | 344/2461 [00:44<05:14,  6.73it/s]"
          ],
          "name": "stderr"
        },
        {
          "output_type": "stream",
          "text": [
            "TraderNet bought:  $ 48.642857\n",
            "TraderNet bought:  $ 47.614285\n"
          ],
          "name": "stdout"
        },
        {
          "output_type": "stream",
          "text": [
            " 14%|█▍        | 346/2461 [00:44<05:02,  6.99it/s]"
          ],
          "name": "stderr"
        },
        {
          "output_type": "stream",
          "text": [
            "TraderNet sold:  $ 48.020000  Profit: - $ 0.622856\n",
            "TraderNet bought:  $ 48.552856\n"
          ],
          "name": "stdout"
        },
        {
          "output_type": "stream",
          "text": [
            " 14%|█▍        | 348/2461 [00:44<04:56,  7.14it/s]"
          ],
          "name": "stderr"
        },
        {
          "output_type": "stream",
          "text": [
            "TraderNet sold:  $ 48.647144  Profit: $ 1.032860\n",
            "TraderNet sold:  $ 47.888573  Profit: - $ 0.664284\n"
          ],
          "name": "stdout"
        },
        {
          "output_type": "stream",
          "text": [
            " 15%|█▍        | 360/2461 [00:46<04:45,  7.35it/s]"
          ],
          "name": "stderr"
        },
        {
          "output_type": "stream",
          "text": [
            "TraderNet bought:  $ 47.434284\n",
            "TraderNet sold:  $ 47.462856  Profit: $ 0.028572\n"
          ],
          "name": "stdout"
        },
        {
          "output_type": "stream",
          "text": [
            " 15%|█▍        | 367/2461 [00:47<04:41,  7.44it/s]"
          ],
          "name": "stderr"
        },
        {
          "output_type": "stream",
          "text": [
            "TraderNet bought:  $ 46.451427\n",
            "TraderNet bought:  $ 45.751427\n"
          ],
          "name": "stdout"
        },
        {
          "output_type": "stream",
          "text": [
            " 15%|█▍        | 369/2461 [00:47<04:42,  7.39it/s]"
          ],
          "name": "stderr"
        },
        {
          "output_type": "stream",
          "text": [
            "TraderNet sold:  $ 45.045715  Profit: - $ 1.405712\n",
            "TraderNet sold:  $ 46.471428  Profit: $ 0.720001\n"
          ],
          "name": "stdout"
        },
        {
          "output_type": "stream",
          "text": [
            " 15%|█▌        | 377/2461 [00:48<04:41,  7.41it/s]"
          ],
          "name": "stderr"
        },
        {
          "output_type": "stream",
          "text": [
            "TraderNet bought:  $ 47.952858\n",
            "TraderNet sold:  $ 49.037144  Profit: $ 1.084286\n"
          ],
          "name": "stdout"
        },
        {
          "output_type": "stream",
          "text": [
            " 15%|█▌        | 379/2461 [00:49<04:50,  7.17it/s]"
          ],
          "name": "stderr"
        },
        {
          "output_type": "stream",
          "text": [
            "TraderNet bought:  $ 49.918571\n",
            "TraderNet sold:  $ 50.251427  Profit: $ 0.332855\n"
          ],
          "name": "stdout"
        },
        {
          "output_type": "stream",
          "text": [
            " 15%|█▌        | 381/2461 [00:49<04:49,  7.19it/s]"
          ],
          "name": "stderr"
        },
        {
          "output_type": "stream",
          "text": [
            "TraderNet bought:  $ 51.028572\n",
            "TraderNet sold:  $ 51.387142  Profit: $ 0.358570\n"
          ],
          "name": "stdout"
        },
        {
          "output_type": "stream",
          "text": [
            " 16%|█▌        | 383/2461 [00:49<04:49,  7.18it/s]"
          ],
          "name": "stderr"
        },
        {
          "output_type": "stream",
          "text": [
            "TraderNet bought:  $ 50.571430\n",
            "TraderNet bought:  $ 50.535713\n"
          ],
          "name": "stdout"
        },
        {
          "output_type": "stream",
          "text": [
            " 16%|█▌        | 385/2461 [00:49<04:51,  7.13it/s]"
          ],
          "name": "stderr"
        },
        {
          "output_type": "stream",
          "text": [
            "TraderNet sold:  $ 51.145714  Profit: $ 0.574284\n",
            "TraderNet sold:  $ 51.110001  Profit: $ 0.574287\n"
          ],
          "name": "stdout"
        },
        {
          "output_type": "stream",
          "text": [
            " 16%|█▌        | 391/2461 [00:50<04:47,  7.20it/s]"
          ],
          "name": "stderr"
        },
        {
          "output_type": "stream",
          "text": [
            "TraderNet bought:  $ 55.327145\n",
            "TraderNet sold:  $ 56.185715  Profit: $ 0.858570\n"
          ],
          "name": "stdout"
        },
        {
          "output_type": "stream",
          "text": [
            " 16%|█▌        | 395/2461 [00:51<04:47,  7.20it/s]"
          ],
          "name": "stderr"
        },
        {
          "output_type": "stream",
          "text": [
            "TraderNet bought:  $ 56.084286\n",
            "TraderNet sold:  $ 55.974285  Profit: - $ 0.110001\n"
          ],
          "name": "stdout"
        },
        {
          "output_type": "stream",
          "text": [
            " 16%|█▌        | 397/2461 [00:51<04:49,  7.14it/s]"
          ],
          "name": "stderr"
        },
        {
          "output_type": "stream",
          "text": [
            "TraderNet bought:  $ 55.782856\n",
            "TraderNet sold:  $ 56.678570  Profit: $ 0.895714\n"
          ],
          "name": "stdout"
        },
        {
          "output_type": "stream",
          "text": [
            " 16%|█▌        | 399/2461 [00:51<04:38,  7.41it/s]"
          ],
          "name": "stderr"
        },
        {
          "output_type": "stream",
          "text": [
            "TraderNet bought:  $ 55.558571\n",
            "TraderNet bought:  $ 56.081429\n"
          ],
          "name": "stdout"
        },
        {
          "output_type": "stream",
          "text": [
            " 16%|█▋        | 401/2461 [00:52<04:47,  7.17it/s]"
          ],
          "name": "stderr"
        },
        {
          "output_type": "stream",
          "text": [
            "TraderNet bought:  $ 53.910000\n",
            "TraderNet sold:  $ 53.374287  Profit: - $ 2.184284\n"
          ],
          "name": "stdout"
        },
        {
          "output_type": "stream",
          "text": [
            " 16%|█▋        | 403/2461 [00:52<04:47,  7.16it/s]"
          ],
          "name": "stderr"
        },
        {
          "output_type": "stream",
          "text": [
            "TraderNet bought:  $ 50.458572\n",
            "TraderNet sold:  $ 53.430000  Profit: - $ 2.651428\n"
          ],
          "name": "stdout"
        },
        {
          "output_type": "stream",
          "text": [
            " 16%|█▋        | 405/2461 [00:52<04:48,  7.13it/s]"
          ],
          "name": "stderr"
        },
        {
          "output_type": "stream",
          "text": [
            "TraderNet bought:  $ 51.955715\n",
            "TraderNet sold:  $ 53.385715  Profit: - $ 0.524284\n"
          ],
          "name": "stdout"
        },
        {
          "output_type": "stream",
          "text": [
            " 17%|█▋        | 407/2461 [00:52<04:52,  7.03it/s]"
          ],
          "name": "stderr"
        },
        {
          "output_type": "stream",
          "text": [
            "TraderNet bought:  $ 53.855713\n",
            "TraderNet sold:  $ 54.772858  Profit: $ 4.314285\n"
          ],
          "name": "stdout"
        },
        {
          "output_type": "stream",
          "text": [
            " 17%|█▋        | 409/2461 [00:53<04:55,  6.94it/s]"
          ],
          "name": "stderr"
        },
        {
          "output_type": "stream",
          "text": [
            "TraderNet bought:  $ 54.354286\n",
            "TraderNet bought:  $ 54.348572\n"
          ],
          "name": "stdout"
        },
        {
          "output_type": "stream",
          "text": [
            " 17%|█▋        | 411/2461 [00:53<05:00,  6.83it/s]"
          ],
          "name": "stderr"
        },
        {
          "output_type": "stream",
          "text": [
            "TraderNet bought:  $ 52.292858\n",
            "TraderNet sold:  $ 50.861427  Profit: - $ 1.094288\n"
          ],
          "name": "stdout"
        },
        {
          "output_type": "stream",
          "text": [
            " 17%|█▋        | 413/2461 [00:53<05:09,  6.62it/s]"
          ],
          "name": "stderr"
        },
        {
          "output_type": "stream",
          "text": [
            "TraderNet sold:  $ 50.919998  Profit: - $ 2.935715\n",
            "TraderNet sold:  $ 53.371429  Profit: - $ 0.982857\n"
          ],
          "name": "stdout"
        },
        {
          "output_type": "stream",
          "text": [
            " 17%|█▋        | 415/2461 [00:54<05:07,  6.65it/s]"
          ],
          "name": "stderr"
        },
        {
          "output_type": "stream",
          "text": [
            "TraderNet sold:  $ 53.740002  Profit: - $ 0.608570\n",
            "TraderNet bought:  $ 53.388573\n"
          ],
          "name": "stdout"
        },
        {
          "output_type": "stream",
          "text": [
            " 17%|█▋        | 417/2461 [00:54<05:12,  6.54it/s]"
          ],
          "name": "stderr"
        },
        {
          "output_type": "stream",
          "text": [
            "TraderNet bought:  $ 54.797142\n",
            "TraderNet sold:  $ 55.709999  Profit: $ 3.417141\n"
          ],
          "name": "stdout"
        },
        {
          "output_type": "stream",
          "text": [
            " 17%|█▋        | 419/2461 [00:54<05:03,  6.73it/s]"
          ],
          "name": "stderr"
        },
        {
          "output_type": "stream",
          "text": [
            "TraderNet sold:  $ 55.712856  Profit: $ 2.324284\n",
            "TraderNet bought:  $ 54.975716\n"
          ],
          "name": "stdout"
        },
        {
          "output_type": "stream",
          "text": [
            " 17%|█▋        | 421/2461 [00:55<05:11,  6.55it/s]"
          ],
          "name": "stderr"
        },
        {
          "output_type": "stream",
          "text": [
            "TraderNet sold:  $ 54.432858  Profit: - $ 0.364285\n",
            "TraderNet sold:  $ 53.435715  Profit: - $ 1.540001\n"
          ],
          "name": "stdout"
        },
        {
          "output_type": "stream",
          "text": [
            " 17%|█▋        | 424/2461 [00:55<05:06,  6.65it/s]"
          ],
          "name": "stderr"
        },
        {
          "output_type": "stream",
          "text": [
            "TraderNet bought:  $ 54.847141\n",
            "TraderNet bought:  $ 54.877144\n"
          ],
          "name": "stdout"
        },
        {
          "output_type": "stream",
          "text": [
            " 17%|█▋        | 426/2461 [00:55<04:57,  6.84it/s]"
          ],
          "name": "stderr"
        },
        {
          "output_type": "stream",
          "text": [
            "TraderNet bought:  $ 53.925713\n",
            "TraderNet sold:  $ 54.277142  Profit: - $ 0.570000\n"
          ],
          "name": "stdout"
        },
        {
          "output_type": "stream",
          "text": [
            " 17%|█▋        | 429/2461 [00:56<05:03,  6.69it/s]"
          ],
          "name": "stderr"
        },
        {
          "output_type": "stream",
          "text": [
            "TraderNet sold:  $ 55.614285  Profit: $ 0.737141\n",
            "TraderNet bought:  $ 56.137142\n"
          ],
          "name": "stdout"
        },
        {
          "output_type": "stream",
          "text": [
            " 18%|█▊        | 431/2461 [00:56<05:08,  6.57it/s]"
          ],
          "name": "stderr"
        },
        {
          "output_type": "stream",
          "text": [
            "TraderNet sold:  $ 57.214287  Profit: $ 3.288574\n",
            "TraderNet sold:  $ 58.804287  Profit: $ 2.667145\n"
          ],
          "name": "stdout"
        },
        {
          "output_type": "stream",
          "text": [
            " 19%|█▊        | 458/2461 [01:00<05:00,  6.66it/s]"
          ],
          "name": "stderr"
        },
        {
          "output_type": "stream",
          "text": [
            "TraderNet bought:  $ 56.824287\n",
            "TraderNet bought:  $ 57.228573\n"
          ],
          "name": "stdout"
        },
        {
          "output_type": "stream",
          "text": [
            " 19%|█▊        | 460/2461 [01:01<05:16,  6.32it/s]"
          ],
          "name": "stderr"
        },
        {
          "output_type": "stream",
          "text": [
            "TraderNet bought:  $ 57.812859\n",
            "TraderNet sold:  $ 57.849998  Profit: $ 1.025711\n"
          ],
          "name": "stdout"
        },
        {
          "output_type": "stream",
          "text": [
            " 19%|█▉        | 464/2461 [01:01<05:07,  6.49it/s]"
          ],
          "name": "stderr"
        },
        {
          "output_type": "stream",
          "text": [
            "TraderNet sold:  $ 56.772858  Profit: - $ 0.455715\n",
            "TraderNet sold:  $ 57.581429  Profit: - $ 0.231430\n"
          ],
          "name": "stdout"
        },
        {
          "output_type": "stream",
          "text": [
            " 19%|█▉        | 466/2461 [01:01<05:09,  6.45it/s]"
          ],
          "name": "stderr"
        },
        {
          "output_type": "stream",
          "text": [
            "TraderNet bought:  $ 57.177143\n",
            "TraderNet bought:  $ 57.104286\n"
          ],
          "name": "stdout"
        },
        {
          "output_type": "stream",
          "text": [
            " 19%|█▉        | 468/2461 [01:02<05:06,  6.50it/s]"
          ],
          "name": "stderr"
        },
        {
          "output_type": "stream",
          "text": [
            "TraderNet bought:  $ 58.032856\n"
          ],
          "name": "stdout"
        },
        {
          "output_type": "stream",
          "text": [
            " 19%|█▉        | 472/2461 [01:02<04:51,  6.82it/s]"
          ],
          "name": "stderr"
        },
        {
          "output_type": "stream",
          "text": [
            "TraderNet sold:  $ 54.180000  Profit: - $ 2.997143\n",
            "TraderNet sold:  $ 55.547142  Profit: - $ 1.557144\n"
          ],
          "name": "stdout"
        },
        {
          "output_type": "stream",
          "text": [
            " 19%|█▉        | 474/2461 [01:03<04:57,  6.68it/s]"
          ],
          "name": "stderr"
        },
        {
          "output_type": "stream",
          "text": [
            "TraderNet bought:  $ 54.967144\n",
            "TraderNet sold:  $ 53.915714  Profit: - $ 4.117142\n"
          ],
          "name": "stdout"
        },
        {
          "output_type": "stream",
          "text": [
            " 19%|█▉        | 477/2461 [01:03<04:52,  6.79it/s]"
          ],
          "name": "stderr"
        },
        {
          "output_type": "stream",
          "text": [
            "TraderNet sold:  $ 52.715714  Profit: - $ 2.251431\n"
          ],
          "name": "stdout"
        },
        {
          "output_type": "stream",
          "text": [
            " 19%|█▉        | 479/2461 [01:03<04:42,  7.00it/s]"
          ],
          "name": "stderr"
        },
        {
          "output_type": "stream",
          "text": [
            "TraderNet bought:  $ 52.427143\n"
          ],
          "name": "stdout"
        },
        {
          "output_type": "stream",
          "text": [
            " 20%|█▉        | 481/2461 [01:04<04:37,  7.13it/s]"
          ],
          "name": "stderr"
        },
        {
          "output_type": "stream",
          "text": [
            "TraderNet sold:  $ 53.731430  Profit: $ 1.304287\n"
          ],
          "name": "stdout"
        },
        {
          "output_type": "stream",
          "text": [
            " 20%|█▉        | 484/2461 [01:04<04:30,  7.31it/s]"
          ],
          "name": "stderr"
        },
        {
          "output_type": "stream",
          "text": [
            "TraderNet bought:  $ 55.418571\n",
            "TraderNet sold:  $ 55.671429  Profit: $ 0.252857\n"
          ],
          "name": "stdout"
        },
        {
          "output_type": "stream",
          "text": [
            " 20%|█▉        | 492/2461 [01:05<04:24,  7.44it/s]"
          ],
          "name": "stderr"
        },
        {
          "output_type": "stream",
          "text": [
            "TraderNet bought:  $ 55.544285\n"
          ],
          "name": "stdout"
        },
        {
          "output_type": "stream",
          "text": [
            " 20%|██        | 494/2461 [01:05<04:27,  7.35it/s]"
          ],
          "name": "stderr"
        },
        {
          "output_type": "stream",
          "text": [
            "TraderNet sold:  $ 54.134285  Profit: - $ 1.410000\n"
          ],
          "name": "stdout"
        },
        {
          "output_type": "stream",
          "text": [
            " 20%|██        | 496/2461 [01:06<04:35,  7.13it/s]"
          ],
          "name": "stderr"
        },
        {
          "output_type": "stream",
          "text": [
            "TraderNet bought:  $ 54.601429\n",
            "TraderNet sold:  $ 56.564285  Profit: $ 1.962856\n"
          ],
          "name": "stdout"
        },
        {
          "output_type": "stream",
          "text": [
            " 20%|██        | 498/2461 [01:06<04:32,  7.20it/s]"
          ],
          "name": "stderr"
        },
        {
          "output_type": "stream",
          "text": [
            "TraderNet bought:  $ 56.635715\n",
            "TraderNet sold:  $ 56.935715  Profit: $ 0.299999\n"
          ],
          "name": "stdout"
        },
        {
          "output_type": "stream",
          "text": [
            " 21%|██        | 516/2461 [01:08<04:19,  7.48it/s]"
          ],
          "name": "stderr"
        },
        {
          "output_type": "stream",
          "text": [
            "TraderNet bought:  $ 61.107143\n",
            "TraderNet bought:  $ 60.042858\n"
          ],
          "name": "stdout"
        },
        {
          "output_type": "stream",
          "text": [
            " 21%|██        | 518/2461 [01:09<04:32,  7.13it/s]"
          ],
          "name": "stderr"
        },
        {
          "output_type": "stream",
          "text": [
            "TraderNet sold:  $ 61.058571  Profit: - $ 0.048573\n",
            "TraderNet bought:  $ 60.058571\n"
          ],
          "name": "stdout"
        },
        {
          "output_type": "stream",
          "text": [
            " 21%|██        | 520/2461 [01:09<04:33,  7.10it/s]"
          ],
          "name": "stderr"
        },
        {
          "output_type": "stream",
          "text": [
            "TraderNet sold:  $ 63.808571  Profit: $ 3.765713\n",
            "TraderNet bought:  $ 63.518570\n"
          ],
          "name": "stdout"
        },
        {
          "output_type": "stream",
          "text": [
            " 21%|██▏       | 523/2461 [01:09<04:27,  7.25it/s]"
          ],
          "name": "stderr"
        },
        {
          "output_type": "stream",
          "text": [
            "TraderNet sold:  $ 64.715714  Profit: $ 4.657143\n",
            "TraderNet sold:  $ 65.211426  Profit: $ 1.692856\n"
          ],
          "name": "stdout"
        },
        {
          "output_type": "stream",
          "text": [
            " 21%|██▏       | 525/2461 [01:10<04:28,  7.22it/s]"
          ],
          "name": "stderr"
        },
        {
          "output_type": "stream",
          "text": [
            "TraderNet bought:  $ 65.169998\n",
            "TraderNet bought:  $ 65.017143\n"
          ],
          "name": "stdout"
        },
        {
          "output_type": "stream",
          "text": [
            " 21%|██▏       | 527/2461 [01:10<04:24,  7.31it/s]"
          ],
          "name": "stderr"
        },
        {
          "output_type": "stream",
          "text": [
            "TraderNet bought:  $ 65.668571\n",
            "TraderNet sold:  $ 66.281425  Profit: $ 1.111427\n"
          ],
          "name": "stdout"
        },
        {
          "output_type": "stream",
          "text": [
            " 21%|██▏       | 529/2461 [01:10<04:22,  7.37it/s]"
          ],
          "name": "stderr"
        },
        {
          "output_type": "stream",
          "text": [
            "TraderNet bought:  $ 66.975716\n",
            "TraderNet bought:  $ 68.097145\n"
          ],
          "name": "stdout"
        },
        {
          "output_type": "stream",
          "text": [
            " 22%|██▏       | 531/2461 [01:11<04:24,  7.28it/s]"
          ],
          "name": "stderr"
        },
        {
          "output_type": "stream",
          "text": [
            "TraderNet sold:  $ 70.452858  Profit: $ 5.435715\n",
            "TraderNet bought:  $ 70.488571\n"
          ],
          "name": "stdout"
        },
        {
          "output_type": "stream",
          "text": [
            " 22%|██▏       | 533/2461 [01:11<04:31,  7.10it/s]"
          ],
          "name": "stderr"
        },
        {
          "output_type": "stream",
          "text": [
            "TraderNet bought:  $ 71.800003\n",
            "TraderNet bought:  $ 72.779999\n"
          ],
          "name": "stdout"
        },
        {
          "output_type": "stream",
          "text": [
            " 22%|██▏       | 535/2461 [01:11<04:22,  7.33it/s]"
          ],
          "name": "stderr"
        },
        {
          "output_type": "stream",
          "text": [
            "TraderNet bought:  $ 71.095711\n",
            "TraderNet bought:  $ 71.744286\n"
          ],
          "name": "stdout"
        },
        {
          "output_type": "stream",
          "text": [
            " 22%|██▏       | 537/2461 [01:11<04:22,  7.34it/s]"
          ],
          "name": "stderr"
        },
        {
          "output_type": "stream",
          "text": [
            "TraderNet bought:  $ 71.731430\n",
            "TraderNet sold:  $ 73.550003  Profit: $ 7.881432\n"
          ],
          "name": "stdout"
        },
        {
          "output_type": "stream",
          "text": [
            " 22%|██▏       | 539/2461 [01:12<04:27,  7.19it/s]"
          ],
          "name": "stderr"
        },
        {
          "output_type": "stream",
          "text": [
            "TraderNet sold:  $ 73.291428  Profit: $ 6.315712\n",
            "TraderNet sold:  $ 73.769997  Profit: $ 5.672852\n"
          ],
          "name": "stdout"
        },
        {
          "output_type": "stream",
          "text": [
            " 22%|██▏       | 541/2461 [01:12<04:30,  7.10it/s]"
          ],
          "name": "stderr"
        },
        {
          "output_type": "stream",
          "text": [
            "TraderNet sold:  $ 74.629997  Profit: $ 4.141426\n",
            "TraderNet sold:  $ 75.108574  Profit: $ 3.308571\n"
          ],
          "name": "stdout"
        },
        {
          "output_type": "stream",
          "text": [
            " 22%|██▏       | 543/2461 [01:12<04:31,  7.06it/s]"
          ],
          "name": "stderr"
        },
        {
          "output_type": "stream",
          "text": [
            "TraderNet sold:  $ 76.487144  Profit: $ 3.707146\n",
            "TraderNet sold:  $ 77.491432  Profit: $ 6.395721\n"
          ],
          "name": "stdout"
        },
        {
          "output_type": "stream",
          "text": [
            " 22%|██▏       | 545/2461 [01:13<04:23,  7.26it/s]"
          ],
          "name": "stderr"
        },
        {
          "output_type": "stream",
          "text": [
            "TraderNet bought:  $ 77.781425\n",
            "TraderNet sold:  $ 77.882858  Profit: $ 6.138573\n"
          ],
          "name": "stdout"
        },
        {
          "output_type": "stream",
          "text": [
            " 22%|██▏       | 547/2461 [01:13<04:23,  7.26it/s]"
          ],
          "name": "stderr"
        },
        {
          "output_type": "stream",
          "text": [
            "TraderNet sold:  $ 76.165718  Profit: $ 4.434288\n",
            "TraderNet sold:  $ 75.751427  Profit: - $ 2.029999\n"
          ],
          "name": "stdout"
        },
        {
          "output_type": "stream",
          "text": [
            " 23%|██▎       | 572/2461 [01:16<04:15,  7.38it/s]"
          ],
          "name": "stderr"
        },
        {
          "output_type": "stream",
          "text": [
            "TraderNet bought:  $ 89.777145\n",
            "TraderNet bought:  $ 89.457146\n"
          ],
          "name": "stdout"
        },
        {
          "output_type": "stream",
          "text": [
            " 23%|██▎       | 574/2461 [01:16<04:14,  7.41it/s]"
          ],
          "name": "stderr"
        },
        {
          "output_type": "stream",
          "text": [
            "TraderNet bought:  $ 88.967140\n",
            "TraderNet bought:  $ 86.461426\n"
          ],
          "name": "stdout"
        },
        {
          "output_type": "stream",
          "text": [
            " 23%|██▎       | 576/2461 [01:17<04:12,  7.46it/s]"
          ],
          "name": "stderr"
        },
        {
          "output_type": "stream",
          "text": [
            "TraderNet bought:  $ 82.875717\n",
            "TraderNet bought:  $ 87.099998\n"
          ],
          "name": "stdout"
        },
        {
          "output_type": "stream",
          "text": [
            " 23%|██▎       | 578/2461 [01:17<04:19,  7.27it/s]"
          ],
          "name": "stderr"
        },
        {
          "output_type": "stream",
          "text": [
            "TraderNet bought:  $ 86.905716\n",
            "TraderNet bought:  $ 83.919998\n"
          ],
          "name": "stdout"
        },
        {
          "output_type": "stream",
          "text": [
            " 24%|██▎       | 580/2461 [01:17<04:19,  7.26it/s]"
          ],
          "name": "stderr"
        },
        {
          "output_type": "stream",
          "text": [
            "TraderNet bought:  $ 81.854286\n",
            "TraderNet bought:  $ 81.671425\n"
          ],
          "name": "stdout"
        },
        {
          "output_type": "stream",
          "text": [
            " 24%|██▎       | 582/2461 [01:18<04:23,  7.12it/s]"
          ],
          "name": "stderr"
        },
        {
          "output_type": "stream",
          "text": [
            "TraderNet sold:  $ 80.040001  Profit: - $ 9.737144\n",
            "TraderNet sold:  $ 87.142860  Profit: - $ 2.314285\n"
          ],
          "name": "stdout"
        },
        {
          "output_type": "stream",
          "text": [
            " 24%|██▎       | 584/2461 [01:18<04:20,  7.21it/s]"
          ],
          "name": "stderr"
        },
        {
          "output_type": "stream",
          "text": [
            "TraderNet sold:  $ 86.814285  Profit: - $ 2.152855\n"
          ],
          "name": "stdout"
        },
        {
          "output_type": "stream",
          "text": [
            " 24%|██▍       | 586/2461 [01:18<04:11,  7.47it/s]"
          ],
          "name": "stderr"
        },
        {
          "output_type": "stream",
          "text": [
            "TraderNet sold:  $ 83.425713  Profit: - $ 3.035713\n",
            "TraderNet sold:  $ 83.161430  Profit: $ 0.285713\n"
          ],
          "name": "stdout"
        },
        {
          "output_type": "stream",
          "text": [
            " 24%|██▍       | 588/2461 [01:18<04:12,  7.41it/s]"
          ],
          "name": "stderr"
        },
        {
          "output_type": "stream",
          "text": [
            "TraderNet sold:  $ 83.711426  Profit: - $ 3.388573\n",
            "TraderNet sold:  $ 83.117142  Profit: - $ 3.788574\n"
          ],
          "name": "stdout"
        },
        {
          "output_type": "stream",
          "text": [
            " 24%|██▍       | 590/2461 [01:19<04:26,  7.01it/s]"
          ],
          "name": "stderr"
        },
        {
          "output_type": "stream",
          "text": [
            "TraderNet sold:  $ 80.750000  Profit: - $ 3.169998\n",
            "TraderNet bought:  $ 81.354286\n"
          ],
          "name": "stdout"
        },
        {
          "output_type": "stream",
          "text": [
            " 24%|██▍       | 592/2461 [01:19<04:25,  7.03it/s]"
          ],
          "name": "stderr"
        },
        {
          "output_type": "stream",
          "text": [
            "TraderNet sold:  $ 81.168571  Profit: - $ 0.685715\n",
            "TraderNet sold:  $ 81.311432  Profit: - $ 0.359993\n"
          ],
          "name": "stdout"
        },
        {
          "output_type": "stream",
          "text": [
            " 24%|██▍       | 594/2461 [01:19<04:23,  7.07it/s]"
          ],
          "name": "stderr"
        },
        {
          "output_type": "stream",
          "text": [
            "TraderNet sold:  $ 81.502853  Profit: $ 0.148567\n",
            "TraderNet bought:  $ 80.958572\n"
          ],
          "name": "stdout"
        },
        {
          "output_type": "stream",
          "text": [
            " 24%|██▍       | 596/2461 [01:19<04:19,  7.19it/s]"
          ],
          "name": "stderr"
        },
        {
          "output_type": "stream",
          "text": [
            "TraderNet bought:  $ 79.745712\n",
            "TraderNet bought:  $ 79.024284\n"
          ],
          "name": "stdout"
        },
        {
          "output_type": "stream",
          "text": [
            " 24%|██▍       | 598/2461 [01:20<04:18,  7.21it/s]"
          ],
          "name": "stderr"
        },
        {
          "output_type": "stream",
          "text": [
            "TraderNet bought:  $ 78.011429\n",
            "TraderNet bought:  $ 75.731430\n"
          ],
          "name": "stdout"
        },
        {
          "output_type": "stream",
          "text": [
            " 24%|██▍       | 600/2461 [01:20<04:18,  7.20it/s]"
          ],
          "name": "stderr"
        },
        {
          "output_type": "stream",
          "text": [
            "TraderNet bought:  $ 75.768570\n",
            "TraderNet sold:  $ 80.182854  Profit: - $ 0.775719\n"
          ],
          "name": "stdout"
        },
        {
          "output_type": "stream",
          "text": [
            " 24%|██▍       | 602/2461 [01:20<04:17,  7.23it/s]"
          ],
          "name": "stderr"
        },
        {
          "output_type": "stream",
          "text": [
            "TraderNet sold:  $ 79.567146  Profit: - $ 0.178566\n",
            "TraderNet sold:  $ 81.508568  Profit: $ 2.484283\n"
          ],
          "name": "stdout"
        },
        {
          "output_type": "stream",
          "text": [
            " 25%|██▍       | 604/2461 [01:21<04:22,  7.08it/s]"
          ],
          "name": "stderr"
        },
        {
          "output_type": "stream",
          "text": [
            "TraderNet sold:  $ 80.760002  Profit: $ 2.748573\n",
            "TraderNet bought:  $ 80.327141\n"
          ],
          "name": "stdout"
        },
        {
          "output_type": "stream",
          "text": [
            " 25%|██▍       | 606/2461 [01:21<04:22,  7.07it/s]"
          ],
          "name": "stderr"
        },
        {
          "output_type": "stream",
          "text": [
            "TraderNet sold:  $ 81.752853  Profit: $ 6.021423\n",
            "TraderNet sold:  $ 82.738571  Profit: $ 6.970001\n"
          ],
          "name": "stdout"
        },
        {
          "output_type": "stream",
          "text": [
            " 25%|██▍       | 608/2461 [01:21<04:15,  7.26it/s]"
          ],
          "name": "stderr"
        },
        {
          "output_type": "stream",
          "text": [
            "TraderNet sold:  $ 82.532860  Profit: $ 2.205719\n"
          ],
          "name": "stdout"
        },
        {
          "output_type": "stream",
          "text": [
            " 26%|██▌       | 628/2461 [01:24<04:08,  7.37it/s]"
          ],
          "name": "stderr"
        },
        {
          "output_type": "stream",
          "text": [
            "TraderNet bought:  $ 81.292854\n",
            "TraderNet sold:  $ 83.428574  Profit: $ 2.135719\n"
          ],
          "name": "stdout"
        },
        {
          "output_type": "stream",
          "text": [
            " 26%|██▌       | 631/2461 [01:24<04:10,  7.29it/s]"
          ],
          "name": "stderr"
        },
        {
          "output_type": "stream",
          "text": [
            "TraderNet bought:  $ 85.629997\n",
            "TraderNet sold:  $ 87.134285  Profit: $ 1.504288\n"
          ],
          "name": "stdout"
        },
        {
          "output_type": "stream",
          "text": [
            " 26%|██▌       | 633/2461 [01:25<04:13,  7.22it/s]"
          ],
          "name": "stderr"
        },
        {
          "output_type": "stream",
          "text": [
            "TraderNet bought:  $ 86.554283\n",
            "TraderNet bought:  $ 87.698570\n"
          ],
          "name": "stdout"
        },
        {
          "output_type": "stream",
          "text": [
            " 26%|██▌       | 635/2461 [01:25<04:27,  6.82it/s]"
          ],
          "name": "stderr"
        },
        {
          "output_type": "stream",
          "text": [
            "TraderNet bought:  $ 86.887146\n",
            "TraderNet bought:  $ 86.347145\n"
          ],
          "name": "stdout"
        },
        {
          "output_type": "stream",
          "text": [
            " 26%|██▌       | 637/2461 [01:25<04:25,  6.87it/s]"
          ],
          "name": "stderr"
        },
        {
          "output_type": "stream",
          "text": [
            "TraderNet bought:  $ 85.557144\n",
            "TraderNet bought:  $ 86.424286\n"
          ],
          "name": "stdout"
        },
        {
          "output_type": "stream",
          "text": [
            " 26%|██▌       | 639/2461 [01:25<04:16,  7.10it/s]"
          ],
          "name": "stderr"
        },
        {
          "output_type": "stream",
          "text": [
            "TraderNet bought:  $ 86.701431\n",
            "TraderNet bought:  $ 86.705711\n"
          ],
          "name": "stdout"
        },
        {
          "output_type": "stream",
          "text": [
            " 26%|██▌       | 641/2461 [01:26<04:18,  7.03it/s]"
          ],
          "name": "stderr"
        },
        {
          "output_type": "stream",
          "text": [
            "TraderNet bought:  $ 86.608574\n",
            "TraderNet bought:  $ 87.760002\n"
          ],
          "name": "stdout"
        },
        {
          "output_type": "stream",
          "text": [
            " 26%|██▌       | 643/2461 [01:26<04:13,  7.17it/s]"
          ],
          "name": "stderr"
        },
        {
          "output_type": "stream",
          "text": [
            "TraderNet bought:  $ 86.328575\n",
            "TraderNet bought:  $ 86.261429\n"
          ],
          "name": "stdout"
        },
        {
          "output_type": "stream",
          "text": [
            " 26%|██▌       | 645/2461 [01:26<04:13,  7.16it/s]"
          ],
          "name": "stderr"
        },
        {
          "output_type": "stream",
          "text": [
            "TraderNet bought:  $ 85.845711\n",
            "TraderNet bought:  $ 82.138573\n"
          ],
          "name": "stdout"
        },
        {
          "output_type": "stream",
          "text": [
            " 26%|██▋       | 647/2461 [01:27<04:17,  7.05it/s]"
          ],
          "name": "stderr"
        },
        {
          "output_type": "stream",
          "text": [
            "TraderNet sold:  $ 82.125717  Profit: - $ 4.428566\n",
            "TraderNet sold:  $ 83.594284  Profit: - $ 4.104286\n"
          ],
          "name": "stdout"
        },
        {
          "output_type": "stream",
          "text": [
            " 26%|██▋       | 649/2461 [01:27<04:22,  6.91it/s]"
          ],
          "name": "stderr"
        },
        {
          "output_type": "stream",
          "text": [
            "TraderNet sold:  $ 85.004288  Profit: - $ 1.882858\n",
            "TraderNet sold:  $ 87.251427  Profit: $ 0.904282\n"
          ],
          "name": "stdout"
        },
        {
          "output_type": "stream",
          "text": [
            " 26%|██▋       | 651/2461 [01:27<04:22,  6.89it/s]"
          ],
          "name": "stderr"
        },
        {
          "output_type": "stream",
          "text": [
            "TraderNet sold:  $ 86.687141  Profit: $ 1.129997\n",
            "TraderNet sold:  $ 86.827141  Profit: $ 0.402855\n"
          ],
          "name": "stdout"
        },
        {
          "output_type": "stream",
          "text": [
            " 27%|██▋       | 653/2461 [01:27<04:13,  7.14it/s]"
          ],
          "name": "stderr"
        },
        {
          "output_type": "stream",
          "text": [
            "TraderNet sold:  $ 87.957146  Profit: $ 1.255714\n",
            "TraderNet sold:  $ 88.935715  Profit: $ 2.230003\n"
          ],
          "name": "stdout"
        },
        {
          "output_type": "stream",
          "text": [
            " 27%|██▋       | 655/2461 [01:28<04:18,  6.98it/s]"
          ],
          "name": "stderr"
        },
        {
          "output_type": "stream",
          "text": [
            "TraderNet sold:  $ 88.701431  Profit: $ 2.092857\n",
            "TraderNet bought:  $ 88.551430\n"
          ],
          "name": "stdout"
        },
        {
          "output_type": "stream",
          "text": [
            " 27%|██▋       | 657/2461 [01:28<04:15,  7.06it/s]"
          ],
          "name": "stderr"
        },
        {
          "output_type": "stream",
          "text": [
            "TraderNet sold:  $ 88.675713  Profit: $ 0.915710\n",
            "TraderNet sold:  $ 88.814285  Profit: $ 2.485710\n"
          ],
          "name": "stdout"
        },
        {
          "output_type": "stream",
          "text": [
            " 27%|██▋       | 659/2461 [01:28<04:11,  7.16it/s]"
          ],
          "name": "stderr"
        },
        {
          "output_type": "stream",
          "text": [
            "TraderNet sold:  $ 90.000000  Profit: $ 3.738571\n",
            "TraderNet sold:  $ 90.241432  Profit: $ 4.395721\n"
          ],
          "name": "stdout"
        },
        {
          "output_type": "stream",
          "text": [
            " 27%|██▋       | 661/2461 [01:29<04:15,  7.04it/s]"
          ],
          "name": "stderr"
        },
        {
          "output_type": "stream",
          "text": [
            "TraderNet sold:  $ 90.118568  Profit: $ 7.979996\n",
            "TraderNet sold:  $ 90.905716  Profit: $ 2.354286\n"
          ],
          "name": "stdout"
        },
        {
          "output_type": "stream",
          "text": [
            " 27%|██▋       | 674/2461 [01:30<04:08,  7.20it/s]"
          ],
          "name": "stderr"
        },
        {
          "output_type": "stream",
          "text": [
            "TraderNet bought:  $ 96.424286\n"
          ],
          "name": "stdout"
        },
        {
          "output_type": "stream",
          "text": [
            " 27%|██▋       | 676/2461 [01:31<04:08,  7.19it/s]"
          ],
          "name": "stderr"
        },
        {
          "output_type": "stream",
          "text": [
            "TraderNet sold:  $ 96.610001  Profit: $ 0.185715\n",
            "TraderNet bought:  $ 97.205711\n"
          ],
          "name": "stdout"
        },
        {
          "output_type": "stream",
          "text": [
            " 28%|██▊       | 678/2461 [01:31<04:12,  7.08it/s]"
          ],
          "name": "stderr"
        },
        {
          "output_type": "stream",
          "text": [
            "TraderNet sold:  $ 94.677139  Profit: - $ 2.528572\n"
          ],
          "name": "stdout"
        },
        {
          "output_type": "stream",
          "text": [
            " 28%|██▊       | 699/2461 [01:34<04:01,  7.29it/s]"
          ],
          "name": "stderr"
        },
        {
          "output_type": "stream",
          "text": [
            "TraderNet bought:  $ 90.835716\n",
            "TraderNet bought:  $ 91.558571\n"
          ],
          "name": "stdout"
        },
        {
          "output_type": "stream",
          "text": [
            " 28%|██▊       | 701/2461 [01:34<04:05,  7.17it/s]"
          ],
          "name": "stderr"
        },
        {
          "output_type": "stream",
          "text": [
            "TraderNet sold:  $ 89.728569  Profit: - $ 1.107147\n"
          ],
          "name": "stdout"
        },
        {
          "output_type": "stream",
          "text": [
            " 29%|██▊       | 703/2461 [01:34<04:08,  7.08it/s]"
          ],
          "name": "stderr"
        },
        {
          "output_type": "stream",
          "text": [
            "TraderNet sold:  $ 90.680000  Profit: - $ 0.878571\n"
          ],
          "name": "stdout"
        },
        {
          "output_type": "stream",
          "text": [
            " 29%|██▉       | 718/2461 [01:36<03:54,  7.43it/s]"
          ],
          "name": "stderr"
        },
        {
          "output_type": "stream",
          "text": [
            "TraderNet bought:  $ 79.714287\n",
            "TraderNet sold:  $ 76.821426  Profit: - $ 2.892860\n"
          ],
          "name": "stdout"
        },
        {
          "output_type": "stream",
          "text": [
            " 29%|██▉       | 724/2461 [01:37<03:56,  7.34it/s]"
          ],
          "name": "stderr"
        },
        {
          "output_type": "stream",
          "text": [
            "TraderNet bought:  $ 75.088570\n"
          ],
          "name": "stdout"
        },
        {
          "output_type": "stream",
          "text": [
            " 30%|██▉       | 726/2461 [01:37<03:59,  7.24it/s]"
          ],
          "name": "stderr"
        },
        {
          "output_type": "stream",
          "text": [
            "TraderNet sold:  $ 80.818573  Profit: $ 5.730003\n"
          ],
          "name": "stdout"
        },
        {
          "output_type": "stream",
          "text": [
            " 30%|██▉       | 737/2461 [01:39<03:52,  7.41it/s]"
          ],
          "name": "stderr"
        },
        {
          "output_type": "stream",
          "text": [
            "TraderNet bought:  $ 76.970001\n",
            "TraderNet sold:  $ 78.177139  Profit: $ 1.207138\n"
          ],
          "name": "stdout"
        },
        {
          "output_type": "stream",
          "text": [
            " 30%|███       | 748/2461 [01:40<03:56,  7.23it/s]"
          ],
          "name": "stderr"
        },
        {
          "output_type": "stream",
          "text": [
            "TraderNet bought:  $ 74.532860\n",
            "TraderNet bought:  $ 74.190002\n"
          ],
          "name": "stdout"
        },
        {
          "output_type": "stream",
          "text": [
            " 30%|███       | 750/2461 [01:41<03:52,  7.35it/s]"
          ],
          "name": "stderr"
        },
        {
          "output_type": "stream",
          "text": [
            "TraderNet bought:  $ 74.309998\n",
            "TraderNet bought:  $ 73.285713\n"
          ],
          "name": "stdout"
        },
        {
          "output_type": "stream",
          "text": [
            " 31%|███       | 752/2461 [01:41<03:53,  7.33it/s]"
          ],
          "name": "stderr"
        },
        {
          "output_type": "stream",
          "text": [
            "TraderNet sold:  $ 73.580002  Profit: - $ 0.952858\n"
          ],
          "name": "stdout"
        },
        {
          "output_type": "stream",
          "text": [
            " 31%|███       | 754/2461 [01:41<03:58,  7.17it/s]"
          ],
          "name": "stderr"
        },
        {
          "output_type": "stream",
          "text": [
            "TraderNet sold:  $ 76.024284  Profit: $ 1.834282\n",
            "TraderNet sold:  $ 78.432854  Profit: $ 4.122856\n"
          ],
          "name": "stdout"
        },
        {
          "output_type": "stream",
          "text": [
            " 31%|███       | 756/2461 [01:42<04:00,  7.10it/s]"
          ],
          "name": "stderr"
        },
        {
          "output_type": "stream",
          "text": [
            "TraderNet sold:  $ 77.442856  Profit: $ 4.157143\n",
            "TraderNet bought:  $ 75.285713\n"
          ],
          "name": "stdout"
        },
        {
          "output_type": "stream",
          "text": [
            " 31%|███       | 765/2461 [01:43<03:48,  7.41it/s]"
          ],
          "name": "stderr"
        },
        {
          "output_type": "stream",
          "text": [
            "TraderNet sold:  $ 72.298569  Profit: - $ 2.987144\n"
          ],
          "name": "stdout"
        },
        {
          "output_type": "stream",
          "text": [
            " 32%|███▏      | 778/2461 [01:45<03:47,  7.39it/s]"
          ],
          "name": "stderr"
        },
        {
          "output_type": "stream",
          "text": [
            "TraderNet bought:  $ 65.405716\n",
            "TraderNet sold:  $ 65.335716  Profit: - $ 0.070000\n"
          ],
          "name": "stdout"
        },
        {
          "output_type": "stream",
          "text": [
            " 32%|███▏      | 788/2461 [01:46<03:51,  7.24it/s]"
          ],
          "name": "stderr"
        },
        {
          "output_type": "stream",
          "text": [
            "TraderNet bought:  $ 64.121429\n",
            "TraderNet sold:  $ 63.722858  Profit: - $ 0.398571\n"
          ],
          "name": "stdout"
        },
        {
          "output_type": "stream",
          "text": [
            " 32%|███▏      | 792/2461 [01:47<03:49,  7.27it/s]"
          ],
          "name": "stderr"
        },
        {
          "output_type": "stream",
          "text": [
            "TraderNet bought:  $ 64.138573\n",
            "TraderNet bought:  $ 63.509998\n"
          ],
          "name": "stdout"
        },
        {
          "output_type": "stream",
          "text": [
            " 32%|███▏      | 794/2461 [01:47<03:51,  7.19it/s]"
          ],
          "name": "stderr"
        },
        {
          "output_type": "stream",
          "text": [
            "TraderNet bought:  $ 63.057144\n",
            "TraderNet bought:  $ 61.495716\n"
          ],
          "name": "stdout"
        },
        {
          "output_type": "stream",
          "text": [
            " 32%|███▏      | 796/2461 [01:47<03:54,  7.09it/s]"
          ],
          "name": "stderr"
        },
        {
          "output_type": "stream",
          "text": [
            "TraderNet bought:  $ 60.007141\n"
          ],
          "name": "stdout"
        },
        {
          "output_type": "stream",
          "text": [
            " 32%|███▏      | 798/2461 [01:47<03:49,  7.25it/s]"
          ],
          "name": "stderr"
        },
        {
          "output_type": "stream",
          "text": [
            "TraderNet sold:  $ 60.808571  Profit: - $ 3.330002\n"
          ],
          "name": "stdout"
        },
        {
          "output_type": "stream",
          "text": [
            " 33%|███▎      | 805/2461 [01:48<03:45,  7.34it/s]"
          ],
          "name": "stderr"
        },
        {
          "output_type": "stream",
          "text": [
            "TraderNet bought:  $ 63.380001\n"
          ],
          "name": "stdout"
        },
        {
          "output_type": "stream",
          "text": [
            " 33%|███▎      | 807/2461 [01:49<03:46,  7.30it/s]"
          ],
          "name": "stderr"
        },
        {
          "output_type": "stream",
          "text": [
            "TraderNet bought:  $ 64.927139\n"
          ],
          "name": "stdout"
        },
        {
          "output_type": "stream",
          "text": [
            " 33%|███▎      | 809/2461 [01:49<03:46,  7.28it/s]"
          ],
          "name": "stderr"
        },
        {
          "output_type": "stream",
          "text": [
            "TraderNet bought:  $ 64.675713\n"
          ],
          "name": "stdout"
        },
        {
          "output_type": "stream",
          "text": [
            " 33%|███▎      | 811/2461 [01:49<03:48,  7.22it/s]"
          ],
          "name": "stderr"
        },
        {
          "output_type": "stream",
          "text": [
            "TraderNet sold:  $ 66.225716  Profit: $ 2.715717\n",
            "TraderNet bought:  $ 65.877144\n"
          ],
          "name": "stdout"
        },
        {
          "output_type": "stream",
          "text": [
            " 33%|███▎      | 813/2461 [01:49<03:55,  7.01it/s]"
          ],
          "name": "stderr"
        },
        {
          "output_type": "stream",
          "text": [
            "TraderNet sold:  $ 64.582855  Profit: $ 1.525711\n",
            "TraderNet bought:  $ 63.237144\n"
          ],
          "name": "stdout"
        },
        {
          "output_type": "stream",
          "text": [
            " 33%|███▎      | 815/2461 [01:50<03:56,  6.96it/s]"
          ],
          "name": "stderr"
        },
        {
          "output_type": "stream",
          "text": [
            "TraderNet sold:  $ 61.272858  Profit: - $ 0.222858\n",
            "TraderNet sold:  $ 61.398571  Profit: $ 1.391430\n"
          ],
          "name": "stdout"
        },
        {
          "output_type": "stream",
          "text": [
            " 33%|███▎      | 817/2461 [01:50<03:50,  7.13it/s]"
          ],
          "name": "stderr"
        },
        {
          "output_type": "stream",
          "text": [
            "TraderNet sold:  $ 61.712856  Profit: - $ 1.667145\n",
            "TraderNet sold:  $ 61.102856  Profit: - $ 3.824284\n"
          ],
          "name": "stdout"
        },
        {
          "output_type": "stream",
          "text": [
            " 33%|███▎      | 821/2461 [01:51<03:49,  7.14it/s]"
          ],
          "name": "stderr"
        },
        {
          "output_type": "stream",
          "text": [
            "TraderNet sold:  $ 60.997143  Profit: - $ 3.678570\n",
            "TraderNet sold:  $ 62.241428  Profit: - $ 3.635715\n"
          ],
          "name": "stdout"
        },
        {
          "output_type": "stream",
          "text": [
            " 33%|███▎      | 823/2461 [01:51<03:48,  7.17it/s]"
          ],
          "name": "stderr"
        },
        {
          "output_type": "stream",
          "text": [
            "TraderNet sold:  $ 62.047142  Profit: - $ 1.190002\n"
          ],
          "name": "stdout"
        },
        {
          "output_type": "stream",
          "text": [
            " 34%|███▍      | 844/2461 [01:54<03:43,  7.22it/s]"
          ],
          "name": "stderr"
        },
        {
          "output_type": "stream",
          "text": [
            "TraderNet bought:  $ 64.709999\n"
          ],
          "name": "stdout"
        },
        {
          "output_type": "stream",
          "text": [
            " 34%|███▍      | 846/2461 [01:54<03:41,  7.30it/s]"
          ],
          "name": "stderr"
        },
        {
          "output_type": "stream",
          "text": [
            "TraderNet bought:  $ 63.408573\n",
            "TraderNet sold:  $ 61.264286  Profit: - $ 3.445713\n"
          ],
          "name": "stdout"
        },
        {
          "output_type": "stream",
          "text": [
            " 35%|███▍      | 852/2461 [01:55<03:33,  7.53it/s]"
          ],
          "name": "stderr"
        },
        {
          "output_type": "stream",
          "text": [
            "TraderNet bought:  $ 63.049999\n",
            "TraderNet sold:  $ 63.162857  Profit: - $ 0.245716\n"
          ],
          "name": "stdout"
        },
        {
          "output_type": "stream",
          "text": [
            " 35%|███▍      | 854/2461 [01:55<03:43,  7.17it/s]"
          ],
          "name": "stderr"
        },
        {
          "output_type": "stream",
          "text": [
            "TraderNet sold:  $ 63.592857  Profit: $ 0.542858\n"
          ],
          "name": "stdout"
        },
        {
          "output_type": "stream",
          "text": [
            " 35%|███▌      | 867/2461 [01:57<03:41,  7.20it/s]"
          ],
          "name": "stderr"
        },
        {
          "output_type": "stream",
          "text": [
            "TraderNet bought:  $ 62.279999\n",
            "TraderNet sold:  $ 61.435715  Profit: - $ 0.844284\n"
          ],
          "name": "stdout"
        },
        {
          "output_type": "stream",
          "text": [
            " 36%|███▌      | 887/2461 [02:00<03:32,  7.41it/s]"
          ],
          "name": "stderr"
        },
        {
          "output_type": "stream",
          "text": [
            "TraderNet bought:  $ 60.930000\n",
            "TraderNet bought:  $ 61.062859\n"
          ],
          "name": "stdout"
        },
        {
          "output_type": "stream",
          "text": [
            " 36%|███▌      | 889/2461 [02:00<03:38,  7.18it/s]"
          ],
          "name": "stderr"
        },
        {
          "output_type": "stream",
          "text": [
            "TraderNet sold:  $ 61.457142  Profit: $ 0.527142\n",
            "TraderNet sold:  $ 61.472858  Profit: $ 0.410000\n"
          ],
          "name": "stdout"
        },
        {
          "output_type": "stream",
          "text": [
            " 37%|███▋      | 909/2461 [02:03<03:33,  7.26it/s]"
          ],
          "name": "stderr"
        },
        {
          "output_type": "stream",
          "text": [
            "TraderNet bought:  $ 69.938568\n",
            "TraderNet sold:  $ 71.214287  Profit: $ 1.275719\n"
          ],
          "name": "stdout"
        },
        {
          "output_type": "stream",
          "text": [
            " 37%|███▋      | 916/2461 [02:04<03:32,  7.26it/s]"
          ],
          "name": "stderr"
        },
        {
          "output_type": "stream",
          "text": [
            "TraderNet bought:  $ 71.851425\n",
            "TraderNet bought:  $ 71.574287\n"
          ],
          "name": "stdout"
        },
        {
          "output_type": "stream",
          "text": [
            " 37%|███▋      | 918/2461 [02:04<03:36,  7.11it/s]"
          ],
          "name": "stderr"
        },
        {
          "output_type": "stream",
          "text": [
            "TraderNet bought:  $ 71.852859\n",
            "TraderNet bought:  $ 69.798569\n"
          ],
          "name": "stdout"
        },
        {
          "output_type": "stream",
          "text": [
            " 37%|███▋      | 920/2461 [02:04<03:34,  7.19it/s]"
          ],
          "name": "stderr"
        },
        {
          "output_type": "stream",
          "text": [
            "TraderNet sold:  $ 70.128571  Profit: - $ 1.722855\n",
            "TraderNet sold:  $ 70.242859  Profit: - $ 1.331429\n"
          ],
          "name": "stdout"
        },
        {
          "output_type": "stream",
          "text": [
            " 37%|███▋      | 922/2461 [02:05<03:32,  7.26it/s]"
          ],
          "name": "stderr"
        },
        {
          "output_type": "stream",
          "text": [
            "TraderNet sold:  $ 69.602859  Profit: - $ 2.250000\n",
            "TraderNet sold:  $ 69.797142  Profit: - $ 0.001427\n"
          ],
          "name": "stdout"
        },
        {
          "output_type": "stream",
          "text": [
            " 38%|███▊      | 928/2461 [02:05<03:30,  7.28it/s]"
          ],
          "name": "stderr"
        },
        {
          "output_type": "stream",
          "text": [
            "TraderNet bought:  $ 70.662857\n",
            "TraderNet sold:  $ 66.815712  Profit: - $ 3.847145\n"
          ],
          "name": "stdout"
        },
        {
          "output_type": "stream",
          "text": [
            " 38%|███▊      | 931/2461 [02:06<03:36,  7.07it/s]"
          ],
          "name": "stderr"
        },
        {
          "output_type": "stream",
          "text": [
            "TraderNet bought:  $ 66.414284\n",
            "TraderNet bought:  $ 64.302856\n"
          ],
          "name": "stdout"
        },
        {
          "output_type": "stream",
          "text": [
            " 38%|███▊      | 933/2461 [02:06<03:33,  7.16it/s]"
          ],
          "name": "stderr"
        },
        {
          "output_type": "stream",
          "text": [
            "TraderNet sold:  $ 65.045715  Profit: - $ 1.368568\n",
            "TraderNet sold:  $ 66.382858  Profit: $ 2.080002\n"
          ],
          "name": "stdout"
        },
        {
          "output_type": "stream",
          "text": [
            " 39%|███▉      | 963/2461 [02:10<03:29,  7.14it/s]"
          ],
          "name": "stderr"
        },
        {
          "output_type": "stream",
          "text": [
            "TraderNet bought:  $ 73.811432\n",
            "TraderNet sold:  $ 74.985718  Profit: $ 1.174286\n"
          ],
          "name": "stdout"
        },
        {
          "output_type": "stream",
          "text": [
            " 39%|███▉      | 965/2461 [02:11<03:28,  7.18it/s]"
          ],
          "name": "stderr"
        },
        {
          "output_type": "stream",
          "text": [
            "TraderNet bought:  $ 74.671425\n",
            "TraderNet bought:  $ 74.290001\n"
          ],
          "name": "stdout"
        },
        {
          "output_type": "stream",
          "text": [
            " 39%|███▉      | 967/2461 [02:11<03:30,  7.10it/s]"
          ],
          "name": "stderr"
        },
        {
          "output_type": "stream",
          "text": [
            "TraderNet bought:  $ 75.250000\n",
            "TraderNet bought:  $ 75.064285\n"
          ],
          "name": "stdout"
        },
        {
          "output_type": "stream",
          "text": [
            " 39%|███▉      | 969/2461 [02:11<03:30,  7.08it/s]"
          ],
          "name": "stderr"
        },
        {
          "output_type": "stream",
          "text": [
            "TraderNet sold:  $ 74.417145  Profit: - $ 0.254280\n",
            "TraderNet sold:  $ 73.212860  Profit: - $ 1.077141\n"
          ],
          "name": "stdout"
        },
        {
          "output_type": "stream",
          "text": [
            " 39%|███▉      | 971/2461 [02:11<03:30,  7.09it/s]"
          ],
          "name": "stderr"
        },
        {
          "output_type": "stream",
          "text": [
            "TraderNet sold:  $ 74.365715  Profit: - $ 0.884285\n",
            "TraderNet sold:  $ 74.150002  Profit: - $ 0.914284\n"
          ],
          "name": "stdout"
        },
        {
          "output_type": "stream",
          "text": [
            " 40%|████      | 991/2461 [02:14<03:26,  7.13it/s]"
          ],
          "name": "stderr"
        },
        {
          "output_type": "stream",
          "text": [
            "TraderNet bought:  $ 80.918571\n",
            "TraderNet sold:  $ 80.792854  Profit: - $ 0.125717\n"
          ],
          "name": "stdout"
        },
        {
          "output_type": "stream",
          "text": [
            " 40%|████      | 995/2461 [02:15<03:21,  7.26it/s]"
          ],
          "name": "stderr"
        },
        {
          "output_type": "stream",
          "text": [
            "TraderNet bought:  $ 79.204285\n",
            "TraderNet sold:  $ 79.642860  Profit: $ 0.438576\n"
          ],
          "name": "stdout"
        },
        {
          "output_type": "stream",
          "text": [
            " 41%|████      | 997/2461 [02:15<03:25,  7.13it/s]"
          ],
          "name": "stderr"
        },
        {
          "output_type": "stream",
          "text": [
            "TraderNet bought:  $ 79.284286\n",
            "TraderNet sold:  $ 78.681427  Profit: - $ 0.602859\n"
          ],
          "name": "stdout"
        },
        {
          "output_type": "stream",
          "text": [
            " 42%|████▏     | 1022/2461 [02:18<03:19,  7.22it/s]"
          ],
          "name": "stderr"
        },
        {
          "output_type": "stream",
          "text": [
            "TraderNet bought:  $ 78.010002\n",
            "TraderNet sold:  $ 78.642860  Profit: $ 0.632858\n"
          ],
          "name": "stdout"
        },
        {
          "output_type": "stream",
          "text": [
            " 42%|████▏     | 1024/2461 [02:19<03:21,  7.13it/s]"
          ],
          "name": "stderr"
        },
        {
          "output_type": "stream",
          "text": [
            "TraderNet bought:  $ 72.357140\n",
            "TraderNet sold:  $ 71.535713  Profit: - $ 0.821426\n"
          ],
          "name": "stdout"
        },
        {
          "output_type": "stream",
          "text": [
            " 42%|████▏     | 1026/2461 [02:19<03:21,  7.13it/s]"
          ],
          "name": "stderr"
        },
        {
          "output_type": "stream",
          "text": [
            "TraderNet bought:  $ 71.397141\n",
            "TraderNet sold:  $ 71.514282  Profit: $ 0.117142\n"
          ],
          "name": "stdout"
        },
        {
          "output_type": "stream",
          "text": [
            " 42%|████▏     | 1028/2461 [02:19<03:24,  7.01it/s]"
          ],
          "name": "stderr"
        },
        {
          "output_type": "stream",
          "text": [
            "TraderNet bought:  $ 71.647141\n",
            "TraderNet sold:  $ 72.684288  Profit: $ 1.037148\n"
          ],
          "name": "stdout"
        },
        {
          "output_type": "stream",
          "text": [
            " 42%|████▏     | 1036/2461 [02:20<03:20,  7.12it/s]"
          ],
          "name": "stderr"
        },
        {
          "output_type": "stream",
          "text": [
            "TraderNet bought:  $ 77.775711\n",
            "TraderNet bought:  $ 77.712860\n"
          ],
          "name": "stdout"
        },
        {
          "output_type": "stream",
          "text": [
            " 42%|████▏     | 1038/2461 [02:21<03:22,  7.04it/s]"
          ],
          "name": "stderr"
        },
        {
          "output_type": "stream",
          "text": [
            "TraderNet bought:  $ 77.998573\n",
            "TraderNet bought:  $ 76.767143\n"
          ],
          "name": "stdout"
        },
        {
          "output_type": "stream",
          "text": [
            " 42%|████▏     | 1040/2461 [02:21<03:16,  7.24it/s]"
          ],
          "name": "stderr"
        },
        {
          "output_type": "stream",
          "text": [
            "TraderNet bought:  $ 75.878571\n",
            "TraderNet bought:  $ 75.035713\n"
          ],
          "name": "stdout"
        },
        {
          "output_type": "stream",
          "text": [
            " 42%|████▏     | 1042/2461 [02:21<03:15,  7.24it/s]"
          ],
          "name": "stderr"
        },
        {
          "output_type": "stream",
          "text": [
            "TraderNet bought:  $ 75.364288\n",
            "TraderNet bought:  $ 74.580002\n"
          ],
          "name": "stdout"
        },
        {
          "output_type": "stream",
          "text": [
            " 42%|████▏     | 1044/2461 [02:22<03:15,  7.23it/s]"
          ],
          "name": "stderr"
        },
        {
          "output_type": "stream",
          "text": [
            "TraderNet sold:  $ 73.907143  Profit: - $ 3.868568\n",
            "TraderNet bought:  $ 75.381432\n"
          ],
          "name": "stdout"
        },
        {
          "output_type": "stream",
          "text": [
            " 43%|████▎     | 1046/2461 [02:22<03:19,  7.10it/s]"
          ],
          "name": "stderr"
        },
        {
          "output_type": "stream",
          "text": [
            "TraderNet bought:  $ 75.177139\n",
            "TraderNet bought:  $ 75.394287\n"
          ],
          "name": "stdout"
        },
        {
          "output_type": "stream",
          "text": [
            " 43%|████▎     | 1048/2461 [02:22<03:18,  7.13it/s]"
          ],
          "name": "stderr"
        },
        {
          "output_type": "stream",
          "text": [
            "TraderNet bought:  $ 75.891426\n",
            "TraderNet bought:  $ 76.051430\n"
          ],
          "name": "stdout"
        },
        {
          "output_type": "stream",
          "text": [
            " 43%|████▎     | 1050/2461 [02:22<03:19,  7.08it/s]"
          ],
          "name": "stderr"
        },
        {
          "output_type": "stream",
          "text": [
            "TraderNet sold:  $ 75.821426  Profit: - $ 1.891434\n",
            "TraderNet bought:  $ 75.777145\n"
          ],
          "name": "stdout"
        },
        {
          "output_type": "stream",
          "text": [
            " 43%|████▎     | 1052/2461 [02:23<03:18,  7.10it/s]"
          ],
          "name": "stderr"
        },
        {
          "output_type": "stream",
          "text": [
            "TraderNet bought:  $ 75.845711\n",
            "TraderNet sold:  $ 76.584282  Profit: - $ 1.414291\n"
          ],
          "name": "stdout"
        },
        {
          "output_type": "stream",
          "text": [
            " 43%|████▎     | 1054/2461 [02:23<03:14,  7.25it/s]"
          ],
          "name": "stderr"
        },
        {
          "output_type": "stream",
          "text": [
            "TraderNet bought:  $ 76.658569\n",
            "TraderNet bought:  $ 75.807144\n"
          ],
          "name": "stdout"
        },
        {
          "output_type": "stream",
          "text": [
            " 43%|████▎     | 1056/2461 [02:23<03:14,  7.23it/s]"
          ],
          "name": "stderr"
        },
        {
          "output_type": "stream",
          "text": [
            "TraderNet bought:  $ 74.955711\n",
            "TraderNet sold:  $ 75.248573  Profit: - $ 1.518570\n"
          ],
          "name": "stdout"
        },
        {
          "output_type": "stream",
          "text": [
            " 43%|████▎     | 1059/2461 [02:24<03:11,  7.32it/s]"
          ],
          "name": "stderr"
        },
        {
          "output_type": "stream",
          "text": [
            "TraderNet bought:  $ 75.894287\n",
            "TraderNet bought:  $ 75.528572\n"
          ],
          "name": "stdout"
        },
        {
          "output_type": "stream",
          "text": [
            " 43%|████▎     | 1061/2461 [02:24<03:12,  7.28it/s]"
          ],
          "name": "stderr"
        },
        {
          "output_type": "stream",
          "text": [
            "TraderNet sold:  $ 76.124283  Profit: $ 0.245712\n"
          ],
          "name": "stdout"
        },
        {
          "output_type": "stream",
          "text": [
            " 43%|████▎     | 1063/2461 [02:24<03:18,  7.05it/s]"
          ],
          "name": "stderr"
        },
        {
          "output_type": "stream",
          "text": [
            "TraderNet sold:  $ 77.855713  Profit: $ 2.820000\n",
            "TraderNet sold:  $ 77.111427  Profit: $ 1.747139\n"
          ],
          "name": "stdout"
        },
        {
          "output_type": "stream",
          "text": [
            " 43%|████▎     | 1065/2461 [02:24<03:18,  7.05it/s]"
          ],
          "name": "stderr"
        },
        {
          "output_type": "stream",
          "text": [
            "TraderNet sold:  $ 76.779999  Profit: $ 2.199997\n",
            "TraderNet sold:  $ 76.694283  Profit: $ 1.312851\n"
          ],
          "name": "stdout"
        },
        {
          "output_type": "stream",
          "text": [
            " 43%|████▎     | 1067/2461 [02:25<03:20,  6.96it/s]"
          ],
          "name": "stderr"
        },
        {
          "output_type": "stream",
          "text": [
            "TraderNet sold:  $ 76.677139  Profit: $ 1.500000\n",
            "TraderNet sold:  $ 77.378571  Profit: $ 1.984283\n"
          ],
          "name": "stdout"
        },
        {
          "output_type": "stream",
          "text": [
            " 43%|████▎     | 1069/2461 [02:25<03:19,  6.98it/s]"
          ],
          "name": "stderr"
        },
        {
          "output_type": "stream",
          "text": [
            "TraderNet sold:  $ 77.507141  Profit: $ 1.615715\n",
            "TraderNet sold:  $ 76.970001  Profit: $ 0.918571\n"
          ],
          "name": "stdout"
        },
        {
          "output_type": "stream",
          "text": [
            " 44%|████▎     | 1071/2461 [02:25<03:22,  6.87it/s]"
          ],
          "name": "stderr"
        },
        {
          "output_type": "stream",
          "text": [
            "TraderNet sold:  $ 75.974289  Profit: $ 0.197144\n",
            "TraderNet sold:  $ 74.781425  Profit: - $ 1.064285\n"
          ],
          "name": "stdout"
        },
        {
          "output_type": "stream",
          "text": [
            " 44%|████▎     | 1073/2461 [02:26<03:18,  7.00it/s]"
          ],
          "name": "stderr"
        },
        {
          "output_type": "stream",
          "text": [
            "TraderNet sold:  $ 74.777145  Profit: - $ 1.881424\n",
            "TraderNet sold:  $ 75.760002  Profit: - $ 0.047142\n"
          ],
          "name": "stdout"
        },
        {
          "output_type": "stream",
          "text": [
            " 44%|████▎     | 1075/2461 [02:26<03:18,  6.97it/s]"
          ],
          "name": "stderr"
        },
        {
          "output_type": "stream",
          "text": [
            "TraderNet sold:  $ 74.782860  Profit: - $ 0.172852\n",
            "TraderNet sold:  $ 74.230003  Profit: - $ 1.664284\n"
          ],
          "name": "stdout"
        },
        {
          "output_type": "stream",
          "text": [
            " 44%|████▍     | 1077/2461 [02:26<03:27,  6.68it/s]"
          ],
          "name": "stderr"
        },
        {
          "output_type": "stream",
          "text": [
            "TraderNet sold:  $ 74.525711  Profit: - $ 1.002861\n"
          ],
          "name": "stdout"
        },
        {
          "output_type": "stream",
          "text": [
            " 44%|████▍     | 1094/2461 [02:29<03:19,  6.87it/s]"
          ],
          "name": "stderr"
        },
        {
          "output_type": "stream",
          "text": [
            "TraderNet bought:  $ 83.998573\n",
            "TraderNet bought:  $ 83.648575\n"
          ],
          "name": "stdout"
        },
        {
          "output_type": "stream",
          "text": [
            " 45%|████▍     | 1096/2461 [02:29<03:18,  6.87it/s]"
          ],
          "name": "stderr"
        },
        {
          "output_type": "stream",
          "text": [
            "TraderNet bought:  $ 84.690002\n",
            "TraderNet bought:  $ 84.822861\n"
          ],
          "name": "stdout"
        },
        {
          "output_type": "stream",
          "text": [
            " 45%|████▍     | 1098/2461 [02:29<03:16,  6.93it/s]"
          ],
          "name": "stderr"
        },
        {
          "output_type": "stream",
          "text": [
            "TraderNet bought:  $ 84.838570\n",
            "TraderNet bought:  $ 84.117142\n"
          ],
          "name": "stdout"
        },
        {
          "output_type": "stream",
          "text": [
            " 45%|████▍     | 1100/2461 [02:30<03:19,  6.82it/s]"
          ],
          "name": "stderr"
        },
        {
          "output_type": "stream",
          "text": [
            "TraderNet bought:  $ 85.358574\n",
            "TraderNet bought:  $ 86.370003\n"
          ],
          "name": "stdout"
        },
        {
          "output_type": "stream",
          "text": [
            " 45%|████▍     | 1102/2461 [02:30<03:19,  6.81it/s]"
          ],
          "name": "stderr"
        },
        {
          "output_type": "stream",
          "text": [
            "TraderNet bought:  $ 86.387146\n",
            "TraderNet bought:  $ 86.615715\n"
          ],
          "name": "stdout"
        },
        {
          "output_type": "stream",
          "text": [
            " 45%|████▍     | 1104/2461 [02:30<03:14,  6.97it/s]"
          ],
          "name": "stderr"
        },
        {
          "output_type": "stream",
          "text": [
            "TraderNet bought:  $ 86.752853\n",
            "TraderNet bought:  $ 87.732857\n"
          ],
          "name": "stdout"
        },
        {
          "output_type": "stream",
          "text": [
            " 45%|████▍     | 1106/2461 [02:30<03:09,  7.14it/s]"
          ],
          "name": "stderr"
        },
        {
          "output_type": "stream",
          "text": [
            "TraderNet bought:  $ 89.375717\n",
            "TraderNet bought:  $ 89.144287\n"
          ],
          "name": "stdout"
        },
        {
          "output_type": "stream",
          "text": [
            " 45%|████▌     | 1108/2461 [02:31<03:16,  6.89it/s]"
          ],
          "name": "stderr"
        },
        {
          "output_type": "stream",
          "text": [
            "TraderNet bought:  $ 90.768570\n",
            "TraderNet bought:  $ 90.428574\n"
          ],
          "name": "stdout"
        },
        {
          "output_type": "stream",
          "text": [
            " 45%|████▌     | 1110/2461 [02:31<03:16,  6.89it/s]"
          ],
          "name": "stderr"
        },
        {
          "output_type": "stream",
          "text": [
            "TraderNet bought:  $ 89.807144\n",
            "TraderNet bought:  $ 91.077141\n"
          ],
          "name": "stdout"
        },
        {
          "output_type": "stream",
          "text": [
            " 45%|████▌     | 1112/2461 [02:31<03:15,  6.89it/s]"
          ],
          "name": "stderr"
        },
        {
          "output_type": "stream",
          "text": [
            "TraderNet bought:  $ 92.117142\n",
            "TraderNet bought:  $ 92.478569\n"
          ],
          "name": "stdout"
        },
        {
          "output_type": "stream",
          "text": [
            " 45%|████▌     | 1114/2461 [02:32<03:17,  6.81it/s]"
          ],
          "name": "stderr"
        },
        {
          "output_type": "stream",
          "text": [
            "TraderNet sold:  $ 92.224289  Profit: $ 8.225716\n",
            "TraderNet sold:  $ 93.699997  Profit: $ 10.051422\n"
          ],
          "name": "stdout"
        },
        {
          "output_type": "stream",
          "text": [
            " 45%|████▌     | 1116/2461 [02:32<03:17,  6.82it/s]"
          ],
          "name": "stderr"
        },
        {
          "output_type": "stream",
          "text": [
            "TraderNet sold:  $ 94.250000  Profit: $ 9.559998\n",
            "TraderNet sold:  $ 93.860001  Profit: $ 9.037140\n"
          ],
          "name": "stdout"
        },
        {
          "output_type": "stream",
          "text": [
            " 45%|████▌     | 1118/2461 [02:32<03:12,  6.98it/s]"
          ],
          "name": "stderr"
        },
        {
          "output_type": "stream",
          "text": [
            "TraderNet sold:  $ 92.290001  Profit: $ 7.451431\n",
            "TraderNet sold:  $ 91.279999  Profit: $ 7.162857\n"
          ],
          "name": "stdout"
        },
        {
          "output_type": "stream",
          "text": [
            " 46%|████▌     | 1120/2461 [02:32<03:12,  6.95it/s]"
          ],
          "name": "stderr"
        },
        {
          "output_type": "stream",
          "text": [
            "TraderNet sold:  $ 92.199997  Profit: $ 6.841423\n",
            "TraderNet sold:  $ 92.080002  Profit: $ 5.709999\n"
          ],
          "name": "stdout"
        },
        {
          "output_type": "stream",
          "text": [
            " 46%|████▌     | 1122/2461 [02:33<03:15,  6.86it/s]"
          ],
          "name": "stderr"
        },
        {
          "output_type": "stream",
          "text": [
            "TraderNet sold:  $ 92.180000  Profit: $ 5.792854\n",
            "TraderNet sold:  $ 91.860001  Profit: $ 5.244286\n"
          ],
          "name": "stdout"
        },
        {
          "output_type": "stream",
          "text": [
            " 46%|████▌     | 1124/2461 [02:33<03:15,  6.86it/s]"
          ],
          "name": "stderr"
        },
        {
          "output_type": "stream",
          "text": [
            "TraderNet sold:  $ 90.910004  Profit: $ 4.157150\n",
            "TraderNet sold:  $ 90.830002  Profit: $ 3.097145\n"
          ],
          "name": "stdout"
        },
        {
          "output_type": "stream",
          "text": [
            " 46%|████▌     | 1126/2461 [02:33<03:17,  6.75it/s]"
          ],
          "name": "stderr"
        },
        {
          "output_type": "stream",
          "text": [
            "TraderNet sold:  $ 90.279999  Profit: $ 0.904282\n",
            "TraderNet sold:  $ 90.360001  Profit: $ 1.215714\n"
          ],
          "name": "stdout"
        },
        {
          "output_type": "stream",
          "text": [
            " 46%|████▌     | 1128/2461 [02:34<03:13,  6.87it/s]"
          ],
          "name": "stderr"
        },
        {
          "output_type": "stream",
          "text": [
            "TraderNet sold:  $ 90.900002  Profit: $ 0.131432\n",
            "TraderNet sold:  $ 91.980003  Profit: $ 1.551430\n"
          ],
          "name": "stdout"
        },
        {
          "output_type": "stream",
          "text": [
            " 46%|████▌     | 1130/2461 [02:34<03:11,  6.93it/s]"
          ],
          "name": "stderr"
        },
        {
          "output_type": "stream",
          "text": [
            "TraderNet sold:  $ 92.930000  Profit: $ 3.122856\n",
            "TraderNet sold:  $ 93.519997  Profit: $ 2.442856\n"
          ],
          "name": "stdout"
        },
        {
          "output_type": "stream",
          "text": [
            " 46%|████▌     | 1132/2461 [02:34<03:12,  6.89it/s]"
          ],
          "name": "stderr"
        },
        {
          "output_type": "stream",
          "text": [
            "TraderNet sold:  $ 93.480003  Profit: $ 1.362862\n",
            "TraderNet sold:  $ 94.029999  Profit: $ 1.551430\n"
          ],
          "name": "stdout"
        },
        {
          "output_type": "stream",
          "text": [
            " 47%|████▋     | 1149/2461 [02:37<03:09,  6.91it/s]"
          ],
          "name": "stderr"
        },
        {
          "output_type": "stream",
          "text": [
            "TraderNet bought:  $ 99.019997\n",
            "TraderNet bought:  $ 98.379997\n"
          ],
          "name": "stdout"
        },
        {
          "output_type": "stream",
          "text": [
            " 47%|████▋     | 1151/2461 [02:37<03:04,  7.09it/s]"
          ],
          "name": "stderr"
        },
        {
          "output_type": "stream",
          "text": [
            "TraderNet bought:  $ 98.150002\n",
            "TraderNet bought:  $ 95.599998\n"
          ],
          "name": "stdout"
        },
        {
          "output_type": "stream",
          "text": [
            " 47%|████▋     | 1153/2461 [02:37<03:00,  7.25it/s]"
          ],
          "name": "stderr"
        },
        {
          "output_type": "stream",
          "text": [
            "TraderNet bought:  $ 96.129997\n",
            "TraderNet bought:  $ 95.589996\n"
          ],
          "name": "stdout"
        },
        {
          "output_type": "stream",
          "text": [
            " 47%|████▋     | 1155/2461 [02:37<03:04,  7.07it/s]"
          ],
          "name": "stderr"
        },
        {
          "output_type": "stream",
          "text": [
            "TraderNet bought:  $ 95.120003\n",
            "TraderNet bought:  $ 94.959999\n"
          ],
          "name": "stdout"
        },
        {
          "output_type": "stream",
          "text": [
            " 47%|████▋     | 1157/2461 [02:38<03:08,  6.91it/s]"
          ],
          "name": "stderr"
        },
        {
          "output_type": "stream",
          "text": [
            "TraderNet bought:  $ 94.480003\n"
          ],
          "name": "stdout"
        },
        {
          "output_type": "stream",
          "text": [
            " 48%|████▊     | 1172/2461 [02:40<02:57,  7.26it/s]"
          ],
          "name": "stderr"
        },
        {
          "output_type": "stream",
          "text": [
            "TraderNet sold:  $ 102.250000  Profit: $ 3.230003\n",
            "TraderNet sold:  $ 102.500000  Profit: $ 4.120003\n"
          ],
          "name": "stdout"
        },
        {
          "output_type": "stream",
          "text": [
            " 48%|████▊     | 1174/2461 [02:40<03:02,  7.04it/s]"
          ],
          "name": "stderr"
        },
        {
          "output_type": "stream",
          "text": [
            "TraderNet sold:  $ 103.300003  Profit: $ 5.150002\n",
            "TraderNet sold:  $ 98.940002  Profit: $ 3.340004\n"
          ],
          "name": "stdout"
        },
        {
          "output_type": "stream",
          "text": [
            " 48%|████▊     | 1176/2461 [02:40<03:04,  6.95it/s]"
          ],
          "name": "stderr"
        },
        {
          "output_type": "stream",
          "text": [
            "TraderNet sold:  $ 98.120003  Profit: $ 1.990005\n",
            "TraderNet sold:  $ 98.970001  Profit: $ 3.380005\n"
          ],
          "name": "stdout"
        },
        {
          "output_type": "stream",
          "text": [
            " 48%|████▊     | 1178/2461 [02:41<03:03,  6.99it/s]"
          ],
          "name": "stderr"
        },
        {
          "output_type": "stream",
          "text": [
            "TraderNet sold:  $ 98.360001  Profit: $ 3.239998\n",
            "TraderNet sold:  $ 97.989998  Profit: $ 3.029999\n"
          ],
          "name": "stdout"
        },
        {
          "output_type": "stream",
          "text": [
            " 48%|████▊     | 1180/2461 [02:41<03:03,  6.98it/s]"
          ],
          "name": "stderr"
        },
        {
          "output_type": "stream",
          "text": [
            "TraderNet sold:  $ 101.000000  Profit: $ 6.519997\n"
          ],
          "name": "stdout"
        },
        {
          "output_type": "stream",
          "text": [
            " 49%|████▊     | 1195/2461 [02:43<02:53,  7.28it/s]"
          ],
          "name": "stderr"
        },
        {
          "output_type": "stream",
          "text": [
            "TraderNet bought:  $ 99.180000\n",
            "TraderNet bought:  $ 99.900002\n"
          ],
          "name": "stdout"
        },
        {
          "output_type": "stream",
          "text": [
            " 49%|████▊     | 1197/2461 [02:43<02:53,  7.28it/s]"
          ],
          "name": "stderr"
        },
        {
          "output_type": "stream",
          "text": [
            "TraderNet bought:  $ 99.620003\n",
            "TraderNet sold:  $ 99.620003  Profit: $ 0.440002\n"
          ],
          "name": "stdout"
        },
        {
          "output_type": "stream",
          "text": [
            " 49%|████▊     | 1199/2461 [02:44<02:57,  7.12it/s]"
          ],
          "name": "stderr"
        },
        {
          "output_type": "stream",
          "text": [
            "TraderNet sold:  $ 98.750000  Profit: - $ 1.150002\n",
            "TraderNet sold:  $ 100.800003  Profit: $ 1.180000\n"
          ],
          "name": "stdout"
        },
        {
          "output_type": "stream",
          "text": [
            " 49%|████▉     | 1217/2461 [02:46<02:57,  7.00it/s]"
          ],
          "name": "stderr"
        },
        {
          "output_type": "stream",
          "text": [
            "TraderNet bought:  $ 108.000000\n",
            "TraderNet sold:  $ 109.400002  Profit: $ 1.400002\n"
          ],
          "name": "stdout"
        },
        {
          "output_type": "stream",
          "text": [
            " 50%|████▉     | 1230/2461 [02:48<02:50,  7.22it/s]"
          ],
          "name": "stderr"
        },
        {
          "output_type": "stream",
          "text": [
            "TraderNet bought:  $ 114.669998\n",
            "TraderNet sold:  $ 116.309998  Profit: $ 1.639999\n"
          ],
          "name": "stdout"
        },
        {
          "output_type": "stream",
          "text": [
            " 51%|█████     | 1250/2461 [02:51<02:45,  7.32it/s]"
          ],
          "name": "stderr"
        },
        {
          "output_type": "stream",
          "text": [
            "TraderNet bought:  $ 112.650002\n",
            "TraderNet bought:  $ 111.779999\n"
          ],
          "name": "stdout"
        },
        {
          "output_type": "stream",
          "text": [
            " 51%|█████     | 1252/2461 [02:51<02:46,  7.24it/s]"
          ],
          "name": "stderr"
        },
        {
          "output_type": "stream",
          "text": [
            "TraderNet bought:  $ 112.940002\n",
            "TraderNet bought:  $ 112.540001\n"
          ],
          "name": "stdout"
        },
        {
          "output_type": "stream",
          "text": [
            " 51%|█████     | 1255/2461 [02:52<02:49,  7.12it/s]"
          ],
          "name": "stderr"
        },
        {
          "output_type": "stream",
          "text": [
            "TraderNet sold:  $ 113.989998  Profit: $ 1.339996\n",
            "TraderNet sold:  $ 113.910004  Profit: $ 2.130005\n"
          ],
          "name": "stdout"
        },
        {
          "output_type": "stream",
          "text": [
            " 51%|█████     | 1257/2461 [02:52<02:52,  7.00it/s]"
          ],
          "name": "stderr"
        },
        {
          "output_type": "stream",
          "text": [
            "TraderNet sold:  $ 112.519997  Profit: - $ 0.420006\n",
            "TraderNet sold:  $ 110.379997  Profit: - $ 2.160004\n"
          ],
          "name": "stdout"
        },
        {
          "output_type": "stream",
          "text": [
            " 51%|█████▏    | 1262/2461 [02:53<02:51,  6.98it/s]"
          ],
          "name": "stderr"
        },
        {
          "output_type": "stream",
          "text": [
            "TraderNet bought:  $ 107.750000\n",
            "TraderNet sold:  $ 111.889999  Profit: $ 4.139999\n"
          ],
          "name": "stdout"
        },
        {
          "output_type": "stream",
          "text": [
            " 52%|█████▏    | 1276/2461 [02:54<02:41,  7.34it/s]"
          ],
          "name": "stderr"
        },
        {
          "output_type": "stream",
          "text": [
            "TraderNet bought:  $ 115.309998\n",
            "TraderNet sold:  $ 118.900002  Profit: $ 3.590004\n"
          ],
          "name": "stdout"
        },
        {
          "output_type": "stream",
          "text": [
            " 52%|█████▏    | 1278/2461 [02:55<02:47,  7.08it/s]"
          ],
          "name": "stderr"
        },
        {
          "output_type": "stream",
          "text": [
            "TraderNet bought:  $ 117.160004\n",
            "TraderNet sold:  $ 118.629997  Profit: $ 1.469994\n"
          ],
          "name": "stdout"
        },
        {
          "output_type": "stream",
          "text": [
            " 52%|█████▏    | 1280/2461 [02:55<02:45,  7.14it/s]"
          ],
          "name": "stderr"
        },
        {
          "output_type": "stream",
          "text": [
            "TraderNet bought:  $ 118.650002\n"
          ],
          "name": "stdout"
        },
        {
          "output_type": "stream",
          "text": [
            " 52%|█████▏    | 1282/2461 [02:55<02:45,  7.13it/s]"
          ],
          "name": "stderr"
        },
        {
          "output_type": "stream",
          "text": [
            "TraderNet sold:  $ 119.940002  Profit: $ 1.290001\n"
          ],
          "name": "stdout"
        },
        {
          "output_type": "stream",
          "text": [
            " 52%|█████▏    | 1285/2461 [02:56<02:44,  7.15it/s]"
          ],
          "name": "stderr"
        },
        {
          "output_type": "stream",
          "text": [
            "TraderNet bought:  $ 122.019997\n",
            "TraderNet bought:  $ 124.879997\n"
          ],
          "name": "stdout"
        },
        {
          "output_type": "stream",
          "text": [
            " 52%|█████▏    | 1287/2461 [02:56<02:43,  7.20it/s]"
          ],
          "name": "stderr"
        },
        {
          "output_type": "stream",
          "text": [
            "TraderNet bought:  $ 126.459999\n",
            "TraderNet bought:  $ 127.080002\n"
          ],
          "name": "stdout"
        },
        {
          "output_type": "stream",
          "text": [
            " 52%|█████▏    | 1289/2461 [02:56<02:41,  7.25it/s]"
          ],
          "name": "stderr"
        },
        {
          "output_type": "stream",
          "text": [
            "TraderNet sold:  $ 127.830002  Profit: $ 5.810005\n",
            "TraderNet sold:  $ 128.720001  Profit: $ 3.840004\n"
          ],
          "name": "stdout"
        },
        {
          "output_type": "stream",
          "text": [
            " 52%|█████▏    | 1291/2461 [02:57<02:41,  7.24it/s]"
          ],
          "name": "stderr"
        },
        {
          "output_type": "stream",
          "text": [
            "TraderNet sold:  $ 128.449997  Profit: $ 1.989998\n",
            "TraderNet sold:  $ 129.500000  Profit: $ 2.419998\n"
          ],
          "name": "stdout"
        },
        {
          "output_type": "stream",
          "text": [
            " 53%|█████▎    | 1300/2461 [02:58<02:37,  7.39it/s]"
          ],
          "name": "stderr"
        },
        {
          "output_type": "stream",
          "text": [
            "TraderNet bought:  $ 128.539993\n",
            "TraderNet sold:  $ 126.410004  Profit: - $ 2.129990\n"
          ],
          "name": "stdout"
        },
        {
          "output_type": "stream",
          "text": [
            " 53%|█████▎    | 1304/2461 [02:58<02:33,  7.55it/s]"
          ],
          "name": "stderr"
        },
        {
          "output_type": "stream",
          "text": [
            "TraderNet bought:  $ 124.510002\n",
            "TraderNet sold:  $ 122.239998  Profit: - $ 2.270004\n"
          ],
          "name": "stdout"
        },
        {
          "output_type": "stream",
          "text": [
            " 53%|█████▎    | 1306/2461 [02:59<02:37,  7.33it/s]"
          ],
          "name": "stderr"
        },
        {
          "output_type": "stream",
          "text": [
            "TraderNet bought:  $ 124.449997\n",
            "TraderNet bought:  $ 123.589996\n"
          ],
          "name": "stdout"
        },
        {
          "output_type": "stream",
          "text": [
            " 53%|█████▎    | 1308/2461 [02:59<02:40,  7.18it/s]"
          ],
          "name": "stderr"
        },
        {
          "output_type": "stream",
          "text": [
            "TraderNet bought:  $ 124.949997\n",
            "TraderNet bought:  $ 127.040001\n"
          ],
          "name": "stdout"
        },
        {
          "output_type": "stream",
          "text": [
            " 53%|█████▎    | 1310/2461 [02:59<02:42,  7.10it/s]"
          ],
          "name": "stderr"
        },
        {
          "output_type": "stream",
          "text": [
            "TraderNet sold:  $ 128.470001  Profit: $ 4.020004\n",
            "TraderNet sold:  $ 127.500000  Profit: $ 3.910004\n"
          ],
          "name": "stdout"
        },
        {
          "output_type": "stream",
          "text": [
            " 53%|█████▎    | 1312/2461 [03:00<02:43,  7.04it/s]"
          ],
          "name": "stderr"
        },
        {
          "output_type": "stream",
          "text": [
            "TraderNet sold:  $ 125.900002  Profit: $ 0.950005\n",
            "TraderNet sold:  $ 127.209999  Profit: $ 0.169998\n"
          ],
          "name": "stdout"
        },
        {
          "output_type": "stream",
          "text": [
            " 53%|█████▎    | 1314/2461 [03:00<02:42,  7.07it/s]"
          ],
          "name": "stderr"
        },
        {
          "output_type": "stream",
          "text": [
            "TraderNet bought:  $ 126.690002\n",
            "TraderNet bought:  $ 123.379997\n"
          ],
          "name": "stdout"
        },
        {
          "output_type": "stream",
          "text": [
            " 53%|█████▎    | 1316/2461 [03:00<02:39,  7.19it/s]"
          ],
          "name": "stderr"
        },
        {
          "output_type": "stream",
          "text": [
            "TraderNet bought:  $ 124.239998\n",
            "TraderNet bought:  $ 123.250000\n"
          ],
          "name": "stdout"
        },
        {
          "output_type": "stream",
          "text": [
            " 54%|█████▎    | 1318/2461 [03:00<02:38,  7.22it/s]"
          ],
          "name": "stderr"
        },
        {
          "output_type": "stream",
          "text": [
            "TraderNet bought:  $ 126.370003\n",
            "TraderNet bought:  $ 124.430000\n"
          ],
          "name": "stdout"
        },
        {
          "output_type": "stream",
          "text": [
            " 54%|█████▎    | 1320/2461 [03:01<02:44,  6.96it/s]"
          ],
          "name": "stderr"
        },
        {
          "output_type": "stream",
          "text": [
            "TraderNet bought:  $ 124.250000\n",
            "TraderNet bought:  $ 125.320000\n"
          ],
          "name": "stdout"
        },
        {
          "output_type": "stream",
          "text": [
            " 54%|█████▎    | 1322/2461 [03:01<02:42,  7.00it/s]"
          ],
          "name": "stderr"
        },
        {
          "output_type": "stream",
          "text": [
            "TraderNet bought:  $ 127.349998\n",
            "TraderNet bought:  $ 126.010002\n"
          ],
          "name": "stdout"
        },
        {
          "output_type": "stream",
          "text": [
            " 54%|█████▍    | 1324/2461 [03:01<02:39,  7.14it/s]"
          ],
          "name": "stderr"
        },
        {
          "output_type": "stream",
          "text": [
            "TraderNet bought:  $ 125.599998\n",
            "TraderNet bought:  $ 126.559998\n"
          ],
          "name": "stdout"
        },
        {
          "output_type": "stream",
          "text": [
            " 54%|█████▍    | 1326/2461 [03:02<02:41,  7.01it/s]"
          ],
          "name": "stderr"
        },
        {
          "output_type": "stream",
          "text": [
            "TraderNet bought:  $ 127.099998\n",
            "TraderNet bought:  $ 126.849998\n"
          ],
          "name": "stdout"
        },
        {
          "output_type": "stream",
          "text": [
            " 54%|█████▍    | 1328/2461 [03:02<02:39,  7.10it/s]"
          ],
          "name": "stderr"
        },
        {
          "output_type": "stream",
          "text": [
            "TraderNet bought:  $ 126.300003\n",
            "TraderNet bought:  $ 126.779999\n"
          ],
          "name": "stdout"
        },
        {
          "output_type": "stream",
          "text": [
            " 54%|█████▍    | 1330/2461 [03:02<02:37,  7.17it/s]"
          ],
          "name": "stderr"
        },
        {
          "output_type": "stream",
          "text": [
            "TraderNet bought:  $ 126.169998\n",
            "TraderNet bought:  $ 124.750000\n"
          ],
          "name": "stdout"
        },
        {
          "output_type": "stream",
          "text": [
            " 54%|█████▍    | 1332/2461 [03:02<02:36,  7.19it/s]"
          ],
          "name": "stderr"
        },
        {
          "output_type": "stream",
          "text": [
            "TraderNet bought:  $ 127.599998\n",
            "TraderNet bought:  $ 126.910004\n"
          ],
          "name": "stdout"
        },
        {
          "output_type": "stream",
          "text": [
            " 54%|█████▍    | 1334/2461 [03:03<02:44,  6.87it/s]"
          ],
          "name": "stderr"
        },
        {
          "output_type": "stream",
          "text": [
            "TraderNet bought:  $ 128.619995\n",
            "TraderNet bought:  $ 129.669998\n"
          ],
          "name": "stdout"
        },
        {
          "output_type": "stream",
          "text": [
            " 54%|█████▍    | 1336/2461 [03:03<02:39,  7.04it/s]"
          ],
          "name": "stderr"
        },
        {
          "output_type": "stream",
          "text": [
            "TraderNet bought:  $ 130.279999\n",
            "TraderNet bought:  $ 132.649994\n"
          ],
          "name": "stdout"
        },
        {
          "output_type": "stream",
          "text": [
            " 54%|█████▍    | 1338/2461 [03:03<02:39,  7.06it/s]"
          ],
          "name": "stderr"
        },
        {
          "output_type": "stream",
          "text": [
            "TraderNet bought:  $ 130.559998\n",
            "TraderNet sold:  $ 128.639999  Profit: $ 1.949997\n"
          ],
          "name": "stdout"
        },
        {
          "output_type": "stream",
          "text": [
            " 54%|█████▍    | 1340/2461 [03:03<02:38,  7.08it/s]"
          ],
          "name": "stderr"
        },
        {
          "output_type": "stream",
          "text": [
            "TraderNet bought:  $ 125.150002\n",
            "TraderNet bought:  $ 128.949997\n"
          ],
          "name": "stdout"
        },
        {
          "output_type": "stream",
          "text": [
            " 55%|█████▍    | 1342/2461 [03:04<02:40,  6.98it/s]"
          ],
          "name": "stderr"
        },
        {
          "output_type": "stream",
          "text": [
            "TraderNet bought:  $ 128.699997\n",
            "TraderNet sold:  $ 125.800003  Profit: $ 2.420006\n"
          ],
          "name": "stdout"
        },
        {
          "output_type": "stream",
          "text": [
            " 55%|█████▍    | 1344/2461 [03:04<02:36,  7.14it/s]"
          ],
          "name": "stderr"
        },
        {
          "output_type": "stream",
          "text": [
            "TraderNet bought:  $ 125.010002\n",
            "TraderNet bought:  $ 125.260002\n"
          ],
          "name": "stdout"
        },
        {
          "output_type": "stream",
          "text": [
            " 55%|█████▍    | 1346/2461 [03:04<02:38,  7.04it/s]"
          ],
          "name": "stderr"
        },
        {
          "output_type": "stream",
          "text": [
            "TraderNet sold:  $ 127.620003  Profit: $ 3.380005\n",
            "TraderNet sold:  $ 126.320000  Profit: $ 3.070000\n"
          ],
          "name": "stdout"
        },
        {
          "output_type": "stream",
          "text": [
            " 55%|█████▍    | 1348/2461 [03:05<02:36,  7.11it/s]"
          ],
          "name": "stderr"
        },
        {
          "output_type": "stream",
          "text": [
            "TraderNet sold:  $ 125.870003  Profit: - $ 0.500000\n",
            "TraderNet bought:  $ 126.010002\n"
          ],
          "name": "stdout"
        },
        {
          "output_type": "stream",
          "text": [
            " 55%|█████▍    | 1350/2461 [03:05<02:38,  7.01it/s]"
          ],
          "name": "stderr"
        },
        {
          "output_type": "stream",
          "text": [
            "TraderNet bought:  $ 128.949997\n",
            "TraderNet sold:  $ 128.770004  Profit: $ 4.340004\n"
          ],
          "name": "stdout"
        },
        {
          "output_type": "stream",
          "text": [
            " 55%|█████▍    | 1352/2461 [03:05<02:38,  7.00it/s]"
          ],
          "name": "stderr"
        },
        {
          "output_type": "stream",
          "text": [
            "TraderNet sold:  $ 130.190002  Profit: $ 5.940002\n",
            "TraderNet sold:  $ 130.070007  Profit: $ 4.750008\n"
          ],
          "name": "stdout"
        },
        {
          "output_type": "stream",
          "text": [
            " 55%|█████▌    | 1354/2461 [03:05<02:36,  7.06it/s]"
          ],
          "name": "stderr"
        },
        {
          "output_type": "stream",
          "text": [
            "TraderNet sold:  $ 130.059998  Profit: $ 2.709999\n",
            "TraderNet sold:  $ 131.389999  Profit: $ 5.379997\n"
          ],
          "name": "stdout"
        },
        {
          "output_type": "stream",
          "text": [
            " 55%|█████▌    | 1356/2461 [03:06<02:36,  7.06it/s]"
          ],
          "name": "stderr"
        },
        {
          "output_type": "stream",
          "text": [
            "TraderNet sold:  $ 132.539993  Profit: $ 6.939995\n",
            "TraderNet sold:  $ 129.619995  Profit: $ 3.059998\n"
          ],
          "name": "stdout"
        },
        {
          "output_type": "stream",
          "text": [
            " 55%|█████▌    | 1358/2461 [03:06<02:32,  7.22it/s]"
          ],
          "name": "stderr"
        },
        {
          "output_type": "stream",
          "text": [
            "TraderNet sold:  $ 132.039993  Profit: $ 4.939995\n",
            "TraderNet sold:  $ 131.779999  Profit: $ 4.930000\n"
          ],
          "name": "stdout"
        },
        {
          "output_type": "stream",
          "text": [
            " 55%|█████▌    | 1360/2461 [03:06<02:37,  6.99it/s]"
          ],
          "name": "stderr"
        },
        {
          "output_type": "stream",
          "text": [
            "TraderNet sold:  $ 130.279999  Profit: $ 3.979996\n",
            "TraderNet sold:  $ 130.539993  Profit: $ 3.759995\n"
          ],
          "name": "stdout"
        },
        {
          "output_type": "stream",
          "text": [
            " 55%|█████▌    | 1362/2461 [03:07<02:34,  7.11it/s]"
          ],
          "name": "stderr"
        },
        {
          "output_type": "stream",
          "text": [
            "TraderNet sold:  $ 129.960007  Profit: $ 3.790009\n",
            "TraderNet sold:  $ 130.119995  Profit: $ 5.369995\n"
          ],
          "name": "stdout"
        },
        {
          "output_type": "stream",
          "text": [
            " 55%|█████▌    | 1364/2461 [03:07<02:34,  7.08it/s]"
          ],
          "name": "stderr"
        },
        {
          "output_type": "stream",
          "text": [
            "TraderNet sold:  $ 129.360001  Profit: $ 1.760002\n",
            "TraderNet sold:  $ 128.649994  Profit: $ 1.739990\n"
          ],
          "name": "stdout"
        },
        {
          "output_type": "stream",
          "text": [
            " 56%|█████▌    | 1366/2461 [03:07<02:40,  6.82it/s]"
          ],
          "name": "stderr"
        },
        {
          "output_type": "stream",
          "text": [
            "TraderNet sold:  $ 127.800003  Profit: - $ 0.819992\n",
            "TraderNet sold:  $ 127.419998  Profit: - $ 2.250000\n"
          ],
          "name": "stdout"
        },
        {
          "output_type": "stream",
          "text": [
            " 56%|█████▌    | 1368/2461 [03:07<02:36,  6.96it/s]"
          ],
          "name": "stderr"
        },
        {
          "output_type": "stream",
          "text": [
            "TraderNet sold:  $ 128.880005  Profit: - $ 1.399994\n",
            "TraderNet sold:  $ 128.589996  Profit: - $ 4.059998\n"
          ],
          "name": "stdout"
        },
        {
          "output_type": "stream",
          "text": [
            " 56%|█████▌    | 1370/2461 [03:08<02:35,  7.00it/s]"
          ],
          "name": "stderr"
        },
        {
          "output_type": "stream",
          "text": [
            "TraderNet sold:  $ 127.169998  Profit: - $ 3.389999\n",
            "TraderNet sold:  $ 126.919998  Profit: $ 1.769997\n"
          ],
          "name": "stdout"
        },
        {
          "output_type": "stream",
          "text": [
            " 56%|█████▌    | 1372/2461 [03:08<02:34,  7.07it/s]"
          ],
          "name": "stderr"
        },
        {
          "output_type": "stream",
          "text": [
            "TraderNet sold:  $ 127.599998  Profit: - $ 1.349998\n",
            "TraderNet sold:  $ 127.300003  Profit: - $ 1.399994\n"
          ],
          "name": "stdout"
        },
        {
          "output_type": "stream",
          "text": [
            " 56%|█████▌    | 1374/2461 [03:08<02:37,  6.88it/s]"
          ],
          "name": "stderr"
        },
        {
          "output_type": "stream",
          "text": [
            "TraderNet sold:  $ 127.879997  Profit: $ 2.869995\n",
            "TraderNet sold:  $ 126.599998  Profit: $ 1.339996\n"
          ],
          "name": "stdout"
        },
        {
          "output_type": "stream",
          "text": [
            " 56%|█████▌    | 1376/2461 [03:09<02:34,  7.04it/s]"
          ],
          "name": "stderr"
        },
        {
          "output_type": "stream",
          "text": [
            "TraderNet bought:  $ 127.610001\n",
            "TraderNet sold:  $ 127.029999  Profit: $ 1.019997\n"
          ],
          "name": "stdout"
        },
        {
          "output_type": "stream",
          "text": [
            " 56%|█████▌    | 1378/2461 [03:09<02:32,  7.12it/s]"
          ],
          "name": "stderr"
        },
        {
          "output_type": "stream",
          "text": [
            "TraderNet sold:  $ 128.110001  Profit: - $ 0.839996\n",
            "TraderNet sold:  $ 127.500000  Profit: - $ 0.110001\n"
          ],
          "name": "stdout"
        },
        {
          "output_type": "stream",
          "text": [
            " 56%|█████▌    | 1382/2461 [03:09<02:33,  7.03it/s]"
          ],
          "name": "stderr"
        },
        {
          "output_type": "stream",
          "text": [
            "TraderNet bought:  $ 125.430000\n",
            "TraderNet sold:  $ 126.599998  Profit: $ 1.169998\n"
          ],
          "name": "stdout"
        },
        {
          "output_type": "stream",
          "text": [
            " 56%|█████▋    | 1386/2461 [03:10<02:28,  7.23it/s]"
          ],
          "name": "stderr"
        },
        {
          "output_type": "stream",
          "text": [
            "TraderNet bought:  $ 125.690002\n",
            "TraderNet sold:  $ 122.570000  Profit: - $ 3.120003\n"
          ],
          "name": "stdout"
        },
        {
          "output_type": "stream",
          "text": [
            " 56%|█████▋    | 1389/2461 [03:10<02:30,  7.10it/s]"
          ],
          "name": "stderr"
        },
        {
          "output_type": "stream",
          "text": [
            "TraderNet bought:  $ 123.279999\n",
            "TraderNet bought:  $ 125.660004\n"
          ],
          "name": "stdout"
        },
        {
          "output_type": "stream",
          "text": [
            " 57%|█████▋    | 1391/2461 [03:11<02:32,  7.03it/s]"
          ],
          "name": "stderr"
        },
        {
          "output_type": "stream",
          "text": [
            "TraderNet sold:  $ 125.610001  Profit: $ 2.330002\n",
            "TraderNet sold:  $ 126.820000  Profit: $ 1.159996\n"
          ],
          "name": "stdout"
        },
        {
          "output_type": "stream",
          "text": [
            " 57%|█████▋    | 1398/2461 [03:12<02:30,  7.05it/s]"
          ],
          "name": "stderr"
        },
        {
          "output_type": "stream",
          "text": [
            "TraderNet bought:  $ 125.160004\n",
            "TraderNet bought:  $ 124.500000\n"
          ],
          "name": "stdout"
        },
        {
          "output_type": "stream",
          "text": [
            " 57%|█████▋    | 1400/2461 [03:12<02:28,  7.12it/s]"
          ],
          "name": "stderr"
        },
        {
          "output_type": "stream",
          "text": [
            "TraderNet bought:  $ 122.769997\n",
            "TraderNet bought:  $ 123.379997\n"
          ],
          "name": "stdout"
        },
        {
          "output_type": "stream",
          "text": [
            " 57%|█████▋    | 1402/2461 [03:12<02:28,  7.15it/s]"
          ],
          "name": "stderr"
        },
        {
          "output_type": "stream",
          "text": [
            "TraderNet bought:  $ 122.989998\n",
            "TraderNet bought:  $ 122.370003\n"
          ],
          "name": "stdout"
        },
        {
          "output_type": "stream",
          "text": [
            " 57%|█████▋    | 1404/2461 [03:13<02:25,  7.26it/s]"
          ],
          "name": "stderr"
        },
        {
          "output_type": "stream",
          "text": [
            "TraderNet bought:  $ 121.300003\n",
            "TraderNet sold:  $ 118.440002  Profit: - $ 6.720001\n"
          ],
          "name": "stdout"
        },
        {
          "output_type": "stream",
          "text": [
            " 57%|█████▋    | 1406/2461 [03:13<02:29,  7.06it/s]"
          ],
          "name": "stderr"
        },
        {
          "output_type": "stream",
          "text": [
            "TraderNet bought:  $ 114.639999\n",
            "TraderNet bought:  $ 115.400002\n"
          ],
          "name": "stdout"
        },
        {
          "output_type": "stream",
          "text": [
            " 57%|█████▋    | 1408/2461 [03:13<02:29,  7.04it/s]"
          ],
          "name": "stderr"
        },
        {
          "output_type": "stream",
          "text": [
            "TraderNet bought:  $ 115.129997\n",
            "TraderNet sold:  $ 115.519997  Profit: - $ 8.980003\n"
          ],
          "name": "stdout"
        },
        {
          "output_type": "stream",
          "text": [
            " 57%|█████▋    | 1410/2461 [03:13<02:27,  7.12it/s]"
          ],
          "name": "stderr"
        },
        {
          "output_type": "stream",
          "text": [
            "TraderNet sold:  $ 119.720001  Profit: - $ 3.049995\n",
            "TraderNet bought:  $ 113.489998\n"
          ],
          "name": "stdout"
        },
        {
          "output_type": "stream",
          "text": [
            " 57%|█████▋    | 1412/2461 [03:14<02:26,  7.17it/s]"
          ],
          "name": "stderr"
        },
        {
          "output_type": "stream",
          "text": [
            "TraderNet bought:  $ 115.239998\n",
            "TraderNet sold:  $ 115.150002  Profit: - $ 8.229996\n"
          ],
          "name": "stdout"
        },
        {
          "output_type": "stream",
          "text": [
            " 57%|█████▋    | 1414/2461 [03:14<02:23,  7.29it/s]"
          ],
          "name": "stderr"
        },
        {
          "output_type": "stream",
          "text": [
            "TraderNet bought:  $ 115.959999\n",
            "TraderNet bought:  $ 117.160004\n"
          ],
          "name": "stdout"
        },
        {
          "output_type": "stream",
          "text": [
            " 58%|█████▊    | 1416/2461 [03:14<02:23,  7.28it/s]"
          ],
          "name": "stderr"
        },
        {
          "output_type": "stream",
          "text": [
            "TraderNet bought:  $ 116.500000\n",
            "TraderNet sold:  $ 115.010002  Profit: - $ 7.979996\n"
          ],
          "name": "stdout"
        },
        {
          "output_type": "stream",
          "text": [
            " 58%|█████▊    | 1418/2461 [03:15<02:27,  7.08it/s]"
          ],
          "name": "stderr"
        },
        {
          "output_type": "stream",
          "text": [
            "TraderNet bought:  $ 112.650002\n",
            "TraderNet bought:  $ 105.760002\n"
          ],
          "name": "stdout"
        },
        {
          "output_type": "stream",
          "text": [
            " 58%|█████▊    | 1420/2461 [03:15<02:26,  7.09it/s]"
          ],
          "name": "stderr"
        },
        {
          "output_type": "stream",
          "text": [
            "TraderNet bought:  $ 103.120003\n",
            "TraderNet bought:  $ 103.739998\n"
          ],
          "name": "stdout"
        },
        {
          "output_type": "stream",
          "text": [
            " 58%|█████▊    | 1422/2461 [03:15<02:24,  7.18it/s]"
          ],
          "name": "stderr"
        },
        {
          "output_type": "stream",
          "text": [
            "TraderNet bought:  $ 109.690002\n",
            "TraderNet bought:  $ 112.919998\n"
          ],
          "name": "stdout"
        },
        {
          "output_type": "stream",
          "text": [
            " 58%|█████▊    | 1424/2461 [03:15<02:27,  7.05it/s]"
          ],
          "name": "stderr"
        },
        {
          "output_type": "stream",
          "text": [
            "TraderNet sold:  $ 113.290001  Profit: - $ 9.080002\n",
            "TraderNet sold:  $ 112.760002  Profit: - $ 8.540001\n"
          ],
          "name": "stdout"
        },
        {
          "output_type": "stream",
          "text": [
            " 58%|█████▊    | 1426/2461 [03:16<02:28,  6.99it/s]"
          ],
          "name": "stderr"
        },
        {
          "output_type": "stream",
          "text": [
            "TraderNet sold:  $ 107.720001  Profit: - $ 6.919998\n",
            "TraderNet sold:  $ 112.339996  Profit: - $ 3.060005\n"
          ],
          "name": "stdout"
        },
        {
          "output_type": "stream",
          "text": [
            " 58%|█████▊    | 1428/2461 [03:16<02:23,  7.21it/s]"
          ],
          "name": "stderr"
        },
        {
          "output_type": "stream",
          "text": [
            "TraderNet sold:  $ 110.370003  Profit: - $ 4.759995\n",
            "TraderNet bought:  $ 109.269997\n"
          ],
          "name": "stdout"
        },
        {
          "output_type": "stream",
          "text": [
            " 58%|█████▊    | 1430/2461 [03:16<02:23,  7.20it/s]"
          ],
          "name": "stderr"
        },
        {
          "output_type": "stream",
          "text": [
            "TraderNet bought:  $ 112.309998\n",
            "TraderNet bought:  $ 110.150002\n"
          ],
          "name": "stdout"
        },
        {
          "output_type": "stream",
          "text": [
            " 58%|█████▊    | 1432/2461 [03:17<02:33,  6.68it/s]"
          ],
          "name": "stderr"
        },
        {
          "output_type": "stream",
          "text": [
            "TraderNet bought:  $ 112.570000\n",
            "TraderNet bought:  $ 114.209999\n"
          ],
          "name": "stdout"
        },
        {
          "output_type": "stream",
          "text": [
            " 58%|█████▊    | 1434/2461 [03:17<02:25,  7.04it/s]"
          ],
          "name": "stderr"
        },
        {
          "output_type": "stream",
          "text": [
            "TraderNet bought:  $ 115.309998\n",
            "TraderNet bought:  $ 116.279999\n"
          ],
          "name": "stdout"
        },
        {
          "output_type": "stream",
          "text": [
            " 58%|█████▊    | 1436/2461 [03:17<02:23,  7.15it/s]"
          ],
          "name": "stderr"
        },
        {
          "output_type": "stream",
          "text": [
            "TraderNet bought:  $ 116.410004\n",
            "TraderNet sold:  $ 113.919998  Profit: $ 0.430000\n"
          ],
          "name": "stdout"
        },
        {
          "output_type": "stream",
          "text": [
            " 58%|█████▊    | 1438/2461 [03:17<02:27,  6.93it/s]"
          ],
          "name": "stderr"
        },
        {
          "output_type": "stream",
          "text": [
            "TraderNet bought:  $ 113.449997\n",
            "TraderNet bought:  $ 115.209999\n"
          ],
          "name": "stdout"
        },
        {
          "output_type": "stream",
          "text": [
            " 59%|█████▊    | 1440/2461 [03:18<02:22,  7.17it/s]"
          ],
          "name": "stderr"
        },
        {
          "output_type": "stream",
          "text": [
            "TraderNet bought:  $ 113.400002\n",
            "TraderNet bought:  $ 114.320000\n"
          ],
          "name": "stdout"
        },
        {
          "output_type": "stream",
          "text": [
            " 59%|█████▊    | 1442/2461 [03:18<02:21,  7.21it/s]"
          ],
          "name": "stderr"
        },
        {
          "output_type": "stream",
          "text": [
            "TraderNet bought:  $ 115.000000\n",
            "TraderNet bought:  $ 114.709999\n"
          ],
          "name": "stdout"
        },
        {
          "output_type": "stream",
          "text": [
            " 59%|█████▊    | 1444/2461 [03:18<02:30,  6.74it/s]"
          ],
          "name": "stderr"
        },
        {
          "output_type": "stream",
          "text": [
            "TraderNet bought:  $ 112.440002\n",
            "TraderNet bought:  $ 109.059998\n"
          ],
          "name": "stdout"
        },
        {
          "output_type": "stream",
          "text": [
            " 59%|█████▉    | 1446/2461 [03:19<02:26,  6.93it/s]"
          ],
          "name": "stderr"
        },
        {
          "output_type": "stream",
          "text": [
            "TraderNet bought:  $ 110.300003\n",
            "TraderNet bought:  $ 109.580002\n"
          ],
          "name": "stdout"
        },
        {
          "output_type": "stream",
          "text": [
            " 59%|█████▉    | 1448/2461 [03:19<02:29,  6.77it/s]"
          ],
          "name": "stderr"
        },
        {
          "output_type": "stream",
          "text": [
            "TraderNet bought:  $ 110.379997\n",
            "TraderNet bought:  $ 110.779999\n"
          ],
          "name": "stdout"
        },
        {
          "output_type": "stream",
          "text": [
            " 59%|█████▉    | 1450/2461 [03:19<02:30,  6.73it/s]"
          ],
          "name": "stderr"
        },
        {
          "output_type": "stream",
          "text": [
            "TraderNet bought:  $ 111.309998\n",
            "TraderNet bought:  $ 110.779999\n"
          ],
          "name": "stdout"
        },
        {
          "output_type": "stream",
          "text": [
            " 59%|█████▉    | 1452/2461 [03:19<02:25,  6.93it/s]"
          ],
          "name": "stderr"
        },
        {
          "output_type": "stream",
          "text": [
            "TraderNet bought:  $ 109.500000\n",
            "TraderNet bought:  $ 112.120003\n"
          ],
          "name": "stdout"
        },
        {
          "output_type": "stream",
          "text": [
            " 59%|█████▉    | 1454/2461 [03:20<02:27,  6.82it/s]"
          ],
          "name": "stderr"
        },
        {
          "output_type": "stream",
          "text": [
            "TraderNet bought:  $ 111.599998\n",
            "TraderNet bought:  $ 111.790001\n"
          ],
          "name": "stdout"
        },
        {
          "output_type": "stream",
          "text": [
            " 59%|█████▉    | 1456/2461 [03:20<02:31,  6.61it/s]"
          ],
          "name": "stderr"
        },
        {
          "output_type": "stream",
          "text": [
            "TraderNet bought:  $ 110.209999\n",
            "TraderNet bought:  $ 111.860001\n"
          ],
          "name": "stdout"
        },
        {
          "output_type": "stream",
          "text": [
            " 59%|█████▉    | 1458/2461 [03:20<02:35,  6.45it/s]"
          ],
          "name": "stderr"
        },
        {
          "output_type": "stream",
          "text": [
            "TraderNet bought:  $ 111.040001\n",
            "TraderNet bought:  $ 111.730003\n"
          ],
          "name": "stdout"
        },
        {
          "output_type": "stream",
          "text": [
            " 59%|█████▉    | 1460/2461 [03:21<02:29,  6.69it/s]"
          ],
          "name": "stderr"
        },
        {
          "output_type": "stream",
          "text": [
            "TraderNet bought:  $ 113.769997\n",
            "TraderNet bought:  $ 113.760002\n"
          ],
          "name": "stdout"
        },
        {
          "output_type": "stream",
          "text": [
            " 59%|█████▉    | 1462/2461 [03:21<02:33,  6.53it/s]"
          ],
          "name": "stderr"
        },
        {
          "output_type": "stream",
          "text": [
            "TraderNet bought:  $ 115.500000\n",
            "TraderNet bought:  $ 119.080002\n"
          ],
          "name": "stdout"
        },
        {
          "output_type": "stream",
          "text": [
            " 59%|█████▉    | 1464/2461 [03:21<02:26,  6.79it/s]"
          ],
          "name": "stderr"
        },
        {
          "output_type": "stream",
          "text": [
            "TraderNet sold:  $ 115.279999  Profit: $ 0.040001\n",
            "TraderNet bought:  $ 114.550003\n"
          ],
          "name": "stdout"
        },
        {
          "output_type": "stream",
          "text": [
            " 60%|█████▉    | 1466/2461 [03:22<02:27,  6.73it/s]"
          ],
          "name": "stderr"
        },
        {
          "output_type": "stream",
          "text": [
            "TraderNet bought:  $ 119.269997\n",
            "TraderNet bought:  $ 120.529999\n"
          ],
          "name": "stdout"
        },
        {
          "output_type": "stream",
          "text": [
            " 60%|█████▉    | 1468/2461 [03:22<02:24,  6.88it/s]"
          ],
          "name": "stderr"
        },
        {
          "output_type": "stream",
          "text": [
            "TraderNet bought:  $ 119.500000\n",
            "TraderNet bought:  $ 121.180000\n"
          ],
          "name": "stdout"
        },
        {
          "output_type": "stream",
          "text": [
            " 60%|█████▉    | 1470/2461 [03:22<02:22,  6.96it/s]"
          ],
          "name": "stderr"
        },
        {
          "output_type": "stream",
          "text": [
            "TraderNet bought:  $ 122.570000\n",
            "TraderNet bought:  $ 122.000000\n"
          ],
          "name": "stdout"
        },
        {
          "output_type": "stream",
          "text": [
            " 60%|█████▉    | 1472/2461 [03:22<02:26,  6.74it/s]"
          ],
          "name": "stderr"
        },
        {
          "output_type": "stream",
          "text": [
            "TraderNet sold:  $ 120.919998  Profit: $ 4.959999\n",
            "TraderNet bought:  $ 121.059998\n"
          ],
          "name": "stdout"
        },
        {
          "output_type": "stream",
          "text": [
            " 60%|█████▉    | 1474/2461 [03:23<02:24,  6.81it/s]"
          ],
          "name": "stderr"
        },
        {
          "output_type": "stream",
          "text": [
            "TraderNet sold:  $ 120.570000  Profit: $ 3.409996\n",
            "TraderNet sold:  $ 116.769997  Profit: $ 0.269997\n"
          ],
          "name": "stdout"
        },
        {
          "output_type": "stream",
          "text": [
            " 60%|█████▉    | 1476/2461 [03:23<02:21,  6.94it/s]"
          ],
          "name": "stderr"
        },
        {
          "output_type": "stream",
          "text": [
            "TraderNet sold:  $ 116.110001  Profit: $ 3.459999\n",
            "TraderNet bought:  $ 115.720001\n"
          ],
          "name": "stdout"
        },
        {
          "output_type": "stream",
          "text": [
            " 60%|██████    | 1478/2461 [03:23<02:23,  6.86it/s]"
          ],
          "name": "stderr"
        },
        {
          "output_type": "stream",
          "text": [
            "TraderNet sold:  $ 112.339996  Profit: $ 6.579994\n",
            "TraderNet bought:  $ 114.180000\n"
          ],
          "name": "stdout"
        },
        {
          "output_type": "stream",
          "text": [
            " 60%|██████    | 1480/2461 [03:24<02:24,  6.77it/s]"
          ],
          "name": "stderr"
        },
        {
          "output_type": "stream",
          "text": [
            "TraderNet sold:  $ 113.690002  Profit: $ 10.570000\n",
            "TraderNet sold:  $ 117.290001  Profit: $ 13.550003\n"
          ],
          "name": "stdout"
        },
        {
          "output_type": "stream",
          "text": [
            " 60%|██████    | 1482/2461 [03:24<02:21,  6.91it/s]"
          ],
          "name": "stderr"
        },
        {
          "output_type": "stream",
          "text": [
            "TraderNet sold:  $ 118.779999  Profit: $ 9.089996\n",
            "TraderNet sold:  $ 119.300003  Profit: $ 6.380005\n"
          ],
          "name": "stdout"
        },
        {
          "output_type": "stream",
          "text": [
            " 60%|██████    | 1484/2461 [03:24<02:22,  6.87it/s]"
          ],
          "name": "stderr"
        },
        {
          "output_type": "stream",
          "text": [
            "TraderNet sold:  $ 117.750000  Profit: $ 8.480003\n",
            "TraderNet sold:  $ 118.879997  Profit: $ 6.570000\n"
          ],
          "name": "stdout"
        },
        {
          "output_type": "stream",
          "text": [
            " 60%|██████    | 1486/2461 [03:24<02:21,  6.88it/s]"
          ],
          "name": "stderr"
        },
        {
          "output_type": "stream",
          "text": [
            "TraderNet sold:  $ 118.029999  Profit: $ 7.879997\n",
            "TraderNet sold:  $ 117.809998  Profit: $ 5.239998\n"
          ],
          "name": "stdout"
        },
        {
          "output_type": "stream",
          "text": [
            " 60%|██████    | 1488/2461 [03:25<02:18,  7.04it/s]"
          ],
          "name": "stderr"
        },
        {
          "output_type": "stream",
          "text": [
            "TraderNet sold:  $ 118.300003  Profit: $ 4.090004\n",
            "TraderNet sold:  $ 117.339996  Profit: $ 2.029999\n"
          ],
          "name": "stdout"
        },
        {
          "output_type": "stream",
          "text": [
            " 61%|██████    | 1490/2461 [03:25<02:21,  6.85it/s]"
          ],
          "name": "stderr"
        },
        {
          "output_type": "stream",
          "text": [
            "TraderNet sold:  $ 116.279999  Profit: $ 0.000000\n",
            "TraderNet sold:  $ 115.199997  Profit: - $ 1.210007\n"
          ],
          "name": "stdout"
        },
        {
          "output_type": "stream",
          "text": [
            " 61%|██████    | 1492/2461 [03:25<02:16,  7.08it/s]"
          ],
          "name": "stderr"
        },
        {
          "output_type": "stream",
          "text": [
            "TraderNet sold:  $ 119.029999  Profit: $ 5.580002\n",
            "TraderNet sold:  $ 118.279999  Profit: $ 3.070000\n"
          ],
          "name": "stdout"
        },
        {
          "output_type": "stream",
          "text": [
            " 61%|██████    | 1494/2461 [03:26<02:15,  7.13it/s]"
          ],
          "name": "stderr"
        },
        {
          "output_type": "stream",
          "text": [
            "TraderNet sold:  $ 118.230003  Profit: $ 4.830002\n",
            "TraderNet sold:  $ 115.620003  Profit: $ 1.300003\n"
          ],
          "name": "stdout"
        },
        {
          "output_type": "stream",
          "text": [
            " 61%|██████    | 1496/2461 [03:26<02:16,  7.07it/s]"
          ],
          "name": "stderr"
        },
        {
          "output_type": "stream",
          "text": [
            "TraderNet sold:  $ 116.169998  Profit: $ 1.169998\n",
            "TraderNet sold:  $ 113.180000  Profit: - $ 1.529999\n"
          ],
          "name": "stdout"
        },
        {
          "output_type": "stream",
          "text": [
            " 61%|██████    | 1498/2461 [03:26<02:17,  7.02it/s]"
          ],
          "name": "stderr"
        },
        {
          "output_type": "stream",
          "text": [
            "TraderNet sold:  $ 112.480003  Profit: $ 0.040001\n",
            "TraderNet sold:  $ 110.489998  Profit: $ 1.430000\n"
          ],
          "name": "stdout"
        },
        {
          "output_type": "stream",
          "text": [
            " 61%|██████    | 1500/2461 [03:26<02:17,  7.01it/s]"
          ],
          "name": "stderr"
        },
        {
          "output_type": "stream",
          "text": [
            "TraderNet sold:  $ 111.339996  Profit: $ 1.039993\n",
            "TraderNet sold:  $ 108.980003  Profit: - $ 0.599998\n"
          ],
          "name": "stdout"
        },
        {
          "output_type": "stream",
          "text": [
            " 61%|██████    | 1502/2461 [03:27<02:14,  7.12it/s]"
          ],
          "name": "stderr"
        },
        {
          "output_type": "stream",
          "text": [
            "TraderNet sold:  $ 106.029999  Profit: - $ 4.349998\n",
            "TraderNet sold:  $ 107.330002  Profit: - $ 3.449997\n"
          ],
          "name": "stdout"
        },
        {
          "output_type": "stream",
          "text": [
            " 61%|██████    | 1504/2461 [03:27<02:13,  7.14it/s]"
          ],
          "name": "stderr"
        },
        {
          "output_type": "stream",
          "text": [
            "TraderNet sold:  $ 107.230003  Profit: - $ 4.079994\n",
            "TraderNet sold:  $ 108.610001  Profit: - $ 2.169998\n"
          ],
          "name": "stdout"
        },
        {
          "output_type": "stream",
          "text": [
            " 61%|██████    | 1506/2461 [03:27<02:12,  7.22it/s]"
          ],
          "name": "stderr"
        },
        {
          "output_type": "stream",
          "text": [
            "TraderNet sold:  $ 108.029999  Profit: - $ 1.470001\n",
            "TraderNet sold:  $ 106.820000  Profit: - $ 5.300003\n"
          ],
          "name": "stdout"
        },
        {
          "output_type": "stream",
          "text": [
            " 61%|██████▏   | 1508/2461 [03:28<02:11,  7.24it/s]"
          ],
          "name": "stderr"
        },
        {
          "output_type": "stream",
          "text": [
            "TraderNet sold:  $ 108.739998  Profit: - $ 2.860001\n",
            "TraderNet sold:  $ 107.320000  Profit: - $ 4.470001\n"
          ],
          "name": "stdout"
        },
        {
          "output_type": "stream",
          "text": [
            " 61%|██████▏   | 1510/2461 [03:28<02:15,  7.02it/s]"
          ],
          "name": "stderr"
        },
        {
          "output_type": "stream",
          "text": [
            "TraderNet sold:  $ 105.260002  Profit: - $ 4.949997\n",
            "TraderNet sold:  $ 105.349998  Profit: - $ 6.510002\n"
          ],
          "name": "stdout"
        },
        {
          "output_type": "stream",
          "text": [
            " 61%|██████▏   | 1512/2461 [03:28<02:11,  7.19it/s]"
          ],
          "name": "stderr"
        },
        {
          "output_type": "stream",
          "text": [
            "TraderNet bought:  $ 102.709999\n",
            "TraderNet bought:  $ 100.699997\n"
          ],
          "name": "stdout"
        },
        {
          "output_type": "stream",
          "text": [
            " 62%|██████▏   | 1514/2461 [03:28<02:11,  7.19it/s]"
          ],
          "name": "stderr"
        },
        {
          "output_type": "stream",
          "text": [
            "TraderNet bought:  $ 96.449997\n",
            "TraderNet bought:  $ 96.959999\n"
          ],
          "name": "stdout"
        },
        {
          "output_type": "stream",
          "text": [
            " 62%|██████▏   | 1516/2461 [03:29<02:12,  7.12it/s]"
          ],
          "name": "stderr"
        },
        {
          "output_type": "stream",
          "text": [
            "TraderNet sold:  $ 98.529999  Profit: - $ 12.510002\n",
            "TraderNet sold:  $ 99.959999  Profit: - $ 11.770004\n"
          ],
          "name": "stdout"
        },
        {
          "output_type": "stream",
          "text": [
            " 62%|██████▏   | 1518/2461 [03:29<02:10,  7.21it/s]"
          ],
          "name": "stderr"
        },
        {
          "output_type": "stream",
          "text": [
            "TraderNet bought:  $ 97.389999\n",
            "TraderNet bought:  $ 99.519997\n"
          ],
          "name": "stdout"
        },
        {
          "output_type": "stream",
          "text": [
            " 62%|██████▏   | 1520/2461 [03:29<02:09,  7.27it/s]"
          ],
          "name": "stderr"
        },
        {
          "output_type": "stream",
          "text": [
            "TraderNet bought:  $ 97.129997\n",
            "TraderNet bought:  $ 96.660004\n"
          ],
          "name": "stdout"
        },
        {
          "output_type": "stream",
          "text": [
            " 62%|██████▏   | 1522/2461 [03:30<02:08,  7.29it/s]"
          ],
          "name": "stderr"
        },
        {
          "output_type": "stream",
          "text": [
            "TraderNet bought:  $ 96.790001\n",
            "TraderNet bought:  $ 96.300003\n"
          ],
          "name": "stdout"
        },
        {
          "output_type": "stream",
          "text": [
            " 62%|██████▏   | 1524/2461 [03:30<02:08,  7.30it/s]"
          ],
          "name": "stderr"
        },
        {
          "output_type": "stream",
          "text": [
            "TraderNet bought:  $ 101.419998\n",
            "TraderNet bought:  $ 99.440002\n"
          ],
          "name": "stdout"
        },
        {
          "output_type": "stream",
          "text": [
            " 62%|██████▏   | 1526/2461 [03:30<02:09,  7.21it/s]"
          ],
          "name": "stderr"
        },
        {
          "output_type": "stream",
          "text": [
            "TraderNet bought:  $ 99.989998\n",
            "TraderNet bought:  $ 93.419998\n"
          ],
          "name": "stdout"
        },
        {
          "output_type": "stream",
          "text": [
            " 62%|██████▏   | 1528/2461 [03:30<02:08,  7.24it/s]"
          ],
          "name": "stderr"
        },
        {
          "output_type": "stream",
          "text": [
            "TraderNet bought:  $ 94.089996\n",
            "TraderNet bought:  $ 97.339996\n"
          ],
          "name": "stdout"
        },
        {
          "output_type": "stream",
          "text": [
            " 62%|██████▏   | 1530/2461 [03:31<02:08,  7.26it/s]"
          ],
          "name": "stderr"
        },
        {
          "output_type": "stream",
          "text": [
            "TraderNet bought:  $ 96.430000\n",
            "TraderNet bought:  $ 94.480003\n"
          ],
          "name": "stdout"
        },
        {
          "output_type": "stream",
          "text": [
            " 62%|██████▏   | 1532/2461 [03:31<02:11,  7.07it/s]"
          ],
          "name": "stderr"
        },
        {
          "output_type": "stream",
          "text": [
            "TraderNet bought:  $ 96.349998\n",
            "TraderNet bought:  $ 96.599998\n"
          ],
          "name": "stdout"
        },
        {
          "output_type": "stream",
          "text": [
            " 62%|██████▏   | 1534/2461 [03:31<02:12,  6.98it/s]"
          ],
          "name": "stderr"
        },
        {
          "output_type": "stream",
          "text": [
            "TraderNet sold:  $ 94.019997  Profit: - $ 19.750000\n",
            "TraderNet bought:  $ 95.010002\n"
          ],
          "name": "stdout"
        },
        {
          "output_type": "stream",
          "text": [
            " 62%|██████▏   | 1536/2461 [03:31<02:08,  7.18it/s]"
          ],
          "name": "stderr"
        },
        {
          "output_type": "stream",
          "text": [
            "TraderNet bought:  $ 94.989998\n",
            "TraderNet sold:  $ 94.269997  Profit: - $ 19.490005\n"
          ],
          "name": "stdout"
        },
        {
          "output_type": "stream",
          "text": [
            " 62%|██████▏   | 1538/2461 [03:32<02:06,  7.29it/s]"
          ],
          "name": "stderr"
        },
        {
          "output_type": "stream",
          "text": [
            "TraderNet bought:  $ 93.699997\n",
            "TraderNet bought:  $ 93.989998\n"
          ],
          "name": "stdout"
        },
        {
          "output_type": "stream",
          "text": [
            " 63%|██████▎   | 1540/2461 [03:32<02:05,  7.32it/s]"
          ],
          "name": "stderr"
        },
        {
          "output_type": "stream",
          "text": [
            "TraderNet bought:  $ 96.639999\n",
            "TraderNet bought:  $ 98.120003\n"
          ],
          "name": "stdout"
        },
        {
          "output_type": "stream",
          "text": [
            " 63%|██████▎   | 1545/2461 [03:33<02:05,  7.30it/s]"
          ],
          "name": "stderr"
        },
        {
          "output_type": "stream",
          "text": [
            "TraderNet bought:  $ 94.690002\n"
          ],
          "name": "stdout"
        },
        {
          "output_type": "stream",
          "text": [
            " 63%|██████▎   | 1547/2461 [03:33<02:06,  7.23it/s]"
          ],
          "name": "stderr"
        },
        {
          "output_type": "stream",
          "text": [
            "TraderNet bought:  $ 96.760002\n",
            "TraderNet bought:  $ 96.910004\n"
          ],
          "name": "stdout"
        },
        {
          "output_type": "stream",
          "text": [
            " 63%|██████▎   | 1549/2461 [03:33<02:03,  7.38it/s]"
          ],
          "name": "stderr"
        },
        {
          "output_type": "stream",
          "text": [
            "TraderNet bought:  $ 96.690002\n",
            "TraderNet bought:  $ 100.529999\n"
          ],
          "name": "stdout"
        },
        {
          "output_type": "stream",
          "text": [
            " 63%|██████▎   | 1552/2461 [03:34<02:05,  7.25it/s]"
          ],
          "name": "stderr"
        },
        {
          "output_type": "stream",
          "text": [
            "TraderNet bought:  $ 101.500000\n",
            "TraderNet bought:  $ 103.010002\n"
          ],
          "name": "stdout"
        },
        {
          "output_type": "stream",
          "text": [
            " 63%|██████▎   | 1555/2461 [03:34<02:01,  7.48it/s]"
          ],
          "name": "stderr"
        },
        {
          "output_type": "stream",
          "text": [
            "TraderNet bought:  $ 101.029999\n",
            "TraderNet bought:  $ 101.120003\n"
          ],
          "name": "stdout"
        },
        {
          "output_type": "stream",
          "text": [
            " 63%|██████▎   | 1557/2461 [03:34<02:02,  7.41it/s]"
          ],
          "name": "stderr"
        },
        {
          "output_type": "stream",
          "text": [
            "TraderNet bought:  $ 101.169998\n",
            "TraderNet bought:  $ 102.260002\n"
          ],
          "name": "stdout"
        },
        {
          "output_type": "stream",
          "text": [
            " 63%|██████▎   | 1559/2461 [03:35<02:03,  7.33it/s]"
          ],
          "name": "stderr"
        },
        {
          "output_type": "stream",
          "text": [
            "TraderNet bought:  $ 102.519997\n",
            "TraderNet bought:  $ 104.580002\n"
          ],
          "name": "stdout"
        },
        {
          "output_type": "stream",
          "text": [
            " 64%|██████▎   | 1563/2461 [03:35<02:00,  7.48it/s]"
          ],
          "name": "stderr"
        },
        {
          "output_type": "stream",
          "text": [
            "TraderNet bought:  $ 105.919998\n"
          ],
          "name": "stdout"
        },
        {
          "output_type": "stream",
          "text": [
            " 64%|██████▎   | 1567/2461 [03:36<01:59,  7.46it/s]"
          ],
          "name": "stderr"
        },
        {
          "output_type": "stream",
          "text": [
            "TraderNet bought:  $ 105.669998\n"
          ],
          "name": "stdout"
        },
        {
          "output_type": "stream",
          "text": [
            " 64%|██████▍   | 1569/2461 [03:36<01:58,  7.55it/s]"
          ],
          "name": "stderr"
        },
        {
          "output_type": "stream",
          "text": [
            "TraderNet bought:  $ 107.680000\n",
            "TraderNet bought:  $ 109.559998\n"
          ],
          "name": "stdout"
        },
        {
          "output_type": "stream",
          "text": [
            " 64%|██████▍   | 1577/2461 [03:37<01:59,  7.37it/s]"
          ],
          "name": "stderr"
        },
        {
          "output_type": "stream",
          "text": [
            "TraderNet bought:  $ 108.660004\n",
            "TraderNet bought:  $ 109.019997\n"
          ],
          "name": "stdout"
        },
        {
          "output_type": "stream",
          "text": [
            " 64%|██████▍   | 1579/2461 [03:37<01:56,  7.58it/s]"
          ],
          "name": "stderr"
        },
        {
          "output_type": "stream",
          "text": [
            "TraderNet bought:  $ 110.440002\n"
          ],
          "name": "stdout"
        },
        {
          "output_type": "stream",
          "text": [
            " 64%|██████▍   | 1581/2461 [03:38<01:58,  7.40it/s]"
          ],
          "name": "stderr"
        },
        {
          "output_type": "stream",
          "text": [
            "TraderNet bought:  $ 112.099998\n"
          ],
          "name": "stdout"
        },
        {
          "output_type": "stream",
          "text": [
            " 64%|██████▍   | 1584/2461 [03:38<02:05,  7.00it/s]"
          ],
          "name": "stderr"
        },
        {
          "output_type": "stream",
          "text": [
            "TraderNet bought:  $ 106.910004\n",
            "TraderNet bought:  $ 107.129997\n"
          ],
          "name": "stdout"
        },
        {
          "output_type": "stream",
          "text": [
            " 65%|██████▍   | 1588/2461 [03:39<02:00,  7.27it/s]"
          ],
          "name": "stderr"
        },
        {
          "output_type": "stream",
          "text": [
            "TraderNet bought:  $ 105.080002\n",
            "TraderNet bought:  $ 104.349998\n"
          ],
          "name": "stdout"
        },
        {
          "output_type": "stream",
          "text": [
            " 65%|██████▍   | 1590/2461 [03:39<01:58,  7.33it/s]"
          ],
          "name": "stderr"
        },
        {
          "output_type": "stream",
          "text": [
            "TraderNet sold:  $ 97.820000  Profit: - $ 17.680000\n",
            "TraderNet bought:  $ 94.830002\n"
          ],
          "name": "stdout"
        },
        {
          "output_type": "stream",
          "text": [
            " 65%|██████▍   | 1592/2461 [03:39<01:57,  7.41it/s]"
          ],
          "name": "stderr"
        },
        {
          "output_type": "stream",
          "text": [
            "TraderNet bought:  $ 93.739998\n",
            "TraderNet bought:  $ 93.639999\n"
          ],
          "name": "stdout"
        },
        {
          "output_type": "stream",
          "text": [
            " 65%|██████▍   | 1594/2461 [03:39<01:57,  7.40it/s]"
          ],
          "name": "stderr"
        },
        {
          "output_type": "stream",
          "text": [
            "TraderNet bought:  $ 95.180000\n",
            "TraderNet sold:  $ 94.190002  Profit: - $ 24.889999\n"
          ],
          "name": "stdout"
        },
        {
          "output_type": "stream",
          "text": [
            " 65%|██████▍   | 1596/2461 [03:40<01:57,  7.33it/s]"
          ],
          "name": "stderr"
        },
        {
          "output_type": "stream",
          "text": [
            "TraderNet bought:  $ 93.239998\n",
            "TraderNet bought:  $ 92.720001\n"
          ],
          "name": "stdout"
        },
        {
          "output_type": "stream",
          "text": [
            " 65%|██████▍   | 1598/2461 [03:40<01:56,  7.40it/s]"
          ],
          "name": "stderr"
        },
        {
          "output_type": "stream",
          "text": [
            "TraderNet bought:  $ 92.790001\n"
          ],
          "name": "stdout"
        },
        {
          "output_type": "stream",
          "text": [
            " 65%|██████▌   | 1602/2461 [03:40<01:56,  7.36it/s]"
          ],
          "name": "stderr"
        },
        {
          "output_type": "stream",
          "text": [
            "TraderNet bought:  $ 90.519997\n",
            "TraderNet bought:  $ 93.879997\n"
          ],
          "name": "stdout"
        },
        {
          "output_type": "stream",
          "text": [
            " 68%|██████▊   | 1684/2461 [03:52<01:43,  7.53it/s]"
          ],
          "name": "stderr"
        },
        {
          "output_type": "stream",
          "text": [
            "TraderNet bought:  $ 103.129997\n"
          ],
          "name": "stdout"
        },
        {
          "output_type": "stream",
          "text": [
            " 70%|██████▉   | 1721/2461 [03:56<01:38,  7.50it/s]"
          ],
          "name": "stderr"
        },
        {
          "output_type": "stream",
          "text": [
            "TraderNet sold:  $ 111.489998  Profit: - $ 3.060005\n"
          ],
          "name": "stdout"
        },
        {
          "output_type": "stream",
          "text": [
            " 70%|███████   | 1723/2461 [03:57<01:40,  7.35it/s]"
          ],
          "name": "stderr"
        },
        {
          "output_type": "stream",
          "text": [
            "TraderNet bought:  $ 109.830002\n",
            "TraderNet sold:  $ 108.839996  Profit: - $ 10.430000\n"
          ],
          "name": "stdout"
        },
        {
          "output_type": "stream",
          "text": [
            " 70%|███████   | 1725/2461 [03:57<01:41,  7.25it/s]"
          ],
          "name": "stderr"
        },
        {
          "output_type": "stream",
          "text": [
            "TraderNet bought:  $ 110.410004\n",
            "TraderNet sold:  $ 111.059998  Profit: - $ 9.470001\n"
          ],
          "name": "stdout"
        },
        {
          "output_type": "stream",
          "text": [
            " 70%|███████   | 1728/2461 [03:57<01:37,  7.51it/s]"
          ],
          "name": "stderr"
        },
        {
          "output_type": "stream",
          "text": [
            "TraderNet bought:  $ 107.790001\n"
          ],
          "name": "stdout"
        },
        {
          "output_type": "stream",
          "text": [
            " 70%|███████   | 1730/2461 [03:58<01:41,  7.23it/s]"
          ],
          "name": "stderr"
        },
        {
          "output_type": "stream",
          "text": [
            "TraderNet sold:  $ 105.709999  Profit: - $ 13.790001\n"
          ],
          "name": "stdout"
        },
        {
          "output_type": "stream",
          "text": [
            " 71%|███████▏  | 1757/2461 [04:01<01:35,  7.38it/s]"
          ],
          "name": "stderr"
        },
        {
          "output_type": "stream",
          "text": [
            "TraderNet sold:  $ 116.290001  Profit: - $ 4.889999\n"
          ],
          "name": "stdout"
        },
        {
          "output_type": "stream",
          "text": [
            " 72%|███████▏  | 1761/2461 [04:02<01:34,  7.44it/s]"
          ],
          "name": "stderr"
        },
        {
          "output_type": "stream",
          "text": [
            "TraderNet sold:  $ 116.730003  Profit: - $ 5.839996\n",
            "TraderNet sold:  $ 115.820000  Profit: - $ 6.180000\n"
          ],
          "name": "stdout"
        },
        {
          "output_type": "stream",
          "text": [
            " 72%|███████▏  | 1774/2461 [04:04<01:34,  7.31it/s]"
          ],
          "name": "stderr"
        },
        {
          "output_type": "stream",
          "text": [
            "TraderNet sold:  $ 119.779999  Profit: - $ 1.279999\n"
          ],
          "name": "stdout"
        },
        {
          "output_type": "stream",
          "text": [
            " 72%|███████▏  | 1777/2461 [04:04<01:33,  7.28it/s]"
          ],
          "name": "stderr"
        },
        {
          "output_type": "stream",
          "text": [
            "TraderNet sold:  $ 119.970001  Profit: $ 4.250000\n"
          ],
          "name": "stdout"
        },
        {
          "output_type": "stream",
          "text": [
            " 72%|███████▏  | 1780/2461 [04:04<01:32,  7.38it/s]"
          ],
          "name": "stderr"
        },
        {
          "output_type": "stream",
          "text": [
            "TraderNet sold:  $ 121.949997  Profit: $ 7.769997\n",
            "TraderNet sold:  $ 121.629997  Profit: $ 18.919998\n"
          ],
          "name": "stdout"
        },
        {
          "output_type": "stream",
          "text": [
            " 72%|███████▏  | 1782/2461 [04:05<01:35,  7.11it/s]"
          ],
          "name": "stderr"
        },
        {
          "output_type": "stream",
          "text": [
            "TraderNet sold:  $ 121.349998  Profit: $ 20.650002\n",
            "TraderNet sold:  $ 128.750000  Profit: $ 32.300003\n"
          ],
          "name": "stdout"
        },
        {
          "output_type": "stream",
          "text": [
            " 72%|███████▏  | 1784/2461 [04:05<01:32,  7.29it/s]"
          ],
          "name": "stderr"
        },
        {
          "output_type": "stream",
          "text": [
            "TraderNet sold:  $ 128.529999  Profit: $ 31.570000\n",
            "TraderNet sold:  $ 129.080002  Profit: $ 31.690002\n"
          ],
          "name": "stdout"
        },
        {
          "output_type": "stream",
          "text": [
            " 73%|███████▎  | 1786/2461 [04:05<01:34,  7.18it/s]"
          ],
          "name": "stderr"
        },
        {
          "output_type": "stream",
          "text": [
            "TraderNet sold:  $ 130.289993  Profit: $ 30.769997\n",
            "TraderNet sold:  $ 131.529999  Profit: $ 34.400002\n"
          ],
          "name": "stdout"
        },
        {
          "output_type": "stream",
          "text": [
            " 73%|███████▎  | 1788/2461 [04:06<01:31,  7.33it/s]"
          ],
          "name": "stderr"
        },
        {
          "output_type": "stream",
          "text": [
            "TraderNet sold:  $ 132.039993  Profit: $ 35.379990\n",
            "TraderNet sold:  $ 132.419998  Profit: $ 35.629997\n"
          ],
          "name": "stdout"
        },
        {
          "output_type": "stream",
          "text": [
            " 73%|███████▎  | 1790/2461 [04:06<01:33,  7.17it/s]"
          ],
          "name": "stderr"
        },
        {
          "output_type": "stream",
          "text": [
            "TraderNet sold:  $ 132.119995  Profit: $ 35.819992\n",
            "TraderNet sold:  $ 133.289993  Profit: $ 31.869995\n"
          ],
          "name": "stdout"
        },
        {
          "output_type": "stream",
          "text": [
            " 73%|███████▎  | 1792/2461 [04:06<01:34,  7.08it/s]"
          ],
          "name": "stderr"
        },
        {
          "output_type": "stream",
          "text": [
            "TraderNet sold:  $ 135.020004  Profit: $ 35.580002\n",
            "TraderNet sold:  $ 135.509995  Profit: $ 35.519997\n"
          ],
          "name": "stdout"
        },
        {
          "output_type": "stream",
          "text": [
            " 73%|███████▎  | 1794/2461 [04:06<01:33,  7.12it/s]"
          ],
          "name": "stderr"
        },
        {
          "output_type": "stream",
          "text": [
            "TraderNet sold:  $ 135.350006  Profit: $ 41.930008\n",
            "TraderNet sold:  $ 135.720001  Profit: $ 41.630005\n"
          ],
          "name": "stdout"
        },
        {
          "output_type": "stream",
          "text": [
            " 73%|███████▎  | 1796/2461 [04:07<01:35,  6.95it/s]"
          ],
          "name": "stderr"
        },
        {
          "output_type": "stream",
          "text": [
            "TraderNet sold:  $ 136.699997  Profit: $ 39.360001\n",
            "TraderNet sold:  $ 137.110001  Profit: $ 40.680000\n"
          ],
          "name": "stdout"
        },
        {
          "output_type": "stream",
          "text": [
            " 73%|███████▎  | 1798/2461 [04:07<01:33,  7.09it/s]"
          ],
          "name": "stderr"
        },
        {
          "output_type": "stream",
          "text": [
            "TraderNet sold:  $ 136.529999  Profit: $ 42.049995\n",
            "TraderNet sold:  $ 136.660004  Profit: $ 40.310005\n"
          ],
          "name": "stdout"
        },
        {
          "output_type": "stream",
          "text": [
            " 73%|███████▎  | 1800/2461 [04:07<01:31,  7.21it/s]"
          ],
          "name": "stderr"
        },
        {
          "output_type": "stream",
          "text": [
            "TraderNet sold:  $ 136.929993  Profit: $ 40.329994\n",
            "TraderNet sold:  $ 136.990005  Profit: $ 41.980003\n"
          ],
          "name": "stdout"
        },
        {
          "output_type": "stream",
          "text": [
            " 73%|███████▎  | 1802/2461 [04:08<01:29,  7.39it/s]"
          ],
          "name": "stderr"
        },
        {
          "output_type": "stream",
          "text": [
            "TraderNet sold:  $ 139.789993  Profit: $ 44.799995\n",
            "TraderNet sold:  $ 138.960007  Profit: $ 45.260010\n"
          ],
          "name": "stdout"
        },
        {
          "output_type": "stream",
          "text": [
            " 73%|███████▎  | 1804/2461 [04:08<01:29,  7.38it/s]"
          ],
          "name": "stderr"
        },
        {
          "output_type": "stream",
          "text": [
            "TraderNet sold:  $ 139.779999  Profit: $ 45.790001\n",
            "TraderNet sold:  $ 139.339996  Profit: $ 42.699997\n"
          ],
          "name": "stdout"
        },
        {
          "output_type": "stream",
          "text": [
            " 73%|███████▎  | 1806/2461 [04:08<01:27,  7.46it/s]"
          ],
          "name": "stderr"
        },
        {
          "output_type": "stream",
          "text": [
            "TraderNet sold:  $ 139.520004  Profit: $ 41.400002\n",
            "TraderNet sold:  $ 139.000000  Profit: $ 44.309998\n"
          ],
          "name": "stdout"
        },
        {
          "output_type": "stream",
          "text": [
            " 73%|███████▎  | 1808/2461 [04:08<01:27,  7.50it/s]"
          ],
          "name": "stderr"
        },
        {
          "output_type": "stream",
          "text": [
            "TraderNet sold:  $ 138.679993  Profit: $ 41.919991\n",
            "TraderNet sold:  $ 139.139999  Profit: $ 42.229996\n"
          ],
          "name": "stdout"
        },
        {
          "output_type": "stream",
          "text": [
            " 74%|███████▎  | 1810/2461 [04:09<01:27,  7.48it/s]"
          ],
          "name": "stderr"
        },
        {
          "output_type": "stream",
          "text": [
            "TraderNet sold:  $ 139.199997  Profit: $ 42.509995\n",
            "TraderNet sold:  $ 138.990005  Profit: $ 38.460007\n"
          ],
          "name": "stdout"
        },
        {
          "output_type": "stream",
          "text": [
            " 74%|███████▎  | 1812/2461 [04:09<01:25,  7.59it/s]"
          ],
          "name": "stderr"
        },
        {
          "output_type": "stream",
          "text": [
            "TraderNet sold:  $ 140.460007  Profit: $ 38.960007\n",
            "TraderNet sold:  $ 140.690002  Profit: $ 37.680000\n"
          ],
          "name": "stdout"
        },
        {
          "output_type": "stream",
          "text": [
            " 74%|███████▎  | 1814/2461 [04:09<01:32,  7.02it/s]"
          ],
          "name": "stderr"
        },
        {
          "output_type": "stream",
          "text": [
            "TraderNet sold:  $ 139.990005  Profit: $ 38.960007\n",
            "TraderNet sold:  $ 141.460007  Profit: $ 40.340004\n"
          ],
          "name": "stdout"
        },
        {
          "output_type": "stream",
          "text": [
            " 74%|███████▍  | 1816/2461 [04:09<01:29,  7.22it/s]"
          ],
          "name": "stderr"
        },
        {
          "output_type": "stream",
          "text": [
            "TraderNet sold:  $ 139.839996  Profit: $ 38.669998\n",
            "TraderNet sold:  $ 141.419998  Profit: $ 39.159996\n"
          ],
          "name": "stdout"
        },
        {
          "output_type": "stream",
          "text": [
            " 74%|███████▍  | 1818/2461 [04:10<01:26,  7.40it/s]"
          ],
          "name": "stderr"
        },
        {
          "output_type": "stream",
          "text": [
            "TraderNet sold:  $ 140.919998  Profit: $ 38.400002\n",
            "TraderNet sold:  $ 140.639999  Profit: $ 36.059998\n"
          ],
          "name": "stdout"
        },
        {
          "output_type": "stream",
          "text": [
            " 74%|███████▍  | 1820/2461 [04:10<01:26,  7.42it/s]"
          ],
          "name": "stderr"
        },
        {
          "output_type": "stream",
          "text": [
            "TraderNet sold:  $ 140.880005  Profit: $ 34.960007\n",
            "TraderNet sold:  $ 143.800003  Profit: $ 38.130005\n"
          ],
          "name": "stdout"
        },
        {
          "output_type": "stream",
          "text": [
            " 74%|███████▍  | 1822/2461 [04:10<01:26,  7.41it/s]"
          ],
          "name": "stderr"
        },
        {
          "output_type": "stream",
          "text": [
            "TraderNet sold:  $ 144.119995  Profit: $ 36.439995\n",
            "TraderNet sold:  $ 143.929993  Profit: $ 34.369995\n"
          ],
          "name": "stdout"
        },
        {
          "output_type": "stream",
          "text": [
            " 74%|███████▍  | 1824/2461 [04:11<01:27,  7.31it/s]"
          ],
          "name": "stderr"
        },
        {
          "output_type": "stream",
          "text": [
            "TraderNet sold:  $ 143.660004  Profit: $ 35.000000\n",
            "TraderNet sold:  $ 143.699997  Profit: $ 34.680000\n"
          ],
          "name": "stdout"
        },
        {
          "output_type": "stream",
          "text": [
            " 74%|███████▍  | 1826/2461 [04:11<01:26,  7.31it/s]"
          ],
          "name": "stderr"
        },
        {
          "output_type": "stream",
          "text": [
            "TraderNet sold:  $ 144.770004  Profit: $ 34.330002\n",
            "TraderNet sold:  $ 144.020004  Profit: $ 31.920006\n"
          ],
          "name": "stdout"
        },
        {
          "output_type": "stream",
          "text": [
            " 74%|███████▍  | 1828/2461 [04:11<01:26,  7.29it/s]"
          ],
          "name": "stderr"
        },
        {
          "output_type": "stream",
          "text": [
            "TraderNet sold:  $ 143.660004  Profit: $ 36.750000\n",
            "TraderNet sold:  $ 143.339996  Profit: $ 36.209999\n"
          ],
          "name": "stdout"
        },
        {
          "output_type": "stream",
          "text": [
            " 74%|███████▍  | 1830/2461 [04:11<01:25,  7.38it/s]"
          ],
          "name": "stderr"
        },
        {
          "output_type": "stream",
          "text": [
            "TraderNet sold:  $ 143.169998  Profit: $ 38.089996\n",
            "TraderNet sold:  $ 141.630005  Profit: $ 37.280006\n"
          ],
          "name": "stdout"
        },
        {
          "output_type": "stream",
          "text": [
            " 74%|███████▍  | 1832/2461 [04:12<01:24,  7.46it/s]"
          ],
          "name": "stderr"
        },
        {
          "output_type": "stream",
          "text": [
            "TraderNet sold:  $ 141.800003  Profit: $ 46.970001\n",
            "TraderNet sold:  $ 141.050003  Profit: $ 47.310005\n"
          ],
          "name": "stdout"
        },
        {
          "output_type": "stream",
          "text": [
            " 75%|███████▍  | 1834/2461 [04:12<01:27,  7.19it/s]"
          ],
          "name": "stderr"
        },
        {
          "output_type": "stream",
          "text": [
            "TraderNet sold:  $ 141.830002  Profit: $ 48.190002\n",
            "TraderNet sold:  $ 141.199997  Profit: $ 46.019997\n"
          ],
          "name": "stdout"
        },
        {
          "output_type": "stream",
          "text": [
            " 75%|███████▍  | 1836/2461 [04:12<01:27,  7.13it/s]"
          ],
          "name": "stderr"
        },
        {
          "output_type": "stream",
          "text": [
            "TraderNet sold:  $ 140.679993  Profit: $ 47.439995\n",
            "TraderNet sold:  $ 142.440002  Profit: $ 49.720001\n"
          ],
          "name": "stdout"
        },
        {
          "output_type": "stream",
          "text": [
            " 75%|███████▍  | 1839/2461 [04:13<01:24,  7.40it/s]"
          ],
          "name": "stderr"
        },
        {
          "output_type": "stream",
          "text": [
            "TraderNet sold:  $ 143.639999  Profit: $ 50.849998\n"
          ],
          "name": "stdout"
        },
        {
          "output_type": "stream",
          "text": [
            " 75%|███████▍  | 1841/2461 [04:13<01:22,  7.50it/s]"
          ],
          "name": "stderr"
        },
        {
          "output_type": "stream",
          "text": [
            "TraderNet sold:  $ 143.679993  Profit: $ 53.159996\n",
            "TraderNet sold:  $ 143.789993  Profit: $ 49.909996\n"
          ],
          "name": "stdout"
        },
        {
          "output_type": "stream",
          "text": [
            " 75%|███████▍  | 1843/2461 [04:13<01:23,  7.37it/s]"
          ],
          "name": "stderr"
        },
        {
          "output_type": "stream",
          "text": [
            "TraderNet sold:  $ 143.649994  Profit: $ 40.519997\n",
            "TraderNet sold:  $ 146.580002  Profit: $ 36.750000\n"
          ],
          "name": "stdout"
        },
        {
          "output_type": "stream",
          "text": [
            " 75%|███████▍  | 1845/2461 [04:13<01:22,  7.44it/s]"
          ],
          "name": "stderr"
        },
        {
          "output_type": "stream",
          "text": [
            "TraderNet sold:  $ 147.509995  Profit: $ 37.099991\n",
            "TraderNet sold:  $ 147.059998  Profit: $ 39.269997\n"
          ],
          "name": "stdout"
        },
        {
          "output_type": "stream",
          "text": [
            " 77%|███████▋  | 1883/2461 [04:19<01:20,  7.14it/s]"
          ],
          "name": "stderr"
        },
        {
          "output_type": "stream",
          "text": [
            "TraderNet bought:  $ 145.820007\n"
          ],
          "name": "stdout"
        },
        {
          "output_type": "stream",
          "text": [
            " 77%|███████▋  | 1885/2461 [04:19<01:20,  7.16it/s]"
          ],
          "name": "stderr"
        },
        {
          "output_type": "stream",
          "text": [
            "TraderNet sold:  $ 145.830002  Profit: $ 0.009995\n"
          ],
          "name": "stdout"
        },
        {
          "output_type": "stream",
          "text": [
            " 77%|███████▋  | 1901/2461 [04:21<01:16,  7.33it/s]"
          ],
          "name": "stderr"
        },
        {
          "output_type": "stream",
          "text": [
            "TraderNet bought:  $ 150.270004\n",
            "TraderNet bought:  $ 152.089996\n"
          ],
          "name": "stdout"
        },
        {
          "output_type": "stream",
          "text": [
            " 77%|███████▋  | 1903/2461 [04:21<01:16,  7.34it/s]"
          ],
          "name": "stderr"
        },
        {
          "output_type": "stream",
          "text": [
            "TraderNet sold:  $ 152.740005  Profit: $ 2.470001\n",
            "TraderNet sold:  $ 153.460007  Profit: $ 1.370010\n"
          ],
          "name": "stdout"
        },
        {
          "output_type": "stream",
          "text": [
            " 79%|███████▉  | 1940/2461 [04:26<01:12,  7.19it/s]"
          ],
          "name": "stderr"
        },
        {
          "output_type": "stream",
          "text": [
            "TraderNet bought:  $ 159.880005\n"
          ],
          "name": "stdout"
        },
        {
          "output_type": "stream",
          "text": [
            " 79%|███████▉  | 1947/2461 [04:27<01:09,  7.39it/s]"
          ],
          "name": "stderr"
        },
        {
          "output_type": "stream",
          "text": [
            "TraderNet sold:  $ 153.139999  Profit: - $ 6.740005\n"
          ],
          "name": "stdout"
        },
        {
          "output_type": "stream",
          "text": [
            " 89%|████████▊ | 2184/2461 [05:00<00:38,  7.20it/s]"
          ],
          "name": "stderr"
        },
        {
          "output_type": "stream",
          "text": [
            "TraderNet bought:  $ 226.869995\n"
          ],
          "name": "stdout"
        },
        {
          "output_type": "stream",
          "text": [
            " 89%|████████▉ | 2186/2461 [05:00<00:39,  7.02it/s]"
          ],
          "name": "stderr"
        },
        {
          "output_type": "stream",
          "text": [
            "TraderNet bought:  $ 221.300003\n",
            "TraderNet bought:  $ 218.330002\n"
          ],
          "name": "stdout"
        },
        {
          "output_type": "stream",
          "text": [
            " 89%|████████▉ | 2188/2461 [05:00<00:38,  7.00it/s]"
          ],
          "name": "stderr"
        },
        {
          "output_type": "stream",
          "text": [
            "TraderNet bought:  $ 223.850006\n",
            "TraderNet bought:  $ 221.070007\n"
          ],
          "name": "stdout"
        },
        {
          "output_type": "stream",
          "text": [
            " 89%|████████▉ | 2190/2461 [05:01<00:37,  7.15it/s]"
          ],
          "name": "stderr"
        },
        {
          "output_type": "stream",
          "text": [
            "TraderNet bought:  $ 226.410004\n",
            "TraderNet bought:  $ 223.839996\n"
          ],
          "name": "stdout"
        },
        {
          "output_type": "stream",
          "text": [
            " 89%|████████▉ | 2192/2461 [05:01<00:37,  7.13it/s]"
          ],
          "name": "stderr"
        },
        {
          "output_type": "stream",
          "text": [
            "TraderNet bought:  $ 217.880005\n",
            "TraderNet bought:  $ 218.240005\n"
          ],
          "name": "stdout"
        },
        {
          "output_type": "stream",
          "text": [
            " 89%|████████▉ | 2195/2461 [05:01<00:36,  7.21it/s]"
          ],
          "name": "stderr"
        },
        {
          "output_type": "stream",
          "text": [
            "TraderNet bought:  $ 220.029999\n"
          ],
          "name": "stdout"
        },
        {
          "output_type": "stream",
          "text": [
            " 89%|████████▉ | 2197/2461 [05:02<00:37,  7.10it/s]"
          ],
          "name": "stderr"
        },
        {
          "output_type": "stream",
          "text": [
            "TraderNet bought:  $ 220.789993\n",
            "TraderNet bought:  $ 222.190002\n"
          ],
          "name": "stdout"
        },
        {
          "output_type": "stream",
          "text": [
            " 90%|████████▉ | 2209/2461 [05:03<00:34,  7.29it/s]"
          ],
          "name": "stderr"
        },
        {
          "output_type": "stream",
          "text": [
            "TraderNet sold:  $ 216.360001  Profit: - $ 10.509995\n",
            "TraderNet bought:  $ 214.449997\n"
          ],
          "name": "stdout"
        },
        {
          "output_type": "stream",
          "text": [
            " 90%|████████▉ | 2214/2461 [05:04<00:33,  7.29it/s]"
          ],
          "name": "stderr"
        },
        {
          "output_type": "stream",
          "text": [
            "TraderNet sold:  $ 221.190002  Profit: - $ 0.110001\n"
          ],
          "name": "stdout"
        },
        {
          "output_type": "stream",
          "text": [
            " 90%|█████████ | 2217/2461 [05:04<00:34,  7.12it/s]"
          ],
          "name": "stderr"
        },
        {
          "output_type": "stream",
          "text": [
            "TraderNet bought:  $ 220.649994\n"
          ],
          "name": "stdout"
        },
        {
          "output_type": "stream",
          "text": [
            " 90%|█████████ | 2221/2461 [05:05<00:33,  7.22it/s]"
          ],
          "name": "stderr"
        },
        {
          "output_type": "stream",
          "text": [
            "TraderNet sold:  $ 216.300003  Profit: - $ 2.029999\n"
          ],
          "name": "stdout"
        },
        {
          "output_type": "stream",
          "text": [
            " 90%|█████████ | 2223/2461 [05:05<00:31,  7.45it/s]"
          ],
          "name": "stderr"
        },
        {
          "output_type": "stream",
          "text": [
            "TraderNet sold:  $ 213.300003  Profit: - $ 10.550003\n"
          ],
          "name": "stdout"
        },
        {
          "output_type": "stream",
          "text": [
            " 90%|█████████ | 2226/2461 [05:06<00:31,  7.51it/s]"
          ],
          "name": "stderr"
        },
        {
          "output_type": "stream",
          "text": [
            "TraderNet sold:  $ 207.479996  Profit: - $ 13.590012\n"
          ],
          "name": "stdout"
        },
        {
          "output_type": "stream",
          "text": [
            " 91%|█████████ | 2228/2461 [05:06<00:31,  7.28it/s]"
          ],
          "name": "stderr"
        },
        {
          "output_type": "stream",
          "text": [
            "TraderNet sold:  $ 203.770004  Profit: - $ 22.639999\n"
          ],
          "name": "stdout"
        },
        {
          "output_type": "stream",
          "text": [
            " 91%|█████████ | 2231/2461 [05:06<00:31,  7.39it/s]"
          ],
          "name": "stderr"
        },
        {
          "output_type": "stream",
          "text": [
            "TraderNet sold:  $ 204.470001  Profit: - $ 19.369995\n"
          ],
          "name": "stdout"
        },
        {
          "output_type": "stream",
          "text": [
            " 91%|█████████ | 2235/2461 [05:07<00:30,  7.43it/s]"
          ],
          "name": "stderr"
        },
        {
          "output_type": "stream",
          "text": [
            "TraderNet sold:  $ 191.410004  Profit: - $ 26.470001\n",
            "TraderNet sold:  $ 193.529999  Profit: - $ 24.710007\n"
          ],
          "name": "stdout"
        },
        {
          "output_type": "stream",
          "text": [
            " 91%|█████████ | 2237/2461 [05:07<00:30,  7.45it/s]"
          ],
          "name": "stderr"
        },
        {
          "output_type": "stream",
          "text": [
            "TraderNet sold:  $ 185.860001  Profit: - $ 34.169998\n"
          ],
          "name": "stdout"
        },
        {
          "output_type": "stream",
          "text": [
            " 91%|█████████ | 2240/2461 [05:08<00:29,  7.41it/s]"
          ],
          "name": "stderr"
        },
        {
          "output_type": "stream",
          "text": [
            "TraderNet bought:  $ 172.289993\n"
          ],
          "name": "stdout"
        },
        {
          "output_type": "stream",
          "text": [
            " 91%|█████████ | 2243/2461 [05:08<00:30,  7.23it/s]"
          ],
          "name": "stderr"
        },
        {
          "output_type": "stream",
          "text": [
            "TraderNet sold:  $ 180.940002  Profit: - $ 39.849991\n",
            "TraderNet bought:  $ 179.550003\n"
          ],
          "name": "stdout"
        },
        {
          "output_type": "stream",
          "text": [
            " 91%|█████████▏| 2249/2461 [05:09<00:28,  7.35it/s]"
          ],
          "name": "stderr"
        },
        {
          "output_type": "stream",
          "text": [
            "TraderNet sold:  $ 168.490005  Profit: - $ 53.699997\n"
          ],
          "name": "stdout"
        },
        {
          "output_type": "stream",
          "text": [
            " 92%|█████████▏| 2252/2461 [05:09<00:28,  7.35it/s]"
          ],
          "name": "stderr"
        },
        {
          "output_type": "stream",
          "text": [
            "TraderNet sold:  $ 169.100006  Profit: - $ 45.349991\n"
          ],
          "name": "stdout"
        },
        {
          "output_type": "stream",
          "text": [
            " 92%|█████████▏| 2259/2461 [05:10<00:28,  7.07it/s]"
          ],
          "name": "stderr"
        },
        {
          "output_type": "stream",
          "text": [
            "TraderNet sold:  $ 150.729996  Profit: - $ 69.919998\n",
            "TraderNet bought:  $ 146.830002\n"
          ],
          "name": "stdout"
        },
        {
          "output_type": "stream",
          "text": [
            " 92%|█████████▏| 2263/2461 [05:11<00:27,  7.09it/s]"
          ],
          "name": "stderr"
        },
        {
          "output_type": "stream",
          "text": [
            "TraderNet sold:  $ 156.229996  Profit: - $ 16.059998\n",
            "TraderNet bought:  $ 157.740005\n"
          ],
          "name": "stdout"
        },
        {
          "output_type": "stream",
          "text": [
            " 92%|█████████▏| 2265/2461 [05:11<00:27,  7.11it/s]"
          ],
          "name": "stderr"
        },
        {
          "output_type": "stream",
          "text": [
            "TraderNet bought:  $ 157.919998\n",
            "TraderNet bought:  $ 142.190002\n"
          ],
          "name": "stdout"
        },
        {
          "output_type": "stream",
          "text": [
            " 92%|█████████▏| 2267/2461 [05:11<00:27,  7.08it/s]"
          ],
          "name": "stderr"
        },
        {
          "output_type": "stream",
          "text": [
            "TraderNet bought:  $ 148.259995\n",
            "TraderNet bought:  $ 147.929993\n"
          ],
          "name": "stdout"
        },
        {
          "output_type": "stream",
          "text": [
            " 92%|█████████▏| 2269/2461 [05:12<00:26,  7.22it/s]"
          ],
          "name": "stderr"
        },
        {
          "output_type": "stream",
          "text": [
            "TraderNet bought:  $ 150.750000\n",
            "TraderNet bought:  $ 153.309998\n"
          ],
          "name": "stdout"
        },
        {
          "output_type": "stream",
          "text": [
            " 92%|█████████▏| 2271/2461 [05:12<00:26,  7.19it/s]"
          ],
          "name": "stderr"
        },
        {
          "output_type": "stream",
          "text": [
            "TraderNet bought:  $ 153.800003\n",
            "TraderNet bought:  $ 152.289993\n"
          ],
          "name": "stdout"
        },
        {
          "output_type": "stream",
          "text": [
            " 92%|█████████▏| 2273/2461 [05:12<00:26,  7.20it/s]"
          ],
          "name": "stderr"
        },
        {
          "output_type": "stream",
          "text": [
            "TraderNet bought:  $ 150.000000\n",
            "TraderNet bought:  $ 153.070007\n"
          ],
          "name": "stdout"
        },
        {
          "output_type": "stream",
          "text": [
            " 92%|█████████▏| 2275/2461 [05:12<00:25,  7.38it/s]"
          ],
          "name": "stderr"
        },
        {
          "output_type": "stream",
          "text": [
            "TraderNet bought:  $ 154.940002\n",
            "TraderNet bought:  $ 155.860001\n"
          ],
          "name": "stdout"
        },
        {
          "output_type": "stream",
          "text": [
            " 93%|█████████▎| 2292/2461 [05:15<00:22,  7.60it/s]"
          ],
          "name": "stderr"
        },
        {
          "output_type": "stream",
          "text": [
            "TraderNet bought:  $ 169.429993\n",
            "TraderNet bought:  $ 170.889999\n"
          ],
          "name": "stdout"
        },
        {
          "output_type": "stream",
          "text": [
            " 93%|█████████▎| 2294/2461 [05:15<00:22,  7.51it/s]"
          ],
          "name": "stderr"
        },
        {
          "output_type": "stream",
          "text": [
            "TraderNet bought:  $ 170.179993\n",
            "TraderNet bought:  $ 170.800003\n"
          ],
          "name": "stdout"
        },
        {
          "output_type": "stream",
          "text": [
            " 93%|█████████▎| 2296/2461 [05:15<00:22,  7.46it/s]"
          ],
          "name": "stderr"
        },
        {
          "output_type": "stream",
          "text": [
            "TraderNet bought:  $ 170.419998\n",
            "TraderNet bought:  $ 170.929993\n"
          ],
          "name": "stdout"
        },
        {
          "output_type": "stream",
          "text": [
            " 93%|█████████▎| 2300/2461 [05:16<00:21,  7.38it/s]"
          ],
          "name": "stderr"
        },
        {
          "output_type": "stream",
          "text": [
            "TraderNet bought:  $ 172.970001\n",
            "TraderNet bought:  $ 174.229996\n"
          ],
          "name": "stdout"
        },
        {
          "output_type": "stream",
          "text": [
            " 95%|█████████▌| 2347/2461 [05:22<00:15,  7.33it/s]"
          ],
          "name": "stderr"
        },
        {
          "output_type": "stream",
          "text": [
            "TraderNet bought:  $ 210.520004\n"
          ],
          "name": "stdout"
        },
        {
          "output_type": "stream",
          "text": [
            " 99%|█████████▉| 2432/2461 [05:34<00:03,  7.45it/s]"
          ],
          "name": "stderr"
        },
        {
          "output_type": "stream",
          "text": [
            "TraderNet bought:  $ 208.740005\n"
          ],
          "name": "stdout"
        },
        {
          "output_type": "stream",
          "text": [
            " 99%|█████████▉| 2444/2461 [05:35<00:02,  7.26it/s]"
          ],
          "name": "stderr"
        },
        {
          "output_type": "stream",
          "text": [
            "TraderNet bought:  $ 222.770004\n",
            "TraderNet bought:  $ 220.960007\n"
          ],
          "name": "stdout"
        },
        {
          "output_type": "stream",
          "text": [
            " 99%|█████████▉| 2447/2461 [05:36<00:01,  7.50it/s]"
          ],
          "name": "stderr"
        },
        {
          "output_type": "stream",
          "text": [
            "TraderNet bought:  $ 218.720001\n"
          ],
          "name": "stdout"
        },
        {
          "output_type": "stream",
          "text": [
            "100%|█████████▉| 2449/2461 [05:36<00:01,  7.44it/s]"
          ],
          "name": "stderr"
        },
        {
          "output_type": "stream",
          "text": [
            "TraderNet bought:  $ 221.029999\n",
            "TraderNet bought:  $ 219.889999\n"
          ],
          "name": "stdout"
        },
        {
          "output_type": "stream",
          "text": [
            "100%|█████████▉| 2452/2461 [05:36<00:01,  7.60it/s]"
          ],
          "name": "stderr"
        },
        {
          "output_type": "stream",
          "text": [
            "TraderNet bought:  $ 223.970001\n"
          ],
          "name": "stdout"
        },
        {
          "output_type": "stream",
          "text": [
            "100%|█████████▉| 2455/2461 [05:37<00:00,  7.44it/s]"
          ],
          "name": "stderr"
        },
        {
          "output_type": "stream",
          "text": [
            "TraderNet bought:  $ 220.820007\n"
          ],
          "name": "stdout"
        },
        {
          "output_type": "stream",
          "text": [
            "100%|█████████▉| 2460/2461 [05:37<00:00,  7.67it/s]"
          ],
          "name": "stderr"
        },
        {
          "output_type": "stream",
          "text": [
            "TraderNet bought:  $ 230.089996\n",
            "TraderNet bought:  $ 236.210007\n",
            "########################\n",
            "TOTAL PROFIT: 2289.3228454589844\n",
            "########################\n"
          ],
          "name": "stdout"
        },
        {
          "output_type": "stream",
          "text": [
            "100%|██████████| 2461/2461 [05:37<00:00,  7.56it/s]\n",
            "  0%|          | 1/2461 [00:00<05:08,  7.98it/s]"
          ],
          "name": "stderr"
        },
        {
          "output_type": "stream",
          "text": [
            "Episode: 2/1000\n",
            "TraderNet bought:  $ 30.572857\n",
            "TraderNet bought:  $ 30.625713\n"
          ],
          "name": "stdout"
        },
        {
          "output_type": "stream",
          "text": [
            "  0%|          | 3/2461 [00:00<05:19,  7.69it/s]"
          ],
          "name": "stderr"
        },
        {
          "output_type": "stream",
          "text": [
            "TraderNet bought:  $ 30.138571\n",
            "TraderNet bought:  $ 30.082857\n"
          ],
          "name": "stdout"
        },
        {
          "output_type": "stream",
          "text": [
            "  0%|          | 5/2461 [00:00<05:22,  7.61it/s]"
          ],
          "name": "stderr"
        },
        {
          "output_type": "stream",
          "text": [
            "TraderNet bought:  $ 30.282858\n",
            "TraderNet bought:  $ 30.015715\n"
          ],
          "name": "stdout"
        },
        {
          "output_type": "stream",
          "text": [
            "  0%|          | 7/2461 [00:00<05:25,  7.53it/s]"
          ],
          "name": "stderr"
        },
        {
          "output_type": "stream",
          "text": [
            "TraderNet bought:  $ 29.674286\n",
            "TraderNet bought:  $ 30.092857\n"
          ],
          "name": "stdout"
        },
        {
          "output_type": "stream",
          "text": [
            "  0%|          | 9/2461 [00:01<05:27,  7.48it/s]"
          ],
          "name": "stderr"
        },
        {
          "output_type": "stream",
          "text": [
            "TraderNet bought:  $ 29.918571\n",
            "TraderNet bought:  $ 29.418571\n"
          ],
          "name": "stdout"
        },
        {
          "output_type": "stream",
          "text": [
            "  0%|          | 11/2461 [00:01<05:35,  7.30it/s]"
          ],
          "name": "stderr"
        },
        {
          "output_type": "stream",
          "text": [
            "TraderNet bought:  $ 30.719999\n",
            "TraderNet bought:  $ 30.247143\n"
          ],
          "name": "stdout"
        },
        {
          "output_type": "stream",
          "text": [
            "  1%|          | 15/2461 [00:02<05:22,  7.57it/s]"
          ],
          "name": "stderr"
        },
        {
          "output_type": "stream",
          "text": [
            "TraderNet bought:  $ 29.010000\n",
            "TraderNet bought:  $ 29.420000\n"
          ],
          "name": "stdout"
        },
        {
          "output_type": "stream",
          "text": [
            "  1%|          | 17/2461 [00:02<05:23,  7.55it/s]"
          ],
          "name": "stderr"
        },
        {
          "output_type": "stream",
          "text": [
            "TraderNet bought:  $ 29.697144\n",
            "TraderNet bought:  $ 28.469999\n"
          ],
          "name": "stdout"
        },
        {
          "output_type": "stream",
          "text": [
            "  1%|          | 20/2461 [00:02<05:25,  7.51it/s]"
          ],
          "name": "stderr"
        },
        {
          "output_type": "stream",
          "text": [
            "TraderNet bought:  $ 27.818571\n",
            "TraderNet bought:  $ 27.980000\n"
          ],
          "name": "stdout"
        },
        {
          "output_type": "stream",
          "text": [
            "  1%|          | 22/2461 [00:02<05:31,  7.35it/s]"
          ],
          "name": "stderr"
        },
        {
          "output_type": "stream",
          "text": [
            "TraderNet bought:  $ 28.461428\n",
            "TraderNet bought:  $ 27.435715\n"
          ],
          "name": "stdout"
        },
        {
          "output_type": "stream",
          "text": [
            "  1%|          | 24/2461 [00:03<05:32,  7.32it/s]"
          ],
          "name": "stderr"
        },
        {
          "output_type": "stream",
          "text": [
            "TraderNet bought:  $ 27.922857\n",
            "TraderNet bought:  $ 27.731428\n"
          ],
          "name": "stdout"
        },
        {
          "output_type": "stream",
          "text": [
            "  1%|          | 26/2461 [00:03<05:27,  7.44it/s]"
          ],
          "name": "stderr"
        },
        {
          "output_type": "stream",
          "text": [
            "TraderNet bought:  $ 28.027143\n"
          ],
          "name": "stdout"
        },
        {
          "output_type": "stream",
          "text": [
            "  2%|▏         | 50/2461 [00:06<05:14,  7.67it/s]"
          ],
          "name": "stderr"
        },
        {
          "output_type": "stream",
          "text": [
            "TraderNet bought:  $ 32.064285\n"
          ],
          "name": "stdout"
        },
        {
          "output_type": "stream",
          "text": [
            "  2%|▏         | 52/2461 [00:06<05:25,  7.40it/s]"
          ],
          "name": "stderr"
        },
        {
          "output_type": "stream",
          "text": [
            "TraderNet bought:  $ 32.092857\n"
          ],
          "name": "stdout"
        },
        {
          "output_type": "stream",
          "text": [
            "  2%|▏         | 54/2461 [00:07<05:26,  7.38it/s]"
          ],
          "name": "stderr"
        },
        {
          "output_type": "stream",
          "text": [
            "TraderNet bought:  $ 32.107143\n"
          ],
          "name": "stdout"
        },
        {
          "output_type": "stream",
          "text": [
            "  2%|▏         | 56/2461 [00:07<05:18,  7.55it/s]"
          ],
          "name": "stderr"
        },
        {
          "output_type": "stream",
          "text": [
            "TraderNet bought:  $ 32.767143\n"
          ],
          "name": "stdout"
        },
        {
          "output_type": "stream",
          "text": [
            "  2%|▏         | 59/2461 [00:07<05:16,  7.60it/s]"
          ],
          "name": "stderr"
        },
        {
          "output_type": "stream",
          "text": [
            "TraderNet bought:  $ 33.198570\n"
          ],
          "name": "stdout"
        },
        {
          "output_type": "stream",
          "text": [
            "  3%|▎         | 83/2461 [00:11<05:14,  7.57it/s]"
          ],
          "name": "stderr"
        },
        {
          "output_type": "stream",
          "text": [
            "TraderNet bought:  $ 38.049999\n",
            "TraderNet bought:  $ 36.954285\n"
          ],
          "name": "stdout"
        },
        {
          "output_type": "stream",
          "text": [
            "  4%|▎         | 91/2461 [00:12<05:10,  7.63it/s]"
          ],
          "name": "stderr"
        },
        {
          "output_type": "stream",
          "text": [
            "TraderNet bought:  $ 36.908573\n"
          ],
          "name": "stdout"
        },
        {
          "output_type": "stream",
          "text": [
            "  4%|▍         | 97/2461 [00:12<05:15,  7.49it/s]"
          ],
          "name": "stderr"
        },
        {
          "output_type": "stream",
          "text": [
            "TraderNet bought:  $ 34.617142\n"
          ],
          "name": "stdout"
        },
        {
          "output_type": "stream",
          "text": [
            "  4%|▍         | 99/2461 [00:13<05:17,  7.44it/s]"
          ],
          "name": "stderr"
        },
        {
          "output_type": "stream",
          "text": [
            "TraderNet bought:  $ 35.031429\n"
          ],
          "name": "stdout"
        },
        {
          "output_type": "stream",
          "text": [
            "  5%|▍         | 119/2461 [00:15<05:12,  7.48it/s]"
          ],
          "name": "stderr"
        },
        {
          "output_type": "stream",
          "text": [
            "TraderNet bought:  $ 38.709999\n"
          ],
          "name": "stdout"
        },
        {
          "output_type": "stream",
          "text": [
            "  5%|▌         | 127/2461 [00:17<05:16,  7.37it/s]"
          ],
          "name": "stderr"
        },
        {
          "output_type": "stream",
          "text": [
            "TraderNet bought:  $ 35.518570\n"
          ],
          "name": "stdout"
        },
        {
          "output_type": "stream",
          "text": [
            "  5%|▌         | 133/2461 [00:17<05:16,  7.35it/s]"
          ],
          "name": "stderr"
        },
        {
          "output_type": "stream",
          "text": [
            "TraderNet bought:  $ 36.104286\n"
          ],
          "name": "stdout"
        },
        {
          "output_type": "stream",
          "text": [
            "  5%|▌         | 135/2461 [00:18<05:09,  7.51it/s]"
          ],
          "name": "stderr"
        },
        {
          "output_type": "stream",
          "text": [
            "TraderNet bought:  $ 35.700001\n",
            "TraderNet bought:  $ 35.082859\n"
          ],
          "name": "stdout"
        },
        {
          "output_type": "stream",
          "text": [
            "  6%|▌         | 137/2461 [00:18<05:11,  7.47it/s]"
          ],
          "name": "stderr"
        },
        {
          "output_type": "stream",
          "text": [
            "TraderNet bought:  $ 35.984287\n",
            "TraderNet bought:  $ 36.320000\n"
          ],
          "name": "stdout"
        },
        {
          "output_type": "stream",
          "text": [
            "  6%|▌         | 142/2461 [00:19<05:06,  7.56it/s]"
          ],
          "name": "stderr"
        },
        {
          "output_type": "stream",
          "text": [
            "TraderNet bought:  $ 37.725716\n",
            "TraderNet bought:  $ 37.279999\n"
          ],
          "name": "stdout"
        },
        {
          "output_type": "stream",
          "text": [
            "  6%|▌         | 145/2461 [00:19<05:08,  7.50it/s]"
          ],
          "name": "stderr"
        },
        {
          "output_type": "stream",
          "text": [
            "TraderNet bought:  $ 36.750000\n",
            "TraderNet bought:  $ 37.407143\n"
          ],
          "name": "stdout"
        },
        {
          "output_type": "stream",
          "text": [
            "  6%|▌         | 147/2461 [00:19<05:12,  7.40it/s]"
          ],
          "name": "stderr"
        },
        {
          "output_type": "stream",
          "text": [
            "TraderNet bought:  $ 37.418571\n",
            "TraderNet bought:  $ 37.568573\n"
          ],
          "name": "stdout"
        },
        {
          "output_type": "stream",
          "text": [
            "  7%|▋         | 160/2461 [00:21<05:09,  7.44it/s]"
          ],
          "name": "stderr"
        },
        {
          "output_type": "stream",
          "text": [
            "TraderNet bought:  $ 35.662857\n",
            "TraderNet bought:  $ 35.114285\n"
          ],
          "name": "stdout"
        },
        {
          "output_type": "stream",
          "text": [
            "  7%|▋         | 165/2461 [00:22<05:05,  7.51it/s]"
          ],
          "name": "stderr"
        },
        {
          "output_type": "stream",
          "text": [
            "TraderNet bought:  $ 34.517143\n",
            "TraderNet bought:  $ 34.642857\n"
          ],
          "name": "stdout"
        },
        {
          "output_type": "stream",
          "text": [
            "  7%|▋         | 175/2461 [00:23<05:08,  7.41it/s]"
          ],
          "name": "stderr"
        },
        {
          "output_type": "stream",
          "text": [
            "TraderNet bought:  $ 38.148571\n",
            "TraderNet bought:  $ 38.294285\n"
          ],
          "name": "stdout"
        },
        {
          "output_type": "stream",
          "text": [
            "  7%|▋         | 177/2461 [00:23<05:06,  7.46it/s]"
          ],
          "name": "stderr"
        },
        {
          "output_type": "stream",
          "text": [
            "TraderNet bought:  $ 38.602856\n",
            "TraderNet bought:  $ 39.509998\n"
          ],
          "name": "stdout"
        },
        {
          "output_type": "stream",
          "text": [
            "  7%|▋         | 179/2461 [00:23<05:16,  7.21it/s]"
          ],
          "name": "stderr"
        },
        {
          "output_type": "stream",
          "text": [
            "TraderNet bought:  $ 39.338570\n",
            "TraderNet bought:  $ 40.461430\n"
          ],
          "name": "stdout"
        },
        {
          "output_type": "stream",
          "text": [
            "  7%|▋         | 182/2461 [00:24<05:15,  7.22it/s]"
          ],
          "name": "stderr"
        },
        {
          "output_type": "stream",
          "text": [
            "TraderNet bought:  $ 41.107143\n",
            "TraderNet bought:  $ 41.274284\n"
          ],
          "name": "stdout"
        },
        {
          "output_type": "stream",
          "text": [
            "  7%|▋         | 184/2461 [00:24<05:09,  7.36it/s]"
          ],
          "name": "stderr"
        },
        {
          "output_type": "stream",
          "text": [
            "TraderNet bought:  $ 41.759998\n",
            "TraderNet bought:  $ 41.594284\n"
          ],
          "name": "stdout"
        },
        {
          "output_type": "stream",
          "text": [
            "  8%|▊         | 186/2461 [00:24<05:10,  7.34it/s]"
          ],
          "name": "stderr"
        },
        {
          "output_type": "stream",
          "text": [
            "TraderNet bought:  $ 40.980000\n",
            "TraderNet bought:  $ 41.052856\n"
          ],
          "name": "stdout"
        },
        {
          "output_type": "stream",
          "text": [
            "  8%|▊         | 188/2461 [00:25<05:16,  7.18it/s]"
          ],
          "name": "stderr"
        },
        {
          "output_type": "stream",
          "text": [
            "TraderNet bought:  $ 40.535713\n",
            "TraderNet bought:  $ 40.360001\n"
          ],
          "name": "stdout"
        },
        {
          "output_type": "stream",
          "text": [
            "  8%|▊         | 191/2461 [00:25<05:05,  7.44it/s]"
          ],
          "name": "stderr"
        },
        {
          "output_type": "stream",
          "text": [
            "TraderNet bought:  $ 41.277142\n",
            "TraderNet bought:  $ 41.312859\n"
          ],
          "name": "stdout"
        },
        {
          "output_type": "stream",
          "text": [
            "  8%|▊         | 194/2461 [00:26<05:03,  7.46it/s]"
          ],
          "name": "stderr"
        },
        {
          "output_type": "stream",
          "text": [
            "TraderNet bought:  $ 42.009998\n"
          ],
          "name": "stdout"
        },
        {
          "output_type": "stream",
          "text": [
            "  9%|▊         | 212/2461 [00:28<05:24,  6.92it/s]"
          ],
          "name": "stderr"
        },
        {
          "output_type": "stream",
          "text": [
            "TraderNet bought:  $ 44.685715\n"
          ],
          "name": "stdout"
        },
        {
          "output_type": "stream",
          "text": [
            "  9%|▉         | 216/2461 [00:29<05:22,  6.97it/s]"
          ],
          "name": "stderr"
        },
        {
          "output_type": "stream",
          "text": [
            "TraderNet bought:  $ 45.154285\n"
          ],
          "name": "stdout"
        },
        {
          "output_type": "stream",
          "text": [
            "  9%|▉         | 218/2461 [00:29<05:23,  6.93it/s]"
          ],
          "name": "stderr"
        },
        {
          "output_type": "stream",
          "text": [
            "TraderNet bought:  $ 45.235714\n",
            "TraderNet bought:  $ 44.004284\n"
          ],
          "name": "stdout"
        },
        {
          "output_type": "stream",
          "text": [
            "  9%|▉         | 220/2461 [00:29<05:32,  6.73it/s]"
          ],
          "name": "stderr"
        },
        {
          "output_type": "stream",
          "text": [
            "TraderNet bought:  $ 43.862858\n",
            "TraderNet bought:  $ 43.084286\n"
          ],
          "name": "stdout"
        },
        {
          "output_type": "stream",
          "text": [
            "  9%|▉         | 222/2461 [00:30<05:26,  6.87it/s]"
          ],
          "name": "stderr"
        },
        {
          "output_type": "stream",
          "text": [
            "TraderNet bought:  $ 42.928570\n",
            "TraderNet bought:  $ 44.061428\n"
          ],
          "name": "stdout"
        },
        {
          "output_type": "stream",
          "text": [
            "  9%|▉         | 225/2461 [00:30<05:25,  6.86it/s]"
          ],
          "name": "stderr"
        },
        {
          "output_type": "stream",
          "text": [
            "TraderNet bought:  $ 44.765713\n"
          ],
          "name": "stdout"
        },
        {
          "output_type": "stream",
          "text": [
            " 10%|▉         | 236/2461 [00:32<05:11,  7.15it/s]"
          ],
          "name": "stderr"
        },
        {
          "output_type": "stream",
          "text": [
            "TraderNet bought:  $ 45.858570\n",
            "TraderNet bought:  $ 45.680000\n"
          ],
          "name": "stdout"
        },
        {
          "output_type": "stream",
          "text": [
            " 10%|▉         | 243/2461 [00:33<05:14,  7.05it/s]"
          ],
          "name": "stderr"
        },
        {
          "output_type": "stream",
          "text": [
            "TraderNet bought:  $ 45.801430\n",
            "TraderNet bought:  $ 46.029999\n"
          ],
          "name": "stdout"
        },
        {
          "output_type": "stream",
          "text": [
            " 10%|▉         | 245/2461 [00:33<05:15,  7.02it/s]"
          ],
          "name": "stderr"
        },
        {
          "output_type": "stream",
          "text": [
            "TraderNet bought:  $ 46.314285\n",
            "TraderNet bought:  $ 46.451427\n"
          ],
          "name": "stdout"
        },
        {
          "output_type": "stream",
          "text": [
            " 10%|█         | 247/2461 [00:33<05:15,  7.03it/s]"
          ],
          "name": "stderr"
        },
        {
          "output_type": "stream",
          "text": [
            "TraderNet bought:  $ 46.228573\n",
            "TraderNet bought:  $ 46.382858\n"
          ],
          "name": "stdout"
        },
        {
          "output_type": "stream",
          "text": [
            " 10%|█         | 249/2461 [00:33<05:17,  6.96it/s]"
          ],
          "name": "stderr"
        },
        {
          "output_type": "stream",
          "text": [
            "TraderNet bought:  $ 46.495716\n",
            "TraderNet bought:  $ 46.470001\n"
          ],
          "name": "stdout"
        },
        {
          "output_type": "stream",
          "text": [
            " 10%|█         | 251/2461 [00:34<05:13,  7.04it/s]"
          ],
          "name": "stderr"
        },
        {
          "output_type": "stream",
          "text": [
            "TraderNet bought:  $ 46.237144\n"
          ],
          "name": "stdout"
        },
        {
          "output_type": "stream",
          "text": [
            " 11%|█         | 261/2461 [00:35<05:13,  7.01it/s]"
          ],
          "name": "stderr"
        },
        {
          "output_type": "stream",
          "text": [
            "TraderNet bought:  $ 49.382858\n",
            "TraderNet bought:  $ 49.782856\n"
          ],
          "name": "stdout"
        },
        {
          "output_type": "stream",
          "text": [
            " 11%|█         | 269/2461 [00:36<05:12,  7.01it/s]"
          ],
          "name": "stderr"
        },
        {
          "output_type": "stream",
          "text": [
            "TraderNet bought:  $ 49.121429\n"
          ],
          "name": "stdout"
        },
        {
          "output_type": "stream",
          "text": [
            " 11%|█         | 274/2461 [00:37<04:53,  7.45it/s]"
          ],
          "name": "stderr"
        },
        {
          "output_type": "stream",
          "text": [
            "TraderNet bought:  $ 49.188572\n",
            "TraderNet bought:  $ 49.062859\n"
          ],
          "name": "stdout"
        },
        {
          "output_type": "stream",
          "text": [
            " 11%|█         | 276/2461 [00:37<04:52,  7.47it/s]"
          ],
          "name": "stderr"
        },
        {
          "output_type": "stream",
          "text": [
            "TraderNet bought:  $ 49.500000\n",
            "TraderNet bought:  $ 50.268570\n"
          ],
          "name": "stdout"
        },
        {
          "output_type": "stream",
          "text": [
            " 11%|█▏        | 278/2461 [00:37<04:49,  7.55it/s]"
          ],
          "name": "stderr"
        },
        {
          "output_type": "stream",
          "text": [
            "TraderNet bought:  $ 50.742859\n",
            "TraderNet bought:  $ 51.165714\n"
          ],
          "name": "stdout"
        },
        {
          "output_type": "stream",
          "text": [
            " 11%|█▏        | 281/2461 [00:38<04:52,  7.46it/s]"
          ],
          "name": "stderr"
        },
        {
          "output_type": "stream",
          "text": [
            "TraderNet bought:  $ 50.978573\n"
          ],
          "name": "stdout"
        },
        {
          "output_type": "stream",
          "text": [
            " 11%|█▏        | 283/2461 [00:38<04:49,  7.54it/s]"
          ],
          "name": "stderr"
        },
        {
          "output_type": "stream",
          "text": [
            "TraderNet bought:  $ 51.414288\n"
          ],
          "name": "stdout"
        },
        {
          "output_type": "stream",
          "text": [
            " 12%|█▏        | 290/2461 [00:39<05:02,  7.17it/s]"
          ],
          "name": "stderr"
        },
        {
          "output_type": "stream",
          "text": [
            "TraderNet bought:  $ 49.737144\n"
          ],
          "name": "stdout"
        },
        {
          "output_type": "stream",
          "text": [
            " 12%|█▏        | 299/2461 [00:40<04:50,  7.44it/s]"
          ],
          "name": "stderr"
        },
        {
          "output_type": "stream",
          "text": [
            "TraderNet bought:  $ 49.524284\n",
            "TraderNet bought:  $ 50.284286\n"
          ],
          "name": "stdout"
        },
        {
          "output_type": "stream",
          "text": [
            " 12%|█▏        | 302/2461 [00:41<04:49,  7.45it/s]"
          ],
          "name": "stderr"
        },
        {
          "output_type": "stream",
          "text": [
            "TraderNet bought:  $ 49.347141\n"
          ],
          "name": "stdout"
        },
        {
          "output_type": "stream",
          "text": [
            " 13%|█▎        | 308/2461 [00:42<04:48,  7.45it/s]"
          ],
          "name": "stderr"
        },
        {
          "output_type": "stream",
          "text": [
            "TraderNet bought:  $ 48.455715\n",
            "TraderNet bought:  $ 49.281429\n"
          ],
          "name": "stdout"
        },
        {
          "output_type": "stream",
          "text": [
            " 13%|█▎        | 310/2461 [00:42<04:53,  7.33it/s]"
          ],
          "name": "stderr"
        },
        {
          "output_type": "stream",
          "text": [
            "TraderNet bought:  $ 50.220001\n"
          ],
          "name": "stdout"
        },
        {
          "output_type": "stream",
          "text": [
            " 13%|█▎        | 315/2461 [00:42<04:52,  7.34it/s]"
          ],
          "name": "stderr"
        },
        {
          "output_type": "stream",
          "text": [
            "TraderNet bought:  $ 49.222858\n",
            "TraderNet bought:  $ 48.741428\n"
          ],
          "name": "stdout"
        },
        {
          "output_type": "stream",
          "text": [
            " 13%|█▎        | 317/2461 [00:43<04:49,  7.40it/s]"
          ],
          "name": "stderr"
        },
        {
          "output_type": "stream",
          "text": [
            "TraderNet bought:  $ 48.412857\n"
          ],
          "name": "stdout"
        },
        {
          "output_type": "stream",
          "text": [
            " 13%|█▎        | 319/2461 [00:43<04:46,  7.48it/s]"
          ],
          "name": "stderr"
        },
        {
          "output_type": "stream",
          "text": [
            "TraderNet bought:  $ 48.297142\n"
          ],
          "name": "stdout"
        },
        {
          "output_type": "stream",
          "text": [
            " 13%|█▎        | 321/2461 [00:43<04:47,  7.43it/s]"
          ],
          "name": "stderr"
        },
        {
          "output_type": "stream",
          "text": [
            "TraderNet bought:  $ 47.257141\n"
          ],
          "name": "stdout"
        },
        {
          "output_type": "stream",
          "text": [
            " 13%|█▎        | 324/2461 [00:44<04:48,  7.40it/s]"
          ],
          "name": "stderr"
        },
        {
          "output_type": "stream",
          "text": [
            "TraderNet bought:  $ 47.488571\n"
          ],
          "name": "stdout"
        },
        {
          "output_type": "stream",
          "text": [
            " 13%|█▎        | 326/2461 [00:44<04:51,  7.31it/s]"
          ],
          "name": "stderr"
        },
        {
          "output_type": "stream",
          "text": [
            "TraderNet bought:  $ 47.407143\n"
          ],
          "name": "stdout"
        },
        {
          "output_type": "stream",
          "text": [
            " 13%|█▎        | 330/2461 [00:45<04:56,  7.18it/s]"
          ],
          "name": "stderr"
        },
        {
          "output_type": "stream",
          "text": [
            "TraderNet bought:  $ 50.430000\n"
          ],
          "name": "stdout"
        },
        {
          "output_type": "stream",
          "text": [
            " 14%|█▎        | 337/2461 [00:46<04:45,  7.44it/s]"
          ],
          "name": "stderr"
        },
        {
          "output_type": "stream",
          "text": [
            "TraderNet bought:  $ 49.938572\n",
            "TraderNet bought:  $ 49.535713\n"
          ],
          "name": "stdout"
        },
        {
          "output_type": "stream",
          "text": [
            " 14%|█▍        | 339/2461 [00:46<04:47,  7.38it/s]"
          ],
          "name": "stderr"
        },
        {
          "output_type": "stream",
          "text": [
            "TraderNet bought:  $ 49.522858\n"
          ],
          "name": "stdout"
        },
        {
          "output_type": "stream",
          "text": [
            " 14%|█▍        | 341/2461 [00:46<04:47,  7.38it/s]"
          ],
          "name": "stderr"
        },
        {
          "output_type": "stream",
          "text": [
            "TraderNet bought:  $ 49.921429\n",
            "TraderNet bought:  $ 49.604286\n"
          ],
          "name": "stdout"
        },
        {
          "output_type": "stream",
          "text": [
            " 14%|█▍        | 343/2461 [00:46<04:44,  7.44it/s]"
          ],
          "name": "stderr"
        },
        {
          "output_type": "stream",
          "text": [
            "TraderNet bought:  $ 49.509998\n"
          ],
          "name": "stdout"
        },
        {
          "output_type": "stream",
          "text": [
            " 14%|█▍        | 350/2461 [00:47<04:37,  7.60it/s]"
          ],
          "name": "stderr"
        },
        {
          "output_type": "stream",
          "text": [
            "TraderNet bought:  $ 47.771427\n",
            "TraderNet bought:  $ 47.455715\n"
          ],
          "name": "stdout"
        },
        {
          "output_type": "stream",
          "text": [
            " 14%|█▍        | 352/2461 [00:48<04:43,  7.44it/s]"
          ],
          "name": "stderr"
        },
        {
          "output_type": "stream",
          "text": [
            "TraderNet bought:  $ 48.111427\n"
          ],
          "name": "stdout"
        },
        {
          "output_type": "stream",
          "text": [
            " 14%|█▍        | 356/2461 [00:48<04:42,  7.45it/s]"
          ],
          "name": "stderr"
        },
        {
          "output_type": "stream",
          "text": [
            "TraderNet bought:  $ 49.358570\n"
          ],
          "name": "stdout"
        },
        {
          "output_type": "stream",
          "text": [
            " 15%|█▍        | 361/2461 [00:49<04:42,  7.43it/s]"
          ],
          "name": "stderr"
        },
        {
          "output_type": "stream",
          "text": [
            "TraderNet bought:  $ 47.462856\n"
          ],
          "name": "stdout"
        },
        {
          "output_type": "stream",
          "text": [
            " 15%|█▍        | 364/2461 [00:49<04:41,  7.45it/s]"
          ],
          "name": "stderr"
        },
        {
          "output_type": "stream",
          "text": [
            "TraderNet bought:  $ 46.657143\n"
          ],
          "name": "stdout"
        },
        {
          "output_type": "stream",
          "text": [
            " 15%|█▍        | 366/2461 [00:49<04:43,  7.38it/s]"
          ],
          "name": "stderr"
        },
        {
          "output_type": "stream",
          "text": [
            "TraderNet bought:  $ 46.678570\n"
          ],
          "name": "stdout"
        },
        {
          "output_type": "stream",
          "text": [
            " 15%|█▌        | 379/2461 [00:51<04:39,  7.44it/s]"
          ],
          "name": "stderr"
        },
        {
          "output_type": "stream",
          "text": [
            "TraderNet bought:  $ 49.918571\n"
          ],
          "name": "stdout"
        },
        {
          "output_type": "stream",
          "text": [
            " 16%|█▌        | 387/2461 [00:52<04:43,  7.32it/s]"
          ],
          "name": "stderr"
        },
        {
          "output_type": "stream",
          "text": [
            "TraderNet bought:  $ 52.131428\n"
          ],
          "name": "stdout"
        },
        {
          "output_type": "stream",
          "text": [
            " 16%|█▌        | 389/2461 [00:53<04:43,  7.32it/s]"
          ],
          "name": "stderr"
        },
        {
          "output_type": "stream",
          "text": [
            "TraderNet sold:  $ 53.835712  Profit: $ 23.262856\n",
            "TraderNet bought:  $ 55.271427\n"
          ],
          "name": "stdout"
        },
        {
          "output_type": "stream",
          "text": [
            " 16%|█▌        | 392/2461 [00:53<04:37,  7.45it/s]"
          ],
          "name": "stderr"
        },
        {
          "output_type": "stream",
          "text": [
            "TraderNet sold:  $ 56.185715  Profit: $ 25.560001\n",
            "TraderNet sold:  $ 56.928570  Profit: $ 26.789999\n"
          ],
          "name": "stdout"
        },
        {
          "output_type": "stream",
          "text": [
            " 16%|█▌        | 394/2461 [00:53<04:41,  7.34it/s]"
          ],
          "name": "stderr"
        },
        {
          "output_type": "stream",
          "text": [
            "TraderNet sold:  $ 57.630001  Profit: $ 27.547144\n",
            "TraderNet sold:  $ 56.084286  Profit: $ 25.801428\n"
          ],
          "name": "stdout"
        },
        {
          "output_type": "stream",
          "text": [
            " 16%|█▌        | 396/2461 [00:54<04:50,  7.12it/s]"
          ],
          "name": "stderr"
        },
        {
          "output_type": "stream",
          "text": [
            "TraderNet sold:  $ 55.974285  Profit: $ 25.958570\n",
            "TraderNet sold:  $ 55.782856  Profit: $ 26.108570\n"
          ],
          "name": "stdout"
        },
        {
          "output_type": "stream",
          "text": [
            " 16%|█▌        | 398/2461 [00:54<04:49,  7.12it/s]"
          ],
          "name": "stderr"
        },
        {
          "output_type": "stream",
          "text": [
            "TraderNet sold:  $ 56.678570  Profit: $ 26.585712\n",
            "TraderNet sold:  $ 55.558571  Profit: $ 25.639999\n"
          ],
          "name": "stdout"
        },
        {
          "output_type": "stream",
          "text": [
            " 16%|█▋        | 400/2461 [00:54<04:55,  6.98it/s]"
          ],
          "name": "stderr"
        },
        {
          "output_type": "stream",
          "text": [
            "TraderNet sold:  $ 56.081429  Profit: $ 26.662857\n",
            "TraderNet sold:  $ 53.910000  Profit: $ 23.190001\n"
          ],
          "name": "stdout"
        },
        {
          "output_type": "stream",
          "text": [
            " 16%|█▋        | 402/2461 [00:54<04:59,  6.87it/s]"
          ],
          "name": "stderr"
        },
        {
          "output_type": "stream",
          "text": [
            "TraderNet sold:  $ 53.374287  Profit: $ 23.127144\n",
            "TraderNet sold:  $ 50.458572  Profit: $ 21.448572\n"
          ],
          "name": "stdout"
        },
        {
          "output_type": "stream",
          "text": [
            " 16%|█▋        | 404/2461 [00:55<04:51,  7.06it/s]"
          ],
          "name": "stderr"
        },
        {
          "output_type": "stream",
          "text": [
            "TraderNet sold:  $ 53.430000  Profit: $ 24.010000\n",
            "TraderNet sold:  $ 51.955715  Profit: $ 22.258572\n"
          ],
          "name": "stdout"
        },
        {
          "output_type": "stream",
          "text": [
            " 16%|█▋        | 406/2461 [00:55<04:42,  7.28it/s]"
          ],
          "name": "stderr"
        },
        {
          "output_type": "stream",
          "text": [
            "TraderNet sold:  $ 53.385715  Profit: $ 24.915716\n",
            "TraderNet sold:  $ 53.855713  Profit: $ 26.037142\n"
          ],
          "name": "stdout"
        },
        {
          "output_type": "stream",
          "text": [
            " 17%|█▋        | 408/2461 [00:55<04:42,  7.26it/s]"
          ],
          "name": "stderr"
        },
        {
          "output_type": "stream",
          "text": [
            "TraderNet sold:  $ 54.772858  Profit: $ 26.792858\n",
            "TraderNet sold:  $ 54.354286  Profit: $ 25.892859\n"
          ],
          "name": "stdout"
        },
        {
          "output_type": "stream",
          "text": [
            " 17%|█▋        | 410/2461 [00:56<04:43,  7.23it/s]"
          ],
          "name": "stderr"
        },
        {
          "output_type": "stream",
          "text": [
            "TraderNet sold:  $ 54.348572  Profit: $ 26.912857\n",
            "TraderNet sold:  $ 52.292858  Profit: $ 24.370001\n"
          ],
          "name": "stdout"
        },
        {
          "output_type": "stream",
          "text": [
            " 17%|█▋        | 412/2461 [00:56<04:36,  7.41it/s]"
          ],
          "name": "stderr"
        },
        {
          "output_type": "stream",
          "text": [
            "TraderNet sold:  $ 50.861427  Profit: $ 23.129999\n",
            "TraderNet sold:  $ 50.919998  Profit: $ 22.892855\n"
          ],
          "name": "stdout"
        },
        {
          "output_type": "stream",
          "text": [
            " 17%|█▋        | 414/2461 [00:56<04:45,  7.16it/s]"
          ],
          "name": "stderr"
        },
        {
          "output_type": "stream",
          "text": [
            "TraderNet sold:  $ 53.371429  Profit: $ 21.307144\n",
            "TraderNet sold:  $ 53.740002  Profit: $ 21.647144\n"
          ],
          "name": "stdout"
        },
        {
          "output_type": "stream",
          "text": [
            " 17%|█▋        | 416/2461 [00:56<04:42,  7.23it/s]"
          ],
          "name": "stderr"
        },
        {
          "output_type": "stream",
          "text": [
            "TraderNet sold:  $ 53.388573  Profit: $ 21.281429\n",
            "TraderNet sold:  $ 54.797142  Profit: $ 22.029999\n"
          ],
          "name": "stdout"
        },
        {
          "output_type": "stream",
          "text": [
            " 17%|█▋        | 418/2461 [00:57<04:44,  7.18it/s]"
          ],
          "name": "stderr"
        },
        {
          "output_type": "stream",
          "text": [
            "TraderNet sold:  $ 55.709999  Profit: $ 22.511429\n",
            "TraderNet sold:  $ 55.712856  Profit: $ 17.662857\n"
          ],
          "name": "stdout"
        },
        {
          "output_type": "stream",
          "text": [
            " 17%|█▋        | 420/2461 [00:57<04:40,  7.27it/s]"
          ],
          "name": "stderr"
        },
        {
          "output_type": "stream",
          "text": [
            "TraderNet sold:  $ 54.975716  Profit: $ 18.021431\n",
            "TraderNet sold:  $ 54.432858  Profit: $ 17.524284\n"
          ],
          "name": "stdout"
        },
        {
          "output_type": "stream",
          "text": [
            " 17%|█▋        | 422/2461 [00:57<04:39,  7.29it/s]"
          ],
          "name": "stderr"
        },
        {
          "output_type": "stream",
          "text": [
            "TraderNet sold:  $ 53.435715  Profit: $ 18.818573\n",
            "TraderNet sold:  $ 54.248573  Profit: $ 19.217144\n"
          ],
          "name": "stdout"
        },
        {
          "output_type": "stream",
          "text": [
            " 17%|█▋        | 424/2461 [00:57<04:34,  7.41it/s]"
          ],
          "name": "stderr"
        },
        {
          "output_type": "stream",
          "text": [
            "TraderNet sold:  $ 54.847141  Profit: $ 16.137142\n",
            "TraderNet sold:  $ 54.877144  Profit: $ 19.358574\n"
          ],
          "name": "stdout"
        },
        {
          "output_type": "stream",
          "text": [
            " 17%|█▋        | 426/2461 [00:58<04:40,  7.25it/s]"
          ],
          "name": "stderr"
        },
        {
          "output_type": "stream",
          "text": [
            "TraderNet sold:  $ 53.925713  Profit: $ 17.821426\n",
            "TraderNet sold:  $ 54.277142  Profit: $ 18.577141\n"
          ],
          "name": "stdout"
        },
        {
          "output_type": "stream",
          "text": [
            " 17%|█▋        | 428/2461 [00:58<04:40,  7.25it/s]"
          ],
          "name": "stderr"
        },
        {
          "output_type": "stream",
          "text": [
            "TraderNet sold:  $ 54.945713  Profit: $ 19.862854\n",
            "TraderNet sold:  $ 55.614285  Profit: $ 19.629997\n"
          ],
          "name": "stdout"
        },
        {
          "output_type": "stream",
          "text": [
            " 17%|█▋        | 430/2461 [00:58<04:39,  7.27it/s]"
          ],
          "name": "stderr"
        },
        {
          "output_type": "stream",
          "text": [
            "TraderNet sold:  $ 56.137142  Profit: $ 19.817142\n",
            "TraderNet sold:  $ 57.214287  Profit: $ 19.488571\n"
          ],
          "name": "stdout"
        },
        {
          "output_type": "stream",
          "text": [
            " 18%|█▊        | 432/2461 [00:59<04:37,  7.30it/s]"
          ],
          "name": "stderr"
        },
        {
          "output_type": "stream",
          "text": [
            "TraderNet sold:  $ 58.804287  Profit: $ 21.524288\n",
            "TraderNet sold:  $ 59.064285  Profit: $ 22.314285\n"
          ],
          "name": "stdout"
        },
        {
          "output_type": "stream",
          "text": [
            " 18%|█▊        | 434/2461 [00:59<04:37,  7.30it/s]"
          ],
          "name": "stderr"
        },
        {
          "output_type": "stream",
          "text": [
            "TraderNet sold:  $ 58.877144  Profit: $ 21.470001\n",
            "TraderNet sold:  $ 57.402859  Profit: $ 19.984287\n"
          ],
          "name": "stdout"
        },
        {
          "output_type": "stream",
          "text": [
            " 18%|█▊        | 436/2461 [00:59<04:31,  7.45it/s]"
          ],
          "name": "stderr"
        },
        {
          "output_type": "stream",
          "text": [
            "TraderNet sold:  $ 57.757141  Profit: $ 20.188568\n",
            "TraderNet sold:  $ 57.595715  Profit: $ 21.932858\n"
          ],
          "name": "stdout"
        },
        {
          "output_type": "stream",
          "text": [
            " 18%|█▊        | 438/2461 [00:59<04:37,  7.30it/s]"
          ],
          "name": "stderr"
        },
        {
          "output_type": "stream",
          "text": [
            "TraderNet sold:  $ 57.037144  Profit: $ 21.922859\n",
            "TraderNet sold:  $ 56.715714  Profit: $ 22.198570\n"
          ],
          "name": "stdout"
        },
        {
          "output_type": "stream",
          "text": [
            " 18%|█▊        | 440/2461 [01:00<04:35,  7.34it/s]"
          ],
          "name": "stderr"
        },
        {
          "output_type": "stream",
          "text": [
            "TraderNet sold:  $ 55.795715  Profit: $ 21.152859\n",
            "TraderNet sold:  $ 54.474285  Profit: $ 16.325714\n"
          ],
          "name": "stdout"
        },
        {
          "output_type": "stream",
          "text": [
            " 18%|█▊        | 442/2461 [01:00<04:29,  7.48it/s]"
          ],
          "name": "stderr"
        },
        {
          "output_type": "stream",
          "text": [
            "TraderNet sold:  $ 53.514286  Profit: $ 15.220001\n",
            "TraderNet sold:  $ 53.214287  Profit: $ 14.611431\n"
          ],
          "name": "stdout"
        },
        {
          "output_type": "stream",
          "text": [
            " 18%|█▊        | 444/2461 [01:00<04:39,  7.20it/s]"
          ],
          "name": "stderr"
        },
        {
          "output_type": "stream",
          "text": [
            "TraderNet sold:  $ 54.035713  Profit: $ 14.525715\n",
            "TraderNet sold:  $ 53.910000  Profit: $ 14.571430\n"
          ],
          "name": "stdout"
        },
        {
          "output_type": "stream",
          "text": [
            " 18%|█▊        | 446/2461 [01:00<04:32,  7.38it/s]"
          ],
          "name": "stderr"
        },
        {
          "output_type": "stream",
          "text": [
            "TraderNet sold:  $ 52.828571  Profit: $ 12.367142\n"
          ],
          "name": "stdout"
        },
        {
          "output_type": "stream",
          "text": [
            " 18%|█▊        | 448/2461 [01:01<04:42,  7.13it/s]"
          ],
          "name": "stderr"
        },
        {
          "output_type": "stream",
          "text": [
            "TraderNet sold:  $ 57.184284  Profit: $ 16.077141\n",
            "TraderNet sold:  $ 57.455715  Profit: $ 16.181431\n"
          ],
          "name": "stdout"
        },
        {
          "output_type": "stream",
          "text": [
            " 18%|█▊        | 450/2461 [01:01<04:37,  7.24it/s]"
          ],
          "name": "stderr"
        },
        {
          "output_type": "stream",
          "text": [
            "TraderNet sold:  $ 58.347141  Profit: $ 16.587143\n",
            "TraderNet sold:  $ 60.285713  Profit: $ 18.691429\n"
          ],
          "name": "stdout"
        },
        {
          "output_type": "stream",
          "text": [
            " 18%|█▊        | 452/2461 [01:01<04:33,  7.34it/s]"
          ],
          "name": "stderr"
        },
        {
          "output_type": "stream",
          "text": [
            "TraderNet sold:  $ 59.998573  Profit: $ 19.018574\n",
            "TraderNet sold:  $ 60.320000  Profit: $ 19.267143\n"
          ],
          "name": "stdout"
        },
        {
          "output_type": "stream",
          "text": [
            " 18%|█▊        | 454/2461 [01:02<04:31,  7.39it/s]"
          ],
          "name": "stderr"
        },
        {
          "output_type": "stream",
          "text": [
            "TraderNet sold:  $ 56.945713  Profit: $ 16.410000\n",
            "TraderNet sold:  $ 56.472858  Profit: $ 16.112858\n"
          ],
          "name": "stdout"
        },
        {
          "output_type": "stream",
          "text": [
            " 19%|█▊        | 456/2461 [01:02<04:28,  7.46it/s]"
          ],
          "name": "stderr"
        },
        {
          "output_type": "stream",
          "text": [
            "TraderNet sold:  $ 56.124287  Profit: $ 14.847145\n",
            "TraderNet sold:  $ 57.967144  Profit: $ 16.654285\n"
          ],
          "name": "stdout"
        },
        {
          "output_type": "stream",
          "text": [
            " 19%|█▊        | 458/2461 [01:02<04:27,  7.49it/s]"
          ],
          "name": "stderr"
        },
        {
          "output_type": "stream",
          "text": [
            "TraderNet sold:  $ 56.824287  Profit: $ 14.814289\n",
            "TraderNet sold:  $ 57.228573  Profit: $ 12.542858\n"
          ],
          "name": "stdout"
        },
        {
          "output_type": "stream",
          "text": [
            " 19%|█▊        | 460/2461 [01:02<04:31,  7.36it/s]"
          ],
          "name": "stderr"
        },
        {
          "output_type": "stream",
          "text": [
            "TraderNet sold:  $ 57.812859  Profit: $ 12.658573\n",
            "TraderNet sold:  $ 57.849998  Profit: $ 12.614285\n"
          ],
          "name": "stdout"
        },
        {
          "output_type": "stream",
          "text": [
            " 19%|█▉        | 462/2461 [01:03<04:28,  7.45it/s]"
          ],
          "name": "stderr"
        },
        {
          "output_type": "stream",
          "text": [
            "TraderNet sold:  $ 57.825714  Profit: $ 13.821430\n",
            "TraderNet sold:  $ 56.644287  Profit: $ 12.781429\n"
          ],
          "name": "stdout"
        },
        {
          "output_type": "stream",
          "text": [
            " 19%|█▉        | 464/2461 [01:03<04:35,  7.25it/s]"
          ],
          "name": "stderr"
        },
        {
          "output_type": "stream",
          "text": [
            "TraderNet sold:  $ 56.772858  Profit: $ 13.688572\n",
            "TraderNet sold:  $ 57.581429  Profit: $ 14.652859\n"
          ],
          "name": "stdout"
        },
        {
          "output_type": "stream",
          "text": [
            " 19%|█▉        | 466/2461 [01:03<04:29,  7.42it/s]"
          ],
          "name": "stderr"
        },
        {
          "output_type": "stream",
          "text": [
            "TraderNet sold:  $ 57.177143  Profit: $ 13.115715\n",
            "TraderNet sold:  $ 57.104286  Profit: $ 12.338573\n"
          ],
          "name": "stdout"
        },
        {
          "output_type": "stream",
          "text": [
            " 19%|█▉        | 468/2461 [01:03<04:36,  7.20it/s]"
          ],
          "name": "stderr"
        },
        {
          "output_type": "stream",
          "text": [
            "TraderNet sold:  $ 58.032856  Profit: $ 12.174286\n",
            "TraderNet sold:  $ 56.468571  Profit: $ 10.788570\n"
          ],
          "name": "stdout"
        },
        {
          "output_type": "stream",
          "text": [
            " 19%|█▉        | 470/2461 [01:04<04:33,  7.29it/s]"
          ],
          "name": "stderr"
        },
        {
          "output_type": "stream",
          "text": [
            "TraderNet sold:  $ 55.031429  Profit: $ 9.230000\n",
            "TraderNet sold:  $ 54.945713  Profit: $ 8.915714\n"
          ],
          "name": "stdout"
        },
        {
          "output_type": "stream",
          "text": [
            " 19%|█▉        | 472/2461 [01:04<04:31,  7.34it/s]"
          ],
          "name": "stderr"
        },
        {
          "output_type": "stream",
          "text": [
            "TraderNet sold:  $ 54.180000  Profit: $ 7.865715\n",
            "TraderNet sold:  $ 55.547142  Profit: $ 9.095715\n"
          ],
          "name": "stdout"
        },
        {
          "output_type": "stream",
          "text": [
            " 19%|█▉        | 474/2461 [01:04<04:24,  7.50it/s]"
          ],
          "name": "stderr"
        },
        {
          "output_type": "stream",
          "text": [
            "TraderNet sold:  $ 54.967144  Profit: $ 8.738571\n",
            "TraderNet sold:  $ 53.915714  Profit: $ 7.532856\n"
          ],
          "name": "stdout"
        },
        {
          "output_type": "stream",
          "text": [
            " 19%|█▉        | 476/2461 [01:05<04:24,  7.51it/s]"
          ],
          "name": "stderr"
        },
        {
          "output_type": "stream",
          "text": [
            "TraderNet sold:  $ 53.562859  Profit: $ 7.067142\n",
            "TraderNet sold:  $ 52.715714  Profit: $ 6.245712\n"
          ],
          "name": "stdout"
        },
        {
          "output_type": "stream",
          "text": [
            " 19%|█▉        | 478/2461 [01:05<04:36,  7.18it/s]"
          ],
          "name": "stderr"
        },
        {
          "output_type": "stream",
          "text": [
            "TraderNet bought:  $ 53.787144\n",
            "TraderNet sold:  $ 52.427143  Profit: $ 6.189999\n"
          ],
          "name": "stdout"
        },
        {
          "output_type": "stream",
          "text": [
            " 20%|█▉        | 480/2461 [01:05<04:32,  7.26it/s]"
          ],
          "name": "stderr"
        },
        {
          "output_type": "stream",
          "text": [
            "TraderNet sold:  $ 51.938572  Profit: $ 2.555714\n",
            "TraderNet sold:  $ 53.731430  Profit: $ 3.948574\n"
          ],
          "name": "stdout"
        },
        {
          "output_type": "stream",
          "text": [
            " 20%|█▉        | 482/2461 [01:05<04:29,  7.35it/s]"
          ],
          "name": "stderr"
        },
        {
          "output_type": "stream",
          "text": [
            "TraderNet sold:  $ 53.314285  Profit: $ 4.192856\n"
          ],
          "name": "stdout"
        },
        {
          "output_type": "stream",
          "text": [
            " 20%|█▉        | 485/2461 [01:06<04:30,  7.31it/s]"
          ],
          "name": "stderr"
        },
        {
          "output_type": "stream",
          "text": [
            "TraderNet sold:  $ 55.671429  Profit: $ 6.482857\n",
            "TraderNet sold:  $ 56.144287  Profit: $ 7.081429\n"
          ],
          "name": "stdout"
        },
        {
          "output_type": "stream",
          "text": [
            " 20%|█▉        | 487/2461 [01:06<04:31,  7.28it/s]"
          ],
          "name": "stderr"
        },
        {
          "output_type": "stream",
          "text": [
            "TraderNet sold:  $ 55.849998  Profit: $ 6.349998\n",
            "TraderNet sold:  $ 55.584286  Profit: $ 5.315716\n"
          ],
          "name": "stdout"
        },
        {
          "output_type": "stream",
          "text": [
            " 20%|█▉        | 489/2461 [01:06<04:24,  7.45it/s]"
          ],
          "name": "stderr"
        },
        {
          "output_type": "stream",
          "text": [
            "TraderNet sold:  $ 55.808571  Profit: $ 5.065712\n",
            "TraderNet sold:  $ 56.231430  Profit: $ 5.065716\n"
          ],
          "name": "stdout"
        },
        {
          "output_type": "stream",
          "text": [
            " 20%|█▉        | 491/2461 [01:07<04:23,  7.47it/s]"
          ],
          "name": "stderr"
        },
        {
          "output_type": "stream",
          "text": [
            "TraderNet sold:  $ 55.977142  Profit: $ 4.998569\n",
            "TraderNet sold:  $ 55.544285  Profit: $ 4.129997\n"
          ],
          "name": "stdout"
        },
        {
          "output_type": "stream",
          "text": [
            " 20%|██        | 493/2461 [01:07<04:26,  7.40it/s]"
          ],
          "name": "stderr"
        },
        {
          "output_type": "stream",
          "text": [
            "TraderNet sold:  $ 54.312859  Profit: $ 4.575714\n",
            "TraderNet sold:  $ 54.134285  Profit: $ 4.610001\n"
          ],
          "name": "stdout"
        },
        {
          "output_type": "stream",
          "text": [
            " 20%|██        | 495/2461 [01:07<04:24,  7.44it/s]"
          ],
          "name": "stderr"
        },
        {
          "output_type": "stream",
          "text": [
            "TraderNet sold:  $ 54.431427  Profit: $ 4.147141\n",
            "TraderNet sold:  $ 54.601429  Profit: $ 5.254288\n"
          ],
          "name": "stdout"
        },
        {
          "output_type": "stream",
          "text": [
            " 20%|██        | 497/2461 [01:07<04:23,  7.44it/s]"
          ],
          "name": "stderr"
        },
        {
          "output_type": "stream",
          "text": [
            "TraderNet sold:  $ 56.564285  Profit: $ 8.108570\n",
            "TraderNet sold:  $ 56.635715  Profit: $ 7.354286\n"
          ],
          "name": "stdout"
        },
        {
          "output_type": "stream",
          "text": [
            " 20%|██        | 499/2461 [01:08<04:27,  7.33it/s]"
          ],
          "name": "stderr"
        },
        {
          "output_type": "stream",
          "text": [
            "TraderNet sold:  $ 56.935715  Profit: $ 6.715714\n",
            "TraderNet sold:  $ 57.618572  Profit: $ 8.395714\n"
          ],
          "name": "stdout"
        },
        {
          "output_type": "stream",
          "text": [
            " 20%|██        | 501/2461 [01:08<04:27,  7.34it/s]"
          ],
          "name": "stderr"
        },
        {
          "output_type": "stream",
          "text": [
            "TraderNet sold:  $ 58.075714  Profit: $ 9.334286\n",
            "TraderNet sold:  $ 57.520000  Profit: $ 9.107143\n"
          ],
          "name": "stdout"
        },
        {
          "output_type": "stream",
          "text": [
            " 20%|██        | 503/2461 [01:08<04:18,  7.57it/s]"
          ],
          "name": "stderr"
        },
        {
          "output_type": "stream",
          "text": [
            "TraderNet sold:  $ 57.874287  Profit: $ 9.577145\n",
            "TraderNet sold:  $ 57.857143  Profit: $ 10.600002\n"
          ],
          "name": "stdout"
        },
        {
          "output_type": "stream",
          "text": [
            " 21%|██        | 505/2461 [01:08<04:17,  7.59it/s]"
          ],
          "name": "stderr"
        },
        {
          "output_type": "stream",
          "text": [
            "TraderNet sold:  $ 58.747143  Profit: $ 11.258572\n",
            "TraderNet sold:  $ 59.062859  Profit: $ 11.655716\n"
          ],
          "name": "stdout"
        },
        {
          "output_type": "stream",
          "text": [
            " 21%|██        | 507/2461 [01:09<04:19,  7.53it/s]"
          ],
          "name": "stderr"
        },
        {
          "output_type": "stream",
          "text": [
            "TraderNet sold:  $ 59.718571  Profit: $ 9.288570\n",
            "TraderNet sold:  $ 60.342857  Profit: $ 10.404285\n"
          ],
          "name": "stdout"
        },
        {
          "output_type": "stream",
          "text": [
            " 21%|██        | 509/2461 [01:09<04:21,  7.48it/s]"
          ],
          "name": "stderr"
        },
        {
          "output_type": "stream",
          "text": [
            "TraderNet sold:  $ 60.247143  Profit: $ 10.711430\n",
            "TraderNet sold:  $ 60.462856  Profit: $ 10.939999\n"
          ],
          "name": "stdout"
        },
        {
          "output_type": "stream",
          "text": [
            " 21%|██        | 511/2461 [01:09<04:24,  7.37it/s]"
          ],
          "name": "stderr"
        },
        {
          "output_type": "stream",
          "text": [
            "TraderNet sold:  $ 60.364285  Profit: $ 10.442856\n",
            "TraderNet sold:  $ 60.198570  Profit: $ 10.594284\n"
          ],
          "name": "stdout"
        },
        {
          "output_type": "stream",
          "text": [
            " 21%|██        | 513/2461 [01:10<04:25,  7.34it/s]"
          ],
          "name": "stderr"
        },
        {
          "output_type": "stream",
          "text": [
            "TraderNet sold:  $ 59.972858  Profit: $ 10.462860\n",
            "TraderNet sold:  $ 60.671429  Profit: $ 12.900002\n"
          ],
          "name": "stdout"
        },
        {
          "output_type": "stream",
          "text": [
            " 21%|██        | 515/2461 [01:10<04:24,  7.36it/s]"
          ],
          "name": "stderr"
        },
        {
          "output_type": "stream",
          "text": [
            "TraderNet sold:  $ 61.301430  Profit: $ 13.845715\n",
            "TraderNet sold:  $ 61.107143  Profit: $ 12.995716\n"
          ],
          "name": "stdout"
        },
        {
          "output_type": "stream",
          "text": [
            " 21%|██        | 517/2461 [01:10<04:20,  7.47it/s]"
          ],
          "name": "stderr"
        },
        {
          "output_type": "stream",
          "text": [
            "TraderNet sold:  $ 60.042858  Profit: $ 10.684288\n",
            "TraderNet sold:  $ 61.058571  Profit: $ 13.595715\n"
          ],
          "name": "stdout"
        },
        {
          "output_type": "stream",
          "text": [
            " 21%|██        | 519/2461 [01:10<04:18,  7.52it/s]"
          ],
          "name": "stderr"
        },
        {
          "output_type": "stream",
          "text": [
            "TraderNet sold:  $ 60.058571  Profit: $ 13.401428\n",
            "TraderNet sold:  $ 63.808571  Profit: $ 17.130001\n"
          ],
          "name": "stdout"
        },
        {
          "output_type": "stream",
          "text": [
            " 21%|██        | 521/2461 [01:11<04:25,  7.30it/s]"
          ],
          "name": "stderr"
        },
        {
          "output_type": "stream",
          "text": [
            "TraderNet sold:  $ 63.518570  Profit: $ 13.599998\n",
            "TraderNet sold:  $ 63.897144  Profit: $ 11.765717\n"
          ],
          "name": "stdout"
        },
        {
          "output_type": "stream",
          "text": [
            " 21%|██▏       | 523/2461 [01:11<04:29,  7.20it/s]"
          ],
          "name": "stderr"
        },
        {
          "output_type": "stream",
          "text": [
            "TraderNet sold:  $ 64.715714  Profit: $ 9.444286\n",
            "TraderNet sold:  $ 65.211426  Profit: $ 11.424282\n"
          ],
          "name": "stdout"
        },
        {
          "output_type": "stream",
          "text": [
            " 23%|██▎       | 558/2461 [01:16<04:19,  7.32it/s]"
          ],
          "name": "stderr"
        },
        {
          "output_type": "stream",
          "text": [
            "TraderNet bought:  $ 86.565712\n",
            "TraderNet bought:  $ 86.071426\n"
          ],
          "name": "stdout"
        },
        {
          "output_type": "stream",
          "text": [
            " 23%|██▎       | 560/2461 [01:16<04:25,  7.16it/s]"
          ],
          "name": "stderr"
        },
        {
          "output_type": "stream",
          "text": [
            "TraderNet bought:  $ 85.620003\n",
            "TraderNet bought:  $ 85.150002\n"
          ],
          "name": "stdout"
        },
        {
          "output_type": "stream",
          "text": [
            " 23%|██▎       | 562/2461 [01:16<04:25,  7.15it/s]"
          ],
          "name": "stderr"
        },
        {
          "output_type": "stream",
          "text": [
            "TraderNet bought:  $ 86.711426\n",
            "TraderNet bought:  $ 87.782860\n"
          ],
          "name": "stdout"
        },
        {
          "output_type": "stream",
          "text": [
            " 23%|██▎       | 564/2461 [01:17<04:23,  7.20it/s]"
          ],
          "name": "stderr"
        },
        {
          "output_type": "stream",
          "text": [
            "TraderNet bought:  $ 88.231430\n",
            "TraderNet bought:  $ 87.122856\n"
          ],
          "name": "stdout"
        },
        {
          "output_type": "stream",
          "text": [
            " 23%|██▎       | 566/2461 [01:17<04:22,  7.23it/s]"
          ],
          "name": "stderr"
        },
        {
          "output_type": "stream",
          "text": [
            "TraderNet bought:  $ 85.650002\n",
            "TraderNet bought:  $ 88.375717\n"
          ],
          "name": "stdout"
        },
        {
          "output_type": "stream",
          "text": [
            " 23%|██▎       | 568/2461 [01:17<04:21,  7.25it/s]"
          ],
          "name": "stderr"
        },
        {
          "output_type": "stream",
          "text": [
            "TraderNet bought:  $ 89.902855\n",
            "TraderNet bought:  $ 89.187141\n"
          ],
          "name": "stdout"
        },
        {
          "output_type": "stream",
          "text": [
            " 23%|██▎       | 570/2461 [01:17<04:27,  7.08it/s]"
          ],
          "name": "stderr"
        },
        {
          "output_type": "stream",
          "text": [
            "TraderNet sold:  $ 90.525711  Profit: $ 3.959999\n",
            "TraderNet sold:  $ 90.889999  Profit: $ 4.818573\n"
          ],
          "name": "stdout"
        },
        {
          "output_type": "stream",
          "text": [
            " 23%|██▎       | 572/2461 [01:18<04:20,  7.25it/s]"
          ],
          "name": "stderr"
        },
        {
          "output_type": "stream",
          "text": [
            "TraderNet sold:  $ 89.777145  Profit: $ 4.157143\n",
            "TraderNet sold:  $ 89.457146  Profit: $ 4.307144\n"
          ],
          "name": "stdout"
        },
        {
          "output_type": "stream",
          "text": [
            " 23%|██▎       | 574/2461 [01:18<04:22,  7.20it/s]"
          ],
          "name": "stderr"
        },
        {
          "output_type": "stream",
          "text": [
            "TraderNet sold:  $ 88.967140  Profit: $ 2.255714\n",
            "TraderNet sold:  $ 86.461426  Profit: - $ 1.321434\n"
          ],
          "name": "stdout"
        },
        {
          "output_type": "stream",
          "text": [
            " 23%|██▎       | 576/2461 [01:18<04:17,  7.31it/s]"
          ],
          "name": "stderr"
        },
        {
          "output_type": "stream",
          "text": [
            "TraderNet sold:  $ 82.875717  Profit: - $ 5.355713\n",
            "TraderNet sold:  $ 87.099998  Profit: - $ 0.022858\n"
          ],
          "name": "stdout"
        },
        {
          "output_type": "stream",
          "text": [
            " 23%|██▎       | 578/2461 [01:18<04:22,  7.16it/s]"
          ],
          "name": "stderr"
        },
        {
          "output_type": "stream",
          "text": [
            "TraderNet bought:  $ 86.905716\n",
            "TraderNet sold:  $ 83.919998  Profit: - $ 1.730003\n"
          ],
          "name": "stdout"
        },
        {
          "output_type": "stream",
          "text": [
            " 24%|██▎       | 580/2461 [01:19<04:19,  7.26it/s]"
          ],
          "name": "stderr"
        },
        {
          "output_type": "stream",
          "text": [
            "TraderNet sold:  $ 81.854286  Profit: - $ 6.521431\n",
            "TraderNet sold:  $ 81.671425  Profit: - $ 8.231430\n"
          ],
          "name": "stdout"
        },
        {
          "output_type": "stream",
          "text": [
            " 24%|██▎       | 582/2461 [01:19<04:13,  7.43it/s]"
          ],
          "name": "stderr"
        },
        {
          "output_type": "stream",
          "text": [
            "TraderNet sold:  $ 80.040001  Profit: - $ 9.147141\n",
            "TraderNet sold:  $ 87.142860  Profit: $ 0.237144\n"
          ],
          "name": "stdout"
        },
        {
          "output_type": "stream",
          "text": [
            " 24%|██▍       | 600/2461 [01:21<04:07,  7.52it/s]"
          ],
          "name": "stderr"
        },
        {
          "output_type": "stream",
          "text": [
            "TraderNet bought:  $ 75.768570\n",
            "TraderNet bought:  $ 80.182854\n"
          ],
          "name": "stdout"
        },
        {
          "output_type": "stream",
          "text": [
            " 24%|██▍       | 602/2461 [01:22<04:13,  7.34it/s]"
          ],
          "name": "stderr"
        },
        {
          "output_type": "stream",
          "text": [
            "TraderNet bought:  $ 79.567146\n",
            "TraderNet bought:  $ 81.508568\n"
          ],
          "name": "stdout"
        },
        {
          "output_type": "stream",
          "text": [
            " 25%|██▍       | 604/2461 [01:22<04:08,  7.47it/s]"
          ],
          "name": "stderr"
        },
        {
          "output_type": "stream",
          "text": [
            "TraderNet bought:  $ 80.760002\n",
            "TraderNet bought:  $ 80.327141\n"
          ],
          "name": "stdout"
        },
        {
          "output_type": "stream",
          "text": [
            " 25%|██▍       | 606/2461 [01:22<04:09,  7.42it/s]"
          ],
          "name": "stderr"
        },
        {
          "output_type": "stream",
          "text": [
            "TraderNet bought:  $ 81.752853\n",
            "TraderNet bought:  $ 82.738571\n"
          ],
          "name": "stdout"
        },
        {
          "output_type": "stream",
          "text": [
            " 25%|██▍       | 608/2461 [01:23<04:15,  7.24it/s]"
          ],
          "name": "stderr"
        },
        {
          "output_type": "stream",
          "text": [
            "TraderNet bought:  $ 82.532860\n",
            "TraderNet bought:  $ 80.141426\n"
          ],
          "name": "stdout"
        },
        {
          "output_type": "stream",
          "text": [
            " 25%|██▍       | 610/2461 [01:23<04:13,  7.29it/s]"
          ],
          "name": "stderr"
        },
        {
          "output_type": "stream",
          "text": [
            "TraderNet bought:  $ 80.612854\n"
          ],
          "name": "stdout"
        },
        {
          "output_type": "stream",
          "text": [
            " 25%|██▌       | 620/2461 [01:24<04:10,  7.36it/s]"
          ],
          "name": "stderr"
        },
        {
          "output_type": "stream",
          "text": [
            "TraderNet sold:  $ 83.682854  Profit: $ 7.914284\n",
            "TraderNet sold:  $ 83.915718  Profit: $ 3.732864\n"
          ],
          "name": "stdout"
        },
        {
          "output_type": "stream",
          "text": [
            " 25%|██▌       | 622/2461 [01:24<04:10,  7.35it/s]"
          ],
          "name": "stderr"
        },
        {
          "output_type": "stream",
          "text": [
            "TraderNet sold:  $ 83.677139  Profit: $ 4.109993\n",
            "TraderNet sold:  $ 82.524284  Profit: $ 1.015717\n"
          ],
          "name": "stdout"
        },
        {
          "output_type": "stream",
          "text": [
            " 25%|██▌       | 624/2461 [01:25<04:09,  7.36it/s]"
          ],
          "name": "stderr"
        },
        {
          "output_type": "stream",
          "text": [
            "TraderNet sold:  $ 83.157143  Profit: $ 2.397141\n",
            "TraderNet sold:  $ 81.538574  Profit: $ 1.211433\n"
          ],
          "name": "stdout"
        },
        {
          "output_type": "stream",
          "text": [
            " 25%|██▌       | 626/2461 [01:25<04:04,  7.51it/s]"
          ],
          "name": "stderr"
        },
        {
          "output_type": "stream",
          "text": [
            "TraderNet sold:  $ 81.718575  Profit: - $ 0.034279\n",
            "TraderNet sold:  $ 82.071426  Profit: - $ 0.667145\n"
          ],
          "name": "stdout"
        },
        {
          "output_type": "stream",
          "text": [
            " 26%|██▌       | 628/2461 [01:25<04:21,  7.01it/s]"
          ],
          "name": "stderr"
        },
        {
          "output_type": "stream",
          "text": [
            "TraderNet sold:  $ 81.292854  Profit: - $ 1.240005\n",
            "TraderNet sold:  $ 83.428574  Profit: $ 3.287148\n"
          ],
          "name": "stdout"
        },
        {
          "output_type": "stream",
          "text": [
            " 26%|██▌       | 630/2461 [01:26<04:13,  7.21it/s]"
          ],
          "name": "stderr"
        },
        {
          "output_type": "stream",
          "text": [
            "TraderNet sold:  $ 84.645714  Profit: $ 4.032860\n"
          ],
          "name": "stdout"
        },
        {
          "output_type": "stream",
          "text": [
            " 26%|██▋       | 647/2461 [01:28<04:05,  7.40it/s]"
          ],
          "name": "stderr"
        },
        {
          "output_type": "stream",
          "text": [
            "TraderNet bought:  $ 82.125717\n",
            "TraderNet bought:  $ 83.594284\n"
          ],
          "name": "stdout"
        },
        {
          "output_type": "stream",
          "text": [
            " 26%|██▋       | 649/2461 [01:28<04:08,  7.28it/s]"
          ],
          "name": "stderr"
        },
        {
          "output_type": "stream",
          "text": [
            "TraderNet bought:  $ 85.004288\n",
            "TraderNet bought:  $ 87.251427\n"
          ],
          "name": "stdout"
        },
        {
          "output_type": "stream",
          "text": [
            " 26%|██▋       | 651/2461 [01:28<04:11,  7.19it/s]"
          ],
          "name": "stderr"
        },
        {
          "output_type": "stream",
          "text": [
            "TraderNet bought:  $ 86.687141\n",
            "TraderNet bought:  $ 86.827141\n"
          ],
          "name": "stdout"
        },
        {
          "output_type": "stream",
          "text": [
            " 27%|██▋       | 659/2461 [01:29<03:59,  7.51it/s]"
          ],
          "name": "stderr"
        },
        {
          "output_type": "stream",
          "text": [
            "TraderNet sold:  $ 90.000000  Profit: $ 7.874283\n",
            "TraderNet sold:  $ 90.241432  Profit: $ 6.647148\n"
          ],
          "name": "stdout"
        },
        {
          "output_type": "stream",
          "text": [
            " 27%|██▋       | 661/2461 [01:30<04:06,  7.30it/s]"
          ],
          "name": "stderr"
        },
        {
          "output_type": "stream",
          "text": [
            "TraderNet sold:  $ 90.118568  Profit: $ 5.114281\n",
            "TraderNet sold:  $ 90.905716  Profit: $ 3.654289\n"
          ],
          "name": "stdout"
        },
        {
          "output_type": "stream",
          "text": [
            " 27%|██▋       | 663/2461 [01:30<04:05,  7.33it/s]"
          ],
          "name": "stderr"
        },
        {
          "output_type": "stream",
          "text": [
            "TraderNet sold:  $ 92.587143  Profit: $ 5.900002\n",
            "TraderNet sold:  $ 95.021431  Profit: $ 8.194290\n"
          ],
          "name": "stdout"
        },
        {
          "output_type": "stream",
          "text": [
            " 28%|██▊       | 691/2461 [01:34<04:01,  7.32it/s]"
          ],
          "name": "stderr"
        },
        {
          "output_type": "stream",
          "text": [
            "TraderNet bought:  $ 97.331429\n",
            "TraderNet bought:  $ 95.300003\n"
          ],
          "name": "stdout"
        },
        {
          "output_type": "stream",
          "text": [
            " 29%|██▊       | 703/2461 [01:35<03:56,  7.42it/s]"
          ],
          "name": "stderr"
        },
        {
          "output_type": "stream",
          "text": [
            "TraderNet sold:  $ 90.680000  Profit: - $ 6.651428\n"
          ],
          "name": "stdout"
        },
        {
          "output_type": "stream",
          "text": [
            " 29%|██▊       | 705/2461 [01:36<04:00,  7.31it/s]"
          ],
          "name": "stderr"
        },
        {
          "output_type": "stream",
          "text": [
            "TraderNet bought:  $ 92.087143\n",
            "TraderNet bought:  $ 90.377144\n"
          ],
          "name": "stdout"
        },
        {
          "output_type": "stream",
          "text": [
            " 29%|██▊       | 707/2461 [01:36<03:54,  7.48it/s]"
          ],
          "name": "stderr"
        },
        {
          "output_type": "stream",
          "text": [
            "TraderNet bought:  $ 87.120003\n",
            "TraderNet bought:  $ 90.575714\n"
          ],
          "name": "stdout"
        },
        {
          "output_type": "stream",
          "text": [
            " 29%|██▉       | 709/2461 [01:36<03:52,  7.53it/s]"
          ],
          "name": "stderr"
        },
        {
          "output_type": "stream",
          "text": [
            "TraderNet bought:  $ 87.622856\n",
            "TraderNet bought:  $ 88.118568\n"
          ],
          "name": "stdout"
        },
        {
          "output_type": "stream",
          "text": [
            " 29%|██▉       | 711/2461 [01:36<03:58,  7.34it/s]"
          ],
          "name": "stderr"
        },
        {
          "output_type": "stream",
          "text": [
            "TraderNet sold:  $ 87.077141  Profit: - $ 8.222862\n"
          ],
          "name": "stdout"
        },
        {
          "output_type": "stream",
          "text": [
            " 29%|██▉       | 713/2461 [01:37<03:53,  7.48it/s]"
          ],
          "name": "stderr"
        },
        {
          "output_type": "stream",
          "text": [
            "TraderNet sold:  $ 85.045715  Profit: - $ 7.041428\n",
            "TraderNet sold:  $ 85.220001  Profit: - $ 5.157143\n"
          ],
          "name": "stdout"
        },
        {
          "output_type": "stream",
          "text": [
            " 29%|██▉       | 715/2461 [01:37<03:56,  7.39it/s]"
          ],
          "name": "stderr"
        },
        {
          "output_type": "stream",
          "text": [
            "TraderNet bought:  $ 82.400002\n",
            "TraderNet sold:  $ 83.517143  Profit: - $ 3.602859\n"
          ],
          "name": "stdout"
        },
        {
          "output_type": "stream",
          "text": [
            " 29%|██▉       | 718/2461 [01:37<03:54,  7.43it/s]"
          ],
          "name": "stderr"
        },
        {
          "output_type": "stream",
          "text": [
            "TraderNet sold:  $ 79.714287  Profit: - $ 10.861427\n",
            "TraderNet sold:  $ 76.821426  Profit: - $ 10.801430\n"
          ],
          "name": "stdout"
        },
        {
          "output_type": "stream",
          "text": [
            " 29%|██▉       | 720/2461 [01:38<03:58,  7.29it/s]"
          ],
          "name": "stderr"
        },
        {
          "output_type": "stream",
          "text": [
            "TraderNet sold:  $ 78.151428  Profit: - $ 9.967140\n"
          ],
          "name": "stdout"
        },
        {
          "output_type": "stream",
          "text": [
            " 29%|██▉       | 723/2461 [01:38<03:53,  7.44it/s]"
          ],
          "name": "stderr"
        },
        {
          "output_type": "stream",
          "text": [
            "TraderNet sold:  $ 76.697144  Profit: - $ 5.702858\n"
          ],
          "name": "stdout"
        },
        {
          "output_type": "stream",
          "text": [
            " 30%|██▉       | 736/2461 [01:40<03:55,  7.33it/s]"
          ],
          "name": "stderr"
        },
        {
          "output_type": "stream",
          "text": [
            "TraderNet bought:  $ 82.264282\n",
            "TraderNet bought:  $ 76.970001\n"
          ],
          "name": "stdout"
        },
        {
          "output_type": "stream",
          "text": [
            " 30%|███       | 743/2461 [01:41<03:56,  7.26it/s]"
          ],
          "name": "stderr"
        },
        {
          "output_type": "stream",
          "text": [
            "TraderNet bought:  $ 75.669998\n",
            "TraderNet bought:  $ 72.827141\n"
          ],
          "name": "stdout"
        },
        {
          "output_type": "stream",
          "text": [
            " 30%|███       | 745/2461 [01:41<03:59,  7.17it/s]"
          ],
          "name": "stderr"
        },
        {
          "output_type": "stream",
          "text": [
            "TraderNet bought:  $ 74.118568\n",
            "TraderNet bought:  $ 76.271431\n"
          ],
          "name": "stdout"
        },
        {
          "output_type": "stream",
          "text": [
            " 30%|███       | 748/2461 [01:42<03:53,  7.34it/s]"
          ],
          "name": "stderr"
        },
        {
          "output_type": "stream",
          "text": [
            "TraderNet bought:  $ 74.532860\n",
            "TraderNet bought:  $ 74.190002\n"
          ],
          "name": "stdout"
        },
        {
          "output_type": "stream",
          "text": [
            " 30%|███       | 750/2461 [01:42<03:49,  7.45it/s]"
          ],
          "name": "stderr"
        },
        {
          "output_type": "stream",
          "text": [
            "TraderNet bought:  $ 74.309998\n",
            "TraderNet bought:  $ 73.285713\n"
          ],
          "name": "stdout"
        },
        {
          "output_type": "stream",
          "text": [
            " 31%|███       | 752/2461 [01:42<03:50,  7.41it/s]"
          ],
          "name": "stderr"
        },
        {
          "output_type": "stream",
          "text": [
            "TraderNet bought:  $ 73.580002\n",
            "TraderNet bought:  $ 72.798569\n"
          ],
          "name": "stdout"
        },
        {
          "output_type": "stream",
          "text": [
            " 31%|███       | 754/2461 [01:42<03:55,  7.24it/s]"
          ],
          "name": "stderr"
        },
        {
          "output_type": "stream",
          "text": [
            "TraderNet bought:  $ 76.024284\n",
            "TraderNet bought:  $ 78.432854\n"
          ],
          "name": "stdout"
        },
        {
          "output_type": "stream",
          "text": [
            " 31%|███       | 756/2461 [01:43<04:02,  7.02it/s]"
          ],
          "name": "stderr"
        },
        {
          "output_type": "stream",
          "text": [
            "TraderNet bought:  $ 77.442856\n",
            "TraderNet sold:  $ 75.285713  Profit: - $ 6.978569\n"
          ],
          "name": "stdout"
        },
        {
          "output_type": "stream",
          "text": [
            " 31%|███       | 758/2461 [01:43<03:53,  7.29it/s]"
          ],
          "name": "stderr"
        },
        {
          "output_type": "stream",
          "text": [
            "TraderNet bought:  $ 74.842857\n",
            "TraderNet bought:  $ 75.044289\n"
          ],
          "name": "stdout"
        },
        {
          "output_type": "stream",
          "text": [
            " 31%|███       | 760/2461 [01:43<03:55,  7.23it/s]"
          ],
          "name": "stderr"
        },
        {
          "output_type": "stream",
          "text": [
            "TraderNet bought:  $ 73.871429\n"
          ],
          "name": "stdout"
        },
        {
          "output_type": "stream",
          "text": [
            " 31%|███       | 762/2461 [01:43<03:50,  7.38it/s]"
          ],
          "name": "stderr"
        },
        {
          "output_type": "stream",
          "text": [
            "TraderNet bought:  $ 74.328575\n",
            "TraderNet bought:  $ 71.678574\n"
          ],
          "name": "stdout"
        },
        {
          "output_type": "stream",
          "text": [
            " 31%|███       | 764/2461 [01:44<03:50,  7.38it/s]"
          ],
          "name": "stderr"
        },
        {
          "output_type": "stream",
          "text": [
            "TraderNet bought:  $ 69.417145\n",
            "TraderNet bought:  $ 72.298569\n"
          ],
          "name": "stdout"
        },
        {
          "output_type": "stream",
          "text": [
            " 31%|███       | 766/2461 [01:44<03:49,  7.39it/s]"
          ],
          "name": "stderr"
        },
        {
          "output_type": "stream",
          "text": [
            "TraderNet bought:  $ 71.811432\n"
          ],
          "name": "stdout"
        },
        {
          "output_type": "stream",
          "text": [
            " 31%|███       | 768/2461 [01:44<03:55,  7.18it/s]"
          ],
          "name": "stderr"
        },
        {
          "output_type": "stream",
          "text": [
            "TraderNet bought:  $ 72.110001\n",
            "TraderNet bought:  $ 73.430000\n"
          ],
          "name": "stdout"
        },
        {
          "output_type": "stream",
          "text": [
            " 31%|███▏      | 770/2461 [01:45<03:51,  7.31it/s]"
          ],
          "name": "stderr"
        },
        {
          "output_type": "stream",
          "text": [
            "TraderNet bought:  $ 64.357140\n",
            "TraderNet bought:  $ 62.840000\n"
          ],
          "name": "stdout"
        },
        {
          "output_type": "stream",
          "text": [
            " 31%|███▏      | 772/2461 [01:45<03:55,  7.16it/s]"
          ],
          "name": "stderr"
        },
        {
          "output_type": "stream",
          "text": [
            "TraderNet bought:  $ 64.261429\n",
            "TraderNet bought:  $ 65.467140\n"
          ],
          "name": "stdout"
        },
        {
          "output_type": "stream",
          "text": [
            " 31%|███▏      | 774/2461 [01:45<03:54,  7.20it/s]"
          ],
          "name": "stderr"
        },
        {
          "output_type": "stream",
          "text": [
            "TraderNet bought:  $ 65.261429\n",
            "TraderNet bought:  $ 65.070000\n"
          ],
          "name": "stdout"
        },
        {
          "output_type": "stream",
          "text": [
            " 32%|███▏      | 776/2461 [01:45<03:53,  7.21it/s]"
          ],
          "name": "stderr"
        },
        {
          "output_type": "stream",
          "text": [
            "TraderNet bought:  $ 64.802856\n",
            "TraderNet bought:  $ 63.188572\n"
          ],
          "name": "stdout"
        },
        {
          "output_type": "stream",
          "text": [
            " 32%|███▏      | 778/2461 [01:46<03:51,  7.27it/s]"
          ],
          "name": "stderr"
        },
        {
          "output_type": "stream",
          "text": [
            "TraderNet bought:  $ 65.405716\n",
            "TraderNet bought:  $ 65.335716\n"
          ],
          "name": "stdout"
        },
        {
          "output_type": "stream",
          "text": [
            " 32%|███▏      | 780/2461 [01:46<04:02,  6.94it/s]"
          ],
          "name": "stderr"
        },
        {
          "output_type": "stream",
          "text": [
            "TraderNet bought:  $ 66.888573\n",
            "TraderNet bought:  $ 67.854286\n"
          ],
          "name": "stdout"
        },
        {
          "output_type": "stream",
          "text": [
            " 32%|███▏      | 782/2461 [01:46<03:50,  7.29it/s]"
          ],
          "name": "stderr"
        },
        {
          "output_type": "stream",
          "text": [
            "TraderNet bought:  $ 68.561432\n",
            "TraderNet bought:  $ 66.842857\n"
          ],
          "name": "stdout"
        },
        {
          "output_type": "stream",
          "text": [
            " 32%|███▏      | 784/2461 [01:47<03:52,  7.20it/s]"
          ],
          "name": "stderr"
        },
        {
          "output_type": "stream",
          "text": [
            "TraderNet bought:  $ 66.715714\n",
            "TraderNet bought:  $ 66.655716\n"
          ],
          "name": "stdout"
        },
        {
          "output_type": "stream",
          "text": [
            " 32%|███▏      | 786/2461 [01:47<03:50,  7.28it/s]"
          ],
          "name": "stderr"
        },
        {
          "output_type": "stream",
          "text": [
            "TraderNet bought:  $ 65.737144\n",
            "TraderNet bought:  $ 65.712860\n"
          ],
          "name": "stdout"
        },
        {
          "output_type": "stream",
          "text": [
            " 32%|███▏      | 788/2461 [01:47<03:47,  7.35it/s]"
          ],
          "name": "stderr"
        },
        {
          "output_type": "stream",
          "text": [
            "TraderNet bought:  $ 64.121429\n",
            "TraderNet bought:  $ 63.722858\n"
          ],
          "name": "stdout"
        },
        {
          "output_type": "stream",
          "text": [
            " 32%|███▏      | 790/2461 [01:47<03:47,  7.33it/s]"
          ],
          "name": "stderr"
        },
        {
          "output_type": "stream",
          "text": [
            "TraderNet bought:  $ 64.401428\n",
            "TraderNet bought:  $ 63.257141\n"
          ],
          "name": "stdout"
        },
        {
          "output_type": "stream",
          "text": [
            " 32%|███▏      | 792/2461 [01:48<03:48,  7.29it/s]"
          ],
          "name": "stderr"
        },
        {
          "output_type": "stream",
          "text": [
            "TraderNet bought:  $ 64.138573\n",
            "TraderNet bought:  $ 63.509998\n"
          ],
          "name": "stdout"
        },
        {
          "output_type": "stream",
          "text": [
            " 32%|███▏      | 794/2461 [01:48<03:47,  7.32it/s]"
          ],
          "name": "stderr"
        },
        {
          "output_type": "stream",
          "text": [
            "TraderNet bought:  $ 63.057144\n",
            "TraderNet bought:  $ 61.495716\n"
          ],
          "name": "stdout"
        },
        {
          "output_type": "stream",
          "text": [
            " 32%|███▏      | 796/2461 [01:48<03:49,  7.27it/s]"
          ],
          "name": "stderr"
        },
        {
          "output_type": "stream",
          "text": [
            "TraderNet bought:  $ 60.007141\n",
            "TraderNet bought:  $ 61.591427\n"
          ],
          "name": "stdout"
        },
        {
          "output_type": "stream",
          "text": [
            " 32%|███▏      | 798/2461 [01:48<03:51,  7.17it/s]"
          ],
          "name": "stderr"
        },
        {
          "output_type": "stream",
          "text": [
            "TraderNet bought:  $ 60.808571\n"
          ],
          "name": "stdout"
        },
        {
          "output_type": "stream",
          "text": [
            " 33%|███▎      | 800/2461 [01:49<03:52,  7.15it/s]"
          ],
          "name": "stderr"
        },
        {
          "output_type": "stream",
          "text": [
            "TraderNet bought:  $ 61.674286\n",
            "TraderNet bought:  $ 62.552856\n"
          ],
          "name": "stdout"
        },
        {
          "output_type": "stream",
          "text": [
            " 33%|███▎      | 802/2461 [01:49<03:40,  7.52it/s]"
          ],
          "name": "stderr"
        },
        {
          "output_type": "stream",
          "text": [
            "TraderNet bought:  $ 61.204285\n",
            "TraderNet bought:  $ 61.192856\n"
          ],
          "name": "stdout"
        },
        {
          "output_type": "stream",
          "text": [
            " 33%|███▎      | 804/2461 [01:49<03:42,  7.44it/s]"
          ],
          "name": "stderr"
        },
        {
          "output_type": "stream",
          "text": [
            "TraderNet bought:  $ 61.785713\n",
            "TraderNet bought:  $ 63.380001\n"
          ],
          "name": "stdout"
        },
        {
          "output_type": "stream",
          "text": [
            " 33%|███▎      | 806/2461 [01:50<03:40,  7.50it/s]"
          ],
          "name": "stderr"
        },
        {
          "output_type": "stream",
          "text": [
            "TraderNet bought:  $ 65.102859\n",
            "TraderNet bought:  $ 64.927139\n"
          ],
          "name": "stdout"
        },
        {
          "output_type": "stream",
          "text": [
            " 33%|███▎      | 808/2461 [01:50<03:42,  7.45it/s]"
          ],
          "name": "stderr"
        },
        {
          "output_type": "stream",
          "text": [
            "TraderNet bought:  $ 64.582855\n",
            "TraderNet bought:  $ 64.675713\n"
          ],
          "name": "stdout"
        },
        {
          "output_type": "stream",
          "text": [
            " 33%|███▎      | 810/2461 [01:50<03:41,  7.45it/s]"
          ],
          "name": "stderr"
        },
        {
          "output_type": "stream",
          "text": [
            "TraderNet bought:  $ 65.987144\n",
            "TraderNet bought:  $ 66.225716\n"
          ],
          "name": "stdout"
        },
        {
          "output_type": "stream",
          "text": [
            " 33%|███▎      | 812/2461 [01:50<03:43,  7.38it/s]"
          ],
          "name": "stderr"
        },
        {
          "output_type": "stream",
          "text": [
            "TraderNet bought:  $ 65.877144\n",
            "TraderNet bought:  $ 64.582855\n"
          ],
          "name": "stdout"
        },
        {
          "output_type": "stream",
          "text": [
            " 33%|███▎      | 814/2461 [01:51<03:50,  7.15it/s]"
          ],
          "name": "stderr"
        },
        {
          "output_type": "stream",
          "text": [
            "TraderNet bought:  $ 63.237144\n",
            "TraderNet bought:  $ 61.272858\n"
          ],
          "name": "stdout"
        },
        {
          "output_type": "stream",
          "text": [
            " 33%|███▎      | 816/2461 [01:51<03:48,  7.20it/s]"
          ],
          "name": "stderr"
        },
        {
          "output_type": "stream",
          "text": [
            "TraderNet bought:  $ 61.398571\n",
            "TraderNet bought:  $ 61.712856\n"
          ],
          "name": "stdout"
        },
        {
          "output_type": "stream",
          "text": [
            " 33%|███▎      | 818/2461 [01:51<03:45,  7.29it/s]"
          ],
          "name": "stderr"
        },
        {
          "output_type": "stream",
          "text": [
            "TraderNet bought:  $ 61.102856\n",
            "TraderNet bought:  $ 60.457142\n"
          ],
          "name": "stdout"
        },
        {
          "output_type": "stream",
          "text": [
            " 33%|███▎      | 820/2461 [01:51<03:51,  7.09it/s]"
          ],
          "name": "stderr"
        },
        {
          "output_type": "stream",
          "text": [
            "TraderNet bought:  $ 60.887142\n",
            "TraderNet bought:  $ 60.997143\n"
          ],
          "name": "stdout"
        },
        {
          "output_type": "stream",
          "text": [
            " 33%|███▎      | 822/2461 [01:52<03:52,  7.04it/s]"
          ],
          "name": "stderr"
        },
        {
          "output_type": "stream",
          "text": [
            "TraderNet bought:  $ 62.241428\n",
            "TraderNet bought:  $ 62.047142\n"
          ],
          "name": "stdout"
        },
        {
          "output_type": "stream",
          "text": [
            " 33%|███▎      | 824/2461 [01:52<03:45,  7.25it/s]"
          ],
          "name": "stderr"
        },
        {
          "output_type": "stream",
          "text": [
            "TraderNet bought:  $ 61.400002\n",
            "TraderNet bought:  $ 59.978573\n"
          ],
          "name": "stdout"
        },
        {
          "output_type": "stream",
          "text": [
            " 34%|███▎      | 826/2461 [01:52<03:44,  7.28it/s]"
          ],
          "name": "stderr"
        },
        {
          "output_type": "stream",
          "text": [
            "TraderNet bought:  $ 60.891430\n",
            "TraderNet bought:  $ 57.542858\n"
          ],
          "name": "stdout"
        },
        {
          "output_type": "stream",
          "text": [
            " 34%|███▎      | 828/2461 [01:53<03:47,  7.17it/s]"
          ],
          "name": "stderr"
        },
        {
          "output_type": "stream",
          "text": [
            "TraderNet bought:  $ 56.007141\n",
            "TraderNet bought:  $ 55.790001\n"
          ],
          "name": "stdout"
        },
        {
          "output_type": "stream",
          "text": [
            " 34%|███▎      | 830/2461 [01:53<03:43,  7.29it/s]"
          ],
          "name": "stderr"
        },
        {
          "output_type": "stream",
          "text": [
            "TraderNet bought:  $ 56.952858\n"
          ],
          "name": "stdout"
        },
        {
          "output_type": "stream",
          "text": [
            " 34%|███▍      | 832/2461 [01:53<03:42,  7.31it/s]"
          ],
          "name": "stderr"
        },
        {
          "output_type": "stream",
          "text": [
            "TraderNet bought:  $ 57.922855\n",
            "TraderNet bought:  $ 58.340000\n"
          ],
          "name": "stdout"
        },
        {
          "output_type": "stream",
          "text": [
            " 34%|███▍      | 834/2461 [01:53<03:46,  7.19it/s]"
          ],
          "name": "stderr"
        },
        {
          "output_type": "stream",
          "text": [
            "TraderNet bought:  $ 59.599998\n",
            "TraderNet bought:  $ 61.445713\n"
          ],
          "name": "stdout"
        },
        {
          "output_type": "stream",
          "text": [
            " 34%|███▍      | 836/2461 [01:54<03:49,  7.09it/s]"
          ],
          "name": "stderr"
        },
        {
          "output_type": "stream",
          "text": [
            "TraderNet bought:  $ 63.254284\n",
            "TraderNet bought:  $ 62.755714\n"
          ],
          "name": "stdout"
        },
        {
          "output_type": "stream",
          "text": [
            " 34%|███▍      | 838/2461 [01:54<03:40,  7.35it/s]"
          ],
          "name": "stderr"
        },
        {
          "output_type": "stream",
          "text": [
            "TraderNet bought:  $ 63.645714\n",
            "TraderNet bought:  $ 64.282860\n"
          ],
          "name": "stdout"
        },
        {
          "output_type": "stream",
          "text": [
            " 34%|███▍      | 840/2461 [01:54<03:39,  7.39it/s]"
          ],
          "name": "stderr"
        },
        {
          "output_type": "stream",
          "text": [
            "TraderNet bought:  $ 65.815712\n",
            "TraderNet bought:  $ 65.522858\n"
          ],
          "name": "stdout"
        },
        {
          "output_type": "stream",
          "text": [
            " 34%|███▍      | 842/2461 [01:54<03:38,  7.42it/s]"
          ],
          "name": "stderr"
        },
        {
          "output_type": "stream",
          "text": [
            "TraderNet bought:  $ 66.262856\n",
            "TraderNet bought:  $ 65.252853\n"
          ],
          "name": "stdout"
        },
        {
          "output_type": "stream",
          "text": [
            " 34%|███▍      | 844/2461 [01:55<03:41,  7.31it/s]"
          ],
          "name": "stderr"
        },
        {
          "output_type": "stream",
          "text": [
            "TraderNet bought:  $ 64.709999\n",
            "TraderNet bought:  $ 64.962860\n"
          ],
          "name": "stdout"
        },
        {
          "output_type": "stream",
          "text": [
            " 34%|███▍      | 846/2461 [01:55<03:40,  7.34it/s]"
          ],
          "name": "stderr"
        },
        {
          "output_type": "stream",
          "text": [
            "TraderNet bought:  $ 63.408573\n",
            "TraderNet bought:  $ 61.264286\n"
          ],
          "name": "stdout"
        },
        {
          "output_type": "stream",
          "text": [
            " 34%|███▍      | 848/2461 [01:55<03:44,  7.18it/s]"
          ],
          "name": "stderr"
        },
        {
          "output_type": "stream",
          "text": [
            "TraderNet bought:  $ 62.082859\n",
            "TraderNet bought:  $ 61.894287\n"
          ],
          "name": "stdout"
        },
        {
          "output_type": "stream",
          "text": [
            " 35%|███▍      | 850/2461 [01:56<03:42,  7.24it/s]"
          ],
          "name": "stderr"
        },
        {
          "output_type": "stream",
          "text": [
            "TraderNet bought:  $ 63.275715\n",
            "TraderNet bought:  $ 62.808571\n"
          ],
          "name": "stdout"
        },
        {
          "output_type": "stream",
          "text": [
            " 35%|███▍      | 852/2461 [01:56<03:42,  7.24it/s]"
          ],
          "name": "stderr"
        },
        {
          "output_type": "stream",
          "text": [
            "TraderNet bought:  $ 63.049999\n",
            "TraderNet bought:  $ 63.162857\n"
          ],
          "name": "stdout"
        },
        {
          "output_type": "stream",
          "text": [
            " 35%|███▍      | 854/2461 [01:56<03:50,  6.96it/s]"
          ],
          "name": "stderr"
        },
        {
          "output_type": "stream",
          "text": [
            "TraderNet bought:  $ 63.592857\n",
            "TraderNet bought:  $ 63.062859\n"
          ],
          "name": "stdout"
        },
        {
          "output_type": "stream",
          "text": [
            " 35%|███▍      | 856/2461 [01:56<03:44,  7.15it/s]"
          ],
          "name": "stderr"
        },
        {
          "output_type": "stream",
          "text": [
            "TraderNet bought:  $ 63.564285\n",
            "TraderNet bought:  $ 64.511429\n"
          ],
          "name": "stdout"
        },
        {
          "output_type": "stream",
          "text": [
            " 35%|███▍      | 858/2461 [01:57<03:37,  7.36it/s]"
          ],
          "name": "stderr"
        },
        {
          "output_type": "stream",
          "text": [
            "TraderNet bought:  $ 64.247147\n",
            "TraderNet bought:  $ 64.388573\n"
          ],
          "name": "stdout"
        },
        {
          "output_type": "stream",
          "text": [
            " 35%|███▍      | 860/2461 [01:57<03:43,  7.17it/s]"
          ],
          "name": "stderr"
        },
        {
          "output_type": "stream",
          "text": [
            "TraderNet bought:  $ 64.187141\n",
            "TraderNet bought:  $ 63.587143\n"
          ],
          "name": "stdout"
        },
        {
          "output_type": "stream",
          "text": [
            " 35%|███▌      | 862/2461 [01:57<03:47,  7.03it/s]"
          ],
          "name": "stderr"
        },
        {
          "output_type": "stream",
          "text": [
            "TraderNet bought:  $ 62.637142\n",
            "TraderNet bought:  $ 63.115715\n"
          ],
          "name": "stdout"
        },
        {
          "output_type": "stream",
          "text": [
            " 35%|███▌      | 864/2461 [01:58<03:41,  7.20it/s]"
          ],
          "name": "stderr"
        },
        {
          "output_type": "stream",
          "text": [
            "TraderNet bought:  $ 62.698570\n",
            "TraderNet bought:  $ 62.514286\n"
          ],
          "name": "stdout"
        },
        {
          "output_type": "stream",
          "text": [
            " 35%|███▌      | 866/2461 [01:58<03:45,  7.07it/s]"
          ],
          "name": "stderr"
        },
        {
          "output_type": "stream",
          "text": [
            "TraderNet bought:  $ 61.741428\n",
            "TraderNet bought:  $ 62.279999\n"
          ],
          "name": "stdout"
        },
        {
          "output_type": "stream",
          "text": [
            " 35%|███▌      | 868/2461 [01:58<03:44,  7.10it/s]"
          ],
          "name": "stderr"
        },
        {
          "output_type": "stream",
          "text": [
            "TraderNet bought:  $ 61.435715\n",
            "TraderNet bought:  $ 61.714287\n"
          ],
          "name": "stdout"
        },
        {
          "output_type": "stream",
          "text": [
            " 35%|███▌      | 870/2461 [01:58<03:41,  7.17it/s]"
          ],
          "name": "stderr"
        },
        {
          "output_type": "stream",
          "text": [
            "TraderNet sold:  $ 61.681427  Profit: - $ 15.288574\n",
            "TraderNet bought:  $ 60.428570\n"
          ],
          "name": "stdout"
        },
        {
          "output_type": "stream",
          "text": [
            " 35%|███▌      | 872/2461 [01:59<03:42,  7.16it/s]"
          ],
          "name": "stderr"
        },
        {
          "output_type": "stream",
          "text": [
            "TraderNet bought:  $ 59.548573\n",
            "TraderNet sold:  $ 59.071430  Profit: - $ 16.598568\n"
          ],
          "name": "stdout"
        },
        {
          "output_type": "stream",
          "text": [
            " 36%|███▌      | 874/2461 [01:59<03:42,  7.14it/s]"
          ],
          "name": "stderr"
        },
        {
          "output_type": "stream",
          "text": [
            "TraderNet bought:  $ 57.505714\n",
            "TraderNet bought:  $ 57.518570\n"
          ],
          "name": "stdout"
        },
        {
          "output_type": "stream",
          "text": [
            " 36%|███▌      | 876/2461 [01:59<03:38,  7.24it/s]"
          ],
          "name": "stderr"
        },
        {
          "output_type": "stream",
          "text": [
            "TraderNet bought:  $ 56.867142\n",
            "TraderNet bought:  $ 56.254284\n"
          ],
          "name": "stdout"
        },
        {
          "output_type": "stream",
          "text": [
            " 36%|███▌      | 878/2461 [02:00<03:45,  7.02it/s]"
          ],
          "name": "stderr"
        },
        {
          "output_type": "stream",
          "text": [
            "TraderNet bought:  $ 56.647144\n",
            "TraderNet bought:  $ 58.459999\n"
          ],
          "name": "stdout"
        },
        {
          "output_type": "stream",
          "text": [
            " 36%|███▌      | 880/2461 [02:00<03:43,  7.07it/s]"
          ],
          "name": "stderr"
        },
        {
          "output_type": "stream",
          "text": [
            "TraderNet bought:  $ 59.784286\n",
            "TraderNet bought:  $ 60.114285\n"
          ],
          "name": "stdout"
        },
        {
          "output_type": "stream",
          "text": [
            " 36%|███▌      | 882/2461 [02:00<03:39,  7.19it/s]"
          ],
          "name": "stderr"
        },
        {
          "output_type": "stream",
          "text": [
            "TraderNet sold:  $ 59.631428  Profit: - $ 13.195713\n",
            "TraderNet sold:  $ 59.292858  Profit: - $ 14.825710\n"
          ],
          "name": "stdout"
        },
        {
          "output_type": "stream",
          "text": [
            " 36%|███▌      | 884/2461 [02:00<03:44,  7.03it/s]"
          ],
          "name": "stderr"
        },
        {
          "output_type": "stream",
          "text": [
            "TraderNet sold:  $ 60.335712  Profit: - $ 15.935719\n",
            "TraderNet bought:  $ 60.104286\n"
          ],
          "name": "stdout"
        },
        {
          "output_type": "stream",
          "text": [
            " 36%|███▌      | 886/2461 [02:01<03:37,  7.25it/s]"
          ],
          "name": "stderr"
        },
        {
          "output_type": "stream",
          "text": [
            "TraderNet bought:  $ 61.041428\n",
            "TraderNet bought:  $ 60.930000\n"
          ],
          "name": "stdout"
        },
        {
          "output_type": "stream",
          "text": [
            " 36%|███▌      | 888/2461 [02:01<03:39,  7.16it/s]"
          ],
          "name": "stderr"
        },
        {
          "output_type": "stream",
          "text": [
            "TraderNet bought:  $ 61.062859\n",
            "TraderNet bought:  $ 61.457142\n"
          ],
          "name": "stdout"
        },
        {
          "output_type": "stream",
          "text": [
            " 36%|███▌      | 890/2461 [02:01<03:36,  7.26it/s]"
          ],
          "name": "stderr"
        },
        {
          "output_type": "stream",
          "text": [
            "TraderNet bought:  $ 61.472858\n",
            "TraderNet bought:  $ 61.680000\n"
          ],
          "name": "stdout"
        },
        {
          "output_type": "stream",
          "text": [
            " 36%|███▌      | 892/2461 [02:01<03:38,  7.19it/s]"
          ],
          "name": "stderr"
        },
        {
          "output_type": "stream",
          "text": [
            "TraderNet sold:  $ 60.707142  Profit: - $ 13.825718\n",
            "TraderNet bought:  $ 60.901428\n"
          ],
          "name": "stdout"
        },
        {
          "output_type": "stream",
          "text": [
            " 36%|███▋      | 894/2461 [02:02<03:40,  7.11it/s]"
          ],
          "name": "stderr"
        },
        {
          "output_type": "stream",
          "text": [
            "TraderNet sold:  $ 59.855713  Profit: - $ 14.334290\n",
            "TraderNet bought:  $ 62.930000\n"
          ],
          "name": "stdout"
        },
        {
          "output_type": "stream",
          "text": [
            " 36%|███▋      | 896/2461 [02:02<03:36,  7.23it/s]"
          ],
          "name": "stderr"
        },
        {
          "output_type": "stream",
          "text": [
            "TraderNet bought:  $ 62.642857\n",
            "TraderNet bought:  $ 62.998573\n"
          ],
          "name": "stdout"
        },
        {
          "output_type": "stream",
          "text": [
            " 36%|███▋      | 898/2461 [02:02<03:37,  7.17it/s]"
          ],
          "name": "stderr"
        },
        {
          "output_type": "stream",
          "text": [
            "TraderNet bought:  $ 63.970001\n",
            "TraderNet bought:  $ 64.760002\n"
          ],
          "name": "stdout"
        },
        {
          "output_type": "stream",
          "text": [
            " 37%|███▋      | 900/2461 [02:03<03:35,  7.23it/s]"
          ],
          "name": "stderr"
        },
        {
          "output_type": "stream",
          "text": [
            "TraderNet bought:  $ 64.647141\n",
            "TraderNet bought:  $ 65.239998\n"
          ],
          "name": "stdout"
        },
        {
          "output_type": "stream",
          "text": [
            " 37%|███▋      | 902/2461 [02:03<03:34,  7.28it/s]"
          ],
          "name": "stderr"
        },
        {
          "output_type": "stream",
          "text": [
            "TraderNet bought:  $ 66.077141\n",
            "TraderNet bought:  $ 67.064285\n"
          ],
          "name": "stdout"
        },
        {
          "output_type": "stream",
          "text": [
            " 37%|███▋      | 904/2461 [02:03<03:35,  7.24it/s]"
          ],
          "name": "stderr"
        },
        {
          "output_type": "stream",
          "text": [
            "TraderNet bought:  $ 66.464287\n",
            "TraderNet bought:  $ 66.425713\n"
          ],
          "name": "stdout"
        },
        {
          "output_type": "stream",
          "text": [
            " 37%|███▋      | 906/2461 [02:03<03:29,  7.44it/s]"
          ],
          "name": "stderr"
        },
        {
          "output_type": "stream",
          "text": [
            "TraderNet sold:  $ 65.858574  Profit: - $ 8.451424\n",
            "TraderNet bought:  $ 64.921425\n"
          ],
          "name": "stdout"
        },
        {
          "output_type": "stream",
          "text": [
            " 37%|███▋      | 908/2461 [02:04<03:32,  7.32it/s]"
          ],
          "name": "stderr"
        },
        {
          "output_type": "stream",
          "text": [
            "TraderNet bought:  $ 66.765717\n",
            "TraderNet bought:  $ 69.938568\n"
          ],
          "name": "stdout"
        },
        {
          "output_type": "stream",
          "text": [
            " 37%|███▋      | 911/2461 [02:04<03:35,  7.19it/s]"
          ],
          "name": "stderr"
        },
        {
          "output_type": "stream",
          "text": [
            "TraderNet bought:  $ 71.129997\n",
            "TraderNet sold:  $ 71.761429  Profit: - $ 1.524284\n"
          ],
          "name": "stdout"
        },
        {
          "output_type": "stream",
          "text": [
            " 37%|███▋      | 913/2461 [02:04<03:32,  7.28it/s]"
          ],
          "name": "stderr"
        },
        {
          "output_type": "stream",
          "text": [
            "TraderNet bought:  $ 72.534286\n",
            "TraderNet sold:  $ 71.581429  Profit: - $ 1.998573\n"
          ],
          "name": "stdout"
        },
        {
          "output_type": "stream",
          "text": [
            " 37%|███▋      | 915/2461 [02:05<03:34,  7.21it/s]"
          ],
          "name": "stderr"
        },
        {
          "output_type": "stream",
          "text": [
            "TraderNet bought:  $ 71.765717\n",
            "TraderNet sold:  $ 71.851425  Profit: - $ 0.947144\n"
          ],
          "name": "stdout"
        },
        {
          "output_type": "stream",
          "text": [
            " 37%|███▋      | 917/2461 [02:05<03:35,  7.15it/s]"
          ],
          "name": "stderr"
        },
        {
          "output_type": "stream",
          "text": [
            "TraderNet bought:  $ 71.574287\n",
            "TraderNet bought:  $ 71.852859\n"
          ],
          "name": "stdout"
        },
        {
          "output_type": "stream",
          "text": [
            " 37%|███▋      | 919/2461 [02:05<03:41,  6.97it/s]"
          ],
          "name": "stderr"
        },
        {
          "output_type": "stream",
          "text": [
            "TraderNet bought:  $ 69.798569\n",
            "TraderNet bought:  $ 70.128571\n"
          ],
          "name": "stdout"
        },
        {
          "output_type": "stream",
          "text": [
            " 37%|███▋      | 921/2461 [02:06<03:39,  7.02it/s]"
          ],
          "name": "stderr"
        },
        {
          "output_type": "stream",
          "text": [
            "TraderNet bought:  $ 70.242859\n",
            "TraderNet bought:  $ 69.602859\n"
          ],
          "name": "stdout"
        },
        {
          "output_type": "stream",
          "text": [
            " 38%|███▊      | 923/2461 [02:06<03:35,  7.13it/s]"
          ],
          "name": "stderr"
        },
        {
          "output_type": "stream",
          "text": [
            "TraderNet bought:  $ 69.797142\n",
            "TraderNet bought:  $ 71.241432\n"
          ],
          "name": "stdout"
        },
        {
          "output_type": "stream",
          "text": [
            " 38%|███▊      | 925/2461 [02:06<03:28,  7.38it/s]"
          ],
          "name": "stderr"
        },
        {
          "output_type": "stream",
          "text": [
            "TraderNet bought:  $ 70.752853\n",
            "TraderNet bought:  $ 71.174286\n"
          ],
          "name": "stdout"
        },
        {
          "output_type": "stream",
          "text": [
            " 38%|███▊      | 927/2461 [02:06<03:34,  7.15it/s]"
          ],
          "name": "stderr"
        },
        {
          "output_type": "stream",
          "text": [
            "TraderNet sold:  $ 72.309998  Profit: - $ 3.714287\n",
            "TraderNet sold:  $ 70.662857  Profit: - $ 7.769997\n"
          ],
          "name": "stdout"
        },
        {
          "output_type": "stream",
          "text": [
            " 38%|███▊      | 929/2461 [02:07<03:38,  7.03it/s]"
          ],
          "name": "stderr"
        },
        {
          "output_type": "stream",
          "text": [
            "TraderNet sold:  $ 66.815712  Profit: - $ 10.627144\n",
            "TraderNet bought:  $ 67.527145\n"
          ],
          "name": "stdout"
        },
        {
          "output_type": "stream",
          "text": [
            " 38%|███▊      | 931/2461 [02:07<03:33,  7.16it/s]"
          ],
          "name": "stderr"
        },
        {
          "output_type": "stream",
          "text": [
            "TraderNet sold:  $ 66.414284  Profit: - $ 8.428574\n"
          ],
          "name": "stdout"
        },
        {
          "output_type": "stream",
          "text": [
            " 38%|███▊      | 933/2461 [02:07<03:37,  7.03it/s]"
          ],
          "name": "stderr"
        },
        {
          "output_type": "stream",
          "text": [
            "TraderNet bought:  $ 65.045715\n"
          ],
          "name": "stdout"
        },
        {
          "output_type": "stream",
          "text": [
            " 38%|███▊      | 935/2461 [02:08<03:32,  7.17it/s]"
          ],
          "name": "stderr"
        },
        {
          "output_type": "stream",
          "text": [
            "TraderNet bought:  $ 67.471428\n"
          ],
          "name": "stdout"
        },
        {
          "output_type": "stream",
          "text": [
            " 38%|███▊      | 937/2461 [02:08<03:27,  7.33it/s]"
          ],
          "name": "stderr"
        },
        {
          "output_type": "stream",
          "text": [
            "TraderNet bought:  $ 70.091431\n",
            "TraderNet sold:  $ 69.871429  Profit: - $ 5.172859\n"
          ],
          "name": "stdout"
        },
        {
          "output_type": "stream",
          "text": [
            " 38%|███▊      | 939/2461 [02:08<03:25,  7.40it/s]"
          ],
          "name": "stderr"
        },
        {
          "output_type": "stream",
          "text": [
            "TraderNet sold:  $ 68.790001  Profit: - $ 5.081429\n",
            "TraderNet bought:  $ 69.459999\n"
          ],
          "name": "stdout"
        },
        {
          "output_type": "stream",
          "text": [
            " 38%|███▊      | 941/2461 [02:08<03:28,  7.28it/s]"
          ],
          "name": "stderr"
        },
        {
          "output_type": "stream",
          "text": [
            "TraderNet sold:  $ 68.964287  Profit: - $ 5.364288\n",
            "TraderNet bought:  $ 68.107140\n"
          ],
          "name": "stdout"
        },
        {
          "output_type": "stream",
          "text": [
            " 38%|███▊      | 944/2461 [02:09<03:24,  7.40it/s]"
          ],
          "name": "stderr"
        },
        {
          "output_type": "stream",
          "text": [
            "TraderNet bought:  $ 69.937141\n"
          ],
          "name": "stdout"
        },
        {
          "output_type": "stream",
          "text": [
            " 38%|███▊      | 946/2461 [02:09<03:22,  7.48it/s]"
          ],
          "name": "stderr"
        },
        {
          "output_type": "stream",
          "text": [
            "TraderNet bought:  $ 69.004288\n",
            "TraderNet bought:  $ 69.678574\n"
          ],
          "name": "stdout"
        },
        {
          "output_type": "stream",
          "text": [
            " 39%|███▊      | 948/2461 [02:09<03:30,  7.17it/s]"
          ],
          "name": "stderr"
        },
        {
          "output_type": "stream",
          "text": [
            "TraderNet bought:  $ 68.705711\n",
            "TraderNet bought:  $ 69.512856\n"
          ],
          "name": "stdout"
        },
        {
          "output_type": "stream",
          "text": [
            " 39%|███▊      | 950/2461 [02:10<03:23,  7.43it/s]"
          ],
          "name": "stderr"
        },
        {
          "output_type": "stream",
          "text": [
            "TraderNet bought:  $ 69.948570\n",
            "TraderNet bought:  $ 70.401428\n"
          ],
          "name": "stdout"
        },
        {
          "output_type": "stream",
          "text": [
            " 39%|███▊      | 952/2461 [02:10<03:25,  7.35it/s]"
          ],
          "name": "stderr"
        },
        {
          "output_type": "stream",
          "text": [
            "TraderNet bought:  $ 70.862854\n",
            "TraderNet bought:  $ 71.239998\n"
          ],
          "name": "stdout"
        },
        {
          "output_type": "stream",
          "text": [
            " 39%|███▉      | 954/2461 [02:10<03:21,  7.46it/s]"
          ],
          "name": "stderr"
        },
        {
          "output_type": "stream",
          "text": [
            "TraderNet sold:  $ 71.587143  Profit: - $ 0.091431\n",
            "TraderNet sold:  $ 72.071426  Profit: $ 2.654282\n"
          ],
          "name": "stdout"
        },
        {
          "output_type": "stream",
          "text": [
            " 39%|███▉      | 956/2461 [02:10<03:21,  7.47it/s]"
          ],
          "name": "stderr"
        },
        {
          "output_type": "stream",
          "text": [
            "TraderNet sold:  $ 72.698570  Profit: $ 0.400002\n"
          ],
          "name": "stdout"
        },
        {
          "output_type": "stream",
          "text": [
            " 39%|███▉      | 958/2461 [02:11<03:29,  7.18it/s]"
          ],
          "name": "stderr"
        },
        {
          "output_type": "stream",
          "text": [
            "TraderNet sold:  $ 74.267143  Profit: $ 2.455711\n",
            "TraderNet sold:  $ 74.994286  Profit: $ 2.884285\n"
          ],
          "name": "stdout"
        },
        {
          "output_type": "stream",
          "text": [
            " 39%|███▉      | 960/2461 [02:11<03:26,  7.27it/s]"
          ],
          "name": "stderr"
        },
        {
          "output_type": "stream",
          "text": [
            "TraderNet sold:  $ 75.987144  Profit: $ 2.557144\n",
            "TraderNet sold:  $ 75.137146  Profit: $ 10.780006\n"
          ],
          "name": "stdout"
        },
        {
          "output_type": "stream",
          "text": [
            " 39%|███▉      | 962/2461 [02:11<03:24,  7.35it/s]"
          ],
          "name": "stderr"
        },
        {
          "output_type": "stream",
          "text": [
            "TraderNet sold:  $ 75.697144  Profit: $ 12.857143\n",
            "TraderNet sold:  $ 73.811432  Profit: $ 9.550003\n"
          ],
          "name": "stdout"
        },
        {
          "output_type": "stream",
          "text": [
            " 39%|███▉      | 964/2461 [02:11<03:21,  7.44it/s]"
          ],
          "name": "stderr"
        },
        {
          "output_type": "stream",
          "text": [
            "TraderNet bought:  $ 74.985718\n",
            "TraderNet sold:  $ 74.671425  Profit: $ 9.204285\n"
          ],
          "name": "stdout"
        },
        {
          "output_type": "stream",
          "text": [
            " 39%|███▉      | 966/2461 [02:12<03:24,  7.32it/s]"
          ],
          "name": "stderr"
        },
        {
          "output_type": "stream",
          "text": [
            "TraderNet sold:  $ 74.290001  Profit: $ 9.028572\n",
            "TraderNet sold:  $ 75.250000  Profit: $ 10.180000\n"
          ],
          "name": "stdout"
        },
        {
          "output_type": "stream",
          "text": [
            " 39%|███▉      | 968/2461 [02:12<03:24,  7.31it/s]"
          ],
          "name": "stderr"
        },
        {
          "output_type": "stream",
          "text": [
            "TraderNet sold:  $ 75.064285  Profit: $ 10.261429\n",
            "TraderNet sold:  $ 74.417145  Profit: $ 11.228573\n"
          ],
          "name": "stdout"
        },
        {
          "output_type": "stream",
          "text": [
            " 39%|███▉      | 970/2461 [02:12<03:21,  7.39it/s]"
          ],
          "name": "stderr"
        },
        {
          "output_type": "stream",
          "text": [
            "TraderNet sold:  $ 73.212860  Profit: $ 7.807144\n",
            "TraderNet sold:  $ 74.365715  Profit: $ 9.029999\n"
          ],
          "name": "stdout"
        },
        {
          "output_type": "stream",
          "text": [
            " 39%|███▉      | 972/2461 [02:13<03:23,  7.32it/s]"
          ],
          "name": "stderr"
        },
        {
          "output_type": "stream",
          "text": [
            "TraderNet sold:  $ 74.150002  Profit: $ 7.261429\n",
            "TraderNet sold:  $ 74.287140  Profit: $ 6.432854\n"
          ],
          "name": "stdout"
        },
        {
          "output_type": "stream",
          "text": [
            " 40%|███▉      | 974/2461 [02:13<03:26,  7.20it/s]"
          ],
          "name": "stderr"
        },
        {
          "output_type": "stream",
          "text": [
            "TraderNet sold:  $ 74.375717  Profit: $ 5.814285\n",
            "TraderNet sold:  $ 75.451431  Profit: $ 8.608574\n"
          ],
          "name": "stdout"
        },
        {
          "output_type": "stream",
          "text": [
            " 40%|███▉      | 976/2461 [02:13<03:23,  7.29it/s]"
          ],
          "name": "stderr"
        },
        {
          "output_type": "stream",
          "text": [
            "TraderNet sold:  $ 74.998573  Profit: $ 8.282860\n",
            "TraderNet sold:  $ 74.089996  Profit: $ 7.434280\n"
          ],
          "name": "stdout"
        },
        {
          "output_type": "stream",
          "text": [
            " 40%|███▉      | 978/2461 [02:13<03:21,  7.37it/s]"
          ],
          "name": "stderr"
        },
        {
          "output_type": "stream",
          "text": [
            "TraderNet sold:  $ 74.221428  Profit: $ 8.484283\n",
            "TraderNet sold:  $ 73.571426  Profit: $ 7.858566\n"
          ],
          "name": "stdout"
        },
        {
          "output_type": "stream",
          "text": [
            " 40%|███▉      | 980/2461 [02:14<03:20,  7.38it/s]"
          ],
          "name": "stderr"
        },
        {
          "output_type": "stream",
          "text": [
            "TraderNet sold:  $ 74.448570  Profit: $ 10.327141\n",
            "TraderNet sold:  $ 74.257141  Profit: $ 10.534283\n"
          ],
          "name": "stdout"
        },
        {
          "output_type": "stream",
          "text": [
            " 40%|███▉      | 982/2461 [02:14<03:28,  7.11it/s]"
          ],
          "name": "stderr"
        },
        {
          "output_type": "stream",
          "text": [
            "TraderNet sold:  $ 74.820000  Profit: $ 10.418571\n",
            "TraderNet sold:  $ 76.199997  Profit: $ 12.942856\n"
          ],
          "name": "stdout"
        },
        {
          "output_type": "stream",
          "text": [
            " 40%|███▉      | 984/2461 [02:14<03:25,  7.18it/s]"
          ],
          "name": "stderr"
        },
        {
          "output_type": "stream",
          "text": [
            "TraderNet sold:  $ 77.994286  Profit: $ 13.855713\n",
            "TraderNet sold:  $ 79.438568  Profit: $ 15.928570\n"
          ],
          "name": "stdout"
        },
        {
          "output_type": "stream",
          "text": [
            " 40%|████      | 986/2461 [02:14<03:24,  7.23it/s]"
          ],
          "name": "stderr"
        },
        {
          "output_type": "stream",
          "text": [
            "TraderNet sold:  $ 78.747147  Profit: $ 15.690002\n",
            "TraderNet sold:  $ 80.902855  Profit: $ 19.407139\n"
          ],
          "name": "stdout"
        },
        {
          "output_type": "stream",
          "text": [
            " 40%|████      | 988/2461 [02:15<03:20,  7.35it/s]"
          ],
          "name": "stderr"
        },
        {
          "output_type": "stream",
          "text": [
            "TraderNet sold:  $ 80.714287  Profit: $ 20.707146\n",
            "TraderNet sold:  $ 81.128571  Profit: $ 19.537144\n"
          ],
          "name": "stdout"
        },
        {
          "output_type": "stream",
          "text": [
            " 40%|████      | 990/2461 [02:15<03:20,  7.32it/s]"
          ],
          "name": "stderr"
        },
        {
          "output_type": "stream",
          "text": [
            "TraderNet sold:  $ 80.002853  Profit: $ 19.194283\n",
            "TraderNet sold:  $ 80.918571  Profit: $ 19.244286\n"
          ],
          "name": "stdout"
        },
        {
          "output_type": "stream",
          "text": [
            " 40%|████      | 992/2461 [02:15<03:24,  7.18it/s]"
          ],
          "name": "stderr"
        },
        {
          "output_type": "stream",
          "text": [
            "TraderNet sold:  $ 80.792854  Profit: $ 18.239998\n",
            "TraderNet sold:  $ 80.194283  Profit: $ 18.989998\n"
          ],
          "name": "stdout"
        },
        {
          "output_type": "stream",
          "text": [
            " 40%|████      | 994/2461 [02:16<03:22,  7.24it/s]"
          ],
          "name": "stderr"
        },
        {
          "output_type": "stream",
          "text": [
            "TraderNet sold:  $ 80.077141  Profit: $ 18.884285\n",
            "TraderNet sold:  $ 79.204285  Profit: $ 17.418571\n"
          ],
          "name": "stdout"
        },
        {
          "output_type": "stream",
          "text": [
            " 40%|████      | 996/2461 [02:16<03:24,  7.15it/s]"
          ],
          "name": "stderr"
        },
        {
          "output_type": "stream",
          "text": [
            "TraderNet sold:  $ 79.642860  Profit: $ 16.262859\n",
            "TraderNet sold:  $ 79.284286  Profit: $ 14.181427\n"
          ],
          "name": "stdout"
        },
        {
          "output_type": "stream",
          "text": [
            " 41%|████      | 998/2461 [02:16<03:24,  7.17it/s]"
          ],
          "name": "stderr"
        },
        {
          "output_type": "stream",
          "text": [
            "TraderNet sold:  $ 78.681427  Profit: $ 13.754288\n",
            "TraderNet sold:  $ 77.779999  Profit: $ 13.197144\n"
          ],
          "name": "stdout"
        },
        {
          "output_type": "stream",
          "text": [
            " 41%|████      | 1000/2461 [02:16<03:26,  7.09it/s]"
          ],
          "name": "stderr"
        },
        {
          "output_type": "stream",
          "text": [
            "TraderNet sold:  $ 78.431427  Profit: $ 13.755714\n",
            "TraderNet sold:  $ 81.441429  Profit: $ 15.454285\n"
          ],
          "name": "stdout"
        },
        {
          "output_type": "stream",
          "text": [
            " 41%|████      | 1002/2461 [02:17<03:32,  6.86it/s]"
          ],
          "name": "stderr"
        },
        {
          "output_type": "stream",
          "text": [
            "TraderNet sold:  $ 81.095711  Profit: $ 14.869995\n",
            "TraderNet sold:  $ 80.557144  Profit: $ 14.680000\n"
          ],
          "name": "stdout"
        },
        {
          "output_type": "stream",
          "text": [
            " 41%|████      | 1004/2461 [02:17<03:26,  7.06it/s]"
          ],
          "name": "stderr"
        },
        {
          "output_type": "stream",
          "text": [
            "TraderNet sold:  $ 80.012856  Profit: $ 15.430000\n",
            "TraderNet sold:  $ 79.217140  Profit: $ 15.979996\n"
          ],
          "name": "stdout"
        },
        {
          "output_type": "stream",
          "text": [
            " 41%|████      | 1006/2461 [02:17<03:25,  7.08it/s]"
          ],
          "name": "stderr"
        },
        {
          "output_type": "stream",
          "text": [
            "TraderNet sold:  $ 80.145714  Profit: $ 18.872856\n",
            "TraderNet sold:  $ 79.018570  Profit: $ 17.619999\n"
          ],
          "name": "stdout"
        },
        {
          "output_type": "stream",
          "text": [
            " 41%|████      | 1008/2461 [02:18<03:23,  7.14it/s]"
          ],
          "name": "stderr"
        },
        {
          "output_type": "stream",
          "text": [
            "TraderNet sold:  $ 77.282860  Profit: $ 15.570004\n",
            "TraderNet sold:  $ 77.704285  Profit: $ 16.601429\n"
          ],
          "name": "stdout"
        },
        {
          "output_type": "stream",
          "text": [
            " 41%|████      | 1010/2461 [02:18<03:17,  7.33it/s]"
          ],
          "name": "stderr"
        },
        {
          "output_type": "stream",
          "text": [
            "TraderNet sold:  $ 77.148575  Profit: $ 16.691433\n",
            "TraderNet sold:  $ 77.637146  Profit: $ 16.750004\n"
          ],
          "name": "stdout"
        },
        {
          "output_type": "stream",
          "text": [
            " 41%|████      | 1012/2461 [02:18<03:17,  7.33it/s]"
          ],
          "name": "stderr"
        },
        {
          "output_type": "stream",
          "text": [
            "TraderNet sold:  $ 76.645714  Profit: $ 15.648571\n",
            "TraderNet sold:  $ 76.134285  Profit: $ 13.892857\n"
          ],
          "name": "stdout"
        },
        {
          "output_type": "stream",
          "text": [
            " 41%|████      | 1014/2461 [02:18<03:14,  7.44it/s]"
          ],
          "name": "stderr"
        },
        {
          "output_type": "stream",
          "text": [
            "TraderNet sold:  $ 76.532860  Profit: $ 14.485718\n",
            "TraderNet sold:  $ 78.055717  Profit: $ 16.655716\n"
          ],
          "name": "stdout"
        },
        {
          "output_type": "stream",
          "text": [
            " 41%|████▏     | 1016/2461 [02:19<03:19,  7.23it/s]"
          ],
          "name": "stderr"
        },
        {
          "output_type": "stream",
          "text": [
            "TraderNet sold:  $ 79.622856  Profit: $ 19.644283\n",
            "TraderNet sold:  $ 79.178574  Profit: $ 18.287144\n"
          ],
          "name": "stdout"
        },
        {
          "output_type": "stream",
          "text": [
            " 41%|████▏     | 1018/2461 [02:19<03:16,  7.36it/s]"
          ],
          "name": "stderr"
        },
        {
          "output_type": "stream",
          "text": [
            "TraderNet sold:  $ 77.238571  Profit: $ 19.695713\n",
            "TraderNet sold:  $ 78.438568  Profit: $ 22.431427\n"
          ],
          "name": "stdout"
        },
        {
          "output_type": "stream",
          "text": [
            " 41%|████▏     | 1020/2461 [02:19<03:16,  7.34it/s]"
          ],
          "name": "stderr"
        },
        {
          "output_type": "stream",
          "text": [
            "TraderNet sold:  $ 78.787140  Profit: $ 22.997139\n",
            "TraderNet sold:  $ 79.454285  Profit: $ 22.501427\n"
          ],
          "name": "stdout"
        },
        {
          "output_type": "stream",
          "text": [
            " 42%|████▏     | 1022/2461 [02:19<03:18,  7.24it/s]"
          ],
          "name": "stderr"
        },
        {
          "output_type": "stream",
          "text": [
            "TraderNet sold:  $ 78.010002  Profit: $ 20.087147\n",
            "TraderNet sold:  $ 78.642860  Profit: $ 20.302860\n"
          ],
          "name": "stdout"
        },
        {
          "output_type": "stream",
          "text": [
            " 42%|████▏     | 1024/2461 [02:20<03:27,  6.93it/s]"
          ],
          "name": "stderr"
        },
        {
          "output_type": "stream",
          "text": [
            "TraderNet sold:  $ 72.357140  Profit: $ 12.757141\n",
            "TraderNet sold:  $ 71.535713  Profit: $ 10.090000\n"
          ],
          "name": "stdout"
        },
        {
          "output_type": "stream",
          "text": [
            " 42%|████▏     | 1026/2461 [02:20<03:21,  7.11it/s]"
          ],
          "name": "stderr"
        },
        {
          "output_type": "stream",
          "text": [
            "TraderNet sold:  $ 71.397141  Profit: $ 8.142857\n",
            "TraderNet sold:  $ 71.514282  Profit: $ 8.758568\n"
          ],
          "name": "stdout"
        },
        {
          "output_type": "stream",
          "text": [
            " 42%|████▏     | 1028/2461 [02:20<03:16,  7.28it/s]"
          ],
          "name": "stderr"
        },
        {
          "output_type": "stream",
          "text": [
            "TraderNet sold:  $ 71.647141  Profit: $ 8.001427\n",
            "TraderNet sold:  $ 72.684288  Profit: $ 8.401428\n"
          ],
          "name": "stdout"
        },
        {
          "output_type": "stream",
          "text": [
            " 42%|████▏     | 1030/2461 [02:21<03:16,  7.28it/s]"
          ],
          "name": "stderr"
        },
        {
          "output_type": "stream",
          "text": [
            "TraderNet sold:  $ 73.227142  Profit: $ 7.411430\n",
            "TraderNet sold:  $ 73.215714  Profit: $ 7.692856\n"
          ],
          "name": "stdout"
        },
        {
          "output_type": "stream",
          "text": [
            " 42%|████▏     | 1032/2461 [02:21<03:14,  7.34it/s]"
          ],
          "name": "stderr"
        },
        {
          "output_type": "stream",
          "text": [
            "TraderNet sold:  $ 74.239998  Profit: $ 7.977142\n",
            "TraderNet sold:  $ 75.570000  Profit: $ 10.317146\n"
          ],
          "name": "stdout"
        },
        {
          "output_type": "stream",
          "text": [
            " 42%|████▏     | 1034/2461 [02:21<03:15,  7.32it/s]"
          ],
          "name": "stderr"
        },
        {
          "output_type": "stream",
          "text": [
            "TraderNet sold:  $ 76.565712  Profit: $ 11.855713\n",
            "TraderNet sold:  $ 76.559998  Profit: $ 11.597137\n"
          ],
          "name": "stdout"
        },
        {
          "output_type": "stream",
          "text": [
            " 42%|████▏     | 1036/2461 [02:21<03:08,  7.54it/s]"
          ],
          "name": "stderr"
        },
        {
          "output_type": "stream",
          "text": [
            "TraderNet sold:  $ 77.775711  Profit: $ 14.367138\n",
            "TraderNet sold:  $ 77.712860  Profit: $ 16.448574\n"
          ],
          "name": "stdout"
        },
        {
          "output_type": "stream",
          "text": [
            " 42%|████▏     | 1038/2461 [02:22<03:11,  7.44it/s]"
          ],
          "name": "stderr"
        },
        {
          "output_type": "stream",
          "text": [
            "TraderNet sold:  $ 77.998573  Profit: $ 15.915714\n",
            "TraderNet sold:  $ 76.767143  Profit: $ 14.872856\n"
          ],
          "name": "stdout"
        },
        {
          "output_type": "stream",
          "text": [
            " 42%|████▏     | 1040/2461 [02:22<03:18,  7.15it/s]"
          ],
          "name": "stderr"
        },
        {
          "output_type": "stream",
          "text": [
            "TraderNet sold:  $ 75.878571  Profit: $ 12.602856\n",
            "TraderNet sold:  $ 75.035713  Profit: $ 12.227142\n"
          ],
          "name": "stdout"
        },
        {
          "output_type": "stream",
          "text": [
            " 42%|████▏     | 1042/2461 [02:22<03:15,  7.27it/s]"
          ],
          "name": "stderr"
        },
        {
          "output_type": "stream",
          "text": [
            "TraderNet sold:  $ 75.364288  Profit: $ 12.314289\n",
            "TraderNet sold:  $ 74.580002  Profit: $ 11.417145\n"
          ],
          "name": "stdout"
        },
        {
          "output_type": "stream",
          "text": [
            " 42%|████▏     | 1044/2461 [02:23<03:14,  7.29it/s]"
          ],
          "name": "stderr"
        },
        {
          "output_type": "stream",
          "text": [
            "TraderNet sold:  $ 73.907143  Profit: $ 10.314285\n",
            "TraderNet sold:  $ 75.381432  Profit: $ 12.318573\n"
          ],
          "name": "stdout"
        },
        {
          "output_type": "stream",
          "text": [
            " 43%|████▎     | 1046/2461 [02:23<03:17,  7.15it/s]"
          ],
          "name": "stderr"
        },
        {
          "output_type": "stream",
          "text": [
            "TraderNet sold:  $ 75.177139  Profit: $ 11.612854\n",
            "TraderNet sold:  $ 75.394287  Profit: $ 10.882858\n"
          ],
          "name": "stdout"
        },
        {
          "output_type": "stream",
          "text": [
            " 43%|████▎     | 1048/2461 [02:23<03:16,  7.20it/s]"
          ],
          "name": "stderr"
        },
        {
          "output_type": "stream",
          "text": [
            "TraderNet sold:  $ 75.891426  Profit: $ 11.644279\n",
            "TraderNet bought:  $ 76.051430\n"
          ],
          "name": "stdout"
        },
        {
          "output_type": "stream",
          "text": [
            " 43%|████▎     | 1050/2461 [02:23<03:13,  7.29it/s]"
          ],
          "name": "stderr"
        },
        {
          "output_type": "stream",
          "text": [
            "TraderNet sold:  $ 75.821426  Profit: $ 11.432854\n",
            "TraderNet sold:  $ 75.777145  Profit: $ 11.590004\n"
          ],
          "name": "stdout"
        },
        {
          "output_type": "stream",
          "text": [
            " 43%|████▎     | 1052/2461 [02:24<03:16,  7.18it/s]"
          ],
          "name": "stderr"
        },
        {
          "output_type": "stream",
          "text": [
            "TraderNet sold:  $ 75.845711  Profit: $ 12.258568\n",
            "TraderNet sold:  $ 76.584282  Profit: $ 13.947140\n"
          ],
          "name": "stdout"
        },
        {
          "output_type": "stream",
          "text": [
            " 43%|████▎     | 1054/2461 [02:24<03:11,  7.35it/s]"
          ],
          "name": "stderr"
        },
        {
          "output_type": "stream",
          "text": [
            "TraderNet sold:  $ 76.658569  Profit: $ 13.542854\n",
            "TraderNet sold:  $ 75.807144  Profit: $ 13.108574\n"
          ],
          "name": "stdout"
        },
        {
          "output_type": "stream",
          "text": [
            " 43%|████▎     | 1056/2461 [02:24<03:09,  7.40it/s]"
          ],
          "name": "stderr"
        },
        {
          "output_type": "stream",
          "text": [
            "TraderNet sold:  $ 74.955711  Profit: $ 12.441425\n",
            "TraderNet sold:  $ 75.248573  Profit: $ 13.507145\n"
          ],
          "name": "stdout"
        },
        {
          "output_type": "stream",
          "text": [
            " 43%|████▎     | 1058/2461 [02:24<03:08,  7.44it/s]"
          ],
          "name": "stderr"
        },
        {
          "output_type": "stream",
          "text": [
            "TraderNet sold:  $ 75.914284  Profit: $ 13.634285\n",
            "TraderNet sold:  $ 75.894287  Profit: $ 14.458572\n"
          ],
          "name": "stdout"
        },
        {
          "output_type": "stream",
          "text": [
            " 43%|████▎     | 1060/2461 [02:25<03:10,  7.37it/s]"
          ],
          "name": "stderr"
        },
        {
          "output_type": "stream",
          "text": [
            "TraderNet sold:  $ 75.528572  Profit: $ 13.814285\n",
            "TraderNet sold:  $ 76.124283  Profit: $ 15.695713\n"
          ],
          "name": "stdout"
        },
        {
          "output_type": "stream",
          "text": [
            " 43%|████▎     | 1062/2461 [02:25<03:09,  7.39it/s]"
          ],
          "name": "stderr"
        },
        {
          "output_type": "stream",
          "text": [
            "TraderNet sold:  $ 77.027145  Profit: $ 17.478573\n",
            "TraderNet sold:  $ 77.855713  Profit: $ 20.349998\n"
          ],
          "name": "stdout"
        },
        {
          "output_type": "stream",
          "text": [
            " 43%|████▎     | 1064/2461 [02:25<03:13,  7.21it/s]"
          ],
          "name": "stderr"
        },
        {
          "output_type": "stream",
          "text": [
            "TraderNet sold:  $ 77.111427  Profit: $ 19.592857\n",
            "TraderNet sold:  $ 76.779999  Profit: $ 19.912857\n"
          ],
          "name": "stdout"
        },
        {
          "output_type": "stream",
          "text": [
            " 43%|████▎     | 1066/2461 [02:26<03:10,  7.31it/s]"
          ],
          "name": "stderr"
        },
        {
          "output_type": "stream",
          "text": [
            "TraderNet sold:  $ 76.694283  Profit: $ 20.439999\n",
            "TraderNet sold:  $ 76.677139  Profit: $ 20.029995\n"
          ],
          "name": "stdout"
        },
        {
          "output_type": "stream",
          "text": [
            " 43%|████▎     | 1068/2461 [02:26<03:10,  7.32it/s]"
          ],
          "name": "stderr"
        },
        {
          "output_type": "stream",
          "text": [
            "TraderNet sold:  $ 77.378571  Profit: $ 18.918571\n",
            "TraderNet sold:  $ 77.507141  Profit: $ 17.722855\n"
          ],
          "name": "stdout"
        },
        {
          "output_type": "stream",
          "text": [
            " 43%|████▎     | 1070/2461 [02:26<03:16,  7.08it/s]"
          ],
          "name": "stderr"
        },
        {
          "output_type": "stream",
          "text": [
            "TraderNet sold:  $ 76.970001  Profit: $ 16.855717\n",
            "TraderNet sold:  $ 75.974289  Profit: $ 15.870003\n"
          ],
          "name": "stdout"
        },
        {
          "output_type": "stream",
          "text": [
            " 44%|████▎     | 1072/2461 [02:26<03:11,  7.26it/s]"
          ],
          "name": "stderr"
        },
        {
          "output_type": "stream",
          "text": [
            "TraderNet sold:  $ 74.781425  Profit: $ 13.739998\n",
            "TraderNet sold:  $ 74.777145  Profit: $ 13.847145\n"
          ],
          "name": "stdout"
        },
        {
          "output_type": "stream",
          "text": [
            " 44%|████▎     | 1074/2461 [02:27<03:07,  7.41it/s]"
          ],
          "name": "stderr"
        },
        {
          "output_type": "stream",
          "text": [
            "TraderNet sold:  $ 75.760002  Profit: $ 14.697144\n",
            "TraderNet sold:  $ 74.782860  Profit: $ 13.325718\n"
          ],
          "name": "stdout"
        },
        {
          "output_type": "stream",
          "text": [
            " 44%|████▎     | 1076/2461 [02:27<03:10,  7.25it/s]"
          ],
          "name": "stderr"
        },
        {
          "output_type": "stream",
          "text": [
            "TraderNet sold:  $ 74.230003  Profit: $ 12.757145\n",
            "TraderNet sold:  $ 74.525711  Profit: $ 12.845711\n"
          ],
          "name": "stdout"
        },
        {
          "output_type": "stream",
          "text": [
            " 44%|████▍     | 1078/2461 [02:27<03:11,  7.23it/s]"
          ],
          "name": "stderr"
        },
        {
          "output_type": "stream",
          "text": [
            "TraderNet sold:  $ 73.994286  Profit: $ 13.092857\n",
            "TraderNet sold:  $ 74.144287  Profit: $ 11.214287\n"
          ],
          "name": "stdout"
        },
        {
          "output_type": "stream",
          "text": [
            " 44%|████▍     | 1080/2461 [02:27<03:03,  7.51it/s]"
          ],
          "name": "stderr"
        },
        {
          "output_type": "stream",
          "text": [
            "TraderNet sold:  $ 74.991432  Profit: $ 12.348576\n",
            "TraderNet sold:  $ 75.881432  Profit: $ 12.882858\n"
          ],
          "name": "stdout"
        },
        {
          "output_type": "stream",
          "text": [
            " 44%|████▍     | 1082/2461 [02:28<03:05,  7.42it/s]"
          ],
          "name": "stderr"
        },
        {
          "output_type": "stream",
          "text": [
            "TraderNet sold:  $ 75.957146  Profit: $ 11.987144\n",
            "TraderNet sold:  $ 74.964287  Profit: $ 10.204285\n"
          ],
          "name": "stdout"
        },
        {
          "output_type": "stream",
          "text": [
            " 44%|████▍     | 1084/2461 [02:28<03:12,  7.17it/s]"
          ],
          "name": "stderr"
        },
        {
          "output_type": "stream",
          "text": [
            "TraderNet sold:  $ 81.110001  Profit: $ 16.462860\n",
            "TraderNet sold:  $ 81.705711  Profit: $ 16.465714\n"
          ],
          "name": "stdout"
        },
        {
          "output_type": "stream",
          "text": [
            " 44%|████▍     | 1086/2461 [02:28<03:13,  7.09it/s]"
          ],
          "name": "stderr"
        },
        {
          "output_type": "stream",
          "text": [
            "TraderNet sold:  $ 84.870003  Profit: $ 18.792862\n",
            "TraderNet sold:  $ 84.618568  Profit: $ 17.554283\n"
          ],
          "name": "stdout"
        },
        {
          "output_type": "stream",
          "text": [
            " 44%|████▍     | 1088/2461 [02:29<03:06,  7.37it/s]"
          ],
          "name": "stderr"
        },
        {
          "output_type": "stream",
          "text": [
            "TraderNet sold:  $ 84.298569  Profit: $ 17.834282\n",
            "TraderNet sold:  $ 84.497147  Profit: $ 18.071434\n"
          ],
          "name": "stdout"
        },
        {
          "output_type": "stream",
          "text": [
            " 44%|████▍     | 1090/2461 [02:29<03:08,  7.29it/s]"
          ],
          "name": "stderr"
        },
        {
          "output_type": "stream",
          "text": [
            "TraderNet sold:  $ 84.654289  Profit: $ 19.732864\n",
            "TraderNet sold:  $ 85.851425  Profit: $ 19.085709\n"
          ],
          "name": "stdout"
        },
        {
          "output_type": "stream",
          "text": [
            " 44%|████▍     | 1092/2461 [02:29<03:06,  7.34it/s]"
          ],
          "name": "stderr"
        },
        {
          "output_type": "stream",
          "text": [
            "TraderNet sold:  $ 84.915718  Profit: $ 14.977150\n",
            "TraderNet sold:  $ 84.618568  Profit: $ 13.488571\n"
          ],
          "name": "stdout"
        },
        {
          "output_type": "stream",
          "text": [
            " 44%|████▍     | 1094/2461 [02:29<03:10,  7.19it/s]"
          ],
          "name": "stderr"
        },
        {
          "output_type": "stream",
          "text": [
            "TraderNet sold:  $ 83.998573  Profit: $ 11.464287\n",
            "TraderNet sold:  $ 83.648575  Profit: $ 11.882858\n"
          ],
          "name": "stdout"
        },
        {
          "output_type": "stream",
          "text": [
            " 45%|████▍     | 1096/2461 [02:30<03:11,  7.13it/s]"
          ],
          "name": "stderr"
        },
        {
          "output_type": "stream",
          "text": [
            "TraderNet sold:  $ 84.690002  Profit: $ 13.115715\n",
            "TraderNet sold:  $ 84.822861  Profit: $ 12.970001\n"
          ],
          "name": "stdout"
        },
        {
          "output_type": "stream",
          "text": [
            " 45%|████▍     | 1098/2461 [02:30<03:10,  7.15it/s]"
          ],
          "name": "stderr"
        },
        {
          "output_type": "stream",
          "text": [
            "TraderNet sold:  $ 84.838570  Profit: $ 15.040001\n",
            "TraderNet sold:  $ 84.117142  Profit: $ 13.988571\n"
          ],
          "name": "stdout"
        },
        {
          "output_type": "stream",
          "text": [
            " 45%|████▍     | 1100/2461 [02:30<03:04,  7.37it/s]"
          ],
          "name": "stderr"
        },
        {
          "output_type": "stream",
          "text": [
            "TraderNet sold:  $ 85.358574  Profit: $ 15.115715\n",
            "TraderNet sold:  $ 86.370003  Profit: $ 16.767143\n"
          ],
          "name": "stdout"
        },
        {
          "output_type": "stream",
          "text": [
            " 45%|████▍     | 1102/2461 [02:31<03:04,  7.35it/s]"
          ],
          "name": "stderr"
        },
        {
          "output_type": "stream",
          "text": [
            "TraderNet sold:  $ 86.387146  Profit: $ 16.590004\n",
            "TraderNet sold:  $ 86.615715  Profit: $ 15.374283\n"
          ],
          "name": "stdout"
        },
        {
          "output_type": "stream",
          "text": [
            " 45%|████▍     | 1104/2461 [02:31<03:09,  7.14it/s]"
          ],
          "name": "stderr"
        },
        {
          "output_type": "stream",
          "text": [
            "TraderNet sold:  $ 86.752853  Profit: $ 16.000000\n",
            "TraderNet sold:  $ 87.732857  Profit: $ 16.558571\n"
          ],
          "name": "stdout"
        },
        {
          "output_type": "stream",
          "text": [
            " 45%|████▍     | 1106/2461 [02:31<03:09,  7.14it/s]"
          ],
          "name": "stderr"
        },
        {
          "output_type": "stream",
          "text": [
            "TraderNet sold:  $ 89.375717  Profit: $ 21.848572\n",
            "TraderNet sold:  $ 89.144287  Profit: $ 24.098572\n"
          ],
          "name": "stdout"
        },
        {
          "output_type": "stream",
          "text": [
            " 45%|████▌     | 1108/2461 [02:31<03:10,  7.10it/s]"
          ],
          "name": "stderr"
        },
        {
          "output_type": "stream",
          "text": [
            "TraderNet sold:  $ 90.768570  Profit: $ 23.297142\n",
            "TraderNet sold:  $ 90.428574  Profit: $ 20.337143\n"
          ],
          "name": "stdout"
        },
        {
          "output_type": "stream",
          "text": [
            " 45%|████▌     | 1110/2461 [02:32<03:05,  7.30it/s]"
          ],
          "name": "stderr"
        },
        {
          "output_type": "stream",
          "text": [
            "TraderNet sold:  $ 89.807144  Profit: $ 20.347145\n",
            "TraderNet sold:  $ 91.077141  Profit: $ 22.970001\n"
          ],
          "name": "stdout"
        },
        {
          "output_type": "stream",
          "text": [
            " 45%|████▌     | 1112/2461 [02:32<03:07,  7.21it/s]"
          ],
          "name": "stderr"
        },
        {
          "output_type": "stream",
          "text": [
            "TraderNet sold:  $ 92.117142  Profit: $ 22.180000\n",
            "TraderNet sold:  $ 92.478569  Profit: $ 23.474281\n"
          ],
          "name": "stdout"
        },
        {
          "output_type": "stream",
          "text": [
            " 45%|████▌     | 1114/2461 [02:32<03:02,  7.37it/s]"
          ],
          "name": "stderr"
        },
        {
          "output_type": "stream",
          "text": [
            "TraderNet sold:  $ 92.224289  Profit: $ 22.545715\n",
            "TraderNet sold:  $ 93.699997  Profit: $ 24.994286\n"
          ],
          "name": "stdout"
        },
        {
          "output_type": "stream",
          "text": [
            " 45%|████▌     | 1116/2461 [02:32<02:59,  7.49it/s]"
          ],
          "name": "stderr"
        },
        {
          "output_type": "stream",
          "text": [
            "TraderNet sold:  $ 94.250000  Profit: $ 24.737144\n",
            "TraderNet sold:  $ 93.860001  Profit: $ 23.911430\n"
          ],
          "name": "stdout"
        },
        {
          "output_type": "stream",
          "text": [
            " 45%|████▌     | 1118/2461 [02:33<03:01,  7.40it/s]"
          ],
          "name": "stderr"
        },
        {
          "output_type": "stream",
          "text": [
            "TraderNet sold:  $ 92.290001  Profit: $ 21.888573\n",
            "TraderNet sold:  $ 91.279999  Profit: $ 20.417145\n"
          ],
          "name": "stdout"
        },
        {
          "output_type": "stream",
          "text": [
            " 46%|████▌     | 1120/2461 [02:33<03:04,  7.28it/s]"
          ],
          "name": "stderr"
        },
        {
          "output_type": "stream",
          "text": [
            "TraderNet sold:  $ 92.199997  Profit: $ 20.959999\n",
            "TraderNet sold:  $ 92.080002  Profit: $ 17.094284\n"
          ],
          "name": "stdout"
        },
        {
          "output_type": "stream",
          "text": [
            " 46%|████▌     | 1122/2461 [02:33<03:05,  7.22it/s]"
          ],
          "name": "stderr"
        },
        {
          "output_type": "stream",
          "text": [
            "TraderNet sold:  $ 92.180000  Profit: $ 16.128571\n"
          ],
          "name": "stdout"
        },
        {
          "output_type": "stream",
          "text": [
            " 46%|████▋     | 1140/2461 [02:36<02:58,  7.41it/s]"
          ],
          "name": "stderr"
        },
        {
          "output_type": "stream",
          "text": [
            "TraderNet bought:  $ 95.320000\n",
            "TraderNet bought:  $ 94.779999\n"
          ],
          "name": "stdout"
        },
        {
          "output_type": "stream",
          "text": [
            " 46%|████▋     | 1142/2461 [02:36<02:55,  7.51it/s]"
          ],
          "name": "stderr"
        },
        {
          "output_type": "stream",
          "text": [
            "TraderNet sold:  $ 93.089996  Profit: - $ 2.230003\n",
            "TraderNet sold:  $ 94.430000  Profit: - $ 0.349998\n"
          ],
          "name": "stdout"
        },
        {
          "output_type": "stream",
          "text": [
            " 47%|████▋     | 1159/2461 [02:38<02:56,  7.36it/s]"
          ],
          "name": "stderr"
        },
        {
          "output_type": "stream",
          "text": [
            "TraderNet bought:  $ 95.989998\n",
            "TraderNet bought:  $ 95.970001\n"
          ],
          "name": "stdout"
        },
        {
          "output_type": "stream",
          "text": [
            " 47%|████▋     | 1161/2461 [02:39<02:56,  7.36it/s]"
          ],
          "name": "stderr"
        },
        {
          "output_type": "stream",
          "text": [
            "TraderNet bought:  $ 97.239998\n",
            "TraderNet sold:  $ 97.500000  Profit: $ 1.510002\n"
          ],
          "name": "stdout"
        },
        {
          "output_type": "stream",
          "text": [
            " 47%|████▋     | 1163/2461 [02:39<03:00,  7.19it/s]"
          ],
          "name": "stderr"
        },
        {
          "output_type": "stream",
          "text": [
            "TraderNet sold:  $ 97.980003  Profit: $ 2.010002\n",
            "TraderNet sold:  $ 99.160004  Profit: $ 1.920006\n"
          ],
          "name": "stdout"
        },
        {
          "output_type": "stream",
          "text": [
            " 47%|████▋     | 1167/2461 [02:39<02:55,  7.37it/s]"
          ],
          "name": "stderr"
        },
        {
          "output_type": "stream",
          "text": [
            "TraderNet bought:  $ 100.580002\n",
            "TraderNet sold:  $ 101.320000  Profit: $ 0.739998\n"
          ],
          "name": "stdout"
        },
        {
          "output_type": "stream",
          "text": [
            " 49%|████▉     | 1210/2461 [02:45<02:47,  7.47it/s]"
          ],
          "name": "stderr"
        },
        {
          "output_type": "stream",
          "text": [
            "TraderNet bought:  $ 102.989998\n"
          ],
          "name": "stdout"
        },
        {
          "output_type": "stream",
          "text": [
            " 49%|████▉     | 1217/2461 [02:46<02:49,  7.32it/s]"
          ],
          "name": "stderr"
        },
        {
          "output_type": "stream",
          "text": [
            "TraderNet sold:  $ 108.000000  Profit: $ 5.010002\n"
          ],
          "name": "stdout"
        },
        {
          "output_type": "stream",
          "text": [
            " 50%|█████     | 1232/2461 [02:48<02:56,  6.94it/s]"
          ],
          "name": "stderr"
        },
        {
          "output_type": "stream",
          "text": [
            "TraderNet bought:  $ 116.470001\n",
            "TraderNet bought:  $ 118.629997\n"
          ],
          "name": "stdout"
        },
        {
          "output_type": "stream",
          "text": [
            " 50%|█████     | 1234/2461 [02:49<02:58,  6.87it/s]"
          ],
          "name": "stderr"
        },
        {
          "output_type": "stream",
          "text": [
            "TraderNet bought:  $ 117.599998\n",
            "TraderNet sold:  $ 119.000000  Profit: $ 2.529999\n"
          ],
          "name": "stdout"
        },
        {
          "output_type": "stream",
          "text": [
            " 50%|█████     | 1236/2461 [02:49<03:02,  6.73it/s]"
          ],
          "name": "stderr"
        },
        {
          "output_type": "stream",
          "text": [
            "TraderNet sold:  $ 118.930000  Profit: $ 0.300003\n",
            "TraderNet sold:  $ 115.070000  Profit: - $ 2.529999\n"
          ],
          "name": "stdout"
        },
        {
          "output_type": "stream",
          "text": [
            " 50%|█████     | 1240/2461 [02:50<02:56,  6.92it/s]"
          ],
          "name": "stderr"
        },
        {
          "output_type": "stream",
          "text": [
            "TraderNet bought:  $ 115.489998\n",
            "TraderNet bought:  $ 115.000000\n"
          ],
          "name": "stdout"
        },
        {
          "output_type": "stream",
          "text": [
            " 50%|█████     | 1242/2461 [02:50<02:59,  6.78it/s]"
          ],
          "name": "stderr"
        },
        {
          "output_type": "stream",
          "text": [
            "TraderNet sold:  $ 112.400002  Profit: - $ 3.089996\n",
            "TraderNet bought:  $ 114.120003\n"
          ],
          "name": "stdout"
        },
        {
          "output_type": "stream",
          "text": [
            " 51%|█████     | 1244/2461 [02:50<03:00,  6.73it/s]"
          ],
          "name": "stderr"
        },
        {
          "output_type": "stream",
          "text": [
            "TraderNet bought:  $ 111.949997\n"
          ],
          "name": "stdout"
        },
        {
          "output_type": "stream",
          "text": [
            " 51%|█████     | 1247/2461 [02:51<02:57,  6.83it/s]"
          ],
          "name": "stderr"
        },
        {
          "output_type": "stream",
          "text": [
            "TraderNet sold:  $ 108.230003  Profit: - $ 6.769997\n",
            "TraderNet sold:  $ 106.750000  Profit: - $ 7.370003\n"
          ],
          "name": "stdout"
        },
        {
          "output_type": "stream",
          "text": [
            " 51%|█████     | 1249/2461 [02:51<02:58,  6.79it/s]"
          ],
          "name": "stderr"
        },
        {
          "output_type": "stream",
          "text": [
            "TraderNet bought:  $ 109.410004\n",
            "TraderNet bought:  $ 112.650002\n"
          ],
          "name": "stdout"
        },
        {
          "output_type": "stream",
          "text": [
            " 51%|█████     | 1251/2461 [02:51<03:01,  6.65it/s]"
          ],
          "name": "stderr"
        },
        {
          "output_type": "stream",
          "text": [
            "TraderNet sold:  $ 111.779999  Profit: - $ 0.169998\n"
          ],
          "name": "stdout"
        },
        {
          "output_type": "stream",
          "text": [
            " 51%|█████     | 1256/2461 [02:52<03:01,  6.66it/s]"
          ],
          "name": "stderr"
        },
        {
          "output_type": "stream",
          "text": [
            "TraderNet sold:  $ 113.910004  Profit: $ 4.500000\n",
            "TraderNet sold:  $ 112.519997  Profit: - $ 0.130005\n"
          ],
          "name": "stdout"
        },
        {
          "output_type": "stream",
          "text": [
            " 53%|█████▎    | 1293/2461 [02:57<02:34,  7.55it/s]"
          ],
          "name": "stderr"
        },
        {
          "output_type": "stream",
          "text": [
            "TraderNet bought:  $ 133.000000\n",
            "TraderNet bought:  $ 132.169998\n"
          ],
          "name": "stdout"
        },
        {
          "output_type": "stream",
          "text": [
            " 53%|█████▎    | 1308/2461 [02:59<02:37,  7.34it/s]"
          ],
          "name": "stderr"
        },
        {
          "output_type": "stream",
          "text": [
            "TraderNet bought:  $ 124.949997\n"
          ],
          "name": "stdout"
        },
        {
          "output_type": "stream",
          "text": [
            " 54%|█████▎    | 1319/2461 [03:00<02:33,  7.43it/s]"
          ],
          "name": "stderr"
        },
        {
          "output_type": "stream",
          "text": [
            "TraderNet bought:  $ 124.430000\n"
          ],
          "name": "stdout"
        },
        {
          "output_type": "stream",
          "text": [
            " 58%|█████▊    | 1427/2461 [03:15<02:19,  7.42it/s]"
          ],
          "name": "stderr"
        },
        {
          "output_type": "stream",
          "text": [
            "TraderNet sold:  $ 112.339996  Profit: - $ 20.660004\n"
          ],
          "name": "stdout"
        },
        {
          "output_type": "stream",
          "text": [
            " 58%|█████▊    | 1435/2461 [03:16<02:20,  7.31it/s]"
          ],
          "name": "stderr"
        },
        {
          "output_type": "stream",
          "text": [
            "TraderNet sold:  $ 116.279999  Profit: - $ 15.889999\n",
            "TraderNet sold:  $ 116.410004  Profit: - $ 8.539993\n"
          ],
          "name": "stdout"
        },
        {
          "output_type": "stream",
          "text": [
            " 58%|█████▊    | 1437/2461 [03:16<02:20,  7.28it/s]"
          ],
          "name": "stderr"
        },
        {
          "output_type": "stream",
          "text": [
            "TraderNet sold:  $ 113.919998  Profit: - $ 10.510002\n"
          ],
          "name": "stdout"
        },
        {
          "output_type": "stream",
          "text": [
            " 59%|█████▊    | 1440/2461 [03:17<02:18,  7.35it/s]"
          ],
          "name": "stderr"
        },
        {
          "output_type": "stream",
          "text": [
            "TraderNet bought:  $ 113.400002\n",
            "TraderNet sold:  $ 114.320000  Profit: $ 0.919998\n"
          ],
          "name": "stdout"
        },
        {
          "output_type": "stream",
          "text": [
            " 59%|█████▊    | 1442/2461 [03:17<02:20,  7.24it/s]"
          ],
          "name": "stderr"
        },
        {
          "output_type": "stream",
          "text": [
            "TraderNet bought:  $ 115.000000\n"
          ],
          "name": "stdout"
        },
        {
          "output_type": "stream",
          "text": [
            " 59%|█████▊    | 1445/2461 [03:18<02:20,  7.24it/s]"
          ],
          "name": "stderr"
        },
        {
          "output_type": "stream",
          "text": [
            "TraderNet bought:  $ 109.059998\n"
          ],
          "name": "stdout"
        },
        {
          "output_type": "stream",
          "text": [
            " 59%|█████▉    | 1447/2461 [03:18<02:20,  7.22it/s]"
          ],
          "name": "stderr"
        },
        {
          "output_type": "stream",
          "text": [
            "TraderNet sold:  $ 109.580002  Profit: - $ 5.419998\n"
          ],
          "name": "stdout"
        },
        {
          "output_type": "stream",
          "text": [
            " 59%|█████▉    | 1449/2461 [03:18<02:18,  7.33it/s]"
          ],
          "name": "stderr"
        },
        {
          "output_type": "stream",
          "text": [
            "TraderNet sold:  $ 110.779999  Profit: $ 1.720001\n"
          ],
          "name": "stdout"
        },
        {
          "output_type": "stream",
          "text": [
            " 59%|█████▉    | 1452/2461 [03:19<02:21,  7.14it/s]"
          ],
          "name": "stderr"
        },
        {
          "output_type": "stream",
          "text": [
            "TraderNet bought:  $ 109.500000\n",
            "TraderNet sold:  $ 112.120003  Profit: $ 2.620003\n"
          ],
          "name": "stdout"
        },
        {
          "output_type": "stream",
          "text": [
            " 59%|█████▉    | 1456/2461 [03:19<02:15,  7.42it/s]"
          ],
          "name": "stderr"
        },
        {
          "output_type": "stream",
          "text": [
            "TraderNet bought:  $ 110.209999\n",
            "TraderNet sold:  $ 111.860001  Profit: $ 1.650002\n"
          ],
          "name": "stdout"
        },
        {
          "output_type": "stream",
          "text": [
            " 59%|█████▉    | 1464/2461 [03:20<02:12,  7.51it/s]"
          ],
          "name": "stderr"
        },
        {
          "output_type": "stream",
          "text": [
            "TraderNet bought:  $ 115.279999\n",
            "TraderNet bought:  $ 114.550003\n"
          ],
          "name": "stdout"
        },
        {
          "output_type": "stream",
          "text": [
            " 60%|█████▉    | 1466/2461 [03:20<02:14,  7.40it/s]"
          ],
          "name": "stderr"
        },
        {
          "output_type": "stream",
          "text": [
            "TraderNet bought:  $ 119.269997\n",
            "TraderNet sold:  $ 120.529999  Profit: $ 5.250000\n"
          ],
          "name": "stdout"
        },
        {
          "output_type": "stream",
          "text": [
            " 60%|█████▉    | 1468/2461 [03:21<02:12,  7.52it/s]"
          ],
          "name": "stderr"
        },
        {
          "output_type": "stream",
          "text": [
            "TraderNet sold:  $ 119.500000  Profit: $ 4.949997\n",
            "TraderNet sold:  $ 121.180000  Profit: $ 1.910004\n"
          ],
          "name": "stdout"
        },
        {
          "output_type": "stream",
          "text": [
            " 60%|██████    | 1487/2461 [03:23<02:09,  7.53it/s]"
          ],
          "name": "stderr"
        },
        {
          "output_type": "stream",
          "text": [
            "TraderNet bought:  $ 117.809998\n",
            "TraderNet bought:  $ 118.300003\n"
          ],
          "name": "stdout"
        },
        {
          "output_type": "stream",
          "text": [
            " 61%|██████    | 1489/2461 [03:23<02:11,  7.41it/s]"
          ],
          "name": "stderr"
        },
        {
          "output_type": "stream",
          "text": [
            "TraderNet sold:  $ 117.339996  Profit: - $ 0.470001\n",
            "TraderNet sold:  $ 116.279999  Profit: - $ 2.020004\n"
          ],
          "name": "stdout"
        },
        {
          "output_type": "stream",
          "text": [
            " 61%|██████▏   | 1513/2461 [03:27<02:07,  7.42it/s]"
          ],
          "name": "stderr"
        },
        {
          "output_type": "stream",
          "text": [
            "TraderNet bought:  $ 100.699997\n",
            "TraderNet bought:  $ 96.449997\n"
          ],
          "name": "stdout"
        },
        {
          "output_type": "stream",
          "text": [
            " 63%|██████▎   | 1561/2461 [03:33<02:04,  7.20it/s]"
          ],
          "name": "stderr"
        },
        {
          "output_type": "stream",
          "text": [
            "TraderNet sold:  $ 105.970001  Profit: $ 5.270004\n",
            "TraderNet sold:  $ 105.800003  Profit: $ 9.350006\n"
          ],
          "name": "stdout"
        },
        {
          "output_type": "stream",
          "text": [
            " 64%|██████▍   | 1585/2461 [03:36<01:54,  7.63it/s]"
          ],
          "name": "stderr"
        },
        {
          "output_type": "stream",
          "text": [
            "TraderNet bought:  $ 107.129997\n",
            "TraderNet sold:  $ 105.970001  Profit: - $ 1.159996\n"
          ],
          "name": "stdout"
        },
        {
          "output_type": "stream",
          "text": [
            " 65%|██████▌   | 1604/2461 [03:39<02:00,  7.09it/s]"
          ],
          "name": "stderr"
        },
        {
          "output_type": "stream",
          "text": [
            "TraderNet bought:  $ 93.489998\n",
            "TraderNet bought:  $ 94.559998\n"
          ],
          "name": "stdout"
        },
        {
          "output_type": "stream",
          "text": [
            " 65%|██████▌   | 1608/2461 [03:39<01:51,  7.62it/s]"
          ],
          "name": "stderr"
        },
        {
          "output_type": "stream",
          "text": [
            "TraderNet sold:  $ 96.430000  Profit: $ 2.940002\n",
            "TraderNet sold:  $ 97.900002  Profit: $ 3.340004\n"
          ],
          "name": "stdout"
        },
        {
          "output_type": "stream",
          "text": [
            " 66%|██████▌   | 1619/2461 [03:41<01:49,  7.69it/s]"
          ],
          "name": "stderr"
        },
        {
          "output_type": "stream",
          "text": [
            "TraderNet bought:  $ 98.940002\n"
          ],
          "name": "stdout"
        },
        {
          "output_type": "stream",
          "text": [
            " 66%|██████▌   | 1621/2461 [03:41<01:51,  7.53it/s]"
          ],
          "name": "stderr"
        },
        {
          "output_type": "stream",
          "text": [
            "TraderNet sold:  $ 98.830002  Profit: - $ 0.110001\n"
          ],
          "name": "stdout"
        },
        {
          "output_type": "stream",
          "text": [
            " 66%|██████▋   | 1635/2461 [03:43<01:48,  7.64it/s]"
          ],
          "name": "stderr"
        },
        {
          "output_type": "stream",
          "text": [
            "TraderNet bought:  $ 95.599998\n",
            "TraderNet sold:  $ 95.889999  Profit: $ 0.290001\n"
          ],
          "name": "stdout"
        },
        {
          "output_type": "stream",
          "text": [
            " 67%|██████▋   | 1637/2461 [03:43<01:51,  7.39it/s]"
          ],
          "name": "stderr"
        },
        {
          "output_type": "stream",
          "text": [
            "TraderNet bought:  $ 94.989998\n"
          ],
          "name": "stdout"
        },
        {
          "output_type": "stream",
          "text": [
            " 67%|██████▋   | 1639/2461 [03:44<01:50,  7.46it/s]"
          ],
          "name": "stderr"
        },
        {
          "output_type": "stream",
          "text": [
            "TraderNet bought:  $ 95.940002\n",
            "TraderNet bought:  $ 96.680000\n"
          ],
          "name": "stdout"
        },
        {
          "output_type": "stream",
          "text": [
            " 67%|██████▋   | 1641/2461 [03:44<01:47,  7.61it/s]"
          ],
          "name": "stderr"
        },
        {
          "output_type": "stream",
          "text": [
            "TraderNet bought:  $ 96.980003\n",
            "TraderNet bought:  $ 97.419998\n"
          ],
          "name": "stdout"
        },
        {
          "output_type": "stream",
          "text": [
            " 67%|██████▋   | 1646/2461 [03:45<01:48,  7.49it/s]"
          ],
          "name": "stderr"
        },
        {
          "output_type": "stream",
          "text": [
            "TraderNet sold:  $ 99.830002  Profit: $ 4.840004\n"
          ],
          "name": "stdout"
        },
        {
          "output_type": "stream",
          "text": [
            " 67%|██████▋   | 1648/2461 [03:45<01:50,  7.34it/s]"
          ],
          "name": "stderr"
        },
        {
          "output_type": "stream",
          "text": [
            "TraderNet sold:  $ 99.959999  Profit: $ 4.019997\n",
            "TraderNet sold:  $ 99.430000  Profit: $ 2.750000\n"
          ],
          "name": "stdout"
        },
        {
          "output_type": "stream",
          "text": [
            " 67%|██████▋   | 1650/2461 [03:45<01:50,  7.34it/s]"
          ],
          "name": "stderr"
        },
        {
          "output_type": "stream",
          "text": [
            "TraderNet sold:  $ 98.660004  Profit: $ 1.680000\n",
            "TraderNet sold:  $ 97.339996  Profit: - $ 0.080002\n"
          ],
          "name": "stdout"
        },
        {
          "output_type": "stream",
          "text": [
            " 67%|██████▋   | 1659/2461 [03:46<01:47,  7.46it/s]"
          ],
          "name": "stderr"
        },
        {
          "output_type": "stream",
          "text": [
            "TraderNet bought:  $ 105.870003\n",
            "TraderNet sold:  $ 107.480003  Profit: $ 1.610001\n"
          ],
          "name": "stdout"
        },
        {
          "output_type": "stream",
          "text": [
            " 68%|██████▊   | 1669/2461 [03:48<01:43,  7.62it/s]"
          ],
          "name": "stderr"
        },
        {
          "output_type": "stream",
          "text": [
            "TraderNet bought:  $ 109.080002\n",
            "TraderNet bought:  $ 109.360001\n"
          ],
          "name": "stdout"
        },
        {
          "output_type": "stream",
          "text": [
            " 68%|██████▊   | 1671/2461 [03:48<01:47,  7.33it/s]"
          ],
          "name": "stderr"
        },
        {
          "output_type": "stream",
          "text": [
            "TraderNet bought:  $ 108.510002\n"
          ],
          "name": "stdout"
        },
        {
          "output_type": "stream",
          "text": [
            " 68%|██████▊   | 1676/2461 [03:49<01:44,  7.51it/s]"
          ],
          "name": "stderr"
        },
        {
          "output_type": "stream",
          "text": [
            "TraderNet bought:  $ 106.820000\n",
            "TraderNet bought:  $ 106.000000\n"
          ],
          "name": "stdout"
        },
        {
          "output_type": "stream",
          "text": [
            " 68%|██████▊   | 1679/2461 [03:49<01:49,  7.15it/s]"
          ],
          "name": "stderr"
        },
        {
          "output_type": "stream",
          "text": [
            "TraderNet sold:  $ 106.730003  Profit: - $ 2.349998\n",
            "TraderNet sold:  $ 107.730003  Profit: - $ 1.629997\n"
          ],
          "name": "stdout"
        },
        {
          "output_type": "stream",
          "text": [
            " 68%|██████▊   | 1681/2461 [03:49<01:47,  7.25it/s]"
          ],
          "name": "stderr"
        },
        {
          "output_type": "stream",
          "text": [
            "TraderNet sold:  $ 107.699997  Profit: - $ 0.810005\n",
            "TraderNet sold:  $ 108.360001  Profit: $ 1.540001\n"
          ],
          "name": "stdout"
        },
        {
          "output_type": "stream",
          "text": [
            " 68%|██████▊   | 1683/2461 [03:50<01:43,  7.48it/s]"
          ],
          "name": "stderr"
        },
        {
          "output_type": "stream",
          "text": [
            "TraderNet sold:  $ 105.519997  Profit: - $ 0.480003\n"
          ],
          "name": "stdout"
        },
        {
          "output_type": "stream",
          "text": [
            " 69%|██████▉   | 1693/2461 [03:51<01:42,  7.47it/s]"
          ],
          "name": "stderr"
        },
        {
          "output_type": "stream",
          "text": [
            "TraderNet bought:  $ 114.620003\n",
            "TraderNet bought:  $ 112.709999\n"
          ],
          "name": "stdout"
        },
        {
          "output_type": "stream",
          "text": [
            " 69%|██████▉   | 1695/2461 [03:51<01:44,  7.30it/s]"
          ],
          "name": "stderr"
        },
        {
          "output_type": "stream",
          "text": [
            "TraderNet bought:  $ 112.879997\n"
          ],
          "name": "stdout"
        },
        {
          "output_type": "stream",
          "text": [
            " 69%|██████▉   | 1697/2461 [03:51<01:45,  7.25it/s]"
          ],
          "name": "stderr"
        },
        {
          "output_type": "stream",
          "text": [
            "TraderNet sold:  $ 113.949997  Profit: - $ 0.670006\n"
          ],
          "name": "stdout"
        },
        {
          "output_type": "stream",
          "text": [
            " 69%|██████▉   | 1703/2461 [03:52<01:41,  7.44it/s]"
          ],
          "name": "stderr"
        },
        {
          "output_type": "stream",
          "text": [
            "TraderNet sold:  $ 113.889999  Profit: $ 1.180000\n",
            "TraderNet sold:  $ 114.059998  Profit: $ 1.180000\n"
          ],
          "name": "stdout"
        },
        {
          "output_type": "stream",
          "text": [
            " 71%|███████   | 1745/2461 [03:58<01:37,  7.31it/s]"
          ],
          "name": "stderr"
        },
        {
          "output_type": "stream",
          "text": [
            "TraderNet bought:  $ 109.949997\n"
          ],
          "name": "stdout"
        },
        {
          "output_type": "stream",
          "text": [
            " 72%|███████▏  | 1770/2461 [04:01<01:35,  7.23it/s]"
          ],
          "name": "stderr"
        },
        {
          "output_type": "stream",
          "text": [
            "TraderNet bought:  $ 119.250000\n"
          ],
          "name": "stdout"
        },
        {
          "output_type": "stream",
          "text": [
            " 72%|███████▏  | 1777/2461 [04:02<01:34,  7.26it/s]"
          ],
          "name": "stderr"
        },
        {
          "output_type": "stream",
          "text": [
            "TraderNet bought:  $ 119.970001\n",
            "TraderNet bought:  $ 121.879997\n"
          ],
          "name": "stdout"
        },
        {
          "output_type": "stream",
          "text": [
            " 72%|███████▏  | 1779/2461 [04:03<01:35,  7.16it/s]"
          ],
          "name": "stderr"
        },
        {
          "output_type": "stream",
          "text": [
            "TraderNet bought:  $ 121.940002\n",
            "TraderNet bought:  $ 121.949997\n"
          ],
          "name": "stdout"
        },
        {
          "output_type": "stream",
          "text": [
            " 72%|███████▏  | 1783/2461 [04:03<01:34,  7.20it/s]"
          ],
          "name": "stderr"
        },
        {
          "output_type": "stream",
          "text": [
            "TraderNet bought:  $ 128.750000\n",
            "TraderNet bought:  $ 128.529999\n"
          ],
          "name": "stdout"
        },
        {
          "output_type": "stream",
          "text": [
            " 73%|███████▎  | 1785/2461 [04:04<01:32,  7.30it/s]"
          ],
          "name": "stderr"
        },
        {
          "output_type": "stream",
          "text": [
            "TraderNet bought:  $ 129.080002\n"
          ],
          "name": "stdout"
        },
        {
          "output_type": "stream",
          "text": [
            " 73%|███████▎  | 1788/2461 [04:04<01:31,  7.35it/s]"
          ],
          "name": "stderr"
        },
        {
          "output_type": "stream",
          "text": [
            "TraderNet bought:  $ 132.039993\n"
          ],
          "name": "stdout"
        },
        {
          "output_type": "stream",
          "text": [
            " 73%|███████▎  | 1792/2461 [04:05<01:30,  7.41it/s]"
          ],
          "name": "stderr"
        },
        {
          "output_type": "stream",
          "text": [
            "TraderNet bought:  $ 135.020004\n",
            "TraderNet bought:  $ 135.509995\n"
          ],
          "name": "stdout"
        },
        {
          "output_type": "stream",
          "text": [
            " 73%|███████▎  | 1801/2461 [04:06<01:28,  7.50it/s]"
          ],
          "name": "stderr"
        },
        {
          "output_type": "stream",
          "text": [
            "TraderNet bought:  $ 136.990005\n",
            "TraderNet bought:  $ 139.789993\n"
          ],
          "name": "stdout"
        },
        {
          "output_type": "stream",
          "text": [
            " 74%|███████▎  | 1811/2461 [04:07<01:27,  7.45it/s]"
          ],
          "name": "stderr"
        },
        {
          "output_type": "stream",
          "text": [
            "TraderNet bought:  $ 138.990005\n"
          ],
          "name": "stdout"
        },
        {
          "output_type": "stream",
          "text": [
            " 75%|███████▍  | 1839/2461 [04:11<01:23,  7.44it/s]"
          ],
          "name": "stderr"
        },
        {
          "output_type": "stream",
          "text": [
            "TraderNet bought:  $ 143.639999\n"
          ],
          "name": "stdout"
        },
        {
          "output_type": "stream",
          "text": [
            " 75%|███████▌  | 1855/2461 [04:13<01:22,  7.34it/s]"
          ],
          "name": "stderr"
        },
        {
          "output_type": "stream",
          "text": [
            "TraderNet bought:  $ 155.470001\n"
          ],
          "name": "stdout"
        },
        {
          "output_type": "stream",
          "text": [
            " 75%|███████▌  | 1858/2461 [04:13<01:20,  7.50it/s]"
          ],
          "name": "stderr"
        },
        {
          "output_type": "stream",
          "text": [
            "TraderNet bought:  $ 153.059998\n",
            "TraderNet bought:  $ 153.990005\n"
          ],
          "name": "stdout"
        },
        {
          "output_type": "stream",
          "text": [
            " 76%|███████▌  | 1860/2461 [04:14<01:20,  7.51it/s]"
          ],
          "name": "stderr"
        },
        {
          "output_type": "stream",
          "text": [
            "TraderNet bought:  $ 153.800003\n"
          ],
          "name": "stdout"
        },
        {
          "output_type": "stream",
          "text": [
            " 76%|███████▌  | 1862/2461 [04:14<01:21,  7.39it/s]"
          ],
          "name": "stderr"
        },
        {
          "output_type": "stream",
          "text": [
            "TraderNet bought:  $ 153.869995\n",
            "TraderNet bought:  $ 153.610001\n"
          ],
          "name": "stdout"
        },
        {
          "output_type": "stream",
          "text": [
            " 76%|███████▌  | 1865/2461 [04:14<01:22,  7.20it/s]"
          ],
          "name": "stderr"
        },
        {
          "output_type": "stream",
          "text": [
            "TraderNet bought:  $ 152.759995\n",
            "TraderNet bought:  $ 153.179993\n"
          ],
          "name": "stdout"
        },
        {
          "output_type": "stream",
          "text": [
            " 76%|███████▌  | 1867/2461 [04:15<01:22,  7.21it/s]"
          ],
          "name": "stderr"
        },
        {
          "output_type": "stream",
          "text": [
            "TraderNet bought:  $ 155.449997\n",
            "TraderNet bought:  $ 153.929993\n"
          ],
          "name": "stdout"
        },
        {
          "output_type": "stream",
          "text": [
            " 76%|███████▌  | 1869/2461 [04:15<01:22,  7.22it/s]"
          ],
          "name": "stderr"
        },
        {
          "output_type": "stream",
          "text": [
            "TraderNet bought:  $ 154.449997\n",
            "TraderNet bought:  $ 155.369995\n"
          ],
          "name": "stdout"
        },
        {
          "output_type": "stream",
          "text": [
            " 76%|███████▌  | 1871/2461 [04:15<01:19,  7.42it/s]"
          ],
          "name": "stderr"
        },
        {
          "output_type": "stream",
          "text": [
            "TraderNet bought:  $ 154.990005\n",
            "TraderNet bought:  $ 148.979996\n"
          ],
          "name": "stdout"
        },
        {
          "output_type": "stream",
          "text": [
            " 76%|███████▌  | 1875/2461 [04:16<01:17,  7.55it/s]"
          ],
          "name": "stderr"
        },
        {
          "output_type": "stream",
          "text": [
            "TraderNet bought:  $ 145.160004\n"
          ],
          "name": "stdout"
        },
        {
          "output_type": "stream",
          "text": [
            " 76%|███████▋  | 1878/2461 [04:16<01:17,  7.54it/s]"
          ],
          "name": "stderr"
        },
        {
          "output_type": "stream",
          "text": [
            "TraderNet bought:  $ 146.339996\n"
          ],
          "name": "stdout"
        },
        {
          "output_type": "stream",
          "text": [
            " 76%|███████▋  | 1880/2461 [04:16<01:19,  7.33it/s]"
          ],
          "name": "stderr"
        },
        {
          "output_type": "stream",
          "text": [
            "TraderNet bought:  $ 145.869995\n"
          ],
          "name": "stdout"
        },
        {
          "output_type": "stream",
          "text": [
            " 76%|███████▋  | 1882/2461 [04:17<01:18,  7.34it/s]"
          ],
          "name": "stderr"
        },
        {
          "output_type": "stream",
          "text": [
            "TraderNet bought:  $ 146.279999\n"
          ],
          "name": "stdout"
        },
        {
          "output_type": "stream",
          "text": [
            " 77%|███████▋  | 1887/2461 [04:17<01:14,  7.65it/s]"
          ],
          "name": "stderr"
        },
        {
          "output_type": "stream",
          "text": [
            "TraderNet sold:  $ 144.020004  Profit: $ 34.070007\n",
            "TraderNet sold:  $ 143.500000  Profit: $ 24.250000\n"
          ],
          "name": "stdout"
        },
        {
          "output_type": "stream",
          "text": [
            " 77%|███████▋  | 1889/2461 [04:18<01:16,  7.51it/s]"
          ],
          "name": "stderr"
        },
        {
          "output_type": "stream",
          "text": [
            "TraderNet sold:  $ 144.089996  Profit: $ 24.119995\n",
            "TraderNet sold:  $ 142.729996  Profit: $ 20.849998\n"
          ],
          "name": "stdout"
        },
        {
          "output_type": "stream",
          "text": [
            " 77%|███████▋  | 1891/2461 [04:18<01:14,  7.61it/s]"
          ],
          "name": "stderr"
        },
        {
          "output_type": "stream",
          "text": [
            "TraderNet sold:  $ 144.179993  Profit: $ 22.239990\n",
            "TraderNet sold:  $ 145.059998  Profit: $ 23.110001\n"
          ],
          "name": "stdout"
        },
        {
          "output_type": "stream",
          "text": [
            " 77%|███████▋  | 1893/2461 [04:18<01:16,  7.41it/s]"
          ],
          "name": "stderr"
        },
        {
          "output_type": "stream",
          "text": [
            "TraderNet sold:  $ 145.529999  Profit: $ 16.779999\n",
            "TraderNet sold:  $ 145.740005  Profit: $ 17.210007\n"
          ],
          "name": "stdout"
        },
        {
          "output_type": "stream",
          "text": [
            " 77%|███████▋  | 1895/2461 [04:18<01:16,  7.44it/s]"
          ],
          "name": "stderr"
        },
        {
          "output_type": "stream",
          "text": [
            "TraderNet sold:  $ 147.770004  Profit: $ 18.690002\n",
            "TraderNet sold:  $ 149.039993  Profit: $ 17.000000\n"
          ],
          "name": "stdout"
        },
        {
          "output_type": "stream",
          "text": [
            " 77%|███████▋  | 1897/2461 [04:19<01:16,  7.37it/s]"
          ],
          "name": "stderr"
        },
        {
          "output_type": "stream",
          "text": [
            "TraderNet sold:  $ 149.559998  Profit: $ 14.539993\n",
            "TraderNet sold:  $ 150.080002  Profit: $ 14.570007\n"
          ],
          "name": "stdout"
        },
        {
          "output_type": "stream",
          "text": [
            " 77%|███████▋  | 1899/2461 [04:19<01:14,  7.55it/s]"
          ],
          "name": "stderr"
        },
        {
          "output_type": "stream",
          "text": [
            "TraderNet sold:  $ 151.020004  Profit: $ 14.029999\n",
            "TraderNet sold:  $ 150.339996  Profit: $ 10.550003\n"
          ],
          "name": "stdout"
        },
        {
          "output_type": "stream",
          "text": [
            " 77%|███████▋  | 1901/2461 [04:19<01:15,  7.38it/s]"
          ],
          "name": "stderr"
        },
        {
          "output_type": "stream",
          "text": [
            "TraderNet sold:  $ 150.270004  Profit: $ 11.279999\n",
            "TraderNet sold:  $ 152.089996  Profit: $ 8.449997\n"
          ],
          "name": "stdout"
        },
        {
          "output_type": "stream",
          "text": [
            " 77%|███████▋  | 1903/2461 [04:20<01:16,  7.28it/s]"
          ],
          "name": "stderr"
        },
        {
          "output_type": "stream",
          "text": [
            "TraderNet sold:  $ 152.740005  Profit: - $ 2.729996\n",
            "TraderNet sold:  $ 153.460007  Profit: $ 0.400009\n"
          ],
          "name": "stdout"
        },
        {
          "output_type": "stream",
          "text": [
            " 77%|███████▋  | 1905/2461 [04:20<01:19,  6.95it/s]"
          ],
          "name": "stderr"
        },
        {
          "output_type": "stream",
          "text": [
            "TraderNet sold:  $ 150.559998  Profit: - $ 3.430008\n",
            "TraderNet sold:  $ 149.500000  Profit: - $ 4.300003\n"
          ],
          "name": "stdout"
        },
        {
          "output_type": "stream",
          "text": [
            " 77%|███████▋  | 1907/2461 [04:20<01:18,  7.06it/s]"
          ],
          "name": "stderr"
        },
        {
          "output_type": "stream",
          "text": [
            "TraderNet sold:  $ 148.729996  Profit: - $ 5.139999\n",
            "TraderNet bought:  $ 150.050003\n"
          ],
          "name": "stdout"
        },
        {
          "output_type": "stream",
          "text": [
            " 78%|███████▊  | 1909/2461 [04:20<01:16,  7.24it/s]"
          ],
          "name": "stderr"
        },
        {
          "output_type": "stream",
          "text": [
            "TraderNet bought:  $ 157.139999\n",
            "TraderNet bought:  $ 155.570007\n"
          ],
          "name": "stdout"
        },
        {
          "output_type": "stream",
          "text": [
            " 78%|███████▊  | 1911/2461 [04:21<01:15,  7.28it/s]"
          ],
          "name": "stderr"
        },
        {
          "output_type": "stream",
          "text": [
            "TraderNet sold:  $ 156.389999  Profit: $ 2.779999\n",
            "TraderNet sold:  $ 158.809998  Profit: $ 6.050003\n"
          ],
          "name": "stdout"
        },
        {
          "output_type": "stream",
          "text": [
            " 78%|███████▊  | 1913/2461 [04:21<01:14,  7.37it/s]"
          ],
          "name": "stderr"
        },
        {
          "output_type": "stream",
          "text": [
            "TraderNet sold:  $ 160.080002  Profit: $ 6.900009\n",
            "TraderNet sold:  $ 161.059998  Profit: $ 5.610001\n"
          ],
          "name": "stdout"
        },
        {
          "output_type": "stream",
          "text": [
            " 78%|███████▊  | 1915/2461 [04:21<01:14,  7.31it/s]"
          ],
          "name": "stderr"
        },
        {
          "output_type": "stream",
          "text": [
            "TraderNet sold:  $ 155.320007  Profit: $ 1.390015\n",
            "TraderNet sold:  $ 157.479996  Profit: $ 3.029999\n"
          ],
          "name": "stdout"
        },
        {
          "output_type": "stream",
          "text": [
            " 78%|███████▊  | 1917/2461 [04:21<01:15,  7.23it/s]"
          ],
          "name": "stderr"
        },
        {
          "output_type": "stream",
          "text": [
            "TraderNet sold:  $ 159.850006  Profit: $ 4.480011\n",
            "TraderNet sold:  $ 161.600006  Profit: $ 6.610001\n"
          ],
          "name": "stdout"
        },
        {
          "output_type": "stream",
          "text": [
            " 78%|███████▊  | 1919/2461 [04:22<01:14,  7.25it/s]"
          ],
          "name": "stderr"
        },
        {
          "output_type": "stream",
          "text": [
            "TraderNet sold:  $ 160.949997  Profit: $ 11.970001\n",
            "TraderNet sold:  $ 157.860001  Profit: $ 12.699997\n"
          ],
          "name": "stdout"
        },
        {
          "output_type": "stream",
          "text": [
            " 78%|███████▊  | 1921/2461 [04:22<01:14,  7.28it/s]"
          ],
          "name": "stderr"
        },
        {
          "output_type": "stream",
          "text": [
            "TraderNet bought:  $ 157.500000\n",
            "TraderNet bought:  $ 157.210007\n"
          ],
          "name": "stdout"
        },
        {
          "output_type": "stream",
          "text": [
            " 78%|███████▊  | 1923/2461 [04:22<01:14,  7.27it/s]"
          ],
          "name": "stderr"
        },
        {
          "output_type": "stream",
          "text": [
            "TraderNet bought:  $ 159.779999\n"
          ],
          "name": "stdout"
        },
        {
          "output_type": "stream",
          "text": [
            " 79%|███████▊  | 1935/2461 [04:24<01:10,  7.44it/s]"
          ],
          "name": "stderr"
        },
        {
          "output_type": "stream",
          "text": [
            "TraderNet bought:  $ 158.630005\n",
            "TraderNet sold:  $ 161.500000  Profit: $ 15.160004\n"
          ],
          "name": "stdout"
        },
        {
          "output_type": "stream",
          "text": [
            " 79%|███████▊  | 1937/2461 [04:24<01:11,  7.37it/s]"
          ],
          "name": "stderr"
        },
        {
          "output_type": "stream",
          "text": [
            "TraderNet sold:  $ 160.860001  Profit: $ 14.990005\n",
            "TraderNet sold:  $ 159.649994  Profit: $ 13.369995\n"
          ],
          "name": "stdout"
        },
        {
          "output_type": "stream",
          "text": [
            " 79%|███████▉  | 1939/2461 [04:24<01:11,  7.32it/s]"
          ],
          "name": "stderr"
        },
        {
          "output_type": "stream",
          "text": [
            "TraderNet sold:  $ 158.279999  Profit: $ 8.229996\n",
            "TraderNet sold:  $ 159.880005  Profit: $ 2.740005\n"
          ],
          "name": "stdout"
        },
        {
          "output_type": "stream",
          "text": [
            " 79%|███████▉  | 1941/2461 [04:25<01:10,  7.36it/s]"
          ],
          "name": "stderr"
        },
        {
          "output_type": "stream",
          "text": [
            "TraderNet sold:  $ 158.669998  Profit: $ 3.099991\n",
            "TraderNet sold:  $ 158.729996  Profit: $ 1.229996\n"
          ],
          "name": "stdout"
        },
        {
          "output_type": "stream",
          "text": [
            " 79%|███████▉  | 1943/2461 [04:25<01:11,  7.29it/s]"
          ],
          "name": "stderr"
        },
        {
          "output_type": "stream",
          "text": [
            "TraderNet sold:  $ 156.070007  Profit: - $ 1.139999\n",
            "TraderNet sold:  $ 153.389999  Profit: - $ 6.389999\n"
          ],
          "name": "stdout"
        },
        {
          "output_type": "stream",
          "text": [
            " 79%|███████▉  | 1945/2461 [04:25<01:12,  7.10it/s]"
          ],
          "name": "stderr"
        },
        {
          "output_type": "stream",
          "text": [
            "TraderNet sold:  $ 151.889999  Profit: - $ 6.740005\n"
          ],
          "name": "stdout"
        },
        {
          "output_type": "stream",
          "text": [
            " 79%|███████▉  | 1953/2461 [04:26<01:09,  7.32it/s]"
          ],
          "name": "stderr"
        },
        {
          "output_type": "stream",
          "text": [
            "TraderNet bought:  $ 153.479996\n",
            "TraderNet bought:  $ 155.389999\n"
          ],
          "name": "stdout"
        },
        {
          "output_type": "stream",
          "text": [
            " 79%|███████▉  | 1955/2461 [04:27<01:09,  7.31it/s]"
          ],
          "name": "stderr"
        },
        {
          "output_type": "stream",
          "text": [
            "TraderNet bought:  $ 155.300003\n",
            "TraderNet bought:  $ 155.839996\n"
          ],
          "name": "stdout"
        },
        {
          "output_type": "stream",
          "text": [
            " 80%|███████▉  | 1957/2461 [04:27<01:08,  7.38it/s]"
          ],
          "name": "stderr"
        },
        {
          "output_type": "stream",
          "text": [
            "TraderNet bought:  $ 155.899994\n",
            "TraderNet bought:  $ 156.550003\n"
          ],
          "name": "stdout"
        },
        {
          "output_type": "stream",
          "text": [
            " 80%|███████▉  | 1959/2461 [04:27<01:07,  7.45it/s]"
          ],
          "name": "stderr"
        },
        {
          "output_type": "stream",
          "text": [
            "TraderNet bought:  $ 156.000000\n",
            "TraderNet bought:  $ 156.990005\n"
          ],
          "name": "stdout"
        },
        {
          "output_type": "stream",
          "text": [
            " 80%|███████▉  | 1961/2461 [04:27<01:08,  7.33it/s]"
          ],
          "name": "stderr"
        },
        {
          "output_type": "stream",
          "text": [
            "TraderNet bought:  $ 159.880005\n",
            "TraderNet bought:  $ 160.470001\n"
          ],
          "name": "stdout"
        },
        {
          "output_type": "stream",
          "text": [
            " 80%|███████▉  | 1963/2461 [04:28<01:07,  7.35it/s]"
          ],
          "name": "stderr"
        },
        {
          "output_type": "stream",
          "text": [
            "TraderNet bought:  $ 159.759995\n",
            "TraderNet bought:  $ 155.979996\n"
          ],
          "name": "stdout"
        },
        {
          "output_type": "stream",
          "text": [
            " 80%|███████▉  | 1965/2461 [04:28<01:07,  7.40it/s]"
          ],
          "name": "stderr"
        },
        {
          "output_type": "stream",
          "text": [
            "TraderNet bought:  $ 156.250000\n"
          ],
          "name": "stdout"
        },
        {
          "output_type": "stream",
          "text": [
            " 80%|███████▉  | 1967/2461 [04:28<01:06,  7.42it/s]"
          ],
          "name": "stderr"
        },
        {
          "output_type": "stream",
          "text": [
            "TraderNet sold:  $ 157.100006  Profit: $ 3.620010\n"
          ],
          "name": "stdout"
        },
        {
          "output_type": "stream",
          "text": [
            " 81%|████████  | 1984/2461 [04:31<01:05,  7.25it/s]"
          ],
          "name": "stderr"
        },
        {
          "output_type": "stream",
          "text": [
            "TraderNet sold:  $ 171.100006  Profit: $ 15.710007\n",
            "TraderNet sold:  $ 170.149994  Profit: $ 14.849991\n"
          ],
          "name": "stdout"
        },
        {
          "output_type": "stream",
          "text": [
            " 81%|████████  | 1986/2461 [04:31<01:05,  7.29it/s]"
          ],
          "name": "stderr"
        },
        {
          "output_type": "stream",
          "text": [
            "TraderNet sold:  $ 169.979996  Profit: $ 14.139999\n",
            "TraderNet sold:  $ 173.139999  Profit: $ 17.240005\n"
          ],
          "name": "stdout"
        },
        {
          "output_type": "stream",
          "text": [
            " 81%|████████  | 1988/2461 [04:31<01:06,  7.16it/s]"
          ],
          "name": "stderr"
        },
        {
          "output_type": "stream",
          "text": [
            "TraderNet sold:  $ 174.960007  Profit: $ 18.410004\n",
            "TraderNet sold:  $ 174.970001  Profit: $ 18.970001\n"
          ],
          "name": "stdout"
        },
        {
          "output_type": "stream",
          "text": [
            " 81%|████████  | 1990/2461 [04:31<01:04,  7.28it/s]"
          ],
          "name": "stderr"
        },
        {
          "output_type": "stream",
          "text": [
            "TraderNet sold:  $ 174.089996  Profit: $ 17.099991\n",
            "TraderNet sold:  $ 173.070007  Profit: $ 13.190002\n"
          ],
          "name": "stdout"
        },
        {
          "output_type": "stream",
          "text": [
            " 81%|████████  | 1992/2461 [04:32<01:05,  7.14it/s]"
          ],
          "name": "stderr"
        },
        {
          "output_type": "stream",
          "text": [
            "TraderNet sold:  $ 169.479996  Profit: $ 9.009995\n",
            "TraderNet sold:  $ 171.850006  Profit: $ 12.090012\n"
          ],
          "name": "stdout"
        },
        {
          "output_type": "stream",
          "text": [
            " 81%|████████  | 1994/2461 [04:32<01:04,  7.30it/s]"
          ],
          "name": "stderr"
        },
        {
          "output_type": "stream",
          "text": [
            "TraderNet sold:  $ 171.050003  Profit: $ 15.070007\n",
            "TraderNet sold:  $ 169.800003  Profit: $ 13.550003\n"
          ],
          "name": "stdout"
        },
        {
          "output_type": "stream",
          "text": [
            " 82%|████████▏ | 2020/2461 [04:36<01:00,  7.30it/s]"
          ],
          "name": "stderr"
        },
        {
          "output_type": "stream",
          "text": [
            "TraderNet bought:  $ 174.289993\n",
            "TraderNet bought:  $ 175.279999\n"
          ],
          "name": "stdout"
        },
        {
          "output_type": "stream",
          "text": [
            " 82%|████████▏ | 2022/2461 [04:36<01:00,  7.22it/s]"
          ],
          "name": "stderr"
        },
        {
          "output_type": "stream",
          "text": [
            "TraderNet bought:  $ 177.089996\n",
            "TraderNet bought:  $ 176.190002\n"
          ],
          "name": "stdout"
        },
        {
          "output_type": "stream",
          "text": [
            " 82%|████████▏ | 2024/2461 [04:36<01:00,  7.24it/s]"
          ],
          "name": "stderr"
        },
        {
          "output_type": "stream",
          "text": [
            "TraderNet bought:  $ 179.100006\n"
          ],
          "name": "stdout"
        },
        {
          "output_type": "stream",
          "text": [
            " 82%|████████▏ | 2030/2461 [04:37<01:01,  7.06it/s]"
          ],
          "name": "stderr"
        },
        {
          "output_type": "stream",
          "text": [
            "TraderNet bought:  $ 171.110001\n",
            "TraderNet bought:  $ 171.509995\n"
          ],
          "name": "stdout"
        },
        {
          "output_type": "stream",
          "text": [
            " 83%|████████▎ | 2032/2461 [04:37<01:00,  7.08it/s]"
          ],
          "name": "stderr"
        },
        {
          "output_type": "stream",
          "text": [
            "TraderNet bought:  $ 167.960007\n",
            "TraderNet bought:  $ 166.970001\n"
          ],
          "name": "stdout"
        },
        {
          "output_type": "stream",
          "text": [
            " 83%|████████▎ | 2034/2461 [04:38<00:58,  7.25it/s]"
          ],
          "name": "stderr"
        },
        {
          "output_type": "stream",
          "text": [
            "TraderNet bought:  $ 167.429993\n",
            "TraderNet sold:  $ 167.779999  Profit: - $ 6.509995\n"
          ],
          "name": "stdout"
        },
        {
          "output_type": "stream",
          "text": [
            " 83%|████████▎ | 2040/2461 [04:38<00:59,  7.09it/s]"
          ],
          "name": "stderr"
        },
        {
          "output_type": "stream",
          "text": [
            "TraderNet sold:  $ 155.149994  Profit: - $ 20.130005\n"
          ],
          "name": "stdout"
        },
        {
          "output_type": "stream",
          "text": [
            " 83%|████████▎ | 2045/2461 [04:39<00:55,  7.55it/s]"
          ],
          "name": "stderr"
        },
        {
          "output_type": "stream",
          "text": [
            "TraderNet bought:  $ 172.990005\n",
            "TraderNet sold:  $ 172.429993  Profit: - $ 4.660004\n"
          ],
          "name": "stdout"
        },
        {
          "output_type": "stream",
          "text": [
            " 84%|████████▍ | 2071/2461 [04:43<00:54,  7.17it/s]"
          ],
          "name": "stderr"
        },
        {
          "output_type": "stream",
          "text": [
            "TraderNet sold:  $ 172.770004  Profit: - $ 3.419998\n"
          ],
          "name": "stdout"
        },
        {
          "output_type": "stream",
          "text": [
            " 85%|████████▍ | 2091/2461 [04:45<00:52,  7.06it/s]"
          ],
          "name": "stderr"
        },
        {
          "output_type": "stream",
          "text": [
            "TraderNet sold:  $ 162.940002  Profit: - $ 16.160004\n",
            "TraderNet sold:  $ 163.649994  Profit: - $ 7.460007\n"
          ],
          "name": "stdout"
        },
        {
          "output_type": "stream",
          "text": [
            " 88%|████████▊ | 2172/2461 [04:57<00:38,  7.41it/s]"
          ],
          "name": "stderr"
        },
        {
          "output_type": "stream",
          "text": [
            "TraderNet bought:  $ 217.580002\n"
          ],
          "name": "stdout"
        },
        {
          "output_type": "stream",
          "text": [
            " 89%|████████▉ | 2187/2461 [04:59<00:38,  7.09it/s]"
          ],
          "name": "stderr"
        },
        {
          "output_type": "stream",
          "text": [
            "TraderNet bought:  $ 218.330002\n",
            "TraderNet bought:  $ 223.850006\n"
          ],
          "name": "stdout"
        },
        {
          "output_type": "stream",
          "text": [
            " 89%|████████▉ | 2189/2461 [04:59<00:38,  7.05it/s]"
          ],
          "name": "stderr"
        },
        {
          "output_type": "stream",
          "text": [
            "TraderNet bought:  $ 221.070007\n",
            "TraderNet bought:  $ 226.410004\n"
          ],
          "name": "stdout"
        },
        {
          "output_type": "stream",
          "text": [
            " 89%|████████▉ | 2191/2461 [04:59<00:37,  7.18it/s]"
          ],
          "name": "stderr"
        },
        {
          "output_type": "stream",
          "text": [
            "TraderNet bought:  $ 223.839996\n"
          ],
          "name": "stdout"
        },
        {
          "output_type": "stream",
          "text": [
            " 89%|████████▉ | 2198/2461 [05:00<00:35,  7.44it/s]"
          ],
          "name": "stderr"
        },
        {
          "output_type": "stream",
          "text": [
            "TraderNet sold:  $ 222.190002  Profit: $ 50.680008\n",
            "TraderNet bought:  $ 220.419998\n"
          ],
          "name": "stdout"
        },
        {
          "output_type": "stream",
          "text": [
            " 89%|████████▉ | 2200/2461 [05:01<00:36,  7.11it/s]"
          ],
          "name": "stderr"
        },
        {
          "output_type": "stream",
          "text": [
            "TraderNet sold:  $ 224.949997  Profit: $ 56.989990\n",
            "TraderNet sold:  $ 225.740005  Profit: $ 58.770004\n"
          ],
          "name": "stdout"
        },
        {
          "output_type": "stream",
          "text": [
            " 89%|████████▉ | 2202/2461 [05:01<00:36,  7.06it/s]"
          ],
          "name": "stderr"
        },
        {
          "output_type": "stream",
          "text": [
            "TraderNet sold:  $ 227.259995  Profit: $ 59.830002\n",
            "TraderNet sold:  $ 229.279999  Profit: $ 56.289993\n"
          ],
          "name": "stdout"
        },
        {
          "output_type": "stream",
          "text": [
            " 90%|████████▉ | 2204/2461 [05:01<00:38,  6.72it/s]"
          ],
          "name": "stderr"
        },
        {
          "output_type": "stream",
          "text": [
            "TraderNet sold:  $ 232.070007  Profit: $ 14.490005\n",
            "TraderNet sold:  $ 227.990005  Profit: $ 9.660004\n"
          ],
          "name": "stdout"
        },
        {
          "output_type": "stream",
          "text": [
            " 90%|████████▉ | 2206/2461 [05:02<00:37,  6.84it/s]"
          ],
          "name": "stderr"
        },
        {
          "output_type": "stream",
          "text": [
            "TraderNet sold:  $ 224.289993  Profit: $ 0.439987\n",
            "TraderNet sold:  $ 223.770004  Profit: $ 2.699997\n"
          ],
          "name": "stdout"
        },
        {
          "output_type": "stream",
          "text": [
            " 90%|████████▉ | 2208/2461 [05:02<00:36,  6.89it/s]"
          ],
          "name": "stderr"
        },
        {
          "output_type": "stream",
          "text": [
            "TraderNet sold:  $ 226.869995  Profit: $ 0.459991\n",
            "TraderNet sold:  $ 216.360001  Profit: - $ 7.479996\n"
          ],
          "name": "stdout"
        },
        {
          "output_type": "stream",
          "text": [
            " 90%|████████▉ | 2210/2461 [05:02<00:35,  7.04it/s]"
          ],
          "name": "stderr"
        },
        {
          "output_type": "stream",
          "text": [
            "TraderNet sold:  $ 214.449997  Profit: - $ 5.970001\n"
          ],
          "name": "stdout"
        },
        {
          "output_type": "stream",
          "text": [
            " 91%|█████████ | 2228/2461 [05:05<00:31,  7.29it/s]"
          ],
          "name": "stderr"
        },
        {
          "output_type": "stream",
          "text": [
            "TraderNet bought:  $ 203.770004\n",
            "TraderNet bought:  $ 209.949997\n"
          ],
          "name": "stdout"
        },
        {
          "output_type": "stream",
          "text": [
            " 91%|█████████ | 2230/2461 [05:05<00:33,  6.98it/s]"
          ],
          "name": "stderr"
        },
        {
          "output_type": "stream",
          "text": [
            "TraderNet bought:  $ 208.490005\n",
            "TraderNet bought:  $ 204.470001\n"
          ],
          "name": "stdout"
        },
        {
          "output_type": "stream",
          "text": [
            " 91%|█████████ | 2232/2461 [05:05<00:33,  6.75it/s]"
          ],
          "name": "stderr"
        },
        {
          "output_type": "stream",
          "text": [
            "TraderNet bought:  $ 194.169998\n",
            "TraderNet bought:  $ 192.229996\n"
          ],
          "name": "stdout"
        },
        {
          "output_type": "stream",
          "text": [
            " 91%|█████████ | 2244/2461 [05:07<00:30,  7.06it/s]"
          ],
          "name": "stderr"
        },
        {
          "output_type": "stream",
          "text": [
            "TraderNet sold:  $ 179.550003  Profit: - $ 24.220001\n",
            "TraderNet sold:  $ 178.580002  Profit: - $ 31.369995\n"
          ],
          "name": "stdout"
        },
        {
          "output_type": "stream",
          "text": [
            " 91%|█████████▏| 2246/2461 [05:07<00:30,  7.13it/s]"
          ],
          "name": "stderr"
        },
        {
          "output_type": "stream",
          "text": [
            "TraderNet sold:  $ 184.820007  Profit: - $ 23.669998\n",
            "TraderNet sold:  $ 176.690002  Profit: - $ 27.779999\n"
          ],
          "name": "stdout"
        },
        {
          "output_type": "stream",
          "text": [
            " 91%|█████████▏| 2248/2461 [05:07<00:29,  7.15it/s]"
          ],
          "name": "stderr"
        },
        {
          "output_type": "stream",
          "text": [
            "TraderNet bought:  $ 174.720001\n",
            "TraderNet bought:  $ 168.490005\n"
          ],
          "name": "stdout"
        },
        {
          "output_type": "stream",
          "text": [
            " 92%|█████████▏| 2271/2461 [05:11<00:26,  7.30it/s]"
          ],
          "name": "stderr"
        },
        {
          "output_type": "stream",
          "text": [
            "TraderNet bought:  $ 153.800003\n",
            "TraderNet bought:  $ 152.289993\n"
          ],
          "name": "stdout"
        },
        {
          "output_type": "stream",
          "text": [
            "100%|██████████| 2461/2461 [05:37<00:00,  7.10it/s]\n",
            "  0%|          | 0/2461 [00:00<?, ?it/s]"
          ],
          "name": "stderr"
        },
        {
          "output_type": "stream",
          "text": [
            "########################\n",
            "TOTAL PROFIT: 4882.397207260132\n",
            "########################\n",
            "Episode: 3/1000\n"
          ],
          "name": "stdout"
        },
        {
          "output_type": "stream",
          "text": [
            "  1%|          | 27/2461 [00:03<05:53,  6.89it/s]"
          ],
          "name": "stderr"
        },
        {
          "output_type": "stream",
          "text": [
            "TraderNet bought:  $ 27.874287\n"
          ],
          "name": "stdout"
        },
        {
          "output_type": "stream",
          "text": [
            "  1%|          | 30/2461 [00:04<06:06,  6.63it/s]"
          ],
          "name": "stderr"
        },
        {
          "output_type": "stream",
          "text": [
            "TraderNet bought:  $ 29.057142\n",
            "TraderNet bought:  $ 28.935715\n"
          ],
          "name": "stdout"
        },
        {
          "output_type": "stream",
          "text": [
            "  1%|▏         | 32/2461 [00:04<06:08,  6.60it/s]"
          ],
          "name": "stderr"
        },
        {
          "output_type": "stream",
          "text": [
            "TraderNet bought:  $ 28.990000\n",
            "TraderNet bought:  $ 28.809999\n"
          ],
          "name": "stdout"
        },
        {
          "output_type": "stream",
          "text": [
            "  1%|▏         | 35/2461 [00:05<06:22,  6.35it/s]"
          ],
          "name": "stderr"
        },
        {
          "output_type": "stream",
          "text": [
            "TraderNet sold:  $ 28.151428  Profit: $ 0.277142\n"
          ],
          "name": "stdout"
        },
        {
          "output_type": "stream",
          "text": [
            "  2%|▏         | 41/2461 [00:06<05:56,  6.79it/s]"
          ],
          "name": "stderr"
        },
        {
          "output_type": "stream",
          "text": [
            "TraderNet sold:  $ 29.904285  Profit: $ 0.847143\n",
            "TraderNet sold:  $ 30.101429  Profit: $ 1.165714\n"
          ],
          "name": "stdout"
        },
        {
          "output_type": "stream",
          "text": [
            "  2%|▏         | 43/2461 [00:06<06:08,  6.56it/s]"
          ],
          "name": "stderr"
        },
        {
          "output_type": "stream",
          "text": [
            "TraderNet sold:  $ 31.278572  Profit: $ 2.288572\n",
            "TraderNet sold:  $ 31.297142  Profit: $ 2.487143\n"
          ],
          "name": "stdout"
        },
        {
          "output_type": "stream",
          "text": [
            "  5%|▍         | 112/2461 [00:16<05:20,  7.34it/s]"
          ],
          "name": "stderr"
        },
        {
          "output_type": "stream",
          "text": [
            "TraderNet bought:  $ 36.325714\n",
            "TraderNet bought:  $ 37.098572\n"
          ],
          "name": "stdout"
        },
        {
          "output_type": "stream",
          "text": [
            "  5%|▍         | 114/2461 [00:16<05:26,  7.19it/s]"
          ],
          "name": "stderr"
        },
        {
          "output_type": "stream",
          "text": [
            "TraderNet bought:  $ 38.178570\n",
            "TraderNet bought:  $ 38.838570\n"
          ],
          "name": "stdout"
        },
        {
          "output_type": "stream",
          "text": [
            "  5%|▍         | 116/2461 [00:16<05:32,  7.06it/s]"
          ],
          "name": "stderr"
        },
        {
          "output_type": "stream",
          "text": [
            "TraderNet bought:  $ 39.152859\n",
            "TraderNet sold:  $ 38.595715  Profit: $ 2.270000\n"
          ],
          "name": "stdout"
        },
        {
          "output_type": "stream",
          "text": [
            "  5%|▍         | 118/2461 [00:16<05:15,  7.42it/s]"
          ],
          "name": "stderr"
        },
        {
          "output_type": "stream",
          "text": [
            "TraderNet sold:  $ 39.121429  Profit: $ 2.022858\n",
            "TraderNet sold:  $ 38.709999  Profit: $ 0.531429\n"
          ],
          "name": "stdout"
        },
        {
          "output_type": "stream",
          "text": [
            "  5%|▍         | 120/2461 [00:17<05:15,  7.42it/s]"
          ],
          "name": "stderr"
        },
        {
          "output_type": "stream",
          "text": [
            "TraderNet sold:  $ 38.428570  Profit: - $ 0.410000\n",
            "TraderNet sold:  $ 38.099998  Profit: - $ 1.052860\n"
          ],
          "name": "stdout"
        },
        {
          "output_type": "stream",
          "text": [
            "  5%|▍         | 123/2461 [00:17<05:18,  7.35it/s]"
          ],
          "name": "stderr"
        },
        {
          "output_type": "stream",
          "text": [
            "TraderNet bought:  $ 36.595715\n"
          ],
          "name": "stdout"
        },
        {
          "output_type": "stream",
          "text": [
            "  5%|▌         | 125/2461 [00:17<05:11,  7.49it/s]"
          ],
          "name": "stderr"
        },
        {
          "output_type": "stream",
          "text": [
            "TraderNet sold:  $ 35.497143  Profit: - $ 1.098572\n",
            "TraderNet bought:  $ 35.277142\n"
          ],
          "name": "stdout"
        },
        {
          "output_type": "stream",
          "text": [
            "  5%|▌         | 127/2461 [00:18<05:23,  7.22it/s]"
          ],
          "name": "stderr"
        },
        {
          "output_type": "stream",
          "text": [
            "TraderNet bought:  $ 35.518570\n",
            "TraderNet bought:  $ 36.952858\n"
          ],
          "name": "stdout"
        },
        {
          "output_type": "stream",
          "text": [
            "  5%|▌         | 130/2461 [00:18<05:10,  7.50it/s]"
          ],
          "name": "stderr"
        },
        {
          "output_type": "stream",
          "text": [
            "TraderNet sold:  $ 37.088570  Profit: $ 1.811428\n",
            "TraderNet sold:  $ 36.755714  Profit: $ 1.237144\n"
          ],
          "name": "stdout"
        },
        {
          "output_type": "stream",
          "text": [
            "  5%|▌         | 132/2461 [00:18<05:10,  7.51it/s]"
          ],
          "name": "stderr"
        },
        {
          "output_type": "stream",
          "text": [
            "TraderNet sold:  $ 35.971428  Profit: - $ 0.981430\n"
          ],
          "name": "stdout"
        },
        {
          "output_type": "stream",
          "text": [
            "  6%|▌         | 145/2461 [00:20<05:07,  7.54it/s]"
          ],
          "name": "stderr"
        },
        {
          "output_type": "stream",
          "text": [
            "TraderNet bought:  $ 36.750000\n",
            "TraderNet bought:  $ 37.407143\n"
          ],
          "name": "stdout"
        },
        {
          "output_type": "stream",
          "text": [
            "  6%|▌         | 147/2461 [00:20<05:20,  7.22it/s]"
          ],
          "name": "stderr"
        },
        {
          "output_type": "stream",
          "text": [
            "TraderNet bought:  $ 37.418571\n",
            "TraderNet bought:  $ 37.568573\n"
          ],
          "name": "stdout"
        },
        {
          "output_type": "stream",
          "text": [
            "  6%|▌         | 149/2461 [00:21<05:20,  7.22it/s]"
          ],
          "name": "stderr"
        },
        {
          "output_type": "stream",
          "text": [
            "TraderNet bought:  $ 37.385715\n",
            "TraderNet bought:  $ 37.155716\n"
          ],
          "name": "stdout"
        },
        {
          "output_type": "stream",
          "text": [
            "  6%|▌         | 151/2461 [00:21<05:19,  7.23it/s]"
          ],
          "name": "stderr"
        },
        {
          "output_type": "stream",
          "text": [
            "TraderNet bought:  $ 37.392857\n",
            "TraderNet sold:  $ 37.058571  Profit: $ 0.308571\n"
          ],
          "name": "stdout"
        },
        {
          "output_type": "stream",
          "text": [
            "  6%|▌         | 153/2461 [00:21<05:17,  7.27it/s]"
          ],
          "name": "stderr"
        },
        {
          "output_type": "stream",
          "text": [
            "TraderNet bought:  $ 35.741428\n",
            "TraderNet sold:  $ 35.970001  Profit: - $ 1.437141\n"
          ],
          "name": "stdout"
        },
        {
          "output_type": "stream",
          "text": [
            "  6%|▋         | 155/2461 [00:21<05:21,  7.17it/s]"
          ],
          "name": "stderr"
        },
        {
          "output_type": "stream",
          "text": [
            "TraderNet sold:  $ 35.585712  Profit: - $ 1.832859\n",
            "TraderNet sold:  $ 35.377144  Profit: - $ 2.191429\n"
          ],
          "name": "stdout"
        },
        {
          "output_type": "stream",
          "text": [
            "  6%|▋         | 157/2461 [00:22<05:18,  7.23it/s]"
          ],
          "name": "stderr"
        },
        {
          "output_type": "stream",
          "text": [
            "TraderNet sold:  $ 35.995716  Profit: - $ 1.389999\n",
            "TraderNet sold:  $ 36.152859  Profit: - $ 1.002857\n"
          ],
          "name": "stdout"
        },
        {
          "output_type": "stream",
          "text": [
            "  6%|▋         | 159/2461 [00:22<05:17,  7.25it/s]"
          ],
          "name": "stderr"
        },
        {
          "output_type": "stream",
          "text": [
            "TraderNet sold:  $ 35.697144  Profit: - $ 1.695713\n",
            "TraderNet sold:  $ 35.662857  Profit: - $ 0.078571\n"
          ],
          "name": "stdout"
        },
        {
          "output_type": "stream",
          "text": [
            "  7%|▋         | 161/2461 [00:22<05:17,  7.24it/s]"
          ],
          "name": "stderr"
        },
        {
          "output_type": "stream",
          "text": [
            "TraderNet bought:  $ 35.114285\n",
            "TraderNet sold:  $ 34.275715  Profit: - $ 0.838570\n"
          ],
          "name": "stdout"
        },
        {
          "output_type": "stream",
          "text": [
            "  7%|▋         | 167/2461 [00:23<05:16,  7.24it/s]"
          ],
          "name": "stderr"
        },
        {
          "output_type": "stream",
          "text": [
            "TraderNet bought:  $ 34.728573\n",
            "TraderNet bought:  $ 35.761429\n"
          ],
          "name": "stdout"
        },
        {
          "output_type": "stream",
          "text": [
            "  7%|▋         | 169/2461 [00:23<05:13,  7.31it/s]"
          ],
          "name": "stderr"
        },
        {
          "output_type": "stream",
          "text": [
            "TraderNet bought:  $ 36.024284\n",
            "TraderNet bought:  $ 36.967144\n"
          ],
          "name": "stdout"
        },
        {
          "output_type": "stream",
          "text": [
            "  7%|▋         | 171/2461 [00:24<05:12,  7.33it/s]"
          ],
          "name": "stderr"
        },
        {
          "output_type": "stream",
          "text": [
            "TraderNet bought:  $ 36.830002\n",
            "TraderNet bought:  $ 37.560001\n"
          ],
          "name": "stdout"
        },
        {
          "output_type": "stream",
          "text": [
            "  7%|▋         | 173/2461 [00:24<05:08,  7.43it/s]"
          ],
          "name": "stderr"
        },
        {
          "output_type": "stream",
          "text": [
            "TraderNet bought:  $ 37.581429\n",
            "TraderNet bought:  $ 37.630001\n"
          ],
          "name": "stdout"
        },
        {
          "output_type": "stream",
          "text": [
            "  7%|▋         | 175/2461 [00:24<05:13,  7.28it/s]"
          ],
          "name": "stderr"
        },
        {
          "output_type": "stream",
          "text": [
            "TraderNet bought:  $ 38.148571\n",
            "TraderNet bought:  $ 38.294285\n"
          ],
          "name": "stdout"
        },
        {
          "output_type": "stream",
          "text": [
            "  7%|▋         | 177/2461 [00:25<05:08,  7.40it/s]"
          ],
          "name": "stderr"
        },
        {
          "output_type": "stream",
          "text": [
            "TraderNet bought:  $ 38.602856\n",
            "TraderNet bought:  $ 39.509998\n"
          ],
          "name": "stdout"
        },
        {
          "output_type": "stream",
          "text": [
            "  7%|▋         | 179/2461 [00:25<05:11,  7.34it/s]"
          ],
          "name": "stderr"
        },
        {
          "output_type": "stream",
          "text": [
            "TraderNet bought:  $ 39.338570\n",
            "TraderNet bought:  $ 40.461430\n"
          ],
          "name": "stdout"
        },
        {
          "output_type": "stream",
          "text": [
            "  7%|▋         | 181/2461 [00:25<05:26,  6.98it/s]"
          ],
          "name": "stderr"
        },
        {
          "output_type": "stream",
          "text": [
            "TraderNet bought:  $ 40.538570\n",
            "TraderNet bought:  $ 41.107143\n"
          ],
          "name": "stdout"
        },
        {
          "output_type": "stream",
          "text": [
            "  7%|▋         | 183/2461 [00:25<05:23,  7.04it/s]"
          ],
          "name": "stderr"
        },
        {
          "output_type": "stream",
          "text": [
            "TraderNet bought:  $ 41.274284\n"
          ],
          "name": "stdout"
        },
        {
          "output_type": "stream",
          "text": [
            "  8%|▊         | 186/2461 [00:26<05:14,  7.23it/s]"
          ],
          "name": "stderr"
        },
        {
          "output_type": "stream",
          "text": [
            "TraderNet bought:  $ 40.980000\n",
            "TraderNet bought:  $ 41.052856\n"
          ],
          "name": "stdout"
        },
        {
          "output_type": "stream",
          "text": [
            "  8%|▊         | 188/2461 [00:26<05:10,  7.33it/s]"
          ],
          "name": "stderr"
        },
        {
          "output_type": "stream",
          "text": [
            "TraderNet bought:  $ 40.535713\n",
            "TraderNet bought:  $ 40.360001\n"
          ],
          "name": "stdout"
        },
        {
          "output_type": "stream",
          "text": [
            "  8%|▊         | 190/2461 [00:26<05:12,  7.27it/s]"
          ],
          "name": "stderr"
        },
        {
          "output_type": "stream",
          "text": [
            "TraderNet bought:  $ 39.805714\n",
            "TraderNet bought:  $ 41.277142\n"
          ],
          "name": "stdout"
        },
        {
          "output_type": "stream",
          "text": [
            "  8%|▊         | 192/2461 [00:27<05:11,  7.27it/s]"
          ],
          "name": "stderr"
        },
        {
          "output_type": "stream",
          "text": [
            "TraderNet bought:  $ 41.312859\n",
            "TraderNet sold:  $ 41.317142  Profit: $ 6.588570\n"
          ],
          "name": "stdout"
        },
        {
          "output_type": "stream",
          "text": [
            "  8%|▊         | 194/2461 [00:27<05:11,  7.27it/s]"
          ],
          "name": "stderr"
        },
        {
          "output_type": "stream",
          "text": [
            "TraderNet sold:  $ 42.009998  Profit: $ 6.248569\n",
            "TraderNet sold:  $ 42.194286  Profit: $ 6.170002\n"
          ],
          "name": "stdout"
        },
        {
          "output_type": "stream",
          "text": [
            "  8%|▊         | 196/2461 [00:27<05:12,  7.24it/s]"
          ],
          "name": "stderr"
        },
        {
          "output_type": "stream",
          "text": [
            "TraderNet sold:  $ 42.648571  Profit: $ 5.681427\n",
            "TraderNet sold:  $ 42.877144  Profit: $ 6.047142\n"
          ],
          "name": "stdout"
        },
        {
          "output_type": "stream",
          "text": [
            "  8%|▊         | 198/2461 [00:27<05:20,  7.07it/s]"
          ],
          "name": "stderr"
        },
        {
          "output_type": "stream",
          "text": [
            "TraderNet sold:  $ 43.187141  Profit: $ 5.627140\n",
            "TraderNet sold:  $ 44.962856  Profit: $ 7.381428\n"
          ],
          "name": "stdout"
        },
        {
          "output_type": "stream",
          "text": [
            "  8%|▊         | 200/2461 [00:28<05:12,  7.24it/s]"
          ],
          "name": "stderr"
        },
        {
          "output_type": "stream",
          "text": [
            "TraderNet sold:  $ 45.428570  Profit: $ 7.798569\n",
            "TraderNet sold:  $ 44.212856  Profit: $ 6.064285\n"
          ],
          "name": "stdout"
        },
        {
          "output_type": "stream",
          "text": [
            "  8%|▊         | 202/2461 [00:28<05:08,  7.31it/s]"
          ],
          "name": "stderr"
        },
        {
          "output_type": "stream",
          "text": [
            "TraderNet sold:  $ 44.361427  Profit: $ 6.067142\n",
            "TraderNet sold:  $ 44.217144  Profit: $ 5.614288\n"
          ],
          "name": "stdout"
        },
        {
          "output_type": "stream",
          "text": [
            "  8%|▊         | 204/2461 [00:28<05:07,  7.34it/s]"
          ],
          "name": "stderr"
        },
        {
          "output_type": "stream",
          "text": [
            "TraderNet sold:  $ 43.924286  Profit: $ 4.414288\n",
            "TraderNet sold:  $ 44.119999  Profit: $ 4.781429\n"
          ],
          "name": "stdout"
        },
        {
          "output_type": "stream",
          "text": [
            "  8%|▊         | 206/2461 [00:29<05:07,  7.34it/s]"
          ],
          "name": "stderr"
        },
        {
          "output_type": "stream",
          "text": [
            "TraderNet sold:  $ 44.007141  Profit: $ 3.545712\n",
            "TraderNet sold:  $ 43.975716  Profit: $ 3.437145\n"
          ],
          "name": "stdout"
        },
        {
          "output_type": "stream",
          "text": [
            "  8%|▊         | 208/2461 [00:29<05:14,  7.16it/s]"
          ],
          "name": "stderr"
        },
        {
          "output_type": "stream",
          "text": [
            "TraderNet sold:  $ 43.605713  Profit: $ 2.498569\n",
            "TraderNet sold:  $ 42.997143  Profit: $ 1.722858\n"
          ],
          "name": "stdout"
        },
        {
          "output_type": "stream",
          "text": [
            "  9%|▊         | 210/2461 [00:29<05:09,  7.26it/s]"
          ],
          "name": "stderr"
        },
        {
          "output_type": "stream",
          "text": [
            "TraderNet sold:  $ 43.454285  Profit: $ 2.474285\n",
            "TraderNet sold:  $ 44.194286  Profit: $ 3.141430\n"
          ],
          "name": "stdout"
        },
        {
          "output_type": "stream",
          "text": [
            "  9%|▊         | 212/2461 [00:29<05:10,  7.24it/s]"
          ],
          "name": "stderr"
        },
        {
          "output_type": "stream",
          "text": [
            "TraderNet sold:  $ 44.685715  Profit: $ 4.150002\n",
            "TraderNet sold:  $ 45.467144  Profit: $ 5.107143\n"
          ],
          "name": "stdout"
        },
        {
          "output_type": "stream",
          "text": [
            "  9%|▊         | 214/2461 [00:30<05:00,  7.49it/s]"
          ],
          "name": "stderr"
        },
        {
          "output_type": "stream",
          "text": [
            "TraderNet sold:  $ 45.304287  Profit: $ 5.498573\n",
            "TraderNet sold:  $ 45.517143  Profit: $ 4.240002\n"
          ],
          "name": "stdout"
        },
        {
          "output_type": "stream",
          "text": [
            "  9%|▉         | 216/2461 [00:30<05:06,  7.32it/s]"
          ],
          "name": "stderr"
        },
        {
          "output_type": "stream",
          "text": [
            "TraderNet sold:  $ 45.154285  Profit: $ 3.841427\n"
          ],
          "name": "stdout"
        },
        {
          "output_type": "stream",
          "text": [
            "  9%|▉         | 227/2461 [00:31<04:56,  7.52it/s]"
          ],
          "name": "stderr"
        },
        {
          "output_type": "stream",
          "text": [
            "TraderNet bought:  $ 44.971428\n",
            "TraderNet bought:  $ 45.000000\n"
          ],
          "name": "stdout"
        },
        {
          "output_type": "stream",
          "text": [
            "  9%|▉         | 229/2461 [00:32<05:05,  7.32it/s]"
          ],
          "name": "stderr"
        },
        {
          "output_type": "stream",
          "text": [
            "TraderNet sold:  $ 45.267143  Profit: $ 0.295715\n",
            "TraderNet sold:  $ 44.450001  Profit: - $ 0.549999\n"
          ],
          "name": "stdout"
        },
        {
          "output_type": "stream",
          "text": [
            " 10%|▉         | 245/2461 [00:34<04:53,  7.55it/s]"
          ],
          "name": "stderr"
        },
        {
          "output_type": "stream",
          "text": [
            "TraderNet bought:  $ 46.314285\n",
            "TraderNet sold:  $ 46.451427  Profit: $ 0.137142\n"
          ],
          "name": "stdout"
        },
        {
          "output_type": "stream",
          "text": [
            " 10%|█         | 247/2461 [00:34<04:58,  7.41it/s]"
          ],
          "name": "stderr"
        },
        {
          "output_type": "stream",
          "text": [
            "TraderNet bought:  $ 46.228573\n",
            "TraderNet bought:  $ 46.382858\n"
          ],
          "name": "stdout"
        },
        {
          "output_type": "stream",
          "text": [
            " 10%|█         | 249/2461 [00:34<04:54,  7.51it/s]"
          ],
          "name": "stderr"
        },
        {
          "output_type": "stream",
          "text": [
            "TraderNet sold:  $ 46.495716  Profit: $ 0.267143\n",
            "TraderNet sold:  $ 46.470001  Profit: $ 0.087143\n"
          ],
          "name": "stdout"
        },
        {
          "output_type": "stream",
          "text": [
            " 11%|█         | 261/2461 [00:36<04:51,  7.54it/s]"
          ],
          "name": "stderr"
        },
        {
          "output_type": "stream",
          "text": [
            "TraderNet bought:  $ 49.382858\n",
            "TraderNet bought:  $ 49.782856\n"
          ],
          "name": "stdout"
        },
        {
          "output_type": "stream",
          "text": [
            " 11%|█         | 263/2461 [00:36<04:54,  7.47it/s]"
          ],
          "name": "stderr"
        },
        {
          "output_type": "stream",
          "text": [
            "TraderNet bought:  $ 48.664288\n",
            "TraderNet bought:  $ 48.405716\n"
          ],
          "name": "stdout"
        },
        {
          "output_type": "stream",
          "text": [
            " 11%|█         | 265/2461 [00:37<04:57,  7.38it/s]"
          ],
          "name": "stderr"
        },
        {
          "output_type": "stream",
          "text": [
            "TraderNet bought:  $ 47.525715\n",
            "TraderNet bought:  $ 46.674286\n"
          ],
          "name": "stdout"
        },
        {
          "output_type": "stream",
          "text": [
            " 11%|█         | 267/2461 [00:37<05:01,  7.28it/s]"
          ],
          "name": "stderr"
        },
        {
          "output_type": "stream",
          "text": [
            "TraderNet bought:  $ 48.207142\n",
            "TraderNet bought:  $ 48.771427\n"
          ],
          "name": "stdout"
        },
        {
          "output_type": "stream",
          "text": [
            " 11%|█         | 269/2461 [00:37<04:55,  7.42it/s]"
          ],
          "name": "stderr"
        },
        {
          "output_type": "stream",
          "text": [
            "TraderNet bought:  $ 49.121429\n",
            "TraderNet bought:  $ 49.029999\n"
          ],
          "name": "stdout"
        },
        {
          "output_type": "stream",
          "text": [
            " 11%|█         | 271/2461 [00:37<04:54,  7.44it/s]"
          ],
          "name": "stderr"
        },
        {
          "output_type": "stream",
          "text": [
            "TraderNet bought:  $ 48.014286\n",
            "TraderNet bought:  $ 48.474285\n"
          ],
          "name": "stdout"
        },
        {
          "output_type": "stream",
          "text": [
            " 11%|█         | 273/2461 [00:38<04:54,  7.42it/s]"
          ],
          "name": "stderr"
        },
        {
          "output_type": "stream",
          "text": [
            "TraderNet bought:  $ 49.290001\n",
            "TraderNet bought:  $ 49.188572\n"
          ],
          "name": "stdout"
        },
        {
          "output_type": "stream",
          "text": [
            " 11%|█         | 275/2461 [00:38<05:02,  7.23it/s]"
          ],
          "name": "stderr"
        },
        {
          "output_type": "stream",
          "text": [
            "TraderNet bought:  $ 49.062859\n",
            "TraderNet bought:  $ 49.500000\n"
          ],
          "name": "stdout"
        },
        {
          "output_type": "stream",
          "text": [
            " 11%|█▏        | 277/2461 [00:38<04:58,  7.33it/s]"
          ],
          "name": "stderr"
        },
        {
          "output_type": "stream",
          "text": [
            "TraderNet sold:  $ 50.268570  Profit: $ 0.885712\n",
            "TraderNet sold:  $ 50.742859  Profit: $ 0.960003\n"
          ],
          "name": "stdout"
        },
        {
          "output_type": "stream",
          "text": [
            " 11%|█▏        | 279/2461 [00:38<04:52,  7.46it/s]"
          ],
          "name": "stderr"
        },
        {
          "output_type": "stream",
          "text": [
            "TraderNet sold:  $ 51.165714  Profit: $ 2.501427\n",
            "TraderNet sold:  $ 50.648571  Profit: $ 2.242855\n"
          ],
          "name": "stdout"
        },
        {
          "output_type": "stream",
          "text": [
            " 11%|█▏        | 281/2461 [00:39<04:53,  7.42it/s]"
          ],
          "name": "stderr"
        },
        {
          "output_type": "stream",
          "text": [
            "TraderNet sold:  $ 50.978573  Profit: $ 3.452858\n",
            "TraderNet sold:  $ 51.311428  Profit: $ 4.637142\n"
          ],
          "name": "stdout"
        },
        {
          "output_type": "stream",
          "text": [
            " 11%|█▏        | 283/2461 [00:39<04:50,  7.50it/s]"
          ],
          "name": "stderr"
        },
        {
          "output_type": "stream",
          "text": [
            "TraderNet sold:  $ 51.414288  Profit: $ 3.207146\n",
            "TraderNet sold:  $ 51.875713  Profit: $ 3.104286\n"
          ],
          "name": "stdout"
        },
        {
          "output_type": "stream",
          "text": [
            " 12%|█▏        | 285/2461 [00:39<04:52,  7.43it/s]"
          ],
          "name": "stderr"
        },
        {
          "output_type": "stream",
          "text": [
            "TraderNet sold:  $ 51.185715  Profit: $ 2.064285\n",
            "TraderNet sold:  $ 50.080002  Profit: $ 1.050003\n"
          ],
          "name": "stdout"
        },
        {
          "output_type": "stream",
          "text": [
            " 12%|█▏        | 287/2461 [00:40<04:51,  7.45it/s]"
          ],
          "name": "stderr"
        },
        {
          "output_type": "stream",
          "text": [
            "TraderNet sold:  $ 48.372856  Profit: $ 0.358570\n",
            "TraderNet sold:  $ 48.945713  Profit: $ 0.471428\n"
          ],
          "name": "stdout"
        },
        {
          "output_type": "stream",
          "text": [
            " 12%|█▏        | 289/2461 [00:40<04:47,  7.55it/s]"
          ],
          "name": "stderr"
        },
        {
          "output_type": "stream",
          "text": [
            "TraderNet sold:  $ 48.982857  Profit: - $ 0.307144\n",
            "TraderNet sold:  $ 49.737144  Profit: $ 0.548573\n"
          ],
          "name": "stdout"
        },
        {
          "output_type": "stream",
          "text": [
            " 12%|█▏        | 291/2461 [00:40<04:50,  7.47it/s]"
          ],
          "name": "stderr"
        },
        {
          "output_type": "stream",
          "text": [
            "TraderNet sold:  $ 50.458572  Profit: $ 1.395714\n",
            "TraderNet sold:  $ 49.901428  Profit: $ 0.401428\n"
          ],
          "name": "stdout"
        },
        {
          "output_type": "stream",
          "text": [
            " 13%|█▎        | 309/2461 [00:42<04:49,  7.43it/s]"
          ],
          "name": "stderr"
        },
        {
          "output_type": "stream",
          "text": [
            "TraderNet bought:  $ 49.281429\n",
            "TraderNet bought:  $ 50.220001\n"
          ],
          "name": "stdout"
        },
        {
          "output_type": "stream",
          "text": [
            " 13%|█▎        | 313/2461 [00:43<04:43,  7.57it/s]"
          ],
          "name": "stderr"
        },
        {
          "output_type": "stream",
          "text": [
            "TraderNet sold:  $ 49.804287  Profit: $ 0.522858\n",
            "TraderNet sold:  $ 49.787144  Profit: - $ 0.432858\n"
          ],
          "name": "stdout"
        },
        {
          "output_type": "stream",
          "text": [
            " 19%|█▊        | 460/2461 [01:03<04:32,  7.34it/s]"
          ],
          "name": "stderr"
        },
        {
          "output_type": "stream",
          "text": [
            "TraderNet bought:  $ 57.812859\n",
            "TraderNet bought:  $ 57.849998\n"
          ],
          "name": "stdout"
        },
        {
          "output_type": "stream",
          "text": [
            " 19%|█▉        | 462/2461 [01:03<04:39,  7.14it/s]"
          ],
          "name": "stderr"
        },
        {
          "output_type": "stream",
          "text": [
            "TraderNet sold:  $ 57.825714  Profit: $ 0.012856\n"
          ],
          "name": "stdout"
        },
        {
          "output_type": "stream",
          "text": [
            " 19%|█▉        | 464/2461 [01:04<04:40,  7.13it/s]"
          ],
          "name": "stderr"
        },
        {
          "output_type": "stream",
          "text": [
            "TraderNet sold:  $ 56.772858  Profit: - $ 1.077141\n"
          ],
          "name": "stdout"
        },
        {
          "output_type": "stream",
          "text": [
            " 19%|█▉        | 476/2461 [01:05<04:39,  7.10it/s]"
          ],
          "name": "stderr"
        },
        {
          "output_type": "stream",
          "text": [
            "TraderNet bought:  $ 53.562859\n",
            "TraderNet bought:  $ 52.715714\n"
          ],
          "name": "stdout"
        },
        {
          "output_type": "stream",
          "text": [
            " 19%|█▉        | 478/2461 [01:06<04:36,  7.16it/s]"
          ],
          "name": "stderr"
        },
        {
          "output_type": "stream",
          "text": [
            "TraderNet bought:  $ 53.787144\n",
            "TraderNet bought:  $ 52.427143\n"
          ],
          "name": "stdout"
        },
        {
          "output_type": "stream",
          "text": [
            " 20%|█▉        | 480/2461 [01:06<04:38,  7.12it/s]"
          ],
          "name": "stderr"
        },
        {
          "output_type": "stream",
          "text": [
            "TraderNet bought:  $ 51.938572\n",
            "TraderNet sold:  $ 53.731430  Profit: $ 0.168571\n"
          ],
          "name": "stdout"
        },
        {
          "output_type": "stream",
          "text": [
            " 20%|█▉        | 482/2461 [01:06<04:41,  7.02it/s]"
          ],
          "name": "stderr"
        },
        {
          "output_type": "stream",
          "text": [
            "TraderNet sold:  $ 53.314285  Profit: $ 0.598572\n",
            "TraderNet sold:  $ 54.599998  Profit: $ 0.812855\n"
          ],
          "name": "stdout"
        },
        {
          "output_type": "stream",
          "text": [
            " 20%|█▉        | 484/2461 [01:06<04:35,  7.19it/s]"
          ],
          "name": "stderr"
        },
        {
          "output_type": "stream",
          "text": [
            "TraderNet sold:  $ 55.418571  Profit: $ 2.991428\n",
            "TraderNet sold:  $ 55.671429  Profit: $ 3.732857\n"
          ],
          "name": "stdout"
        },
        {
          "output_type": "stream",
          "text": [
            " 20%|█▉        | 488/2461 [01:07<04:29,  7.31it/s]"
          ],
          "name": "stderr"
        },
        {
          "output_type": "stream",
          "text": [
            "TraderNet bought:  $ 55.584286\n",
            "TraderNet sold:  $ 55.808571  Profit: $ 0.224285\n"
          ],
          "name": "stdout"
        },
        {
          "output_type": "stream",
          "text": [
            " 20%|██        | 498/2461 [01:08<04:28,  7.30it/s]"
          ],
          "name": "stderr"
        },
        {
          "output_type": "stream",
          "text": [
            "TraderNet bought:  $ 56.635715\n",
            "TraderNet sold:  $ 56.935715  Profit: $ 0.299999\n"
          ],
          "name": "stdout"
        },
        {
          "output_type": "stream",
          "text": [
            " 20%|██        | 502/2461 [01:09<04:32,  7.19it/s]"
          ],
          "name": "stderr"
        },
        {
          "output_type": "stream",
          "text": [
            "TraderNet bought:  $ 57.520000\n",
            "TraderNet sold:  $ 57.874287  Profit: $ 0.354286\n"
          ],
          "name": "stdout"
        },
        {
          "output_type": "stream",
          "text": [
            " 20%|██        | 504/2461 [01:09<04:33,  7.17it/s]"
          ],
          "name": "stderr"
        },
        {
          "output_type": "stream",
          "text": [
            "TraderNet bought:  $ 57.857143\n",
            "TraderNet sold:  $ 58.747143  Profit: $ 0.889999\n"
          ],
          "name": "stdout"
        },
        {
          "output_type": "stream",
          "text": [
            " 21%|██        | 506/2461 [01:09<04:29,  7.25it/s]"
          ],
          "name": "stderr"
        },
        {
          "output_type": "stream",
          "text": [
            "TraderNet bought:  $ 59.062859\n",
            "TraderNet sold:  $ 59.718571  Profit: $ 0.655712\n"
          ],
          "name": "stdout"
        },
        {
          "output_type": "stream",
          "text": [
            " 21%|██        | 508/2461 [01:10<04:26,  7.33it/s]"
          ],
          "name": "stderr"
        },
        {
          "output_type": "stream",
          "text": [
            "TraderNet bought:  $ 60.342857\n",
            "TraderNet sold:  $ 60.247143  Profit: - $ 0.095715\n"
          ],
          "name": "stdout"
        },
        {
          "output_type": "stream",
          "text": [
            " 21%|██        | 510/2461 [01:10<04:26,  7.33it/s]"
          ],
          "name": "stderr"
        },
        {
          "output_type": "stream",
          "text": [
            "TraderNet bought:  $ 60.462856\n",
            "TraderNet sold:  $ 60.364285  Profit: - $ 0.098572\n"
          ],
          "name": "stdout"
        },
        {
          "output_type": "stream",
          "text": [
            " 21%|██        | 512/2461 [01:10<04:29,  7.23it/s]"
          ],
          "name": "stderr"
        },
        {
          "output_type": "stream",
          "text": [
            "TraderNet bought:  $ 60.198570\n",
            "TraderNet bought:  $ 59.972858\n"
          ],
          "name": "stdout"
        },
        {
          "output_type": "stream",
          "text": [
            " 21%|██        | 514/2461 [01:11<04:36,  7.03it/s]"
          ],
          "name": "stderr"
        },
        {
          "output_type": "stream",
          "text": [
            "TraderNet bought:  $ 60.671429\n",
            "TraderNet bought:  $ 61.301430\n"
          ],
          "name": "stdout"
        },
        {
          "output_type": "stream",
          "text": [
            " 21%|██        | 516/2461 [01:11<04:31,  7.17it/s]"
          ],
          "name": "stderr"
        },
        {
          "output_type": "stream",
          "text": [
            "TraderNet bought:  $ 61.107143\n",
            "TraderNet bought:  $ 60.042858\n"
          ],
          "name": "stdout"
        },
        {
          "output_type": "stream",
          "text": [
            " 21%|██        | 518/2461 [01:11<04:26,  7.30it/s]"
          ],
          "name": "stderr"
        },
        {
          "output_type": "stream",
          "text": [
            "TraderNet bought:  $ 61.058571\n",
            "TraderNet bought:  $ 60.058571\n"
          ],
          "name": "stdout"
        },
        {
          "output_type": "stream",
          "text": [
            " 21%|██▏       | 524/2461 [01:12<04:29,  7.19it/s]"
          ],
          "name": "stderr"
        },
        {
          "output_type": "stream",
          "text": [
            "TraderNet sold:  $ 65.211426  Profit: $ 5.012856\n",
            "TraderNet sold:  $ 65.169998  Profit: $ 5.197140\n"
          ],
          "name": "stdout"
        },
        {
          "output_type": "stream",
          "text": [
            " 21%|██▏       | 526/2461 [01:12<04:30,  7.14it/s]"
          ],
          "name": "stderr"
        },
        {
          "output_type": "stream",
          "text": [
            "TraderNet sold:  $ 65.017143  Profit: $ 4.345715\n",
            "TraderNet sold:  $ 65.668571  Profit: $ 4.367142\n"
          ],
          "name": "stdout"
        },
        {
          "output_type": "stream",
          "text": [
            " 21%|██▏       | 528/2461 [01:12<04:29,  7.16it/s]"
          ],
          "name": "stderr"
        },
        {
          "output_type": "stream",
          "text": [
            "TraderNet sold:  $ 66.281425  Profit: $ 5.174282\n",
            "TraderNet sold:  $ 66.975716  Profit: $ 6.932858\n"
          ],
          "name": "stdout"
        },
        {
          "output_type": "stream",
          "text": [
            " 22%|██▏       | 530/2461 [01:13<04:30,  7.13it/s]"
          ],
          "name": "stderr"
        },
        {
          "output_type": "stream",
          "text": [
            "TraderNet sold:  $ 68.097145  Profit: $ 7.038574\n",
            "TraderNet sold:  $ 70.452858  Profit: $ 10.394287\n"
          ],
          "name": "stdout"
        },
        {
          "output_type": "stream",
          "text": [
            " 22%|██▏       | 549/2461 [01:15<04:18,  7.40it/s]"
          ],
          "name": "stderr"
        },
        {
          "output_type": "stream",
          "text": [
            "TraderNet bought:  $ 75.812859\n",
            "TraderNet bought:  $ 77.427139\n"
          ],
          "name": "stdout"
        },
        {
          "output_type": "stream",
          "text": [
            " 22%|██▏       | 551/2461 [01:16<04:24,  7.23it/s]"
          ],
          "name": "stderr"
        },
        {
          "output_type": "stream",
          "text": [
            "TraderNet bought:  $ 77.881432\n",
            "TraderNet bought:  $ 78.857140\n"
          ],
          "name": "stdout"
        },
        {
          "output_type": "stream",
          "text": [
            " 22%|██▏       | 553/2461 [01:16<04:28,  7.11it/s]"
          ],
          "name": "stderr"
        },
        {
          "output_type": "stream",
          "text": [
            "TraderNet bought:  $ 81.157143\n",
            "TraderNet bought:  $ 84.225716\n"
          ],
          "name": "stdout"
        },
        {
          "output_type": "stream",
          "text": [
            " 23%|██▎       | 557/2461 [01:17<04:33,  6.95it/s]"
          ],
          "name": "stderr"
        },
        {
          "output_type": "stream",
          "text": [
            "TraderNet sold:  $ 85.871429  Profit: $ 10.058571\n",
            "TraderNet sold:  $ 86.565712  Profit: $ 9.138573\n"
          ],
          "name": "stdout"
        },
        {
          "output_type": "stream",
          "text": [
            " 23%|██▎       | 559/2461 [01:17<04:23,  7.22it/s]"
          ],
          "name": "stderr"
        },
        {
          "output_type": "stream",
          "text": [
            "TraderNet sold:  $ 86.071426  Profit: $ 8.189995\n",
            "TraderNet sold:  $ 85.620003  Profit: $ 6.762863\n"
          ],
          "name": "stdout"
        },
        {
          "output_type": "stream",
          "text": [
            " 23%|██▎       | 561/2461 [01:17<04:28,  7.09it/s]"
          ],
          "name": "stderr"
        },
        {
          "output_type": "stream",
          "text": [
            "TraderNet sold:  $ 85.150002  Profit: $ 3.992859\n",
            "TraderNet sold:  $ 86.711426  Profit: $ 2.485710\n"
          ],
          "name": "stdout"
        },
        {
          "output_type": "stream",
          "text": [
            " 24%|██▍       | 587/2461 [01:21<04:11,  7.47it/s]"
          ],
          "name": "stderr"
        },
        {
          "output_type": "stream",
          "text": [
            "TraderNet bought:  $ 83.161430\n",
            "TraderNet bought:  $ 83.711426\n"
          ],
          "name": "stdout"
        },
        {
          "output_type": "stream",
          "text": [
            " 24%|██▍       | 589/2461 [01:21<04:18,  7.24it/s]"
          ],
          "name": "stderr"
        },
        {
          "output_type": "stream",
          "text": [
            "TraderNet bought:  $ 83.117142\n",
            "TraderNet bought:  $ 80.750000\n"
          ],
          "name": "stdout"
        },
        {
          "output_type": "stream",
          "text": [
            " 24%|██▍       | 591/2461 [01:21<04:18,  7.23it/s]"
          ],
          "name": "stderr"
        },
        {
          "output_type": "stream",
          "text": [
            "TraderNet bought:  $ 81.354286\n",
            "TraderNet bought:  $ 81.168571\n"
          ],
          "name": "stdout"
        },
        {
          "output_type": "stream",
          "text": [
            " 24%|██▍       | 593/2461 [01:21<04:17,  7.25it/s]"
          ],
          "name": "stderr"
        },
        {
          "output_type": "stream",
          "text": [
            "TraderNet bought:  $ 81.311432\n",
            "TraderNet bought:  $ 81.502853\n"
          ],
          "name": "stdout"
        },
        {
          "output_type": "stream",
          "text": [
            " 24%|██▍       | 595/2461 [01:22<04:27,  6.97it/s]"
          ],
          "name": "stderr"
        },
        {
          "output_type": "stream",
          "text": [
            "TraderNet bought:  $ 80.958572\n",
            "TraderNet bought:  $ 79.745712\n"
          ],
          "name": "stdout"
        },
        {
          "output_type": "stream",
          "text": [
            " 24%|██▍       | 597/2461 [01:22<04:28,  6.94it/s]"
          ],
          "name": "stderr"
        },
        {
          "output_type": "stream",
          "text": [
            "TraderNet bought:  $ 79.024284\n",
            "TraderNet bought:  $ 78.011429\n"
          ],
          "name": "stdout"
        },
        {
          "output_type": "stream",
          "text": [
            " 24%|██▍       | 599/2461 [01:22<04:23,  7.07it/s]"
          ],
          "name": "stderr"
        },
        {
          "output_type": "stream",
          "text": [
            "TraderNet bought:  $ 75.731430\n",
            "TraderNet bought:  $ 75.768570\n"
          ],
          "name": "stdout"
        },
        {
          "output_type": "stream",
          "text": [
            " 24%|██▍       | 601/2461 [01:23<04:17,  7.23it/s]"
          ],
          "name": "stderr"
        },
        {
          "output_type": "stream",
          "text": [
            "TraderNet bought:  $ 80.182854\n",
            "TraderNet bought:  $ 79.567146\n"
          ],
          "name": "stdout"
        },
        {
          "output_type": "stream",
          "text": [
            " 25%|██▍       | 603/2461 [01:23<04:23,  7.06it/s]"
          ],
          "name": "stderr"
        },
        {
          "output_type": "stream",
          "text": [
            "TraderNet bought:  $ 81.508568\n",
            "TraderNet bought:  $ 80.760002\n"
          ],
          "name": "stdout"
        },
        {
          "output_type": "stream",
          "text": [
            " 25%|██▍       | 605/2461 [01:23<04:15,  7.25it/s]"
          ],
          "name": "stderr"
        },
        {
          "output_type": "stream",
          "text": [
            "TraderNet bought:  $ 80.327141\n",
            "TraderNet bought:  $ 81.752853\n"
          ],
          "name": "stdout"
        },
        {
          "output_type": "stream",
          "text": [
            " 25%|██▍       | 607/2461 [01:23<04:11,  7.37it/s]"
          ],
          "name": "stderr"
        },
        {
          "output_type": "stream",
          "text": [
            "TraderNet bought:  $ 82.738571\n",
            "TraderNet bought:  $ 82.532860\n"
          ],
          "name": "stdout"
        },
        {
          "output_type": "stream",
          "text": [
            " 25%|██▍       | 609/2461 [01:24<04:17,  7.19it/s]"
          ],
          "name": "stderr"
        },
        {
          "output_type": "stream",
          "text": [
            "TraderNet bought:  $ 80.141426\n",
            "TraderNet bought:  $ 80.612854\n"
          ],
          "name": "stdout"
        },
        {
          "output_type": "stream",
          "text": [
            " 25%|██▍       | 611/2461 [01:24<04:13,  7.30it/s]"
          ],
          "name": "stderr"
        },
        {
          "output_type": "stream",
          "text": [
            "TraderNet sold:  $ 80.404289  Profit: - $ 2.757141\n",
            "TraderNet sold:  $ 81.637146  Profit: - $ 2.074280\n"
          ],
          "name": "stdout"
        },
        {
          "output_type": "stream",
          "text": [
            " 25%|██▍       | 613/2461 [01:24<04:22,  7.05it/s]"
          ],
          "name": "stderr"
        },
        {
          "output_type": "stream",
          "text": [
            "TraderNet sold:  $ 81.674286  Profit: - $ 1.442856\n",
            "TraderNet sold:  $ 82.902855  Profit: $ 2.152855\n"
          ],
          "name": "stdout"
        },
        {
          "output_type": "stream",
          "text": [
            " 25%|██▍       | 615/2461 [01:25<04:24,  6.98it/s]"
          ],
          "name": "stderr"
        },
        {
          "output_type": "stream",
          "text": [
            "TraderNet sold:  $ 81.595711  Profit: $ 0.241425\n",
            "TraderNet sold:  $ 82.308571  Profit: $ 1.139999\n"
          ],
          "name": "stdout"
        },
        {
          "output_type": "stream",
          "text": [
            " 25%|██▌       | 617/2461 [01:25<04:17,  7.17it/s]"
          ],
          "name": "stderr"
        },
        {
          "output_type": "stream",
          "text": [
            "TraderNet sold:  $ 81.737144  Profit: $ 0.425713\n",
            "TraderNet sold:  $ 81.647141  Profit: $ 0.144287\n"
          ],
          "name": "stdout"
        },
        {
          "output_type": "stream",
          "text": [
            " 25%|██▌       | 619/2461 [01:25<04:17,  7.15it/s]"
          ],
          "name": "stderr"
        },
        {
          "output_type": "stream",
          "text": [
            "TraderNet sold:  $ 82.018570  Profit: $ 1.059998\n",
            "TraderNet sold:  $ 83.682854  Profit: $ 3.937141\n"
          ],
          "name": "stdout"
        },
        {
          "output_type": "stream",
          "text": [
            " 25%|██▌       | 621/2461 [01:25<04:18,  7.11it/s]"
          ],
          "name": "stderr"
        },
        {
          "output_type": "stream",
          "text": [
            "TraderNet sold:  $ 83.915718  Profit: $ 4.891434\n",
            "TraderNet sold:  $ 83.677139  Profit: $ 5.665710\n"
          ],
          "name": "stdout"
        },
        {
          "output_type": "stream",
          "text": [
            " 25%|██▌       | 623/2461 [01:26<04:13,  7.25it/s]"
          ],
          "name": "stderr"
        },
        {
          "output_type": "stream",
          "text": [
            "TraderNet sold:  $ 82.524284  Profit: $ 6.792854\n",
            "TraderNet sold:  $ 83.157143  Profit: $ 7.388573\n"
          ],
          "name": "stdout"
        },
        {
          "output_type": "stream",
          "text": [
            " 25%|██▌       | 625/2461 [01:26<04:10,  7.34it/s]"
          ],
          "name": "stderr"
        },
        {
          "output_type": "stream",
          "text": [
            "TraderNet sold:  $ 81.538574  Profit: $ 1.355721\n",
            "TraderNet sold:  $ 81.718575  Profit: $ 2.151428\n"
          ],
          "name": "stdout"
        },
        {
          "output_type": "stream",
          "text": [
            " 25%|██▌       | 627/2461 [01:26<04:16,  7.14it/s]"
          ],
          "name": "stderr"
        },
        {
          "output_type": "stream",
          "text": [
            "TraderNet sold:  $ 82.071426  Profit: $ 0.562859\n",
            "TraderNet sold:  $ 81.292854  Profit: $ 0.532852\n"
          ],
          "name": "stdout"
        },
        {
          "output_type": "stream",
          "text": [
            " 26%|██▌       | 629/2461 [01:26<04:27,  6.85it/s]"
          ],
          "name": "stderr"
        },
        {
          "output_type": "stream",
          "text": [
            "TraderNet sold:  $ 83.428574  Profit: $ 3.101433\n",
            "TraderNet sold:  $ 84.645714  Profit: $ 2.892860\n"
          ],
          "name": "stdout"
        },
        {
          "output_type": "stream",
          "text": [
            " 26%|██▌       | 631/2461 [01:27<04:24,  6.93it/s]"
          ],
          "name": "stderr"
        },
        {
          "output_type": "stream",
          "text": [
            "TraderNet sold:  $ 85.629997  Profit: $ 2.891426\n",
            "TraderNet sold:  $ 87.134285  Profit: $ 4.601425\n"
          ],
          "name": "stdout"
        },
        {
          "output_type": "stream",
          "text": [
            " 26%|██▌       | 633/2461 [01:27<04:22,  6.97it/s]"
          ],
          "name": "stderr"
        },
        {
          "output_type": "stream",
          "text": [
            "TraderNet sold:  $ 86.554283  Profit: $ 6.412857\n",
            "TraderNet sold:  $ 87.698570  Profit: $ 7.085716\n"
          ],
          "name": "stdout"
        },
        {
          "output_type": "stream",
          "text": [
            " 27%|██▋       | 656/2461 [01:30<04:10,  7.20it/s]"
          ],
          "name": "stderr"
        },
        {
          "output_type": "stream",
          "text": [
            "TraderNet bought:  $ 88.551430\n",
            "TraderNet bought:  $ 88.675713\n"
          ],
          "name": "stdout"
        },
        {
          "output_type": "stream",
          "text": [
            " 27%|██▋       | 658/2461 [01:31<04:19,  6.95it/s]"
          ],
          "name": "stderr"
        },
        {
          "output_type": "stream",
          "text": [
            "TraderNet bought:  $ 88.814285\n",
            "TraderNet sold:  $ 90.000000  Profit: $ 1.448570\n"
          ],
          "name": "stdout"
        },
        {
          "output_type": "stream",
          "text": [
            " 27%|██▋       | 660/2461 [01:31<04:13,  7.10it/s]"
          ],
          "name": "stderr"
        },
        {
          "output_type": "stream",
          "text": [
            "TraderNet sold:  $ 90.241432  Profit: $ 1.565720\n",
            "TraderNet sold:  $ 90.118568  Profit: $ 1.304283\n"
          ],
          "name": "stdout"
        },
        {
          "output_type": "stream",
          "text": [
            " 28%|██▊       | 693/2461 [01:35<03:56,  7.47it/s]"
          ],
          "name": "stderr"
        },
        {
          "output_type": "stream",
          "text": [
            "TraderNet bought:  $ 94.198570\n",
            "TraderNet bought:  $ 94.472855\n"
          ],
          "name": "stdout"
        },
        {
          "output_type": "stream",
          "text": [
            " 28%|██▊       | 695/2461 [01:36<03:57,  7.43it/s]"
          ],
          "name": "stderr"
        },
        {
          "output_type": "stream",
          "text": [
            "TraderNet sold:  $ 95.921425  Profit: $ 1.722855\n",
            "TraderNet sold:  $ 95.257141  Profit: $ 0.784286\n"
          ],
          "name": "stdout"
        },
        {
          "output_type": "stream",
          "text": [
            " 29%|██▉       | 718/2461 [01:39<03:52,  7.49it/s]"
          ],
          "name": "stderr"
        },
        {
          "output_type": "stream",
          "text": [
            "TraderNet bought:  $ 79.714287\n",
            "TraderNet bought:  $ 76.821426\n"
          ],
          "name": "stdout"
        },
        {
          "output_type": "stream",
          "text": [
            " 29%|██▉       | 720/2461 [01:39<04:04,  7.13it/s]"
          ],
          "name": "stderr"
        },
        {
          "output_type": "stream",
          "text": [
            "TraderNet bought:  $ 78.151428\n",
            "TraderNet bought:  $ 77.547142\n"
          ],
          "name": "stdout"
        },
        {
          "output_type": "stream",
          "text": [
            " 29%|██▉       | 722/2461 [01:39<04:09,  6.97it/s]"
          ],
          "name": "stderr"
        },
        {
          "output_type": "stream",
          "text": [
            "TraderNet bought:  $ 77.557144\n",
            "TraderNet sold:  $ 76.697144  Profit: - $ 3.017143\n"
          ],
          "name": "stdout"
        },
        {
          "output_type": "stream",
          "text": [
            " 29%|██▉       | 724/2461 [01:40<04:11,  6.90it/s]"
          ],
          "name": "stderr"
        },
        {
          "output_type": "stream",
          "text": [
            "TraderNet bought:  $ 75.088570\n",
            "TraderNet bought:  $ 75.382858\n"
          ],
          "name": "stdout"
        },
        {
          "output_type": "stream",
          "text": [
            " 30%|██▉       | 726/2461 [01:40<04:09,  6.95it/s]"
          ],
          "name": "stderr"
        },
        {
          "output_type": "stream",
          "text": [
            "TraderNet bought:  $ 80.818573\n",
            "TraderNet bought:  $ 80.129997\n"
          ],
          "name": "stdout"
        },
        {
          "output_type": "stream",
          "text": [
            " 30%|██▉       | 728/2461 [01:40<04:02,  7.15it/s]"
          ],
          "name": "stderr"
        },
        {
          "output_type": "stream",
          "text": [
            "TraderNet bought:  $ 80.242859\n",
            "TraderNet bought:  $ 81.642860\n"
          ],
          "name": "stdout"
        },
        {
          "output_type": "stream",
          "text": [
            " 30%|██▉       | 730/2461 [01:40<04:00,  7.18it/s]"
          ],
          "name": "stderr"
        },
        {
          "output_type": "stream",
          "text": [
            "TraderNet bought:  $ 84.218575\n",
            "TraderNet bought:  $ 83.540001\n"
          ],
          "name": "stdout"
        },
        {
          "output_type": "stream",
          "text": [
            " 30%|██▉       | 732/2461 [01:41<03:56,  7.32it/s]"
          ],
          "name": "stderr"
        },
        {
          "output_type": "stream",
          "text": [
            "TraderNet bought:  $ 83.277145\n",
            "TraderNet bought:  $ 84.194283\n"
          ],
          "name": "stdout"
        },
        {
          "output_type": "stream",
          "text": [
            " 30%|██▉       | 734/2461 [01:41<03:50,  7.51it/s]"
          ],
          "name": "stderr"
        },
        {
          "output_type": "stream",
          "text": [
            "TraderNet bought:  $ 83.611427\n",
            "TraderNet bought:  $ 83.741432\n"
          ],
          "name": "stdout"
        },
        {
          "output_type": "stream",
          "text": [
            " 30%|██▉       | 736/2461 [01:41<03:54,  7.34it/s]"
          ],
          "name": "stderr"
        },
        {
          "output_type": "stream",
          "text": [
            "TraderNet sold:  $ 82.264282  Profit: $ 5.442856\n",
            "TraderNet bought:  $ 76.970001\n"
          ],
          "name": "stdout"
        },
        {
          "output_type": "stream",
          "text": [
            " 30%|██▉       | 738/2461 [01:42<04:04,  7.06it/s]"
          ],
          "name": "stderr"
        },
        {
          "output_type": "stream",
          "text": [
            "TraderNet sold:  $ 78.177139  Profit: $ 0.025711\n",
            "TraderNet sold:  $ 76.178574  Profit: - $ 1.368568\n"
          ],
          "name": "stdout"
        },
        {
          "output_type": "stream",
          "text": [
            " 30%|███       | 740/2461 [01:42<04:01,  7.13it/s]"
          ],
          "name": "stderr"
        },
        {
          "output_type": "stream",
          "text": [
            "TraderNet sold:  $ 75.688568  Profit: - $ 1.868576\n",
            "TraderNet sold:  $ 77.341431  Profit: $ 2.252861\n"
          ],
          "name": "stdout"
        },
        {
          "output_type": "stream",
          "text": [
            " 30%|███       | 742/2461 [01:42<03:56,  7.28it/s]"
          ],
          "name": "stderr"
        },
        {
          "output_type": "stream",
          "text": [
            "TraderNet sold:  $ 77.000000  Profit: $ 1.617142\n",
            "TraderNet sold:  $ 75.669998  Profit: - $ 5.148575\n"
          ],
          "name": "stdout"
        },
        {
          "output_type": "stream",
          "text": [
            " 30%|███       | 744/2461 [01:42<03:58,  7.20it/s]"
          ],
          "name": "stderr"
        },
        {
          "output_type": "stream",
          "text": [
            "TraderNet sold:  $ 72.827141  Profit: - $ 7.302856\n",
            "TraderNet sold:  $ 74.118568  Profit: - $ 6.124290\n"
          ],
          "name": "stdout"
        },
        {
          "output_type": "stream",
          "text": [
            " 30%|███       | 746/2461 [01:43<04:00,  7.13it/s]"
          ],
          "name": "stderr"
        },
        {
          "output_type": "stream",
          "text": [
            "TraderNet sold:  $ 76.271431  Profit: - $ 5.371429\n",
            "TraderNet sold:  $ 75.187141  Profit: - $ 9.031433\n"
          ],
          "name": "stdout"
        },
        {
          "output_type": "stream",
          "text": [
            " 30%|███       | 748/2461 [01:43<04:03,  7.03it/s]"
          ],
          "name": "stderr"
        },
        {
          "output_type": "stream",
          "text": [
            "TraderNet sold:  $ 74.532860  Profit: - $ 9.007141\n",
            "TraderNet sold:  $ 74.190002  Profit: - $ 9.087143\n"
          ],
          "name": "stdout"
        },
        {
          "output_type": "stream",
          "text": [
            " 30%|███       | 750/2461 [01:43<04:00,  7.13it/s]"
          ],
          "name": "stderr"
        },
        {
          "output_type": "stream",
          "text": [
            "TraderNet sold:  $ 74.309998  Profit: - $ 9.884285\n",
            "TraderNet sold:  $ 73.285713  Profit: - $ 10.325714\n"
          ],
          "name": "stdout"
        },
        {
          "output_type": "stream",
          "text": [
            " 31%|███       | 752/2461 [01:44<03:58,  7.15it/s]"
          ],
          "name": "stderr"
        },
        {
          "output_type": "stream",
          "text": [
            "TraderNet sold:  $ 73.580002  Profit: - $ 10.161430\n",
            "TraderNet sold:  $ 72.798569  Profit: - $ 4.171432\n"
          ],
          "name": "stdout"
        },
        {
          "output_type": "stream",
          "text": [
            " 31%|███       | 768/2461 [01:46<03:50,  7.36it/s]"
          ],
          "name": "stderr"
        },
        {
          "output_type": "stream",
          "text": [
            "TraderNet bought:  $ 72.110001\n",
            "TraderNet sold:  $ 73.430000  Profit: $ 1.320000\n"
          ],
          "name": "stdout"
        },
        {
          "output_type": "stream",
          "text": [
            " 32%|███▏      | 785/2461 [01:48<03:51,  7.26it/s]"
          ],
          "name": "stderr"
        },
        {
          "output_type": "stream",
          "text": [
            "TraderNet bought:  $ 66.655716\n",
            "TraderNet sold:  $ 65.737144  Profit: - $ 0.918571\n"
          ],
          "name": "stdout"
        },
        {
          "output_type": "stream",
          "text": [
            " 32%|███▏      | 789/2461 [01:49<03:49,  7.28it/s]"
          ],
          "name": "stderr"
        },
        {
          "output_type": "stream",
          "text": [
            "TraderNet bought:  $ 63.722858\n",
            "TraderNet bought:  $ 64.401428\n"
          ],
          "name": "stdout"
        },
        {
          "output_type": "stream",
          "text": [
            " 32%|███▏      | 791/2461 [01:49<03:48,  7.30it/s]"
          ],
          "name": "stderr"
        },
        {
          "output_type": "stream",
          "text": [
            "TraderNet bought:  $ 63.257141\n",
            "TraderNet sold:  $ 64.138573  Profit: $ 0.415714\n"
          ],
          "name": "stdout"
        },
        {
          "output_type": "stream",
          "text": [
            " 32%|███▏      | 793/2461 [01:49<03:50,  7.24it/s]"
          ],
          "name": "stderr"
        },
        {
          "output_type": "stream",
          "text": [
            "TraderNet sold:  $ 63.509998  Profit: - $ 0.891430\n",
            "TraderNet sold:  $ 63.057144  Profit: - $ 0.199997\n"
          ],
          "name": "stdout"
        },
        {
          "output_type": "stream",
          "text": [
            " 32%|███▏      | 796/2461 [01:50<03:45,  7.39it/s]"
          ],
          "name": "stderr"
        },
        {
          "output_type": "stream",
          "text": [
            "TraderNet bought:  $ 60.007141\n",
            "TraderNet bought:  $ 61.591427\n"
          ],
          "name": "stdout"
        },
        {
          "output_type": "stream",
          "text": [
            " 32%|███▏      | 798/2461 [01:50<03:44,  7.41it/s]"
          ],
          "name": "stderr"
        },
        {
          "output_type": "stream",
          "text": [
            "TraderNet bought:  $ 60.808571\n",
            "TraderNet bought:  $ 61.511429\n"
          ],
          "name": "stdout"
        },
        {
          "output_type": "stream",
          "text": [
            " 33%|███▎      | 800/2461 [01:50<03:49,  7.23it/s]"
          ],
          "name": "stderr"
        },
        {
          "output_type": "stream",
          "text": [
            "TraderNet bought:  $ 61.674286\n",
            "TraderNet bought:  $ 62.552856\n"
          ],
          "name": "stdout"
        },
        {
          "output_type": "stream",
          "text": [
            " 33%|███▎      | 802/2461 [01:50<03:49,  7.24it/s]"
          ],
          "name": "stderr"
        },
        {
          "output_type": "stream",
          "text": [
            "TraderNet bought:  $ 61.204285\n"
          ],
          "name": "stdout"
        },
        {
          "output_type": "stream",
          "text": [
            " 33%|███▎      | 804/2461 [01:51<03:50,  7.18it/s]"
          ],
          "name": "stderr"
        },
        {
          "output_type": "stream",
          "text": [
            "TraderNet sold:  $ 61.785713  Profit: $ 1.778572\n",
            "TraderNet bought:  $ 63.380001\n"
          ],
          "name": "stdout"
        },
        {
          "output_type": "stream",
          "text": [
            " 33%|███▎      | 806/2461 [01:51<03:52,  7.12it/s]"
          ],
          "name": "stderr"
        },
        {
          "output_type": "stream",
          "text": [
            "TraderNet sold:  $ 65.102859  Profit: $ 3.511433\n"
          ],
          "name": "stdout"
        },
        {
          "output_type": "stream",
          "text": [
            " 33%|███▎      | 808/2461 [01:51<03:45,  7.32it/s]"
          ],
          "name": "stderr"
        },
        {
          "output_type": "stream",
          "text": [
            "TraderNet sold:  $ 64.582855  Profit: $ 3.774284\n",
            "TraderNet sold:  $ 64.675713  Profit: $ 3.164284\n"
          ],
          "name": "stdout"
        },
        {
          "output_type": "stream",
          "text": [
            " 33%|███▎      | 810/2461 [01:52<03:44,  7.36it/s]"
          ],
          "name": "stderr"
        },
        {
          "output_type": "stream",
          "text": [
            "TraderNet sold:  $ 65.987144  Profit: $ 4.312859\n",
            "TraderNet sold:  $ 66.225716  Profit: $ 3.672859\n"
          ],
          "name": "stdout"
        },
        {
          "output_type": "stream",
          "text": [
            " 33%|███▎      | 812/2461 [01:52<03:41,  7.45it/s]"
          ],
          "name": "stderr"
        },
        {
          "output_type": "stream",
          "text": [
            "TraderNet sold:  $ 65.877144  Profit: $ 4.672859\n",
            "TraderNet sold:  $ 64.582855  Profit: $ 1.202854\n"
          ],
          "name": "stdout"
        },
        {
          "output_type": "stream",
          "text": [
            " 34%|███▎      | 826/2461 [01:54<03:46,  7.20it/s]"
          ],
          "name": "stderr"
        },
        {
          "output_type": "stream",
          "text": [
            "TraderNet bought:  $ 60.891430\n",
            "TraderNet sold:  $ 57.542858  Profit: - $ 3.348572\n"
          ],
          "name": "stdout"
        },
        {
          "output_type": "stream",
          "text": [
            " 46%|████▌     | 1125/2461 [02:35<02:55,  7.62it/s]"
          ],
          "name": "stderr"
        },
        {
          "output_type": "stream",
          "text": [
            "TraderNet bought:  $ 90.830002\n",
            "TraderNet sold:  $ 90.279999  Profit: - $ 0.550003\n"
          ],
          "name": "stdout"
        },
        {
          "output_type": "stream",
          "text": [
            " 46%|████▌     | 1127/2461 [02:35<02:59,  7.41it/s]"
          ],
          "name": "stderr"
        },
        {
          "output_type": "stream",
          "text": [
            "TraderNet bought:  $ 90.360001\n"
          ],
          "name": "stdout"
        },
        {
          "output_type": "stream",
          "text": [
            " 46%|████▌     | 1131/2461 [02:35<03:00,  7.39it/s]"
          ],
          "name": "stderr"
        },
        {
          "output_type": "stream",
          "text": [
            "TraderNet sold:  $ 93.519997  Profit: $ 3.159996\n"
          ],
          "name": "stdout"
        },
        {
          "output_type": "stream",
          "text": [
            " 46%|████▌     | 1133/2461 [02:36<03:04,  7.19it/s]"
          ],
          "name": "stderr"
        },
        {
          "output_type": "stream",
          "text": [
            "TraderNet bought:  $ 94.029999\n"
          ],
          "name": "stdout"
        },
        {
          "output_type": "stream",
          "text": [
            " 46%|████▌     | 1135/2461 [02:36<03:02,  7.27it/s]"
          ],
          "name": "stderr"
        },
        {
          "output_type": "stream",
          "text": [
            "TraderNet bought:  $ 95.349998\n",
            "TraderNet bought:  $ 95.389999\n"
          ],
          "name": "stdout"
        },
        {
          "output_type": "stream",
          "text": [
            " 46%|████▌     | 1137/2461 [02:36<03:00,  7.35it/s]"
          ],
          "name": "stderr"
        },
        {
          "output_type": "stream",
          "text": [
            "TraderNet bought:  $ 95.040001\n",
            "TraderNet bought:  $ 95.220001\n"
          ],
          "name": "stdout"
        },
        {
          "output_type": "stream",
          "text": [
            " 46%|████▋     | 1139/2461 [02:37<03:03,  7.22it/s]"
          ],
          "name": "stderr"
        },
        {
          "output_type": "stream",
          "text": [
            "TraderNet bought:  $ 96.449997\n",
            "TraderNet bought:  $ 95.320000\n"
          ],
          "name": "stdout"
        },
        {
          "output_type": "stream",
          "text": [
            " 46%|████▋     | 1141/2461 [02:37<03:07,  7.04it/s]"
          ],
          "name": "stderr"
        },
        {
          "output_type": "stream",
          "text": [
            "TraderNet sold:  $ 94.779999  Profit: $ 0.750000\n",
            "TraderNet sold:  $ 93.089996  Profit: - $ 2.260002\n"
          ],
          "name": "stdout"
        },
        {
          "output_type": "stream",
          "text": [
            " 46%|████▋     | 1143/2461 [02:37<03:06,  7.06it/s]"
          ],
          "name": "stderr"
        },
        {
          "output_type": "stream",
          "text": [
            "TraderNet sold:  $ 94.430000  Profit: - $ 0.959999\n",
            "TraderNet sold:  $ 93.940002  Profit: - $ 1.099998\n"
          ],
          "name": "stdout"
        },
        {
          "output_type": "stream",
          "text": [
            " 47%|████▋     | 1145/2461 [02:37<03:04,  7.14it/s]"
          ],
          "name": "stderr"
        },
        {
          "output_type": "stream",
          "text": [
            "TraderNet sold:  $ 94.720001  Profit: - $ 0.500000\n",
            "TraderNet sold:  $ 97.190002  Profit: $ 0.740005\n"
          ],
          "name": "stdout"
        },
        {
          "output_type": "stream",
          "text": [
            " 47%|████▋     | 1147/2461 [02:38<03:02,  7.19it/s]"
          ],
          "name": "stderr"
        },
        {
          "output_type": "stream",
          "text": [
            "TraderNet sold:  $ 97.029999  Profit: $ 1.709999\n"
          ],
          "name": "stdout"
        },
        {
          "output_type": "stream",
          "text": [
            " 48%|████▊     | 1185/2461 [02:43<02:54,  7.31it/s]"
          ],
          "name": "stderr"
        },
        {
          "output_type": "stream",
          "text": [
            "TraderNet bought:  $ 101.580002\n",
            "TraderNet bought:  $ 101.790001\n"
          ],
          "name": "stdout"
        },
        {
          "output_type": "stream",
          "text": [
            " 48%|████▊     | 1187/2461 [02:43<02:57,  7.18it/s]"
          ],
          "name": "stderr"
        },
        {
          "output_type": "stream",
          "text": [
            "TraderNet bought:  $ 100.959999\n",
            "TraderNet bought:  $ 101.059998\n"
          ],
          "name": "stdout"
        },
        {
          "output_type": "stream",
          "text": [
            " 48%|████▊     | 1189/2461 [02:43<02:51,  7.40it/s]"
          ],
          "name": "stderr"
        },
        {
          "output_type": "stream",
          "text": [
            "TraderNet sold:  $ 102.639999  Profit: $ 1.059998\n",
            "TraderNet bought:  $ 101.750000\n"
          ],
          "name": "stdout"
        },
        {
          "output_type": "stream",
          "text": [
            " 48%|████▊     | 1191/2461 [02:44<02:53,  7.32it/s]"
          ],
          "name": "stderr"
        },
        {
          "output_type": "stream",
          "text": [
            "TraderNet bought:  $ 97.870003\n",
            "TraderNet bought:  $ 100.750000\n"
          ],
          "name": "stdout"
        },
        {
          "output_type": "stream",
          "text": [
            " 48%|████▊     | 1193/2461 [02:44<02:53,  7.30it/s]"
          ],
          "name": "stderr"
        },
        {
          "output_type": "stream",
          "text": [
            "TraderNet bought:  $ 100.110001\n",
            "TraderNet bought:  $ 100.750000\n"
          ],
          "name": "stdout"
        },
        {
          "output_type": "stream",
          "text": [
            " 49%|████▊     | 1195/2461 [02:44<02:50,  7.44it/s]"
          ],
          "name": "stderr"
        },
        {
          "output_type": "stream",
          "text": [
            "TraderNet bought:  $ 99.180000\n",
            "TraderNet bought:  $ 99.900002\n"
          ],
          "name": "stdout"
        },
        {
          "output_type": "stream",
          "text": [
            " 49%|████▊     | 1198/2461 [02:45<02:54,  7.22it/s]"
          ],
          "name": "stderr"
        },
        {
          "output_type": "stream",
          "text": [
            "TraderNet sold:  $ 99.620003  Profit: - $ 2.169998\n",
            "TraderNet sold:  $ 98.750000  Profit: - $ 2.209999\n"
          ],
          "name": "stdout"
        },
        {
          "output_type": "stream",
          "text": [
            " 49%|████▉     | 1200/2461 [02:45<02:55,  7.18it/s]"
          ],
          "name": "stderr"
        },
        {
          "output_type": "stream",
          "text": [
            "TraderNet sold:  $ 100.800003  Profit: - $ 0.259995\n",
            "TraderNet sold:  $ 101.019997  Profit: - $ 0.730003\n"
          ],
          "name": "stdout"
        },
        {
          "output_type": "stream",
          "text": [
            " 49%|████▉     | 1202/2461 [02:45<02:54,  7.20it/s]"
          ],
          "name": "stderr"
        },
        {
          "output_type": "stream",
          "text": [
            "TraderNet sold:  $ 100.730003  Profit: $ 2.860001\n",
            "TraderNet sold:  $ 99.809998  Profit: - $ 0.940002\n"
          ],
          "name": "stdout"
        },
        {
          "output_type": "stream",
          "text": [
            " 49%|████▉     | 1204/2461 [02:46<02:53,  7.23it/s]"
          ],
          "name": "stderr"
        },
        {
          "output_type": "stream",
          "text": [
            "TraderNet sold:  $ 98.750000  Profit: - $ 1.360001\n",
            "TraderNet sold:  $ 97.540001  Profit: - $ 3.209999\n"
          ],
          "name": "stdout"
        },
        {
          "output_type": "stream",
          "text": [
            " 49%|████▉     | 1206/2461 [02:46<02:54,  7.20it/s]"
          ],
          "name": "stderr"
        },
        {
          "output_type": "stream",
          "text": [
            "TraderNet sold:  $ 96.260002  Profit: - $ 2.919998\n",
            "TraderNet sold:  $ 97.669998  Profit: - $ 2.230003\n"
          ],
          "name": "stdout"
        },
        {
          "output_type": "stream",
          "text": [
            " 50%|████▉     | 1226/2461 [02:48<02:51,  7.18it/s]"
          ],
          "name": "stderr"
        },
        {
          "output_type": "stream",
          "text": [
            "TraderNet bought:  $ 112.820000\n",
            "TraderNet bought:  $ 114.180000\n"
          ],
          "name": "stdout"
        },
        {
          "output_type": "stream",
          "text": [
            " 50%|████▉     | 1228/2461 [02:49<02:50,  7.23it/s]"
          ],
          "name": "stderr"
        },
        {
          "output_type": "stream",
          "text": [
            "TraderNet sold:  $ 113.989998  Profit: $ 1.169998\n",
            "TraderNet sold:  $ 115.470001  Profit: $ 1.290001\n"
          ],
          "name": "stdout"
        },
        {
          "output_type": "stream",
          "text": [
            " 51%|█████     | 1248/2461 [02:51<02:41,  7.51it/s]"
          ],
          "name": "stderr"
        },
        {
          "output_type": "stream",
          "text": [
            "TraderNet bought:  $ 106.750000\n",
            "TraderNet bought:  $ 109.410004\n"
          ],
          "name": "stdout"
        },
        {
          "output_type": "stream",
          "text": [
            " 51%|█████     | 1250/2461 [02:52<02:40,  7.54it/s]"
          ],
          "name": "stderr"
        },
        {
          "output_type": "stream",
          "text": [
            "TraderNet bought:  $ 112.650002\n",
            "TraderNet bought:  $ 111.779999\n"
          ],
          "name": "stdout"
        },
        {
          "output_type": "stream",
          "text": [
            " 51%|█████     | 1252/2461 [02:52<02:43,  7.39it/s]"
          ],
          "name": "stderr"
        },
        {
          "output_type": "stream",
          "text": [
            "TraderNet bought:  $ 112.940002\n",
            "TraderNet bought:  $ 112.540001\n"
          ],
          "name": "stdout"
        },
        {
          "output_type": "stream",
          "text": [
            " 51%|█████     | 1254/2461 [02:52<02:45,  7.29it/s]"
          ],
          "name": "stderr"
        },
        {
          "output_type": "stream",
          "text": [
            "TraderNet bought:  $ 112.010002\n",
            "TraderNet bought:  $ 113.989998\n"
          ],
          "name": "stdout"
        },
        {
          "output_type": "stream",
          "text": [
            " 51%|█████     | 1256/2461 [02:53<02:44,  7.33it/s]"
          ],
          "name": "stderr"
        },
        {
          "output_type": "stream",
          "text": [
            "TraderNet bought:  $ 113.910004\n",
            "TraderNet bought:  $ 112.519997\n"
          ],
          "name": "stdout"
        },
        {
          "output_type": "stream",
          "text": [
            " 51%|█████     | 1258/2461 [02:53<02:42,  7.42it/s]"
          ],
          "name": "stderr"
        },
        {
          "output_type": "stream",
          "text": [
            "TraderNet sold:  $ 110.379997  Profit: $ 3.629997\n",
            "TraderNet bought:  $ 109.330002\n"
          ],
          "name": "stdout"
        },
        {
          "output_type": "stream",
          "text": [
            " 51%|█████     | 1260/2461 [02:53<02:42,  7.37it/s]"
          ],
          "name": "stderr"
        },
        {
          "output_type": "stream",
          "text": [
            "TraderNet sold:  $ 106.250000  Profit: - $ 3.160004\n",
            "TraderNet bought:  $ 106.260002\n"
          ],
          "name": "stdout"
        },
        {
          "output_type": "stream",
          "text": [
            " 51%|█████▏    | 1262/2461 [02:53<02:41,  7.43it/s]"
          ],
          "name": "stderr"
        },
        {
          "output_type": "stream",
          "text": [
            "TraderNet sold:  $ 107.750000  Profit: - $ 4.900002\n",
            "TraderNet sold:  $ 111.889999  Profit: $ 0.110001\n"
          ],
          "name": "stdout"
        },
        {
          "output_type": "stream",
          "text": [
            " 51%|█████▏    | 1264/2461 [02:54<02:39,  7.52it/s]"
          ],
          "name": "stderr"
        },
        {
          "output_type": "stream",
          "text": [
            "TraderNet sold:  $ 112.010002  Profit: - $ 0.930000\n",
            "TraderNet sold:  $ 109.250000  Profit: - $ 3.290001\n"
          ],
          "name": "stdout"
        },
        {
          "output_type": "stream",
          "text": [
            " 51%|█████▏    | 1266/2461 [02:54<02:44,  7.27it/s]"
          ],
          "name": "stderr"
        },
        {
          "output_type": "stream",
          "text": [
            "TraderNet sold:  $ 110.220001  Profit: - $ 1.790001\n",
            "TraderNet sold:  $ 109.800003  Profit: - $ 4.189995\n"
          ],
          "name": "stdout"
        },
        {
          "output_type": "stream",
          "text": [
            " 52%|█████▏    | 1268/2461 [02:54<02:43,  7.32it/s]"
          ],
          "name": "stderr"
        },
        {
          "output_type": "stream",
          "text": [
            "TraderNet sold:  $ 106.820000  Profit: - $ 7.090004\n",
            "TraderNet bought:  $ 105.989998\n"
          ],
          "name": "stdout"
        },
        {
          "output_type": "stream",
          "text": [
            " 52%|█████▏    | 1270/2461 [02:54<02:42,  7.33it/s]"
          ],
          "name": "stderr"
        },
        {
          "output_type": "stream",
          "text": [
            "TraderNet sold:  $ 108.720001  Profit: - $ 3.799995\n",
            "TraderNet sold:  $ 109.550003  Profit: $ 0.220001\n"
          ],
          "name": "stdout"
        },
        {
          "output_type": "stream",
          "text": [
            " 52%|█████▏    | 1272/2461 [02:55<02:36,  7.60it/s]"
          ],
          "name": "stderr"
        },
        {
          "output_type": "stream",
          "text": [
            "TraderNet sold:  $ 112.400002  Profit: $ 6.139999\n",
            "TraderNet sold:  $ 112.980003  Profit: $ 6.990005\n"
          ],
          "name": "stdout"
        },
        {
          "output_type": "stream",
          "text": [
            " 52%|█████▏    | 1288/2461 [02:57<02:37,  7.47it/s]"
          ],
          "name": "stderr"
        },
        {
          "output_type": "stream",
          "text": [
            "TraderNet bought:  $ 127.080002\n",
            "TraderNet sold:  $ 127.830002  Profit: $ 0.750000\n"
          ],
          "name": "stdout"
        },
        {
          "output_type": "stream",
          "text": [
            " 62%|██████▏   | 1536/2461 [03:30<02:09,  7.13it/s]"
          ],
          "name": "stderr"
        },
        {
          "output_type": "stream",
          "text": [
            "TraderNet bought:  $ 94.989998\n",
            "TraderNet sold:  $ 94.269997  Profit: - $ 0.720001\n"
          ],
          "name": "stdout"
        },
        {
          "output_type": "stream",
          "text": [
            " 63%|██████▎   | 1546/2461 [03:31<02:02,  7.46it/s]"
          ],
          "name": "stderr"
        },
        {
          "output_type": "stream",
          "text": [
            "TraderNet bought:  $ 96.099998\n",
            "TraderNet bought:  $ 96.760002\n"
          ],
          "name": "stdout"
        },
        {
          "output_type": "stream",
          "text": [
            " 63%|██████▎   | 1548/2461 [03:31<02:01,  7.49it/s]"
          ],
          "name": "stderr"
        },
        {
          "output_type": "stream",
          "text": [
            "TraderNet bought:  $ 96.910004\n",
            "TraderNet sold:  $ 96.690002  Profit: $ 0.590004\n"
          ],
          "name": "stdout"
        },
        {
          "output_type": "stream",
          "text": [
            " 63%|██████▎   | 1550/2461 [03:32<02:03,  7.37it/s]"
          ],
          "name": "stderr"
        },
        {
          "output_type": "stream",
          "text": [
            "TraderNet sold:  $ 100.529999  Profit: $ 3.769997\n",
            "TraderNet sold:  $ 100.750000  Profit: $ 3.839996\n"
          ],
          "name": "stdout"
        },
        {
          "output_type": "stream",
          "text": [
            " 63%|██████▎   | 1553/2461 [03:32<02:03,  7.33it/s]"
          ],
          "name": "stderr"
        },
        {
          "output_type": "stream",
          "text": [
            "TraderNet bought:  $ 103.010002\n",
            "TraderNet sold:  $ 101.870003  Profit: - $ 1.139999\n"
          ],
          "name": "stdout"
        },
        {
          "output_type": "stream",
          "text": [
            " 73%|███████▎  | 1785/2461 [04:03<01:31,  7.38it/s]"
          ],
          "name": "stderr"
        },
        {
          "output_type": "stream",
          "text": [
            "TraderNet bought:  $ 129.080002\n"
          ],
          "name": "stdout"
        },
        {
          "output_type": "stream",
          "text": [
            " 73%|███████▎  | 1787/2461 [04:04<01:31,  7.36it/s]"
          ],
          "name": "stderr"
        },
        {
          "output_type": "stream",
          "text": [
            "TraderNet bought:  $ 131.529999\n",
            "TraderNet sold:  $ 132.039993  Profit: $ 2.959991\n"
          ],
          "name": "stdout"
        },
        {
          "output_type": "stream",
          "text": [
            " 73%|███████▎  | 1791/2461 [04:04<01:33,  7.18it/s]"
          ],
          "name": "stderr"
        },
        {
          "output_type": "stream",
          "text": [
            "TraderNet sold:  $ 133.289993  Profit: $ 1.759995\n"
          ],
          "name": "stdout"
        },
        {
          "output_type": "stream",
          "text": [
            " 74%|███████▎  | 1810/2461 [04:07<01:27,  7.41it/s]"
          ],
          "name": "stderr"
        },
        {
          "output_type": "stream",
          "text": [
            "TraderNet bought:  $ 139.199997\n",
            "TraderNet sold:  $ 138.990005  Profit: - $ 0.209991\n"
          ],
          "name": "stdout"
        },
        {
          "output_type": "stream",
          "text": [
            " 75%|███████▍  | 1844/2461 [04:11<01:21,  7.57it/s]"
          ],
          "name": "stderr"
        },
        {
          "output_type": "stream",
          "text": [
            "TraderNet bought:  $ 146.580002\n",
            "TraderNet bought:  $ 147.509995\n"
          ],
          "name": "stdout"
        },
        {
          "output_type": "stream",
          "text": [
            " 75%|███████▌  | 1846/2461 [04:11<01:21,  7.56it/s]"
          ],
          "name": "stderr"
        },
        {
          "output_type": "stream",
          "text": [
            "TraderNet bought:  $ 147.059998\n"
          ],
          "name": "stdout"
        },
        {
          "output_type": "stream",
          "text": [
            " 75%|███████▌  | 1851/2461 [04:12<01:20,  7.55it/s]"
          ],
          "name": "stderr"
        },
        {
          "output_type": "stream",
          "text": [
            "TraderNet bought:  $ 153.259995\n",
            "TraderNet sold:  $ 153.949997  Profit: $ 7.369995\n"
          ],
          "name": "stdout"
        },
        {
          "output_type": "stream",
          "text": [
            " 75%|███████▌  | 1853/2461 [04:12<01:21,  7.50it/s]"
          ],
          "name": "stderr"
        },
        {
          "output_type": "stream",
          "text": [
            "TraderNet bought:  $ 156.100006\n",
            "TraderNet sold:  $ 155.699997  Profit: $ 8.190002\n"
          ],
          "name": "stdout"
        },
        {
          "output_type": "stream",
          "text": [
            " 75%|███████▌  | 1855/2461 [04:13<01:21,  7.42it/s]"
          ],
          "name": "stderr"
        },
        {
          "output_type": "stream",
          "text": [
            "TraderNet sold:  $ 155.470001  Profit: $ 8.410004\n",
            "TraderNet sold:  $ 150.250000  Profit: - $ 3.009995\n"
          ],
          "name": "stdout"
        },
        {
          "output_type": "stream",
          "text": [
            " 75%|███████▌  | 1857/2461 [04:13<01:22,  7.36it/s]"
          ],
          "name": "stderr"
        },
        {
          "output_type": "stream",
          "text": [
            "TraderNet sold:  $ 152.539993  Profit: - $ 3.560013\n"
          ],
          "name": "stdout"
        },
        {
          "output_type": "stream",
          "text": [
            " 78%|███████▊  | 1909/2461 [04:20<01:10,  7.80it/s]"
          ],
          "name": "stderr"
        },
        {
          "output_type": "stream",
          "text": [
            "TraderNet bought:  $ 157.139999\n",
            "TraderNet bought:  $ 155.570007\n"
          ],
          "name": "stdout"
        },
        {
          "output_type": "stream",
          "text": [
            " 78%|███████▊  | 1911/2461 [04:20<01:12,  7.57it/s]"
          ],
          "name": "stderr"
        },
        {
          "output_type": "stream",
          "text": [
            "TraderNet bought:  $ 156.389999\n",
            "TraderNet sold:  $ 158.809998  Profit: $ 1.669998\n"
          ],
          "name": "stdout"
        },
        {
          "output_type": "stream",
          "text": [
            " 78%|███████▊  | 1913/2461 [04:20<01:12,  7.52it/s]"
          ],
          "name": "stderr"
        },
        {
          "output_type": "stream",
          "text": [
            "TraderNet sold:  $ 160.080002  Profit: $ 4.509995\n"
          ],
          "name": "stdout"
        },
        {
          "output_type": "stream",
          "text": [
            " 78%|███████▊  | 1915/2461 [04:21<01:12,  7.52it/s]"
          ],
          "name": "stderr"
        },
        {
          "output_type": "stream",
          "text": [
            "TraderNet sold:  $ 155.320007  Profit: - $ 1.069992\n"
          ],
          "name": "stdout"
        },
        {
          "output_type": "stream",
          "text": [
            " 78%|███████▊  | 1924/2461 [04:22<01:10,  7.59it/s]"
          ],
          "name": "stderr"
        },
        {
          "output_type": "stream",
          "text": [
            "TraderNet bought:  $ 159.979996\n",
            "TraderNet bought:  $ 159.270004\n"
          ],
          "name": "stdout"
        },
        {
          "output_type": "stream",
          "text": [
            " 78%|███████▊  | 1926/2461 [04:22<01:11,  7.45it/s]"
          ],
          "name": "stderr"
        },
        {
          "output_type": "stream",
          "text": [
            "TraderNet bought:  $ 159.860001\n",
            "TraderNet bought:  $ 161.470001\n"
          ],
          "name": "stdout"
        },
        {
          "output_type": "stream",
          "text": [
            " 78%|███████▊  | 1928/2461 [04:22<01:11,  7.41it/s]"
          ],
          "name": "stderr"
        },
        {
          "output_type": "stream",
          "text": [
            "TraderNet bought:  $ 162.910004\n",
            "TraderNet sold:  $ 163.350006  Profit: $ 3.370010\n"
          ],
          "name": "stdout"
        },
        {
          "output_type": "stream",
          "text": [
            " 78%|███████▊  | 1930/2461 [04:23<01:11,  7.43it/s]"
          ],
          "name": "stderr"
        },
        {
          "output_type": "stream",
          "text": [
            "TraderNet sold:  $ 164.000000  Profit: $ 4.729996\n",
            "TraderNet sold:  $ 164.050003  Profit: $ 4.190002\n"
          ],
          "name": "stdout"
        },
        {
          "output_type": "stream",
          "text": [
            " 79%|███████▊  | 1932/2461 [04:23<01:10,  7.51it/s]"
          ],
          "name": "stderr"
        },
        {
          "output_type": "stream",
          "text": [
            "TraderNet sold:  $ 162.080002  Profit: $ 0.610001\n",
            "TraderNet sold:  $ 161.910004  Profit: - $ 1.000000\n"
          ],
          "name": "stdout"
        },
        {
          "output_type": "stream",
          "text": [
            " 79%|███████▉  | 1948/2461 [04:25<01:06,  7.70it/s]"
          ],
          "name": "stderr"
        },
        {
          "output_type": "stream",
          "text": [
            "TraderNet bought:  $ 154.229996\n",
            "TraderNet bought:  $ 153.279999\n"
          ],
          "name": "stdout"
        },
        {
          "output_type": "stream",
          "text": [
            " 79%|███████▉  | 1950/2461 [04:25<01:08,  7.44it/s]"
          ],
          "name": "stderr"
        },
        {
          "output_type": "stream",
          "text": [
            "TraderNet sold:  $ 154.119995  Profit: - $ 0.110001\n",
            "TraderNet bought:  $ 153.809998\n"
          ],
          "name": "stdout"
        },
        {
          "output_type": "stream",
          "text": [
            " 79%|███████▉  | 1952/2461 [04:26<01:09,  7.35it/s]"
          ],
          "name": "stderr"
        },
        {
          "output_type": "stream",
          "text": [
            "TraderNet bought:  $ 154.479996\n",
            "TraderNet bought:  $ 153.479996\n"
          ],
          "name": "stdout"
        },
        {
          "output_type": "stream",
          "text": [
            " 79%|███████▉  | 1954/2461 [04:26<01:08,  7.40it/s]"
          ],
          "name": "stderr"
        },
        {
          "output_type": "stream",
          "text": [
            "TraderNet sold:  $ 155.389999  Profit: $ 2.110001\n",
            "TraderNet sold:  $ 155.300003  Profit: $ 1.490005\n"
          ],
          "name": "stdout"
        },
        {
          "output_type": "stream",
          "text": [
            " 79%|███████▉  | 1956/2461 [04:26<01:07,  7.48it/s]"
          ],
          "name": "stderr"
        },
        {
          "output_type": "stream",
          "text": [
            "TraderNet bought:  $ 155.839996\n",
            "TraderNet bought:  $ 155.899994\n"
          ],
          "name": "stdout"
        },
        {
          "output_type": "stream",
          "text": [
            " 80%|███████▉  | 1958/2461 [04:26<01:06,  7.61it/s]"
          ],
          "name": "stderr"
        },
        {
          "output_type": "stream",
          "text": [
            "TraderNet bought:  $ 156.550003\n",
            "TraderNet sold:  $ 156.000000  Profit: $ 1.520004\n"
          ],
          "name": "stdout"
        },
        {
          "output_type": "stream",
          "text": [
            " 80%|███████▉  | 1960/2461 [04:27<01:07,  7.44it/s]"
          ],
          "name": "stderr"
        },
        {
          "output_type": "stream",
          "text": [
            "TraderNet sold:  $ 156.990005  Profit: $ 3.510010\n",
            "TraderNet sold:  $ 159.880005  Profit: $ 4.040009\n"
          ],
          "name": "stdout"
        },
        {
          "output_type": "stream",
          "text": [
            " 80%|███████▉  | 1962/2461 [04:27<01:08,  7.33it/s]"
          ],
          "name": "stderr"
        },
        {
          "output_type": "stream",
          "text": [
            "TraderNet sold:  $ 160.470001  Profit: $ 4.570007\n",
            "TraderNet sold:  $ 159.759995  Profit: $ 3.209991\n"
          ],
          "name": "stdout"
        },
        {
          "output_type": "stream",
          "text": [
            " 81%|████████  | 1993/2461 [04:31<01:01,  7.61it/s]"
          ],
          "name": "stderr"
        },
        {
          "output_type": "stream",
          "text": [
            "TraderNet bought:  $ 171.850006\n",
            "TraderNet bought:  $ 171.050003\n"
          ],
          "name": "stdout"
        },
        {
          "output_type": "stream",
          "text": [
            " 81%|████████  | 1995/2461 [04:31<01:01,  7.61it/s]"
          ],
          "name": "stderr"
        },
        {
          "output_type": "stream",
          "text": [
            "TraderNet bought:  $ 169.800003\n",
            "TraderNet bought:  $ 169.639999\n"
          ],
          "name": "stdout"
        },
        {
          "output_type": "stream",
          "text": [
            " 81%|████████  | 1997/2461 [04:32<01:00,  7.67it/s]"
          ],
          "name": "stderr"
        },
        {
          "output_type": "stream",
          "text": [
            "TraderNet bought:  $ 169.009995\n"
          ],
          "name": "stdout"
        },
        {
          "output_type": "stream",
          "text": [
            " 81%|████████▏ | 2004/2461 [04:32<00:59,  7.71it/s]"
          ],
          "name": "stderr"
        },
        {
          "output_type": "stream",
          "text": [
            "TraderNet sold:  $ 173.970001  Profit: $ 2.119995\n",
            "TraderNet sold:  $ 176.419998  Profit: $ 5.369995\n"
          ],
          "name": "stdout"
        },
        {
          "output_type": "stream",
          "text": [
            " 82%|████████▏ | 2007/2461 [04:33<01:00,  7.55it/s]"
          ],
          "name": "stderr"
        },
        {
          "output_type": "stream",
          "text": [
            "TraderNet sold:  $ 174.350006  Profit: $ 4.550003\n",
            "TraderNet sold:  $ 175.009995  Profit: $ 5.369995\n"
          ],
          "name": "stdout"
        },
        {
          "output_type": "stream",
          "text": [
            " 82%|████████▏ | 2009/2461 [04:33<00:59,  7.55it/s]"
          ],
          "name": "stderr"
        },
        {
          "output_type": "stream",
          "text": [
            "TraderNet sold:  $ 175.009995  Profit: $ 6.000000\n"
          ],
          "name": "stdout"
        },
        {
          "output_type": "stream",
          "text": [
            " 83%|████████▎ | 2032/2461 [04:36<00:56,  7.63it/s]"
          ],
          "name": "stderr"
        },
        {
          "output_type": "stream",
          "text": [
            "TraderNet bought:  $ 167.960007\n",
            "TraderNet bought:  $ 166.970001\n"
          ],
          "name": "stdout"
        },
        {
          "output_type": "stream",
          "text": [
            " 83%|████████▎ | 2034/2461 [04:36<00:55,  7.68it/s]"
          ],
          "name": "stderr"
        },
        {
          "output_type": "stream",
          "text": [
            "TraderNet sold:  $ 167.429993  Profit: - $ 0.530014\n",
            "TraderNet sold:  $ 167.779999  Profit: $ 0.809998\n"
          ],
          "name": "stdout"
        },
        {
          "output_type": "stream",
          "text": [
            " 83%|████████▎ | 2041/2461 [04:37<00:54,  7.77it/s]"
          ],
          "name": "stderr"
        },
        {
          "output_type": "stream",
          "text": [
            "TraderNet bought:  $ 156.410004\n",
            "TraderNet bought:  $ 162.710007\n"
          ],
          "name": "stdout"
        },
        {
          "output_type": "stream",
          "text": [
            " 83%|████████▎ | 2043/2461 [04:38<00:55,  7.55it/s]"
          ],
          "name": "stderr"
        },
        {
          "output_type": "stream",
          "text": [
            "TraderNet bought:  $ 164.339996\n",
            "TraderNet bought:  $ 167.369995\n"
          ],
          "name": "stdout"
        },
        {
          "output_type": "stream",
          "text": [
            " 83%|████████▎ | 2045/2461 [04:38<00:54,  7.67it/s]"
          ],
          "name": "stderr"
        },
        {
          "output_type": "stream",
          "text": [
            "TraderNet bought:  $ 172.990005\n",
            "TraderNet sold:  $ 172.429993  Profit: $ 16.019989\n"
          ],
          "name": "stdout"
        },
        {
          "output_type": "stream",
          "text": [
            " 83%|████████▎ | 2047/2461 [04:38<00:55,  7.45it/s]"
          ],
          "name": "stderr"
        },
        {
          "output_type": "stream",
          "text": [
            "TraderNet bought:  $ 171.850006\n",
            "TraderNet bought:  $ 171.070007\n"
          ],
          "name": "stdout"
        },
        {
          "output_type": "stream",
          "text": [
            " 83%|████████▎ | 2049/2461 [04:38<00:54,  7.50it/s]"
          ],
          "name": "stderr"
        },
        {
          "output_type": "stream",
          "text": [
            "TraderNet sold:  $ 172.500000  Profit: $ 9.789993\n",
            "TraderNet sold:  $ 175.500000  Profit: $ 11.160004\n"
          ],
          "name": "stdout"
        },
        {
          "output_type": "stream",
          "text": [
            " 83%|████████▎ | 2051/2461 [04:39<00:55,  7.36it/s]"
          ],
          "name": "stderr"
        },
        {
          "output_type": "stream",
          "text": [
            "TraderNet sold:  $ 178.970001  Profit: $ 11.600006\n",
            "TraderNet sold:  $ 178.389999  Profit: $ 5.399994\n"
          ],
          "name": "stdout"
        },
        {
          "output_type": "stream",
          "text": [
            " 83%|████████▎ | 2053/2461 [04:39<00:54,  7.53it/s]"
          ],
          "name": "stderr"
        },
        {
          "output_type": "stream",
          "text": [
            "TraderNet sold:  $ 178.119995  Profit: $ 6.269989\n",
            "TraderNet sold:  $ 175.000000  Profit: $ 3.929993\n"
          ],
          "name": "stdout"
        },
        {
          "output_type": "stream",
          "text": [
            " 84%|████████▍ | 2065/2461 [04:40<00:50,  7.77it/s]"
          ],
          "name": "stderr"
        },
        {
          "output_type": "stream",
          "text": [
            "TraderNet bought:  $ 178.020004\n",
            "TraderNet bought:  $ 175.300003\n"
          ],
          "name": "stdout"
        },
        {
          "output_type": "stream",
          "text": [
            " 84%|████████▍ | 2067/2461 [04:41<00:50,  7.79it/s]"
          ],
          "name": "stderr"
        },
        {
          "output_type": "stream",
          "text": [
            "TraderNet bought:  $ 175.240005\n",
            "TraderNet bought:  $ 171.270004\n"
          ],
          "name": "stdout"
        },
        {
          "output_type": "stream",
          "text": [
            " 84%|████████▍ | 2069/2461 [04:41<00:50,  7.82it/s]"
          ],
          "name": "stderr"
        },
        {
          "output_type": "stream",
          "text": [
            "TraderNet sold:  $ 168.850006  Profit: - $ 9.169998\n",
            "TraderNet sold:  $ 164.940002  Profit: - $ 10.360001\n"
          ],
          "name": "stdout"
        },
        {
          "output_type": "stream",
          "text": [
            " 84%|████████▍ | 2071/2461 [04:41<00:49,  7.81it/s]"
          ],
          "name": "stderr"
        },
        {
          "output_type": "stream",
          "text": [
            "TraderNet sold:  $ 172.770004  Profit: - $ 2.470001\n",
            "TraderNet sold:  $ 168.339996  Profit: - $ 2.930008\n"
          ],
          "name": "stdout"
        },
        {
          "output_type": "stream",
          "text": [
            " 85%|████████▌ | 2092/2461 [04:44<00:48,  7.57it/s]"
          ],
          "name": "stderr"
        },
        {
          "output_type": "stream",
          "text": [
            "TraderNet bought:  $ 163.649994\n",
            "TraderNet bought:  $ 164.220001\n"
          ],
          "name": "stdout"
        },
        {
          "output_type": "stream",
          "text": [
            " 85%|████████▌ | 2094/2461 [04:44<00:48,  7.53it/s]"
          ],
          "name": "stderr"
        },
        {
          "output_type": "stream",
          "text": [
            "TraderNet bought:  $ 162.320007\n",
            "TraderNet bought:  $ 165.259995\n"
          ],
          "name": "stdout"
        },
        {
          "output_type": "stream",
          "text": [
            " 85%|████████▌ | 2096/2461 [04:44<00:47,  7.61it/s]"
          ],
          "name": "stderr"
        },
        {
          "output_type": "stream",
          "text": [
            "TraderNet bought:  $ 169.100006\n",
            "TraderNet bought:  $ 176.570007\n"
          ],
          "name": "stdout"
        },
        {
          "output_type": "stream",
          "text": [
            " 85%|████████▌ | 2098/2461 [04:45<00:47,  7.59it/s]"
          ],
          "name": "stderr"
        },
        {
          "output_type": "stream",
          "text": [
            "TraderNet bought:  $ 176.889999\n",
            "TraderNet bought:  $ 183.830002\n"
          ],
          "name": "stdout"
        },
        {
          "output_type": "stream",
          "text": [
            " 85%|████████▌ | 2100/2461 [04:45<00:48,  7.37it/s]"
          ],
          "name": "stderr"
        },
        {
          "output_type": "stream",
          "text": [
            "TraderNet bought:  $ 185.160004\n",
            "TraderNet bought:  $ 186.050003\n"
          ],
          "name": "stdout"
        },
        {
          "output_type": "stream",
          "text": [
            " 85%|████████▌ | 2102/2461 [04:45<00:48,  7.34it/s]"
          ],
          "name": "stderr"
        },
        {
          "output_type": "stream",
          "text": [
            "TraderNet bought:  $ 187.360001\n",
            "TraderNet bought:  $ 190.039993\n"
          ],
          "name": "stdout"
        },
        {
          "output_type": "stream",
          "text": [
            " 85%|████████▌ | 2104/2461 [04:46<00:48,  7.43it/s]"
          ],
          "name": "stderr"
        },
        {
          "output_type": "stream",
          "text": [
            "TraderNet bought:  $ 188.589996\n",
            "TraderNet bought:  $ 188.149994\n"
          ],
          "name": "stdout"
        },
        {
          "output_type": "stream",
          "text": [
            " 86%|████████▌ | 2106/2461 [04:46<00:47,  7.51it/s]"
          ],
          "name": "stderr"
        },
        {
          "output_type": "stream",
          "text": [
            "TraderNet bought:  $ 186.440002\n",
            "TraderNet bought:  $ 188.179993\n"
          ],
          "name": "stdout"
        },
        {
          "output_type": "stream",
          "text": [
            " 86%|████████▌ | 2108/2461 [04:46<00:46,  7.58it/s]"
          ],
          "name": "stderr"
        },
        {
          "output_type": "stream",
          "text": [
            "TraderNet bought:  $ 186.990005\n",
            "TraderNet bought:  $ 186.309998\n"
          ],
          "name": "stdout"
        },
        {
          "output_type": "stream",
          "text": [
            " 86%|████████▌ | 2110/2461 [04:46<00:47,  7.42it/s]"
          ],
          "name": "stderr"
        },
        {
          "output_type": "stream",
          "text": [
            "TraderNet bought:  $ 187.630005\n",
            "TraderNet bought:  $ 187.160004\n"
          ],
          "name": "stdout"
        },
        {
          "output_type": "stream",
          "text": [
            " 86%|████████▌ | 2112/2461 [04:47<00:47,  7.40it/s]"
          ],
          "name": "stderr"
        },
        {
          "output_type": "stream",
          "text": [
            "TraderNet bought:  $ 188.360001\n",
            "TraderNet bought:  $ 188.149994\n"
          ],
          "name": "stdout"
        },
        {
          "output_type": "stream",
          "text": [
            " 86%|████████▌ | 2114/2461 [04:47<00:46,  7.50it/s]"
          ],
          "name": "stderr"
        },
        {
          "output_type": "stream",
          "text": [
            "TraderNet sold:  $ 188.580002  Profit: $ 24.930008\n",
            "TraderNet sold:  $ 187.899994  Profit: $ 23.679993\n"
          ],
          "name": "stdout"
        },
        {
          "output_type": "stream",
          "text": [
            " 86%|████████▌ | 2116/2461 [04:47<00:45,  7.50it/s]"
          ],
          "name": "stderr"
        },
        {
          "output_type": "stream",
          "text": [
            "TraderNet sold:  $ 187.500000  Profit: $ 25.179993\n",
            "TraderNet sold:  $ 186.869995  Profit: $ 21.610001\n"
          ],
          "name": "stdout"
        },
        {
          "output_type": "stream",
          "text": [
            " 86%|████████▌ | 2118/2461 [04:47<00:45,  7.52it/s]"
          ],
          "name": "stderr"
        },
        {
          "output_type": "stream",
          "text": [
            "TraderNet sold:  $ 190.240005  Profit: $ 21.139999\n",
            "TraderNet sold:  $ 191.830002  Profit: $ 15.259995\n"
          ],
          "name": "stdout"
        },
        {
          "output_type": "stream",
          "text": [
            " 86%|████████▌ | 2120/2461 [04:48<00:46,  7.38it/s]"
          ],
          "name": "stderr"
        },
        {
          "output_type": "stream",
          "text": [
            "TraderNet sold:  $ 193.309998  Profit: $ 16.419998\n",
            "TraderNet sold:  $ 193.979996  Profit: $ 10.149994\n"
          ],
          "name": "stdout"
        },
        {
          "output_type": "stream",
          "text": [
            " 86%|████████▌ | 2122/2461 [04:48<00:45,  7.47it/s]"
          ],
          "name": "stderr"
        },
        {
          "output_type": "stream",
          "text": [
            "TraderNet sold:  $ 193.460007  Profit: $ 8.300003\n",
            "TraderNet sold:  $ 191.699997  Profit: $ 5.649994\n"
          ],
          "name": "stdout"
        },
        {
          "output_type": "stream",
          "text": [
            " 86%|████████▋ | 2124/2461 [04:48<00:46,  7.26it/s]"
          ],
          "name": "stderr"
        },
        {
          "output_type": "stream",
          "text": [
            "TraderNet sold:  $ 191.229996  Profit: $ 3.869995\n",
            "TraderNet sold:  $ 192.279999  Profit: $ 2.240005\n"
          ],
          "name": "stdout"
        },
        {
          "output_type": "stream",
          "text": [
            " 86%|████████▋ | 2126/2461 [04:49<00:46,  7.27it/s]"
          ],
          "name": "stderr"
        },
        {
          "output_type": "stream",
          "text": [
            "TraderNet sold:  $ 190.699997  Profit: $ 2.110001\n",
            "TraderNet sold:  $ 190.800003  Profit: $ 2.650009\n"
          ],
          "name": "stdout"
        },
        {
          "output_type": "stream",
          "text": [
            " 86%|████████▋ | 2128/2461 [04:49<00:45,  7.27it/s]"
          ],
          "name": "stderr"
        },
        {
          "output_type": "stream",
          "text": [
            "TraderNet sold:  $ 188.839996  Profit: $ 2.399994\n",
            "TraderNet sold:  $ 188.740005  Profit: $ 0.560013\n"
          ],
          "name": "stdout"
        },
        {
          "output_type": "stream",
          "text": [
            " 87%|████████▋ | 2130/2461 [04:49<00:46,  7.10it/s]"
          ],
          "name": "stderr"
        },
        {
          "output_type": "stream",
          "text": [
            "TraderNet sold:  $ 185.690002  Profit: - $ 1.300003\n",
            "TraderNet sold:  $ 186.500000  Profit: $ 0.190002\n"
          ],
          "name": "stdout"
        },
        {
          "output_type": "stream",
          "text": [
            " 87%|████████▋ | 2132/2461 [04:49<00:45,  7.24it/s]"
          ],
          "name": "stderr"
        },
        {
          "output_type": "stream",
          "text": [
            "TraderNet sold:  $ 185.460007  Profit: - $ 2.169998\n",
            "TraderNet sold:  $ 184.919998  Profit: - $ 2.240005\n"
          ],
          "name": "stdout"
        },
        {
          "output_type": "stream",
          "text": [
            " 87%|████████▋ | 2134/2461 [04:50<00:44,  7.33it/s]"
          ],
          "name": "stderr"
        },
        {
          "output_type": "stream",
          "text": [
            "TraderNet sold:  $ 182.169998  Profit: - $ 6.190002\n",
            "TraderNet sold:  $ 184.429993  Profit: - $ 3.720001\n"
          ],
          "name": "stdout"
        },
        {
          "output_type": "stream",
          "text": [
            " 87%|████████▋ | 2147/2461 [04:51<00:42,  7.36it/s]"
          ],
          "name": "stderr"
        },
        {
          "output_type": "stream",
          "text": [
            "TraderNet bought:  $ 191.330002\n",
            "TraderNet bought:  $ 190.910004\n"
          ],
          "name": "stdout"
        },
        {
          "output_type": "stream",
          "text": [
            " 87%|████████▋ | 2149/2461 [04:52<00:41,  7.56it/s]"
          ],
          "name": "stderr"
        },
        {
          "output_type": "stream",
          "text": [
            "TraderNet bought:  $ 191.449997\n",
            "TraderNet bought:  $ 190.399994\n"
          ],
          "name": "stdout"
        },
        {
          "output_type": "stream",
          "text": [
            " 87%|████████▋ | 2151/2461 [04:52<00:41,  7.41it/s]"
          ],
          "name": "stderr"
        },
        {
          "output_type": "stream",
          "text": [
            "TraderNet bought:  $ 191.880005\n",
            "TraderNet bought:  $ 191.440002\n"
          ],
          "name": "stdout"
        },
        {
          "output_type": "stream",
          "text": [
            " 87%|████████▋ | 2153/2461 [04:52<00:41,  7.47it/s]"
          ],
          "name": "stderr"
        },
        {
          "output_type": "stream",
          "text": [
            "TraderNet bought:  $ 191.610001\n",
            "TraderNet bought:  $ 193.000000\n"
          ],
          "name": "stdout"
        },
        {
          "output_type": "stream",
          "text": [
            " 88%|████████▊ | 2155/2461 [04:52<00:41,  7.43it/s]"
          ],
          "name": "stderr"
        },
        {
          "output_type": "stream",
          "text": [
            "TraderNet bought:  $ 194.820007\n",
            "TraderNet bought:  $ 194.210007\n"
          ],
          "name": "stdout"
        },
        {
          "output_type": "stream",
          "text": [
            " 88%|████████▊ | 2157/2461 [04:53<00:41,  7.41it/s]"
          ],
          "name": "stderr"
        },
        {
          "output_type": "stream",
          "text": [
            "TraderNet bought:  $ 190.979996\n",
            "TraderNet bought:  $ 189.910004\n"
          ],
          "name": "stdout"
        },
        {
          "output_type": "stream",
          "text": [
            " 88%|████████▊ | 2159/2461 [04:53<00:41,  7.34it/s]"
          ],
          "name": "stderr"
        },
        {
          "output_type": "stream",
          "text": [
            "TraderNet sold:  $ 190.289993  Profit: - $ 1.040009\n",
            "TraderNet sold:  $ 201.500000  Profit: $ 10.589996\n"
          ],
          "name": "stdout"
        },
        {
          "output_type": "stream",
          "text": [
            " 88%|████████▊ | 2161/2461 [04:53<00:41,  7.22it/s]"
          ],
          "name": "stderr"
        },
        {
          "output_type": "stream",
          "text": [
            "TraderNet sold:  $ 207.389999  Profit: $ 15.940002\n",
            "TraderNet sold:  $ 207.990005  Profit: $ 17.590012\n"
          ],
          "name": "stdout"
        },
        {
          "output_type": "stream",
          "text": [
            " 88%|████████▊ | 2163/2461 [04:54<00:40,  7.37it/s]"
          ],
          "name": "stderr"
        },
        {
          "output_type": "stream",
          "text": [
            "TraderNet sold:  $ 209.070007  Profit: $ 17.190002\n",
            "TraderNet sold:  $ 207.110001  Profit: $ 15.669998\n"
          ],
          "name": "stdout"
        },
        {
          "output_type": "stream",
          "text": [
            " 88%|████████▊ | 2165/2461 [04:54<00:40,  7.36it/s]"
          ],
          "name": "stderr"
        },
        {
          "output_type": "stream",
          "text": [
            "TraderNet sold:  $ 207.250000  Profit: $ 15.639999\n",
            "TraderNet sold:  $ 208.880005  Profit: $ 15.880005\n"
          ],
          "name": "stdout"
        },
        {
          "output_type": "stream",
          "text": [
            " 88%|████████▊ | 2167/2461 [04:54<00:39,  7.47it/s]"
          ],
          "name": "stderr"
        },
        {
          "output_type": "stream",
          "text": [
            "TraderNet sold:  $ 207.529999  Profit: $ 12.709991\n",
            "TraderNet sold:  $ 208.869995  Profit: $ 14.659988\n"
          ],
          "name": "stdout"
        },
        {
          "output_type": "stream",
          "text": [
            " 88%|████████▊ | 2169/2461 [04:54<00:38,  7.49it/s]"
          ],
          "name": "stderr"
        },
        {
          "output_type": "stream",
          "text": [
            "TraderNet sold:  $ 209.750000  Profit: $ 18.770004\n",
            "TraderNet sold:  $ 210.240005  Profit: $ 20.330002\n"
          ],
          "name": "stdout"
        },
        {
          "output_type": "stream",
          "text": [
            " 89%|████████▉ | 2194/2461 [04:58<00:35,  7.51it/s]"
          ],
          "name": "stderr"
        },
        {
          "output_type": "stream",
          "text": [
            "TraderNet bought:  $ 218.369995\n",
            "TraderNet bought:  $ 220.029999\n"
          ],
          "name": "stdout"
        },
        {
          "output_type": "stream",
          "text": [
            " 89%|████████▉ | 2196/2461 [04:58<00:35,  7.48it/s]"
          ],
          "name": "stderr"
        },
        {
          "output_type": "stream",
          "text": [
            "TraderNet bought:  $ 217.660004\n",
            "TraderNet bought:  $ 220.789993\n"
          ],
          "name": "stdout"
        },
        {
          "output_type": "stream",
          "text": [
            " 89%|████████▉ | 2198/2461 [04:58<00:34,  7.59it/s]"
          ],
          "name": "stderr"
        },
        {
          "output_type": "stream",
          "text": [
            "TraderNet bought:  $ 222.190002\n",
            "TraderNet bought:  $ 220.419998\n"
          ],
          "name": "stdout"
        },
        {
          "output_type": "stream",
          "text": [
            " 89%|████████▉ | 2200/2461 [04:58<00:35,  7.38it/s]"
          ],
          "name": "stderr"
        },
        {
          "output_type": "stream",
          "text": [
            "TraderNet bought:  $ 224.949997\n",
            "TraderNet bought:  $ 225.740005\n"
          ],
          "name": "stdout"
        },
        {
          "output_type": "stream",
          "text": [
            " 89%|████████▉ | 2202/2461 [04:59<00:35,  7.28it/s]"
          ],
          "name": "stderr"
        },
        {
          "output_type": "stream",
          "text": [
            "TraderNet bought:  $ 227.259995\n",
            "TraderNet bought:  $ 229.279999\n"
          ],
          "name": "stdout"
        },
        {
          "output_type": "stream",
          "text": [
            " 90%|████████▉ | 2204/2461 [04:59<00:35,  7.29it/s]"
          ],
          "name": "stderr"
        },
        {
          "output_type": "stream",
          "text": [
            "TraderNet bought:  $ 232.070007\n",
            "TraderNet bought:  $ 227.990005\n"
          ],
          "name": "stdout"
        },
        {
          "output_type": "stream",
          "text": [
            " 90%|████████▉ | 2206/2461 [04:59<00:34,  7.34it/s]"
          ],
          "name": "stderr"
        },
        {
          "output_type": "stream",
          "text": [
            "TraderNet bought:  $ 224.289993\n",
            "TraderNet sold:  $ 223.770004  Profit: $ 5.400009\n"
          ],
          "name": "stdout"
        },
        {
          "output_type": "stream",
          "text": [
            " 90%|████████▉ | 2208/2461 [05:00<00:34,  7.38it/s]"
          ],
          "name": "stderr"
        },
        {
          "output_type": "stream",
          "text": [
            "TraderNet sold:  $ 226.869995  Profit: $ 6.839996\n",
            "TraderNet sold:  $ 216.360001  Profit: - $ 1.300003\n"
          ],
          "name": "stdout"
        },
        {
          "output_type": "stream",
          "text": [
            " 90%|████████▉ | 2210/2461 [05:00<00:33,  7.59it/s]"
          ],
          "name": "stderr"
        },
        {
          "output_type": "stream",
          "text": [
            "TraderNet sold:  $ 214.449997  Profit: - $ 6.339996\n",
            "TraderNet sold:  $ 222.110001  Profit: - $ 0.080002\n"
          ],
          "name": "stdout"
        },
        {
          "output_type": "stream",
          "text": [
            " 90%|████████▉ | 2212/2461 [05:00<00:33,  7.54it/s]"
          ],
          "name": "stderr"
        },
        {
          "output_type": "stream",
          "text": [
            "TraderNet sold:  $ 217.360001  Profit: - $ 3.059998\n",
            "TraderNet sold:  $ 222.149994  Profit: - $ 2.800003\n"
          ],
          "name": "stdout"
        },
        {
          "output_type": "stream",
          "text": [
            " 90%|████████▉ | 2214/2461 [05:00<00:32,  7.55it/s]"
          ],
          "name": "stderr"
        },
        {
          "output_type": "stream",
          "text": [
            "TraderNet sold:  $ 221.190002  Profit: - $ 4.550003\n",
            "TraderNet sold:  $ 216.020004  Profit: - $ 11.239990\n"
          ],
          "name": "stdout"
        },
        {
          "output_type": "stream",
          "text": [
            " 90%|█████████ | 2216/2461 [05:01<00:32,  7.44it/s]"
          ],
          "name": "stderr"
        },
        {
          "output_type": "stream",
          "text": [
            "TraderNet sold:  $ 219.309998  Profit: - $ 9.970001\n",
            "TraderNet sold:  $ 220.649994  Profit: - $ 11.420013\n"
          ],
          "name": "stdout"
        },
        {
          "output_type": "stream",
          "text": [
            " 90%|█████████ | 2218/2461 [05:01<00:32,  7.54it/s]"
          ],
          "name": "stderr"
        },
        {
          "output_type": "stream",
          "text": [
            "TraderNet sold:  $ 222.729996  Profit: - $ 5.260010\n",
            "TraderNet sold:  $ 215.089996  Profit: - $ 9.199997\n"
          ],
          "name": "stdout"
        },
        {
          "output_type": "stream",
          "text": [
            " 97%|█████████▋| 2378/2461 [05:24<00:11,  7.11it/s]"
          ],
          "name": "stderr"
        },
        {
          "output_type": "stream",
          "text": [
            "TraderNet bought:  $ 192.740005\n",
            "TraderNet sold:  $ 193.889999  Profit: $ 1.149994\n"
          ],
          "name": "stdout"
        },
        {
          "output_type": "stream",
          "text": [
            "100%|██████████| 2461/2461 [05:35<00:00,  7.39it/s]\n",
            "  0%|          | 0/2461 [00:00<?, ?it/s]"
          ],
          "name": "stderr"
        },
        {
          "output_type": "stream",
          "text": [
            "########################\n",
            "TOTAL PROFIT: 652.537031173706\n",
            "########################\n",
            "Episode: 4/1000\n"
          ],
          "name": "stdout"
        },
        {
          "output_type": "stream",
          "text": [
            " 10%|█         | 249/2461 [00:33<04:41,  7.87it/s]"
          ],
          "name": "stderr"
        },
        {
          "output_type": "stream",
          "text": [
            "TraderNet bought:  $ 46.495716\n",
            "TraderNet bought:  $ 46.470001\n"
          ],
          "name": "stdout"
        },
        {
          "output_type": "stream",
          "text": [
            " 10%|█         | 251/2461 [00:33<04:44,  7.78it/s]"
          ],
          "name": "stderr"
        },
        {
          "output_type": "stream",
          "text": [
            "TraderNet bought:  $ 46.237144\n"
          ],
          "name": "stdout"
        },
        {
          "output_type": "stream",
          "text": [
            " 10%|█         | 255/2461 [00:33<04:45,  7.74it/s]"
          ],
          "name": "stderr"
        },
        {
          "output_type": "stream",
          "text": [
            "TraderNet sold:  $ 47.714287  Profit: $ 1.218571\n",
            "TraderNet sold:  $ 47.675713  Profit: $ 1.205711\n"
          ],
          "name": "stdout"
        },
        {
          "output_type": "stream",
          "text": [
            " 10%|█         | 257/2461 [00:34<04:40,  7.86it/s]"
          ],
          "name": "stderr"
        },
        {
          "output_type": "stream",
          "text": [
            "TraderNet sold:  $ 48.017143  Profit: $ 1.779999\n"
          ],
          "name": "stdout"
        },
        {
          "output_type": "stream",
          "text": [
            " 18%|█▊        | 443/2461 [00:58<04:28,  7.53it/s]"
          ],
          "name": "stderr"
        },
        {
          "output_type": "stream",
          "text": [
            "TraderNet bought:  $ 53.214287\n",
            "TraderNet bought:  $ 54.035713\n"
          ],
          "name": "stdout"
        },
        {
          "output_type": "stream",
          "text": [
            " 18%|█▊        | 446/2461 [00:59<04:27,  7.53it/s]"
          ],
          "name": "stderr"
        },
        {
          "output_type": "stream",
          "text": [
            "TraderNet bought:  $ 52.828571\n"
          ],
          "name": "stdout"
        },
        {
          "output_type": "stream",
          "text": [
            " 18%|█▊        | 448/2461 [00:59<04:22,  7.67it/s]"
          ],
          "name": "stderr"
        },
        {
          "output_type": "stream",
          "text": [
            "TraderNet bought:  $ 57.184284\n",
            "TraderNet bought:  $ 57.455715\n"
          ],
          "name": "stdout"
        },
        {
          "output_type": "stream",
          "text": [
            " 18%|█▊        | 451/2461 [00:59<04:26,  7.55it/s]"
          ],
          "name": "stderr"
        },
        {
          "output_type": "stream",
          "text": [
            "TraderNet bought:  $ 60.285713\n",
            "TraderNet bought:  $ 59.998573\n"
          ],
          "name": "stdout"
        },
        {
          "output_type": "stream",
          "text": [
            " 18%|█▊        | 453/2461 [01:00<04:23,  7.62it/s]"
          ],
          "name": "stderr"
        },
        {
          "output_type": "stream",
          "text": [
            "TraderNet bought:  $ 60.320000\n",
            "TraderNet bought:  $ 56.945713\n"
          ],
          "name": "stdout"
        },
        {
          "output_type": "stream",
          "text": [
            " 18%|█▊        | 455/2461 [01:00<04:20,  7.70it/s]"
          ],
          "name": "stderr"
        },
        {
          "output_type": "stream",
          "text": [
            "TraderNet bought:  $ 56.472858\n",
            "TraderNet bought:  $ 56.124287\n"
          ],
          "name": "stdout"
        },
        {
          "output_type": "stream",
          "text": [
            " 19%|█▊        | 460/2461 [01:01<04:36,  7.22it/s]"
          ],
          "name": "stderr"
        },
        {
          "output_type": "stream",
          "text": [
            "TraderNet bought:  $ 57.812859\n",
            "TraderNet bought:  $ 57.849998\n"
          ],
          "name": "stdout"
        },
        {
          "output_type": "stream",
          "text": [
            " 19%|█▉        | 462/2461 [01:01<04:32,  7.34it/s]"
          ],
          "name": "stderr"
        },
        {
          "output_type": "stream",
          "text": [
            "TraderNet bought:  $ 57.825714\n",
            "TraderNet bought:  $ 56.644287\n"
          ],
          "name": "stdout"
        },
        {
          "output_type": "stream",
          "text": [
            " 19%|█▉        | 464/2461 [01:01<04:30,  7.39it/s]"
          ],
          "name": "stderr"
        },
        {
          "output_type": "stream",
          "text": [
            "TraderNet bought:  $ 56.772858\n",
            "TraderNet bought:  $ 57.581429\n"
          ],
          "name": "stdout"
        },
        {
          "output_type": "stream",
          "text": [
            " 19%|█▉        | 466/2461 [01:01<04:33,  7.28it/s]"
          ],
          "name": "stderr"
        },
        {
          "output_type": "stream",
          "text": [
            "TraderNet sold:  $ 57.177143  Profit: $ 3.962856\n",
            "TraderNet bought:  $ 57.104286\n"
          ],
          "name": "stdout"
        },
        {
          "output_type": "stream",
          "text": [
            " 19%|█▉        | 468/2461 [01:02<04:33,  7.29it/s]"
          ],
          "name": "stderr"
        },
        {
          "output_type": "stream",
          "text": [
            "TraderNet sold:  $ 58.032856  Profit: $ 3.997143\n",
            "TraderNet sold:  $ 56.468571  Profit: $ 3.639999\n"
          ],
          "name": "stdout"
        },
        {
          "output_type": "stream",
          "text": [
            " 19%|█▉        | 470/2461 [01:02<04:30,  7.35it/s]"
          ],
          "name": "stderr"
        },
        {
          "output_type": "stream",
          "text": [
            "TraderNet sold:  $ 55.031429  Profit: - $ 2.152855\n",
            "TraderNet sold:  $ 54.945713  Profit: - $ 2.510002\n"
          ],
          "name": "stdout"
        },
        {
          "output_type": "stream",
          "text": [
            " 19%|█▉        | 472/2461 [01:02<04:29,  7.39it/s]"
          ],
          "name": "stderr"
        },
        {
          "output_type": "stream",
          "text": [
            "TraderNet sold:  $ 54.180000  Profit: - $ 6.105713\n",
            "TraderNet sold:  $ 55.547142  Profit: - $ 4.451431\n"
          ],
          "name": "stdout"
        },
        {
          "output_type": "stream",
          "text": [
            " 19%|█▉        | 474/2461 [01:03<04:31,  7.33it/s]"
          ],
          "name": "stderr"
        },
        {
          "output_type": "stream",
          "text": [
            "TraderNet sold:  $ 54.967144  Profit: - $ 5.352856\n",
            "TraderNet sold:  $ 53.915714  Profit: - $ 3.029999\n"
          ],
          "name": "stdout"
        },
        {
          "output_type": "stream",
          "text": [
            " 19%|█▉        | 476/2461 [01:03<04:34,  7.24it/s]"
          ],
          "name": "stderr"
        },
        {
          "output_type": "stream",
          "text": [
            "TraderNet sold:  $ 53.562859  Profit: - $ 2.910000\n",
            "TraderNet sold:  $ 52.715714  Profit: - $ 3.408573\n"
          ],
          "name": "stdout"
        },
        {
          "output_type": "stream",
          "text": [
            " 19%|█▉        | 478/2461 [01:03<04:26,  7.44it/s]"
          ],
          "name": "stderr"
        },
        {
          "output_type": "stream",
          "text": [
            "TraderNet sold:  $ 53.787144  Profit: - $ 4.025715\n",
            "TraderNet sold:  $ 52.427143  Profit: - $ 5.422855\n"
          ],
          "name": "stdout"
        },
        {
          "output_type": "stream",
          "text": [
            " 20%|█▉        | 480/2461 [01:03<04:24,  7.50it/s]"
          ],
          "name": "stderr"
        },
        {
          "output_type": "stream",
          "text": [
            "TraderNet sold:  $ 51.938572  Profit: - $ 5.887142\n",
            "TraderNet sold:  $ 53.731430  Profit: - $ 2.912857\n"
          ],
          "name": "stdout"
        },
        {
          "output_type": "stream",
          "text": [
            " 20%|█▉        | 482/2461 [01:04<04:21,  7.57it/s]"
          ],
          "name": "stderr"
        },
        {
          "output_type": "stream",
          "text": [
            "TraderNet sold:  $ 53.314285  Profit: - $ 3.458572\n",
            "TraderNet sold:  $ 54.599998  Profit: - $ 2.981430\n"
          ],
          "name": "stdout"
        },
        {
          "output_type": "stream",
          "text": [
            " 20%|█▉        | 484/2461 [01:04<04:26,  7.41it/s]"
          ],
          "name": "stderr"
        },
        {
          "output_type": "stream",
          "text": [
            "TraderNet sold:  $ 55.418571  Profit: - $ 1.685715\n"
          ],
          "name": "stdout"
        },
        {
          "output_type": "stream",
          "text": [
            " 20%|██        | 494/2461 [01:05<04:17,  7.63it/s]"
          ],
          "name": "stderr"
        },
        {
          "output_type": "stream",
          "text": [
            "TraderNet bought:  $ 54.134285\n",
            "TraderNet bought:  $ 54.431427\n"
          ],
          "name": "stdout"
        },
        {
          "output_type": "stream",
          "text": [
            " 20%|██        | 496/2461 [01:05<04:23,  7.47it/s]"
          ],
          "name": "stderr"
        },
        {
          "output_type": "stream",
          "text": [
            "TraderNet bought:  $ 54.601429\n",
            "TraderNet bought:  $ 56.564285\n"
          ],
          "name": "stdout"
        },
        {
          "output_type": "stream",
          "text": [
            " 20%|██        | 498/2461 [01:06<04:23,  7.45it/s]"
          ],
          "name": "stderr"
        },
        {
          "output_type": "stream",
          "text": [
            "TraderNet bought:  $ 56.635715\n",
            "TraderNet bought:  $ 56.935715\n"
          ],
          "name": "stdout"
        },
        {
          "output_type": "stream",
          "text": [
            " 20%|██        | 500/2461 [01:06<04:22,  7.46it/s]"
          ],
          "name": "stderr"
        },
        {
          "output_type": "stream",
          "text": [
            "TraderNet bought:  $ 57.618572\n",
            "TraderNet bought:  $ 58.075714\n"
          ],
          "name": "stdout"
        },
        {
          "output_type": "stream",
          "text": [
            " 20%|██        | 502/2461 [01:06<04:19,  7.54it/s]"
          ],
          "name": "stderr"
        },
        {
          "output_type": "stream",
          "text": [
            "TraderNet bought:  $ 57.520000\n",
            "TraderNet sold:  $ 57.874287  Profit: $ 3.740002\n"
          ],
          "name": "stdout"
        },
        {
          "output_type": "stream",
          "text": [
            " 20%|██        | 504/2461 [01:06<04:23,  7.42it/s]"
          ],
          "name": "stderr"
        },
        {
          "output_type": "stream",
          "text": [
            "TraderNet bought:  $ 57.857143\n",
            "TraderNet bought:  $ 58.747143\n"
          ],
          "name": "stdout"
        },
        {
          "output_type": "stream",
          "text": [
            " 21%|██        | 506/2461 [01:07<04:20,  7.51it/s]"
          ],
          "name": "stderr"
        },
        {
          "output_type": "stream",
          "text": [
            "TraderNet sold:  $ 59.062859  Profit: $ 4.631432\n",
            "TraderNet sold:  $ 59.718571  Profit: $ 5.117142\n"
          ],
          "name": "stdout"
        },
        {
          "output_type": "stream",
          "text": [
            " 21%|██        | 508/2461 [01:07<04:18,  7.54it/s]"
          ],
          "name": "stderr"
        },
        {
          "output_type": "stream",
          "text": [
            "TraderNet sold:  $ 60.342857  Profit: $ 3.778572\n",
            "TraderNet sold:  $ 60.247143  Profit: $ 3.611427\n"
          ],
          "name": "stdout"
        },
        {
          "output_type": "stream",
          "text": [
            " 21%|██        | 510/2461 [01:07<04:16,  7.61it/s]"
          ],
          "name": "stderr"
        },
        {
          "output_type": "stream",
          "text": [
            "TraderNet sold:  $ 60.462856  Profit: $ 3.527142\n",
            "TraderNet sold:  $ 60.364285  Profit: $ 2.745712\n"
          ],
          "name": "stdout"
        },
        {
          "output_type": "stream",
          "text": [
            " 21%|██        | 512/2461 [01:08<04:24,  7.38it/s]"
          ],
          "name": "stderr"
        },
        {
          "output_type": "stream",
          "text": [
            "TraderNet sold:  $ 60.198570  Profit: $ 2.122856\n",
            "TraderNet sold:  $ 59.972858  Profit: $ 2.452858\n"
          ],
          "name": "stdout"
        },
        {
          "output_type": "stream",
          "text": [
            " 21%|██        | 514/2461 [01:08<04:19,  7.49it/s]"
          ],
          "name": "stderr"
        },
        {
          "output_type": "stream",
          "text": [
            "TraderNet sold:  $ 60.671429  Profit: $ 2.814285\n",
            "TraderNet sold:  $ 61.301430  Profit: $ 2.554287\n"
          ],
          "name": "stdout"
        },
        {
          "output_type": "stream",
          "text": [
            " 22%|██▏       | 540/2461 [01:11<03:59,  8.00it/s]"
          ],
          "name": "stderr"
        },
        {
          "output_type": "stream",
          "text": [
            "TraderNet bought:  $ 73.769997\n",
            "TraderNet bought:  $ 74.629997\n"
          ],
          "name": "stdout"
        },
        {
          "output_type": "stream",
          "text": [
            " 22%|██▏       | 542/2461 [01:11<04:02,  7.90it/s]"
          ],
          "name": "stderr"
        },
        {
          "output_type": "stream",
          "text": [
            "TraderNet sold:  $ 75.108574  Profit: $ 1.338577\n",
            "TraderNet sold:  $ 76.487144  Profit: $ 1.857147\n"
          ],
          "name": "stdout"
        },
        {
          "output_type": "stream",
          "text": [
            " 23%|██▎       | 556/2461 [01:13<03:48,  8.34it/s]"
          ],
          "name": "stderr"
        }
      ]
    }
  ]
}